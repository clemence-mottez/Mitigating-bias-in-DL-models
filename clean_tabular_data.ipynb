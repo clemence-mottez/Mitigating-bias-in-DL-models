{
 "cells": [
  {
   "cell_type": "markdown",
   "metadata": {},
   "source": [
    "## Imports"
   ]
  },
  {
   "cell_type": "code",
   "execution_count": 24,
   "metadata": {},
   "outputs": [],
   "source": [
    "import pandas as pd\n",
    "import numpy as np\n",
    "import matplotlib.pyplot as plt\n",
    "import seaborn as sns\n",
    "from utils import *"
   ]
  },
  {
   "cell_type": "markdown",
   "metadata": {},
   "source": [
    "### Merge dataframes"
   ]
  },
  {
   "cell_type": "code",
   "execution_count": 25,
   "metadata": {},
   "outputs": [],
   "source": [
    "# CheXpert+ dataset (without disease labels)\n",
    "df_cxr_plus = pd.read_csv('/data/df_chexpert_plus_240401.csv')"
   ]
  },
  {
   "cell_type": "code",
   "execution_count": 26,
   "metadata": {},
   "outputs": [],
   "source": [
    "# Includes disease labels\n",
    "csv_train='/data/train.csv'\n",
    "csv_valid='/data/test.csv'\n",
    "\n",
    "df_train = pd.read_csv(csv_train)\n",
    "df_valid = pd.read_csv(csv_valid)"
   ]
  },
  {
   "cell_type": "code",
   "execution_count": 27,
   "metadata": {},
   "outputs": [
    {
     "name": "stdout",
     "output_type": "stream",
     "text": [
      "Number of different diseases: 14\n"
     ]
    }
   ],
   "source": [
    "diseases = ['No Finding', 'Enlarged Cardiomediastinum', 'Cardiomegaly', 'Lung Opacity',\n",
    "       'Lung Lesion', 'Edema', 'Consolidation', 'Pneumonia', 'Atelectasis',\n",
    "       'Pneumothorax', 'Pleural Effusion', 'Pleural Other', 'Fracture',\n",
    "       'Support Devices']\n",
    "print(f'Number of different diseases: {len(diseases)}')"
   ]
  },
  {
   "cell_type": "code",
   "execution_count": 28,
   "metadata": {},
   "outputs": [
    {
     "name": "stdout",
     "output_type": "stream",
     "text": [
      "Train: 223414 samples\n",
      "Valid: 234 samples\n",
      "Train and Valid: 223648 samples\n",
      "Original CXR+: 223462 samples\n",
      "Merged: 223462 samples\n"
     ]
    }
   ],
   "source": [
    "df_train['path_to_image'] = df_train.Path.apply(lambda x: '/'.join(x.split('/')[1:]))\n",
    "df_valid['path_to_image'] = df_valid.Path.apply(lambda x: '/'.join(x.split('/')[1:]))\n",
    "\n",
    "df_combined = pd.concat([df_train, df_valid], axis=0)\n",
    "df_merged = df_cxr_plus.merge(df_combined[['path_to_image'] + diseases], on='path_to_image', how='left')\n",
    "\n",
    "print(f'Train: {len(df_train)} samples')\n",
    "print(f'Valid: {len(df_valid)} samples')\n",
    "print(f'Train and Valid: {len(df_combined)} samples')\n",
    "print(f'Original CXR+: {len(df_cxr_plus)} samples')\n",
    "print(f'Merged: {len(df_merged)} samples')"
   ]
  },
  {
   "cell_type": "markdown",
   "metadata": {},
   "source": [
    "## Clean biased variables"
   ]
  },
  {
   "cell_type": "code",
   "execution_count": 29,
   "metadata": {},
   "outputs": [],
   "source": [
    "biased_columns = [\"sex\", \"age\", \"race\", \"health_insurance\"]\n",
    "data_columns = [\"path_to_image\", \"path_to_dcm\"]"
   ]
  },
  {
   "cell_type": "code",
   "execution_count": 30,
   "metadata": {},
   "outputs": [
    {
     "name": "stdout",
     "output_type": "stream",
     "text": [
      "Number of samples before cleaning: 223462\n"
     ]
    }
   ],
   "source": [
    "df_cleaned = df_merged.copy()\n",
    "print(f'Number of samples before cleaning: {len(df_cleaned)}')"
   ]
  },
  {
   "cell_type": "markdown",
   "metadata": {},
   "source": [
    "### sex"
   ]
  },
  {
   "cell_type": "code",
   "execution_count": 31,
   "metadata": {},
   "outputs": [
    {
     "data": {
      "text/plain": [
       "sex\n",
       "Male       132482\n",
       "Female      90701\n",
       "Unknown       279\n",
       "Name: count, dtype: int64"
      ]
     },
     "execution_count": 31,
     "metadata": {},
     "output_type": "execute_result"
    }
   ],
   "source": [
    "col = \"sex\"\n",
    "df_merged[col].value_counts(dropna=False)"
   ]
  },
  {
   "cell_type": "code",
   "execution_count": 32,
   "metadata": {},
   "outputs": [
    {
     "name": "stdout",
     "output_type": "stream",
     "text": [
      " Removed samples with sex = Unknown: 279\n"
     ]
    }
   ],
   "source": [
    "df_cleaned = df_cleaned[df_cleaned[col] != 'Unknown']\n",
    "removed_by_sex = len(df_merged) - len(df_cleaned)\n",
    "print(f' Removed samples with sex = Unknown: {removed_by_sex}')"
   ]
  },
  {
   "cell_type": "markdown",
   "metadata": {},
   "source": [
    "### race"
   ]
  },
  {
   "cell_type": "code",
   "execution_count": 33,
   "metadata": {},
   "outputs": [
    {
     "data": {
      "text/plain": [
       "race\n",
       "White               126669\n",
       "Other                31561\n",
       "Unknown              25370\n",
       "Asian                23719\n",
       "Black                12062\n",
       "Pacific Islander      3180\n",
       "Native American        547\n",
       "Patient Refused        354\n",
       "Name: count, dtype: int64"
      ]
     },
     "execution_count": 33,
     "metadata": {},
     "output_type": "execute_result"
    }
   ],
   "source": [
    "col = \"race\"\n",
    "df_merged[col].value_counts(dropna=False)"
   ]
  },
  {
   "cell_type": "code",
   "execution_count": 34,
   "metadata": {},
   "outputs": [
    {
     "name": "stdout",
     "output_type": "stream",
     "text": [
      " Removed samples if race not in [White, Asian, Black]: 60734\n"
     ]
    }
   ],
   "source": [
    "df_cleaned = df_cleaned[df_cleaned[col].isin(['White', 'Asian', 'Black'])]\n",
    "removed_by_race = len(df_merged) - len(df_cleaned) - removed_by_sex\n",
    "print(f' Removed samples if race not in [White, Asian, Black]: {removed_by_race}')"
   ]
  },
  {
   "cell_type": "markdown",
   "metadata": {},
   "source": [
    "### health insurance"
   ]
  },
  {
   "cell_type": "code",
   "execution_count": 35,
   "metadata": {},
   "outputs": [
    {
     "data": {
      "text/plain": [
       "insurance_type\n",
       "Medicare             107202\n",
       "Private Insurance     49074\n",
       "Unknown               41244\n",
       "Medicaid              21499\n",
       "Other                  4443\n",
       "Name: count, dtype: int64"
      ]
     },
     "execution_count": 35,
     "metadata": {},
     "output_type": "execute_result"
    }
   ],
   "source": [
    "col = \"insurance_type\"\n",
    "df_merged[col].value_counts(dropna=False)"
   ]
  },
  {
   "cell_type": "code",
   "execution_count": 36,
   "metadata": {},
   "outputs": [
    {
     "name": "stdout",
     "output_type": "stream",
     "text": [
      " Removed samples if insurance_type not in [Medicare, Private Insurance, Medicaid]: 29857\n"
     ]
    }
   ],
   "source": [
    "df_cleaned = df_cleaned[df_cleaned[col].isin(['Medicare', 'Private Insurance', 'Medicaid'])]\n",
    "removed_by_insurance = len(df_merged) - len(df_cleaned) - removed_by_sex - removed_by_race\n",
    "print(f' Removed samples if insurance_type not in [Medicare, Private Insurance, Medicaid]: {removed_by_insurance}')"
   ]
  },
  {
   "cell_type": "markdown",
   "metadata": {},
   "source": [
    "### age"
   ]
  },
  {
   "cell_type": "code",
   "execution_count": 37,
   "metadata": {},
   "outputs": [
    {
     "name": "stdout",
     "output_type": "stream",
     "text": [
      "Number of nan values: 0\n"
     ]
    },
    {
     "name": "stdout",
     "output_type": "stream",
     "text": [
      "Mean: 62.2779956558465\n",
      "Median: 64.0\n",
      "Min: 0.0\n",
      "Max: 89.0\n",
      "Number of zeros in Column1: 2\n"
     ]
    },
    {
     "data": {
      "image/png": "[encoded data removed]",
      "text/plain": [
       "<Figure size 432x288 with 1 Axes>"
      ]
     },
     "metadata": {
      "needs_background": "light"
     },
     "output_type": "display_data"
    }
   ],
   "source": [
    "col = \"age\"\n",
    "print(f'Number of nan values: {df_cleaned[col].isna().sum()}')\n",
    "\n",
    "# plot distribution as histogram\n",
    "plt.hist(df_cleaned[col], bins=100)\n",
    "np.set_printoptions(suppress=True)\n",
    "\n",
    "print(f'Mean: {df_cleaned[col].mean()}')\n",
    "print(f'Median: {df_cleaned[col].median()}')\n",
    "print(f'Min: {df_cleaned[col].min()}')\n",
    "print(f'Max: {df_cleaned[col].max()}')\n",
    "\n",
    "   "
   ]
  },
  {
   "cell_type": "markdown",
   "metadata": {},
   "source": [
    "## Disease Labels"
   ]
  },
  {
   "cell_type": "markdown",
   "metadata": {},
   "source": [
    "- **Disease Label = -1**: Disease not present\n",
    "- **Disease Label = NaN**: Disease not present\n",
    "- **Disease Label = 0**: Disease not present\n",
    "- **Disease Label = 1**: Disease present"
   ]
  },
  {
   "cell_type": "code",
   "execution_count": 38,
   "metadata": {},
   "outputs": [
    {
     "name": "stdout",
     "output_type": "stream",
     "text": [
      "No Finding: No Finding\n",
      "NaN    119058\n",
      "1.0     13420\n",
      "0.0       114\n",
      "Name: count, dtype: int64\n",
      "Enlarged Cardiomediastinum: Enlarged Cardiomediastinum\n",
      " NaN    104665\n",
      " 0.0     13375\n",
      "-1.0      7834\n",
      " 1.0      6718\n",
      "Name: count, dtype: int64\n",
      "Cardiomegaly: Cardiomegaly\n",
      " NaN    104332\n",
      " 1.0     16007\n",
      " 0.0      7166\n",
      "-1.0      5087\n",
      "Name: count, dtype: int64\n",
      "Lung Opacity: Lung Opacity\n",
      " 1.0    62666\n",
      " NaN    62419\n",
      " 0.0     3966\n",
      "-1.0     3541\n",
      "Name: count, dtype: int64\n",
      "Lung Lesion: Lung Lesion\n",
      " NaN    125203\n",
      " 1.0      5481\n",
      " 0.0       983\n",
      "-1.0       925\n",
      "Name: count, dtype: int64\n",
      "Edema: Edema\n",
      " NaN    83889\n",
      " 1.0    28322\n",
      " 0.0    13056\n",
      "-1.0     7325\n",
      "Name: count, dtype: int64\n",
      "Consolidation: Consolidation\n",
      " NaN    89739\n",
      " 0.0    17903\n",
      "-1.0    16721\n",
      " 1.0     8229\n",
      "Name: count, dtype: int64\n",
      "Pneumonia: Pneumonia\n",
      " NaN    116036\n",
      "-1.0     11146\n",
      " 1.0      3542\n",
      " 0.0      1868\n",
      "Name: count, dtype: int64\n",
      "Atelectasis: Atelectasis\n",
      " NaN    91637\n",
      "-1.0    20617\n",
      " 1.0    19404\n",
      " 0.0      934\n",
      "Name: count, dtype: int64\n",
      "Pneumothorax: Pneumothorax\n",
      " NaN    83290\n",
      " 0.0    35147\n",
      " 1.0    12209\n",
      "-1.0     1946\n",
      "Name: count, dtype: int64\n",
      "Pleural Effusion: Pleural Effusion\n",
      " NaN    52990\n",
      " 1.0    50336\n",
      " 0.0    22259\n",
      "-1.0     7007\n",
      "Name: count, dtype: int64\n",
      "Pleural Other: Pleural Other\n",
      " NaN    128297\n",
      " 1.0      2257\n",
      "-1.0      1653\n",
      " 0.0       385\n",
      "Name: count, dtype: int64\n",
      "Fracture: Fracture\n",
      " NaN    125222\n",
      " 1.0      5546\n",
      " 0.0      1447\n",
      "-1.0       377\n",
      "Name: count, dtype: int64\n",
      "Support Devices: Support Devices\n",
      " 1.0    65672\n",
      " NaN    62312\n",
      " 0.0     3937\n",
      "-1.0      671\n",
      "Name: count, dtype: int64\n"
     ]
    }
   ],
   "source": [
    "# value count for each disease\n",
    "for disease in diseases:\n",
    "    print(f'{disease}: {df_cleaned[disease].value_counts(dropna=False)}')"
   ]
  },
  {
   "cell_type": "code",
   "execution_count": 39,
   "metadata": {},
   "outputs": [],
   "source": [
    "# rename values of disease -1 to 0 and nan to 0\n",
    "for disease in diseases:\n",
    "    df_cleaned[disease] = df_cleaned[disease].replace(-1, 0)\n",
    "    df_cleaned[disease] = df_cleaned[disease].fillna(0)\n",
    "    df_cleaned[disease] = df_cleaned[disease].astype(int)"
   ]
  },
  {
   "cell_type": "code",
   "execution_count": 40,
   "metadata": {},
   "outputs": [
    {
     "data": {
      "image/png": "[encoded data removed]",
      "text/plain": [
       "<Figure size 1440x360 with 14 Axes>"
      ]
     },
     "metadata": {
      "needs_background": "light"
     },
     "output_type": "display_data"
    }
   ],
   "source": [
    "# Create a subplot which shows the count of each disease\n",
    "fig, ax = plt.subplots(2, 7, figsize=(20, 5))\n",
    "\n",
    "# Iterate over each disease\n",
    "for i, disease in enumerate(diseases):\n",
    "    # Count the occurrences of each label\n",
    "    counts = df_cleaned[disease].value_counts()\n",
    "    colors = get_colors(2)\n",
    "    # Plot bar graph for better visual representation\n",
    "    bars = ax[i // 7, i % 7].bar(counts.index, counts.values, color=colors)\n",
    "    \n",
    "    # Set the title and labels\n",
    "    ax[i // 7, i % 7].set_title(disease, fontsize=14)\n",
    "    ax[i // 7, i % 7].set_xticks(counts.index)  # Ensure x-ticks match labels\n",
    "    ax[i // 7, i % 7].set_xticklabels(['Not Present', 'Present'], rotation=45)\n",
    "    ax[i // 7, i % 7].set_ylabel('Count', fontsize=12)\n",
    "\n",
    "    # Add count values inside the bars\n",
    "    for bar in bars:\n",
    "        yval = bar.get_height()\n",
    "        ax[i // 7, i % 7].text(bar.get_x() + bar.get_width() / 2, \n",
    "                                yval - (0.05 * max(counts.values)),  # Adjust the height to position inside\n",
    "                                int(yval), \n",
    "                                ha='center', \n",
    "                                va='top',  # Align text to the top of the adjusted height\n",
    "                                fontsize=12,\n",
    "                                color='black')  \n",
    "\n",
    "# Adjust layout to prevent overlap\n",
    "plt.tight_layout()\n",
    "plt.show()\n"
   ]
  },
  {
   "cell_type": "markdown",
   "metadata": {},
   "source": [
    "# Remove lateral studies"
   ]
  },
  {
   "cell_type": "code",
   "execution_count": 41,
   "metadata": {},
   "outputs": [
    {
     "name": "stdout",
     "output_type": "stream",
     "text": [
      "Number of lateral images: 20487\n",
      "Number of frontal images: 112105\n",
      "Number of samples after removing lateral images: 112105\n"
     ]
    }
   ],
   "source": [
    "# get all rows that contain \"lateral\" in path_to_image\n",
    "lateral = df_cleaned[df_cleaned['path_to_image'].str.contains('lateral')]\n",
    "print(f'Number of lateral images: {len(lateral)}')\n",
    "frontal = df_cleaned[df_cleaned['path_to_image'].str.contains('frontal')]\n",
    "print(f'Number of frontal images: {len(frontal)}')\n",
    "\n",
    "removed_by_lateral = len(lateral)\n",
    "\n",
    "# remove all rows that contain \"lateral\" in path_to_image\n",
    "df_cleaned = df_cleaned[~df_cleaned['path_to_image'].str.contains('lateral')]\n",
    "print(f'Number of samples after removing lateral images: {len(df_cleaned)}')\n"
   ]
  },
  {
   "cell_type": "markdown",
   "metadata": {},
   "source": [
    "## Save cleaned dataframe"
   ]
  },
  {
   "cell_type": "code",
   "execution_count": 42,
   "metadata": {},
   "outputs": [],
   "source": [
    "df_cleaned.to_csv('/data/chexpert_plus_240401_cleaned.csv', index=False)"
   ]
  },
  {
   "cell_type": "markdown",
   "metadata": {},
   "source": [
    "# Overview Removed data "
   ]
  },
  {
   "cell_type": "markdown",
   "metadata": {},
   "source": [
    "### Removed by biased value"
   ]
  },
  {
   "cell_type": "code",
   "execution_count": 43,
   "metadata": {},
   "outputs": [
    {
     "name": "stdout",
     "output_type": "stream",
     "text": [
      "Number of samples after cleaning: 112105\n",
      " Removed samples by sex: 279\n",
      " Removed samples by race: 60734\n",
      " Removed samples by insurance: 29857\n",
      " Removed samples by lateral: 20487\n",
      "Number of removed samples: 111357\n"
     ]
    }
   ],
   "source": [
    "print(f'Number of samples after cleaning: {len(df_cleaned)}')\n",
    "print(f' Removed samples by sex: {removed_by_sex}')\n",
    "print(f' Removed samples by race: {removed_by_race}')\n",
    "print(f' Removed samples by insurance: {removed_by_insurance}')\n",
    "print(f' Removed samples by lateral: {removed_by_lateral}')\n",
    "print(f'Number of removed samples: {len(df_merged) - len(df_cleaned)}')"
   ]
  }
 ],
 "metadata": {
  "kernelspec": {
   "display_name": "Python 3",
   "language": "python",
   "name": "python3"
  },
  "language_info": {
   "codemirror_mode": {
    "name": "ipython",
    "version": 3
   },
   "file_extension": ".py",
   "mimetype": "text/x-python",
   "name": "python",
   "nbconvert_exporter": "python",
   "pygments_lexer": "ipython3",
   "version": "3.8.10"
  }
 },
 "nbformat": 4,
 "nbformat_minor": 2
}
