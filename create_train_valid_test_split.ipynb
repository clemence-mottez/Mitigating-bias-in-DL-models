{
 "cells": [
  {
   "cell_type": "markdown",
   "metadata": {},
   "source": [
    "# Imports"
   ]
  },
  {
   "cell_type": "code",
   "execution_count": 1,
   "metadata": {},
   "outputs": [],
   "source": [
    "import pandas as pd\n",
    "from sklearn.model_selection import train_test_split"
   ]
  },
  {
   "cell_type": "markdown",
   "metadata": {},
   "source": [
    "# Splits"
   ]
  },
  {
   "cell_type": "markdown",
   "metadata": {},
   "source": [
    "Splits adapted from Glocker et al. [Risk of Bias in Chest Radiography Deep Learning Foundation Models]"
   ]
  },
  {
   "cell_type": "code",
   "execution_count": 2,
   "metadata": {},
   "outputs": [
    {
     "name": "stdout",
     "output_type": "stream",
     "text": [
      "Total:  127118\n",
      "Train:  0.5994823707106782\n",
      "Valid:  0.09969477178684372\n",
      "Test:  0.300822857502478\n"
     ]
    }
   ],
   "source": [
    "# Glocker et al. split: \n",
    "train = 76205\n",
    "valid = 12673\n",
    "test=38240\n",
    "\n",
    "sum = train + valid + test\n",
    "print(\"Total: \", sum)\n",
    "\n",
    "print(\"Train: \", train/sum)\n",
    "print(\"Valid: \", valid/sum)\n",
    "print(\"Test: \", test/sum)"
   ]
  },
  {
   "cell_type": "code",
   "execution_count": 3,
   "metadata": {},
   "outputs": [],
   "source": [
    "df = pd.read_csv('processed_data/chexpert_plus_240401_cleaned.csv')"
   ]
  },
  {
   "cell_type": "code",
   "execution_count": 4,
   "metadata": {},
   "outputs": [],
   "source": [
    "bias_var = [\"sex\", \"race\", \"health_insurance\"]"
   ]
  },
  {
   "cell_type": "markdown",
   "metadata": {},
   "source": [
    "### Create splits"
   ]
  },
  {
   "cell_type": "code",
   "execution_count": 5,
   "metadata": {},
   "outputs": [
    {
     "ename": "ValueError",
     "evalue": "The least populated class in y has only 1 member, which is too few. The minimum number of groups for any class cannot be less than 2.",
     "output_type": "error",
     "traceback": [
      "\u001b[1;31m---------------------------------------------------------------------------\u001b[0m",
      "\u001b[1;31mValueError\u001b[0m                                Traceback (most recent call last)",
      "Cell \u001b[1;32mIn[5], line 5\u001b[0m\n\u001b[0;32m      2\u001b[0m df[\u001b[38;5;124m'\u001b[39m\u001b[38;5;124mbias_combined\u001b[39m\u001b[38;5;124m'\u001b[39m] \u001b[38;5;241m=\u001b[39m df[[\u001b[38;5;124m'\u001b[39m\u001b[38;5;124msex\u001b[39m\u001b[38;5;124m'\u001b[39m, \u001b[38;5;124m'\u001b[39m\u001b[38;5;124mrace\u001b[39m\u001b[38;5;124m'\u001b[39m, \u001b[38;5;124m'\u001b[39m\u001b[38;5;124minsurance_type\u001b[39m\u001b[38;5;124m'\u001b[39m]]\u001b[38;5;241m.\u001b[39mapply(\u001b[38;5;28;01mlambda\u001b[39;00m row: \u001b[38;5;124m'\u001b[39m\u001b[38;5;124m_\u001b[39m\u001b[38;5;124m'\u001b[39m\u001b[38;5;241m.\u001b[39mjoin(row\u001b[38;5;241m.\u001b[39mvalues\u001b[38;5;241m.\u001b[39mastype(\u001b[38;5;28mstr\u001b[39m)), axis\u001b[38;5;241m=\u001b[39m\u001b[38;5;241m1\u001b[39m)\n\u001b[0;32m      4\u001b[0m \u001b[38;5;66;03m# Step 1: Split into train (60%) and temp (40%) while stratifying\u001b[39;00m\n\u001b[1;32m----> 5\u001b[0m train_df, temp_df \u001b[38;5;241m=\u001b[39m train_test_split(df, test_size\u001b[38;5;241m=\u001b[39m\u001b[38;5;241m0.4\u001b[39m, stratify\u001b[38;5;241m=\u001b[39mdf[\u001b[38;5;124m'\u001b[39m\u001b[38;5;124mbias_combined\u001b[39m\u001b[38;5;124m'\u001b[39m], random_state\u001b[38;5;241m=\u001b[39m\u001b[38;5;241m42\u001b[39m)\n\u001b[0;32m      7\u001b[0m \u001b[38;5;66;03m# Step 2: Split temp into validation (20%) and test (20%) while stratifying\u001b[39;00m\n\u001b[0;32m      8\u001b[0m valid_df, test_df \u001b[38;5;241m=\u001b[39m train_test_split(temp_df, test_size\u001b[38;5;241m=\u001b[39m\u001b[38;5;241m0.9\u001b[39m, stratify\u001b[38;5;241m=\u001b[39mtemp_df[\u001b[38;5;124m'\u001b[39m\u001b[38;5;124mbias_combined\u001b[39m\u001b[38;5;124m'\u001b[39m], random_state\u001b[38;5;241m=\u001b[39m\u001b[38;5;241m42\u001b[39m)\n",
      "File \u001b[1;32mc:\\Users\\cleme\\Anaconda3\\Lib\\site-packages\\sklearn\\utils\\_param_validation.py:213\u001b[0m, in \u001b[0;36mvalidate_params.<locals>.decorator.<locals>.wrapper\u001b[1;34m(*args, **kwargs)\u001b[0m\n\u001b[0;32m    207\u001b[0m \u001b[38;5;28;01mtry\u001b[39;00m:\n\u001b[0;32m    208\u001b[0m     \u001b[38;5;28;01mwith\u001b[39;00m config_context(\n\u001b[0;32m    209\u001b[0m         skip_parameter_validation\u001b[38;5;241m=\u001b[39m(\n\u001b[0;32m    210\u001b[0m             prefer_skip_nested_validation \u001b[38;5;129;01mor\u001b[39;00m global_skip_validation\n\u001b[0;32m    211\u001b[0m         )\n\u001b[0;32m    212\u001b[0m     ):\n\u001b[1;32m--> 213\u001b[0m         \u001b[38;5;28;01mreturn\u001b[39;00m func(\u001b[38;5;241m*\u001b[39margs, \u001b[38;5;241m*\u001b[39m\u001b[38;5;241m*\u001b[39mkwargs)\n\u001b[0;32m    214\u001b[0m \u001b[38;5;28;01mexcept\u001b[39;00m InvalidParameterError \u001b[38;5;28;01mas\u001b[39;00m e:\n\u001b[0;32m    215\u001b[0m     \u001b[38;5;66;03m# When the function is just a wrapper around an estimator, we allow\u001b[39;00m\n\u001b[0;32m    216\u001b[0m     \u001b[38;5;66;03m# the function to delegate validation to the estimator, but we replace\u001b[39;00m\n\u001b[0;32m    217\u001b[0m     \u001b[38;5;66;03m# the name of the estimator by the name of the function in the error\u001b[39;00m\n\u001b[0;32m    218\u001b[0m     \u001b[38;5;66;03m# message to avoid confusion.\u001b[39;00m\n\u001b[0;32m    219\u001b[0m     msg \u001b[38;5;241m=\u001b[39m re\u001b[38;5;241m.\u001b[39msub(\n\u001b[0;32m    220\u001b[0m         \u001b[38;5;124mr\u001b[39m\u001b[38;5;124m\"\u001b[39m\u001b[38;5;124mparameter of \u001b[39m\u001b[38;5;124m\\\u001b[39m\u001b[38;5;124mw+ must be\u001b[39m\u001b[38;5;124m\"\u001b[39m,\n\u001b[0;32m    221\u001b[0m         \u001b[38;5;124mf\u001b[39m\u001b[38;5;124m\"\u001b[39m\u001b[38;5;124mparameter of \u001b[39m\u001b[38;5;132;01m{\u001b[39;00mfunc\u001b[38;5;241m.\u001b[39m\u001b[38;5;18m__qualname__\u001b[39m\u001b[38;5;132;01m}\u001b[39;00m\u001b[38;5;124m must be\u001b[39m\u001b[38;5;124m\"\u001b[39m,\n\u001b[0;32m    222\u001b[0m         \u001b[38;5;28mstr\u001b[39m(e),\n\u001b[0;32m    223\u001b[0m     )\n",
      "File \u001b[1;32mc:\\Users\\cleme\\Anaconda3\\Lib\\site-packages\\sklearn\\model_selection\\_split.py:2681\u001b[0m, in \u001b[0;36mtrain_test_split\u001b[1;34m(test_size, train_size, random_state, shuffle, stratify, *arrays)\u001b[0m\n\u001b[0;32m   2677\u001b[0m         CVClass \u001b[38;5;241m=\u001b[39m ShuffleSplit\n\u001b[0;32m   2679\u001b[0m     cv \u001b[38;5;241m=\u001b[39m CVClass(test_size\u001b[38;5;241m=\u001b[39mn_test, train_size\u001b[38;5;241m=\u001b[39mn_train, random_state\u001b[38;5;241m=\u001b[39mrandom_state)\n\u001b[1;32m-> 2681\u001b[0m     train, test \u001b[38;5;241m=\u001b[39m \u001b[38;5;28mnext\u001b[39m(cv\u001b[38;5;241m.\u001b[39msplit(X\u001b[38;5;241m=\u001b[39marrays[\u001b[38;5;241m0\u001b[39m], y\u001b[38;5;241m=\u001b[39mstratify))\n\u001b[0;32m   2683\u001b[0m \u001b[38;5;28;01mreturn\u001b[39;00m \u001b[38;5;28mlist\u001b[39m(\n\u001b[0;32m   2684\u001b[0m     chain\u001b[38;5;241m.\u001b[39mfrom_iterable(\n\u001b[0;32m   2685\u001b[0m         (_safe_indexing(a, train), _safe_indexing(a, test)) \u001b[38;5;28;01mfor\u001b[39;00m a \u001b[38;5;129;01min\u001b[39;00m arrays\n\u001b[0;32m   2686\u001b[0m     )\n\u001b[0;32m   2687\u001b[0m )\n",
      "File \u001b[1;32mc:\\Users\\cleme\\Anaconda3\\Lib\\site-packages\\sklearn\\model_selection\\_split.py:1749\u001b[0m, in \u001b[0;36mBaseShuffleSplit.split\u001b[1;34m(self, X, y, groups)\u001b[0m\n\u001b[0;32m   1719\u001b[0m \u001b[38;5;250m\u001b[39m\u001b[38;5;124;03m\"\"\"Generate indices to split data into training and test set.\u001b[39;00m\n\u001b[0;32m   1720\u001b[0m \n\u001b[0;32m   1721\u001b[0m \u001b[38;5;124;03mParameters\u001b[39;00m\n\u001b[1;32m   (...)\u001b[0m\n\u001b[0;32m   1746\u001b[0m \u001b[38;5;124;03mto an integer.\u001b[39;00m\n\u001b[0;32m   1747\u001b[0m \u001b[38;5;124;03m\"\"\"\u001b[39;00m\n\u001b[0;32m   1748\u001b[0m X, y, groups \u001b[38;5;241m=\u001b[39m indexable(X, y, groups)\n\u001b[1;32m-> 1749\u001b[0m \u001b[38;5;28;01mfor\u001b[39;00m train, test \u001b[38;5;129;01min\u001b[39;00m \u001b[38;5;28mself\u001b[39m\u001b[38;5;241m.\u001b[39m_iter_indices(X, y, groups):\n\u001b[0;32m   1750\u001b[0m     \u001b[38;5;28;01myield\u001b[39;00m train, test\n",
      "File \u001b[1;32mc:\\Users\\cleme\\Anaconda3\\Lib\\site-packages\\sklearn\\model_selection\\_split.py:2150\u001b[0m, in \u001b[0;36mStratifiedShuffleSplit._iter_indices\u001b[1;34m(self, X, y, groups)\u001b[0m\n\u001b[0;32m   2148\u001b[0m class_counts \u001b[38;5;241m=\u001b[39m np\u001b[38;5;241m.\u001b[39mbincount(y_indices)\n\u001b[0;32m   2149\u001b[0m \u001b[38;5;28;01mif\u001b[39;00m np\u001b[38;5;241m.\u001b[39mmin(class_counts) \u001b[38;5;241m<\u001b[39m \u001b[38;5;241m2\u001b[39m:\n\u001b[1;32m-> 2150\u001b[0m     \u001b[38;5;28;01mraise\u001b[39;00m \u001b[38;5;167;01mValueError\u001b[39;00m(\n\u001b[0;32m   2151\u001b[0m         \u001b[38;5;124m\"\u001b[39m\u001b[38;5;124mThe least populated class in y has only 1\u001b[39m\u001b[38;5;124m\"\u001b[39m\n\u001b[0;32m   2152\u001b[0m         \u001b[38;5;124m\"\u001b[39m\u001b[38;5;124m member, which is too few. The minimum\u001b[39m\u001b[38;5;124m\"\u001b[39m\n\u001b[0;32m   2153\u001b[0m         \u001b[38;5;124m\"\u001b[39m\u001b[38;5;124m number of groups for any class cannot\u001b[39m\u001b[38;5;124m\"\u001b[39m\n\u001b[0;32m   2154\u001b[0m         \u001b[38;5;124m\"\u001b[39m\u001b[38;5;124m be less than 2.\u001b[39m\u001b[38;5;124m\"\u001b[39m\n\u001b[0;32m   2155\u001b[0m     )\n\u001b[0;32m   2157\u001b[0m \u001b[38;5;28;01mif\u001b[39;00m n_train \u001b[38;5;241m<\u001b[39m n_classes:\n\u001b[0;32m   2158\u001b[0m     \u001b[38;5;28;01mraise\u001b[39;00m \u001b[38;5;167;01mValueError\u001b[39;00m(\n\u001b[0;32m   2159\u001b[0m         \u001b[38;5;124m\"\u001b[39m\u001b[38;5;124mThe train_size = \u001b[39m\u001b[38;5;132;01m%d\u001b[39;00m\u001b[38;5;124m should be greater or \u001b[39m\u001b[38;5;124m\"\u001b[39m\n\u001b[0;32m   2160\u001b[0m         \u001b[38;5;124m\"\u001b[39m\u001b[38;5;124mequal to the number of classes = \u001b[39m\u001b[38;5;132;01m%d\u001b[39;00m\u001b[38;5;124m\"\u001b[39m \u001b[38;5;241m%\u001b[39m (n_train, n_classes)\n\u001b[0;32m   2161\u001b[0m     )\n",
      "\u001b[1;31mValueError\u001b[0m: The least populated class in y has only 1 member, which is too few. The minimum number of groups for any class cannot be less than 2."
     ]
    }
   ],
   "source": [
    "# Combine the bias variables into a single column for stratification\n",
    "df['bias_combined'] = df[['sex', 'race', 'insurance_type']].apply(lambda row: '_'.join(row.values.astype(str)), axis=1)\n",
    "\n",
    "# Step 1: Split into train (60%) and temp (40%) while stratifying\n",
    "train_df, temp_df = train_test_split(df, test_size=0.4, stratify=df['bias_combined'], random_state=42)\n",
    "\n",
    "# Step 2: Split temp into validation (20%) and test (20%) while stratifying\n",
    "valid_df, test_df = train_test_split(temp_df, test_size=0.9, stratify=temp_df['bias_combined'], random_state=42)\n",
    "\n",
    "# Drop the combined bias column if not needed\n",
    "train_df = train_df.drop(columns=['bias_combined'])\n",
    "valid_df = valid_df.drop(columns=['bias_combined'])\n",
    "test_df = test_df.drop(columns=['bias_combined'])\n",
    "\n",
    "# Print the number of samples in each set (optional)\n",
    "print(f\"Training set: {len(train_df)} samples\")\n",
    "print(f\"Validation set: {len(valid_df)} samples\")\n",
    "print(f\"Test set: {len(test_df)} samples\")\n"
   ]
  },
  {
   "cell_type": "markdown",
   "metadata": {},
   "source": [
    "### sex distribution"
   ]
  },
  {
   "cell_type": "code",
   "execution_count": 23,
   "metadata": {},
   "outputs": [
    {
     "name": "stdout",
     "output_type": "stream",
     "text": [
      "### OVERALL DATA ###\n",
      "        Count\n",
      "sex          \n",
      "Male    65060\n",
      "Female  47045\n",
      "        Percentage\n",
      "sex               \n",
      "Male     58.034878\n",
      "Female   41.965122\n",
      "\n",
      "\n",
      "### TRAIN SET ###\n",
      "        Count\n",
      "sex          \n",
      "Male    39035\n",
      "Female  28228\n",
      "        Percentage\n",
      "sex               \n",
      "Male     58.033391\n",
      "Female   41.966609\n",
      "\n",
      "\n",
      "### TEST SET ###\n",
      "        Count\n",
      "sex          \n",
      "Male    23423\n",
      "Female  16935\n",
      "        Percentage\n",
      "sex               \n",
      "Male     58.038059\n",
      "Female   41.961941\n",
      "\n",
      "\n",
      "### VALIDATION SET ###\n",
      "        Count\n",
      "sex          \n",
      "Male     2602\n",
      "Female   1882\n",
      "        Percentage\n",
      "sex               \n",
      "Male     58.028546\n",
      "Female   41.971454\n"
     ]
    }
   ],
   "source": [
    "# Print overall race distribution\n",
    "print(\"### OVERALL DATA ###\")\n",
    "print(df['sex'].value_counts().to_frame('Count'))\n",
    "print(df['sex'].value_counts(normalize=True).to_frame('Percentage') * 100)\n",
    "print(\"\\n\")\n",
    "\n",
    "# Print training set race distribution\n",
    "print(\"### TRAIN SET ###\")\n",
    "print(train_df['sex'].value_counts().to_frame('Count'))\n",
    "print(train_df['sex'].value_counts(normalize=True).to_frame('Percentage') * 100)\n",
    "print(\"\\n\")\n",
    "\n",
    "# Print test set race distribution\n",
    "print(\"### TEST SET ###\")\n",
    "print(test_df['sex'].value_counts().to_frame('Count'))\n",
    "print(test_df['sex'].value_counts(normalize=True).to_frame('Percentage') * 100)\n",
    "print(\"\\n\")\n",
    "\n",
    "# Print validation set race distribution\n",
    "print(\"### VALIDATION SET ###\")\n",
    "print(valid_df['sex'].value_counts().to_frame('Count'))\n",
    "print(valid_df['sex'].value_counts(normalize=True).to_frame('Percentage') * 100)\n"
   ]
  },
  {
   "cell_type": "markdown",
   "metadata": {},
   "source": [
    "### race distribution"
   ]
  },
  {
   "cell_type": "code",
   "execution_count": 24,
   "metadata": {},
   "outputs": [
    {
     "name": "stdout",
     "output_type": "stream",
     "text": [
      "### OVERALL DATA ###\n",
      "       Count\n",
      "race        \n",
      "White  87681\n",
      "Asian  16420\n",
      "Black   8004\n",
      "       Percentage\n",
      "race             \n",
      "White   78.213282\n",
      "Asian   14.646983\n",
      "Black    7.139735\n",
      "\n",
      "\n",
      "### TRAIN SET ###\n",
      "       Count\n",
      "race        \n",
      "White  52609\n",
      "Asian   9851\n",
      "Black   4803\n",
      "       Percentage\n",
      "race             \n",
      "White   78.213877\n",
      "Asian   14.645496\n",
      "Black    7.140627\n",
      "\n",
      "\n",
      "### TEST SET ###\n",
      "       Count\n",
      "race        \n",
      "White  31565\n",
      "Asian   5912\n",
      "Black   2881\n",
      "       Percentage\n",
      "race             \n",
      "White   78.212498\n",
      "Asian   14.648892\n",
      "Black    7.138609\n",
      "\n",
      "\n",
      "### VALIDATION SET ###\n",
      "       Count\n",
      "race        \n",
      "White   3507\n",
      "Asian    657\n",
      "Black    320\n",
      "       Percentage\n",
      "race             \n",
      "White   78.211418\n",
      "Asian   14.652096\n",
      "Black    7.136485\n"
     ]
    }
   ],
   "source": [
    "# Print overall race distribution\n",
    "print(\"### OVERALL DATA ###\")\n",
    "print(df['race'].value_counts().to_frame('Count'))\n",
    "print(df['race'].value_counts(normalize=True).to_frame('Percentage') * 100)\n",
    "print(\"\\n\")\n",
    "\n",
    "# Print training set race distribution\n",
    "print(\"### TRAIN SET ###\")\n",
    "print(train_df['race'].value_counts().to_frame('Count'))\n",
    "print(train_df['race'].value_counts(normalize=True).to_frame('Percentage') * 100)\n",
    "print(\"\\n\")\n",
    "\n",
    "# Print test set race distribution\n",
    "print(\"### TEST SET ###\")\n",
    "print(test_df['race'].value_counts().to_frame('Count'))\n",
    "print(test_df['race'].value_counts(normalize=True).to_frame('Percentage') * 100)\n",
    "print(\"\\n\")\n",
    "\n",
    "# Print validation set race distribution\n",
    "print(\"### VALIDATION SET ###\")\n",
    "print(valid_df['race'].value_counts().to_frame('Count'))\n",
    "print(valid_df['race'].value_counts(normalize=True).to_frame('Percentage') * 100)\n"
   ]
  },
  {
   "cell_type": "markdown",
   "metadata": {},
   "source": [
    "### insurance type"
   ]
  },
  {
   "cell_type": "code",
   "execution_count": 25,
   "metadata": {},
   "outputs": [
    {
     "name": "stdout",
     "output_type": "stream",
     "text": [
      "### OVERALL DATA ###\n",
      "                   Count\n",
      "insurance_type          \n",
      "Medicare           71875\n",
      "Private Insurance  30590\n",
      "Medicaid            9640\n",
      "                   Percentage\n",
      "insurance_type               \n",
      "Medicare            64.114000\n",
      "Private Insurance   27.286919\n",
      "Medicaid             8.599081\n",
      "\n",
      "\n",
      "### TRAIN SET ###\n",
      "                   Count\n",
      "insurance_type          \n",
      "Medicare           43124\n",
      "Private Insurance  18355\n",
      "Medicaid            5784\n",
      "                   Percentage\n",
      "insurance_type               \n",
      "Medicare            64.112514\n",
      "Private Insurance   27.288405\n",
      "Medicaid             8.599081\n",
      "\n",
      "\n",
      "### TEST SET ###\n",
      "                   Count\n",
      "insurance_type          \n",
      "Medicare           25877\n",
      "Private Insurance  11011\n",
      "Medicaid            3470\n",
      "                   Percentage\n",
      "insurance_type               \n",
      "Medicare            64.118638\n",
      "Private Insurance   27.283314\n",
      "Medicaid             8.598047\n",
      "\n",
      "\n",
      "### VALIDATION SET ###\n",
      "                   Count\n",
      "insurance_type          \n",
      "Medicare            2874\n",
      "Private Insurance   1224\n",
      "Medicaid             386\n",
      "                   Percentage\n",
      "insurance_type               \n",
      "Medicare            64.094558\n",
      "Private Insurance   27.297056\n",
      "Medicaid             8.608385\n"
     ]
    }
   ],
   "source": [
    "# Print overall race distribution\n",
    "print(\"### OVERALL DATA ###\")\n",
    "print(df['insurance_type'].value_counts().to_frame('Count'))\n",
    "print(df['insurance_type'].value_counts(normalize=True).to_frame('Percentage') * 100)\n",
    "print(\"\\n\")\n",
    "\n",
    "# Print training set race distribution\n",
    "print(\"### TRAIN SET ###\")\n",
    "print(train_df['insurance_type'].value_counts().to_frame('Count'))\n",
    "print(train_df['insurance_type'].value_counts(normalize=True).to_frame('Percentage') * 100)\n",
    "print(\"\\n\")\n",
    "\n",
    "# Print test set race distribution\n",
    "print(\"### TEST SET ###\")\n",
    "print(test_df['insurance_type'].value_counts().to_frame('Count'))\n",
    "print(test_df['insurance_type'].value_counts(normalize=True).to_frame('Percentage') * 100)\n",
    "print(\"\\n\")\n",
    "\n",
    "# Print validation set race distribution\n",
    "print(\"### VALIDATION SET ###\")\n",
    "print(valid_df['insurance_type'].value_counts().to_frame('Count'))\n",
    "print(valid_df['insurance_type'].value_counts(normalize=True).to_frame('Percentage') * 100)\n"
   ]
  },
  {
   "cell_type": "markdown",
   "metadata": {},
   "source": [
    "### save data frames"
   ]
  },
  {
   "cell_type": "code",
   "execution_count": 26,
   "metadata": {},
   "outputs": [],
   "source": [
    "# df drop columns with Unnamed\n",
    "train_df = train_df.loc[:, ~train_df.columns.str.contains('^Unnamed')]\n",
    "valid_df = valid_df.loc[:, ~valid_df.columns.str.contains('^Unnamed')]\n",
    "test_df = test_df.loc[:, ~test_df.columns.str.contains('^Unnamed')]\n",
    "df = df.loc[:, ~df.columns.str.contains('^Unnamed')]\n"
   ]
  },
  {
   "cell_type": "code",
   "execution_count": 27,
   "metadata": {},
   "outputs": [],
   "source": [
    "# save\n",
    "train_df.to_csv('processed_data/chexpert_plus_240401_train.csv', index=False)\n",
    "valid_df.to_csv('processed_data/chexpert_plus_240401_valid.csv', index=False)\n",
    "test_df.to_csv('processed_data/chexpert_plus_240401_test.csv', index=False)\n",
    "# df.to_csv('/data4/lfay/chexpert_plus_240401_cleaned.csv', index=False)"
   ]
  }
 ],
 "metadata": {
  "kernelspec": {
   "display_name": "base",
   "language": "python",
   "name": "python3"
  },
  "language_info": {
   "codemirror_mode": {
    "name": "ipython",
    "version": 3
   },
   "file_extension": ".py",
   "mimetype": "text/x-python",
   "name": "python",
   "nbconvert_exporter": "python",
   "pygments_lexer": "ipython3",
   "version": "3.12.4"
  }
 },
 "nbformat": 4,
 "nbformat_minor": 2
}
