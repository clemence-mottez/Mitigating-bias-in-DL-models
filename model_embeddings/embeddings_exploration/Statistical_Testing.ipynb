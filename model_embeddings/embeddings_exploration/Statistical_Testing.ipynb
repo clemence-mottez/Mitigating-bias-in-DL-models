{
 "cells": [
  {
   "cell_type": "code",
   "execution_count": null,
   "metadata": {
    "executionInfo": {
     "elapsed": 4886,
     "status": "ok",
     "timestamp": 1731047470916,
     "user": {
      "displayName": "Mihir Karkare",
      "userId": "14360659307592880959"
     },
     "user_tz": 480
    },
    "id": "AkUZMFPgl_kh"
   },
   "outputs": [],
   "source": [
    "import pandas as pd\n",
    "import numpy as np\n",
    "import ast\n",
    "import matplotlib.pyplot as plt\n",
    "import seaborn as sns\n",
    "from sklearn.decomposition import PCA\n",
    "from sklearn.preprocessing import StandardScaler\n",
    "from ast import literal_eval\n",
    "from scipy.stats import ks_2samp\n",
    "import itertools\n",
    "from scipy.stats import anderson_ksamp, kruskal\n",
    "from statsmodels.stats.multitest import multipletests"
   ]
  },
  {
   "cell_type": "code",
   "execution_count": 24,
   "metadata": {
    "executionInfo": {
     "elapsed": 19351,
     "status": "ok",
     "timestamp": 1731047524274,
     "user": {
      "displayName": "Mihir Karkare",
      "userId": "14360659307592880959"
     },
     "user_tz": 480
    },
    "id": "dhnG8JKon7Tc"
   },
   "outputs": [],
   "source": [
    "file_path = '../densenet_test_embeddings.csv'\n",
    "df = pd.read_csv(file_path)\n"
   ]
  },
  {
   "cell_type": "markdown",
   "metadata": {
    "id": "4ghnojNCpoHm"
   },
   "source": [
    "Data Cleaning"
   ]
  },
  {
   "cell_type": "code",
   "execution_count": 25,
   "metadata": {
    "executionInfo": {
     "elapsed": 153345,
     "status": "ok",
     "timestamp": 1731047804221,
     "user": {
      "displayName": "Mihir Karkare",
      "userId": "14360659307592880959"
     },
     "user_tz": 480
    },
    "id": "VFt4c5b0oXeY"
   },
   "outputs": [],
   "source": [
    "test = df\n",
    "test['embeddings'] = test['embeddings'].apply(ast.literal_eval)\n",
    "test = test.drop(columns=['path_to_image', 'path_to_dcm'])"
   ]
  },
  {
   "cell_type": "code",
   "execution_count": 26,
   "metadata": {
    "colab": {
     "base_uri": "https://localhost:8080/"
    },
    "executionInfo": {
     "elapsed": 12,
     "status": "ok",
     "timestamp": 1731047804222,
     "user": {
      "displayName": "Mihir Karkare",
      "userId": "14360659307592880959"
     },
     "user_tz": 480
    },
    "id": "lu-z-EVhpjjL",
    "outputId": "5fdbf1cb-a179-4287-97c0-7c48dd4cd1cb"
   },
   "outputs": [
    {
     "name": "stdout",
     "output_type": "stream",
     "text": [
      "Number of test removed rows = 51\n"
     ]
    }
   ],
   "source": [
    "initial_size = test.shape[0]\n",
    "\n",
    "# The previous logic with transforming the list to string and filtering on the length of said string is not necessarily stable and misleading.\n",
    "# Let's implement a more explicit test for what we actually care about:\n",
    "\n",
    "test = test[test['embeddings'].apply(type) == list]\n",
    "\n",
    "final_size = test.shape[0]\n",
    "\n",
    "print(f'Number of test removed rows = {initial_size - final_size}')"
   ]
  },
  {
   "cell_type": "code",
   "execution_count": 27,
   "metadata": {
    "executionInfo": {
     "elapsed": 8,
     "status": "ok",
     "timestamp": 1731047804222,
     "user": {
      "displayName": "Mihir Karkare",
      "userId": "14360659307592880959"
     },
     "user_tz": 480
    },
    "id": "5ggYSWt8puLv"
   },
   "outputs": [],
   "source": [
    "a = 70\n",
    "test['age_categ'] = (test['age'] >= a).astype(int)"
   ]
  },
  {
   "cell_type": "code",
   "execution_count": 28,
   "metadata": {
    "colab": {
     "base_uri": "https://localhost:8080/",
     "height": 774
    },
    "executionInfo": {
     "elapsed": 167,
     "status": "ok",
     "timestamp": 1731047804381,
     "user": {
      "displayName": "Mihir Karkare",
      "userId": "14360659307592880959"
     },
     "user_tz": 480
    },
    "id": "MrGnzDCjrAXU",
    "outputId": "ed4a4755-3c38-4193-ecda-d4144740153e"
   },
   "outputs": [
    {
     "data": {
      "text/html": [
       "<div>\n",
       "<style scoped>\n",
       "    .dataframe tbody tr th:only-of-type {\n",
       "        vertical-align: middle;\n",
       "    }\n",
       "\n",
       "    .dataframe tbody tr th {\n",
       "        vertical-align: top;\n",
       "    }\n",
       "\n",
       "    .dataframe thead th {\n",
       "        text-align: right;\n",
       "    }\n",
       "</style>\n",
       "<table border=\"1\" class=\"dataframe\">\n",
       "  <thead>\n",
       "    <tr style=\"text-align: right;\">\n",
       "      <th></th>\n",
       "      <th>age</th>\n",
       "      <th>sex</th>\n",
       "      <th>race</th>\n",
       "      <th>insurance_type</th>\n",
       "      <th>No Finding</th>\n",
       "      <th>Enlarged Cardiomediastinum</th>\n",
       "      <th>Cardiomegaly</th>\n",
       "      <th>Lung Opacity</th>\n",
       "      <th>Lung Lesion</th>\n",
       "      <th>Edema</th>\n",
       "      <th>Consolidation</th>\n",
       "      <th>Pneumonia</th>\n",
       "      <th>Atelectasis</th>\n",
       "      <th>Pneumothorax</th>\n",
       "      <th>Pleural Effusion</th>\n",
       "      <th>Pleural Other</th>\n",
       "      <th>Fracture</th>\n",
       "      <th>Support Devices</th>\n",
       "      <th>embeddings</th>\n",
       "      <th>age_categ</th>\n",
       "    </tr>\n",
       "  </thead>\n",
       "  <tbody>\n",
       "    <tr>\n",
       "      <th>0</th>\n",
       "      <td>78.0</td>\n",
       "      <td>1</td>\n",
       "      <td>0</td>\n",
       "      <td>1</td>\n",
       "      <td>0</td>\n",
       "      <td>0</td>\n",
       "      <td>1</td>\n",
       "      <td>0</td>\n",
       "      <td>0</td>\n",
       "      <td>1</td>\n",
       "      <td>0</td>\n",
       "      <td>0</td>\n",
       "      <td>1</td>\n",
       "      <td>0</td>\n",
       "      <td>1</td>\n",
       "      <td>0</td>\n",
       "      <td>1</td>\n",
       "      <td>1</td>\n",
       "      <td>[0.0029132624622434378, 0.1020001769065857, 0....</td>\n",
       "      <td>1</td>\n",
       "    </tr>\n",
       "    <tr>\n",
       "      <th>1</th>\n",
       "      <td>63.0</td>\n",
       "      <td>0</td>\n",
       "      <td>1</td>\n",
       "      <td>2</td>\n",
       "      <td>0</td>\n",
       "      <td>0</td>\n",
       "      <td>0</td>\n",
       "      <td>0</td>\n",
       "      <td>0</td>\n",
       "      <td>0</td>\n",
       "      <td>0</td>\n",
       "      <td>0</td>\n",
       "      <td>0</td>\n",
       "      <td>0</td>\n",
       "      <td>1</td>\n",
       "      <td>0</td>\n",
       "      <td>0</td>\n",
       "      <td>0</td>\n",
       "      <td>[0.0014348188415169716, 0.0543656125664711, 0....</td>\n",
       "      <td>0</td>\n",
       "    </tr>\n",
       "    <tr>\n",
       "      <th>2</th>\n",
       "      <td>70.0</td>\n",
       "      <td>0</td>\n",
       "      <td>0</td>\n",
       "      <td>1</td>\n",
       "      <td>0</td>\n",
       "      <td>0</td>\n",
       "      <td>0</td>\n",
       "      <td>1</td>\n",
       "      <td>0</td>\n",
       "      <td>0</td>\n",
       "      <td>0</td>\n",
       "      <td>0</td>\n",
       "      <td>0</td>\n",
       "      <td>0</td>\n",
       "      <td>0</td>\n",
       "      <td>0</td>\n",
       "      <td>0</td>\n",
       "      <td>0</td>\n",
       "      <td>[0.001982336398214102, 0.040021587163209915, 0...</td>\n",
       "      <td>1</td>\n",
       "    </tr>\n",
       "    <tr>\n",
       "      <th>3</th>\n",
       "      <td>79.0</td>\n",
       "      <td>1</td>\n",
       "      <td>1</td>\n",
       "      <td>1</td>\n",
       "      <td>0</td>\n",
       "      <td>0</td>\n",
       "      <td>0</td>\n",
       "      <td>0</td>\n",
       "      <td>0</td>\n",
       "      <td>0</td>\n",
       "      <td>0</td>\n",
       "      <td>1</td>\n",
       "      <td>0</td>\n",
       "      <td>0</td>\n",
       "      <td>0</td>\n",
       "      <td>0</td>\n",
       "      <td>0</td>\n",
       "      <td>0</td>\n",
       "      <td>[0.001741771469824016, 0.0560498870909214, 0.1...</td>\n",
       "      <td>1</td>\n",
       "    </tr>\n",
       "    <tr>\n",
       "      <th>4</th>\n",
       "      <td>67.0</td>\n",
       "      <td>0</td>\n",
       "      <td>0</td>\n",
       "      <td>0</td>\n",
       "      <td>0</td>\n",
       "      <td>0</td>\n",
       "      <td>0</td>\n",
       "      <td>0</td>\n",
       "      <td>0</td>\n",
       "      <td>0</td>\n",
       "      <td>1</td>\n",
       "      <td>0</td>\n",
       "      <td>0</td>\n",
       "      <td>0</td>\n",
       "      <td>1</td>\n",
       "      <td>0</td>\n",
       "      <td>0</td>\n",
       "      <td>0</td>\n",
       "      <td>[9.678312198957428e-05, 0.12247737497091293, 0...</td>\n",
       "      <td>0</td>\n",
       "    </tr>\n",
       "    <tr>\n",
       "      <th>...</th>\n",
       "      <td>...</td>\n",
       "      <td>...</td>\n",
       "      <td>...</td>\n",
       "      <td>...</td>\n",
       "      <td>...</td>\n",
       "      <td>...</td>\n",
       "      <td>...</td>\n",
       "      <td>...</td>\n",
       "      <td>...</td>\n",
       "      <td>...</td>\n",
       "      <td>...</td>\n",
       "      <td>...</td>\n",
       "      <td>...</td>\n",
       "      <td>...</td>\n",
       "      <td>...</td>\n",
       "      <td>...</td>\n",
       "      <td>...</td>\n",
       "      <td>...</td>\n",
       "      <td>...</td>\n",
       "      <td>...</td>\n",
       "    </tr>\n",
       "    <tr>\n",
       "      <th>40353</th>\n",
       "      <td>35.0</td>\n",
       "      <td>1</td>\n",
       "      <td>1</td>\n",
       "      <td>2</td>\n",
       "      <td>0</td>\n",
       "      <td>0</td>\n",
       "      <td>0</td>\n",
       "      <td>1</td>\n",
       "      <td>0</td>\n",
       "      <td>0</td>\n",
       "      <td>0</td>\n",
       "      <td>0</td>\n",
       "      <td>0</td>\n",
       "      <td>0</td>\n",
       "      <td>0</td>\n",
       "      <td>0</td>\n",
       "      <td>0</td>\n",
       "      <td>1</td>\n",
       "      <td>[0.006717992480844259, 0.026951316744089127, 0...</td>\n",
       "      <td>0</td>\n",
       "    </tr>\n",
       "    <tr>\n",
       "      <th>40354</th>\n",
       "      <td>81.0</td>\n",
       "      <td>1</td>\n",
       "      <td>0</td>\n",
       "      <td>1</td>\n",
       "      <td>0</td>\n",
       "      <td>0</td>\n",
       "      <td>0</td>\n",
       "      <td>1</td>\n",
       "      <td>0</td>\n",
       "      <td>0</td>\n",
       "      <td>0</td>\n",
       "      <td>0</td>\n",
       "      <td>0</td>\n",
       "      <td>0</td>\n",
       "      <td>0</td>\n",
       "      <td>0</td>\n",
       "      <td>0</td>\n",
       "      <td>1</td>\n",
       "      <td>[0.0, 0.06270646303892136, 0.24802044034004211...</td>\n",
       "      <td>1</td>\n",
       "    </tr>\n",
       "    <tr>\n",
       "      <th>40355</th>\n",
       "      <td>52.0</td>\n",
       "      <td>1</td>\n",
       "      <td>0</td>\n",
       "      <td>2</td>\n",
       "      <td>0</td>\n",
       "      <td>0</td>\n",
       "      <td>0</td>\n",
       "      <td>0</td>\n",
       "      <td>0</td>\n",
       "      <td>0</td>\n",
       "      <td>0</td>\n",
       "      <td>0</td>\n",
       "      <td>1</td>\n",
       "      <td>0</td>\n",
       "      <td>1</td>\n",
       "      <td>0</td>\n",
       "      <td>0</td>\n",
       "      <td>1</td>\n",
       "      <td>[0.0, 0.024455098435282707, 0.1902244687080383...</td>\n",
       "      <td>0</td>\n",
       "    </tr>\n",
       "    <tr>\n",
       "      <th>40356</th>\n",
       "      <td>47.0</td>\n",
       "      <td>1</td>\n",
       "      <td>0</td>\n",
       "      <td>2</td>\n",
       "      <td>0</td>\n",
       "      <td>0</td>\n",
       "      <td>0</td>\n",
       "      <td>1</td>\n",
       "      <td>0</td>\n",
       "      <td>0</td>\n",
       "      <td>0</td>\n",
       "      <td>0</td>\n",
       "      <td>0</td>\n",
       "      <td>0</td>\n",
       "      <td>0</td>\n",
       "      <td>0</td>\n",
       "      <td>0</td>\n",
       "      <td>1</td>\n",
       "      <td>[0.0, 0.009000508114695549, 0.0751149877905845...</td>\n",
       "      <td>0</td>\n",
       "    </tr>\n",
       "    <tr>\n",
       "      <th>40357</th>\n",
       "      <td>65.0</td>\n",
       "      <td>0</td>\n",
       "      <td>0</td>\n",
       "      <td>1</td>\n",
       "      <td>0</td>\n",
       "      <td>0</td>\n",
       "      <td>0</td>\n",
       "      <td>1</td>\n",
       "      <td>0</td>\n",
       "      <td>0</td>\n",
       "      <td>0</td>\n",
       "      <td>0</td>\n",
       "      <td>0</td>\n",
       "      <td>0</td>\n",
       "      <td>1</td>\n",
       "      <td>0</td>\n",
       "      <td>0</td>\n",
       "      <td>1</td>\n",
       "      <td>[0.0, 0.00844685547053814, 0.12619756162166595...</td>\n",
       "      <td>0</td>\n",
       "    </tr>\n",
       "  </tbody>\n",
       "</table>\n",
       "<p>40307 rows × 20 columns</p>\n",
       "</div>"
      ],
      "text/plain": [
       "        age  sex  race  insurance_type  No Finding  \\\n",
       "0      78.0    1     0               1           0   \n",
       "1      63.0    0     1               2           0   \n",
       "2      70.0    0     0               1           0   \n",
       "3      79.0    1     1               1           0   \n",
       "4      67.0    0     0               0           0   \n",
       "...     ...  ...   ...             ...         ...   \n",
       "40353  35.0    1     1               2           0   \n",
       "40354  81.0    1     0               1           0   \n",
       "40355  52.0    1     0               2           0   \n",
       "40356  47.0    1     0               2           0   \n",
       "40357  65.0    0     0               1           0   \n",
       "\n",
       "       Enlarged Cardiomediastinum  Cardiomegaly  Lung Opacity  Lung Lesion  \\\n",
       "0                               0             1             0            0   \n",
       "1                               0             0             0            0   \n",
       "2                               0             0             1            0   \n",
       "3                               0             0             0            0   \n",
       "4                               0             0             0            0   \n",
       "...                           ...           ...           ...          ...   \n",
       "40353                           0             0             1            0   \n",
       "40354                           0             0             1            0   \n",
       "40355                           0             0             0            0   \n",
       "40356                           0             0             1            0   \n",
       "40357                           0             0             1            0   \n",
       "\n",
       "       Edema  Consolidation  Pneumonia  Atelectasis  Pneumothorax  \\\n",
       "0          1              0          0            1             0   \n",
       "1          0              0          0            0             0   \n",
       "2          0              0          0            0             0   \n",
       "3          0              0          1            0             0   \n",
       "4          0              1          0            0             0   \n",
       "...      ...            ...        ...          ...           ...   \n",
       "40353      0              0          0            0             0   \n",
       "40354      0              0          0            0             0   \n",
       "40355      0              0          0            1             0   \n",
       "40356      0              0          0            0             0   \n",
       "40357      0              0          0            0             0   \n",
       "\n",
       "       Pleural Effusion  Pleural Other  Fracture  Support Devices  \\\n",
       "0                     1              0         1                1   \n",
       "1                     1              0         0                0   \n",
       "2                     0              0         0                0   \n",
       "3                     0              0         0                0   \n",
       "4                     1              0         0                0   \n",
       "...                 ...            ...       ...              ...   \n",
       "40353                 0              0         0                1   \n",
       "40354                 0              0         0                1   \n",
       "40355                 1              0         0                1   \n",
       "40356                 0              0         0                1   \n",
       "40357                 1              0         0                1   \n",
       "\n",
       "                                              embeddings  age_categ  \n",
       "0      [0.0029132624622434378, 0.1020001769065857, 0....          1  \n",
       "1      [0.0014348188415169716, 0.0543656125664711, 0....          0  \n",
       "2      [0.001982336398214102, 0.040021587163209915, 0...          1  \n",
       "3      [0.001741771469824016, 0.0560498870909214, 0.1...          1  \n",
       "4      [9.678312198957428e-05, 0.12247737497091293, 0...          0  \n",
       "...                                                  ...        ...  \n",
       "40353  [0.006717992480844259, 0.026951316744089127, 0...          0  \n",
       "40354  [0.0, 0.06270646303892136, 0.24802044034004211...          1  \n",
       "40355  [0.0, 0.024455098435282707, 0.1902244687080383...          0  \n",
       "40356  [0.0, 0.009000508114695549, 0.0751149877905845...          0  \n",
       "40357  [0.0, 0.00844685547053814, 0.12619756162166595...          0  \n",
       "\n",
       "[40307 rows x 20 columns]"
      ]
     },
     "execution_count": 28,
     "metadata": {},
     "output_type": "execute_result"
    }
   ],
   "source": [
    "test"
   ]
  },
  {
   "cell_type": "markdown",
   "metadata": {
    "id": "zwhE7o_Uxapa"
   },
   "source": [
    "Kolmogrov Smirnov Test"
   ]
  },
  {
   "cell_type": "code",
   "execution_count": 36,
   "metadata": {
    "executionInfo": {
     "elapsed": 4667,
     "status": "ok",
     "timestamp": 1731047809047,
     "user": {
      "displayName": "Mihir Karkare",
      "userId": "14360659307592880959"
     },
     "user_tz": 480
    },
    "id": "-lEFN6EHrCVS"
   },
   "outputs": [],
   "source": [
    "# Step 1: Create a subset of the dataframe with specific diseases\n",
    "diseases_of_interest = ['Cardiomegaly', 'Lung Opacity', 'Edema', 'Atelectasis', 'Pneumothorax', 'Pleural Effusion']\n",
    "new_df = test[test[diseases_of_interest].any(axis=1)].copy()\n",
    "\n",
    "# Step 2: Extract embeddings and normalize the data\n",
    "embeddings = np.array(new_df['embeddings'].tolist())\n",
    "scaler = StandardScaler()\n",
    "embeddings_normalized = scaler.fit_transform(embeddings)\n",
    "\n",
    "# Step 3: Apply PCA\n",
    "pca = PCA(n_components=4)\n",
    "pca_result = pca.fit_transform(embeddings_normalized)\n",
    "\n",
    "# Add PCA results to the dataframe\n",
    "for i in range(4):\n",
    "    new_df[f'PCA_{i+1}'] = pca_result[:, i]\n"
   ]
  },
  {
   "cell_type": "markdown",
   "metadata": {
    "id": "emMxnTMWfyUF"
   },
   "source": [
    "Sex"
   ]
  },
  {
   "cell_type": "code",
   "execution_count": 37,
   "metadata": {
    "colab": {
     "base_uri": "https://localhost:8080/"
    },
    "executionInfo": {
     "elapsed": 7,
     "status": "ok",
     "timestamp": 1731047809048,
     "user": {
      "displayName": "Mihir Karkare",
      "userId": "14360659307592880959"
     },
     "user_tz": 480
    },
    "id": "Y42M9KXVsLIU",
    "outputId": "d1d4f39b-6993-475e-a361-17db3c68294c"
   },
   "outputs": [
    {
     "data": {
      "text/plain": [
       "{'PCA_1': {'KS Statistic': 0.1074059710024966,\n",
       "  'p-value': 3.603951537363955e-78},\n",
       " 'PCA_2': {'KS Statistic': 0.16894257636112675,\n",
       "  'p-value': 1.7357119833921794e-193},\n",
       " 'PCA_3': {'KS Statistic': 0.07811850926789321,\n",
       "  'p-value': 1.6541959868948176e-41},\n",
       " 'PCA_4': {'KS Statistic': 0.17340901814870918,\n",
       "  'p-value': 6.711258293494411e-204}}"
      ]
     },
     "execution_count": 37,
     "metadata": {},
     "output_type": "execute_result"
    }
   ],
   "source": [
    "# Separate data based on 'sex' values\n",
    "group_male = new_df[new_df['sex'] == 0]\n",
    "\n",
    "group_female = new_df[new_df['sex'] == 1]\n",
    "\n",
    "# Columns to test\n",
    "pca_columns = ['PCA_1', 'PCA_2', 'PCA_3', 'PCA_4']\n",
    "ks_results = {}\n",
    "\n",
    "# Run Kolmogorov-Smirnov test for each PCA column\n",
    "for column in pca_columns:\n",
    "    # Perform KS test\n",
    "    ks_stat, p_value = ks_2samp(group_male[column], group_female[column])\n",
    "    # Store the results\n",
    "    ks_results[column] = {'KS Statistic': ks_stat, 'p-value': p_value}\n",
    "\n",
    "# Display the results\n",
    "ks_results\n"
   ]
  },
  {
   "cell_type": "markdown",
   "metadata": {
    "id": "RH6yh9obf3C8"
   },
   "source": [
    "Race"
   ]
  },
  {
   "cell_type": "code",
   "execution_count": 38,
   "metadata": {
    "colab": {
     "base_uri": "https://localhost:8080/"
    },
    "executionInfo": {
     "elapsed": 257,
     "status": "ok",
     "timestamp": 1731047809300,
     "user": {
      "displayName": "Mihir Karkare",
      "userId": "14360659307592880959"
     },
     "user_tz": 480
    },
    "id": "7iw7Fn8EsQNU",
    "outputId": "319d9f08-af26-4007-dcc8-d19c1bd5a788"
   },
   "outputs": [
    {
     "data": {
      "text/plain": [
       "{'PCA_1': {('PCA_1', '0 vs 1'): {'KS Statistic': 0.07548192343031945,\n",
       "   'p-value': 6.941088698750058e-20},\n",
       "  ('PCA_1', '0 vs 2'): {'KS Statistic': 0.04943049162583424,\n",
       "   'p-value': 0.00010448734893743983},\n",
       "  ('PCA_1', '1 vs 2'): {'KS Statistic': 0.0447984095646252,\n",
       "   'p-value': 0.004911669193629346}},\n",
       " 'PCA_2': {('PCA_2', '0 vs 1'): {'KS Statistic': 0.16202601019403207,\n",
       "   'p-value': 1.8840222301002718e-90},\n",
       "  ('PCA_2', '0 vs 2'): {'KS Statistic': 0.039887361980813774,\n",
       "   'p-value': 0.0032443559990622834},\n",
       "  ('PCA_2', '1 vs 2'): {'KS Statistic': 0.18235858893082924,\n",
       "   'p-value': 1.055987780988705e-43}},\n",
       " 'PCA_3': {('PCA_3', '0 vs 1'): {'KS Statistic': 0.07270673549912943,\n",
       "   'p-value': 1.7657106057443392e-18},\n",
       "  ('PCA_3', '0 vs 2'): {'KS Statistic': 0.020117603192403966,\n",
       "   'p-value': 0.38500336923300915},\n",
       "  ('PCA_3', '1 vs 2'): {'KS Statistic': 0.08600015920077281,\n",
       "   'p-value': 5.047185001652804e-10}},\n",
       " 'PCA_4': {('PCA_4', '0 vs 1'): {'KS Statistic': 0.19438729566519292,\n",
       "   'p-value': 2.4644610820997873e-130},\n",
       "  ('PCA_4', '0 vs 2'): {'KS Statistic': 0.05360456948439879,\n",
       "   'p-value': 1.8458297162078007e-05},\n",
       "  ('PCA_4', '1 vs 2'): {'KS Statistic': 0.1552324478691173,\n",
       "   'p-value': 9.63013104874564e-32}}}"
      ]
     },
     "execution_count": 38,
     "metadata": {},
     "output_type": "execute_result"
    }
   ],
   "source": [
    "# List of PCA columns to test\n",
    "pca_columns = ['PCA_1', 'PCA_2', 'PCA_3', 'PCA_4']\n",
    "# Unique race categories (assuming three races)\n",
    "race_categories = new_df['race'].unique()\n",
    "\n",
    "# Dictionary to store KS test results\n",
    "ks_results_race = {}\n",
    "\n",
    "# Loop over each PCA column\n",
    "for column in pca_columns:\n",
    "    ks_results_race[column] = {}\n",
    "\n",
    "    # Generate all unique pairs of race categories\n",
    "    for race_pair in itertools.combinations(race_categories, 2):\n",
    "        race_1, race_2 = race_pair\n",
    "\n",
    "        # Filter data for each race group\n",
    "        group_race_1 = new_df[new_df['race'] == race_1]\n",
    "        group_race_2 = new_df[new_df['race'] == race_2]\n",
    "\n",
    "        # Perform KS test\n",
    "        ks_stat, p_value = ks_2samp(group_race_1[column], group_race_2[column])\n",
    "\n",
    "        # Store the result in the dictionary\n",
    "        ks_results_race[column][column,f\"{race_1} vs {race_2}\"] = {'KS Statistic': ks_stat, 'p-value': p_value}\n",
    "\n",
    "# Display results\n",
    "ks_results_race"
   ]
  },
  {
   "cell_type": "markdown",
   "metadata": {
    "id": "HJQ7NLRkf4pj"
   },
   "source": [
    "Age"
   ]
  },
  {
   "cell_type": "code",
   "execution_count": 39,
   "metadata": {
    "colab": {
     "base_uri": "https://localhost:8080/"
    },
    "executionInfo": {
     "elapsed": 310,
     "status": "ok",
     "timestamp": 1731048000424,
     "user": {
      "displayName": "Mihir Karkare",
      "userId": "14360659307592880959"
     },
     "user_tz": 480
    },
    "id": "ZdyPuPGWfuO-",
    "outputId": "f00b57a3-0791-4d0b-b79a-47632d6f2202"
   },
   "outputs": [
    {
     "data": {
      "text/plain": [
       "{'PCA_1': {'KS Statistic': 0.13356417131991927,\n",
       "  'p-value': 2.4511082506780252e-118},\n",
       " 'PCA_2': {'KS Statistic': 0.03147198913622337,\n",
       "  'p-value': 5.915427211757379e-07},\n",
       " 'PCA_3': {'KS Statistic': 0.09125630647134664,\n",
       "  'p-value': 2.3286575524836533e-55},\n",
       " 'PCA_4': {'KS Statistic': 0.15392698688588674,\n",
       "  'p-value': 3.126624002361944e-157}}"
      ]
     },
     "execution_count": 39,
     "metadata": {},
     "output_type": "execute_result"
    }
   ],
   "source": [
    "# Separate data based on 'sex' values\n",
    "group_young = new_df[new_df['age_categ'] == 0]\n",
    "group_old = new_df[new_df['age_categ'] == 1]\n",
    "\n",
    "# Columns to test\n",
    "pca_columns = ['PCA_1', 'PCA_2', 'PCA_3', 'PCA_4']\n",
    "ks_results = {}\n",
    "\n",
    "# Run Kolmogorov-Smirnov test for each PCA column\n",
    "for column in pca_columns:\n",
    "    # Perform KS test\n",
    "    ks_stat, p_value = ks_2samp(group_young[column], group_old[column])\n",
    "    # Store the results\n",
    "    ks_results[column] = {'KS Statistic': ks_stat, 'p-value': p_value}\n",
    "\n",
    "# Display the results\n",
    "ks_results\n"
   ]
  },
  {
   "cell_type": "markdown",
   "metadata": {
    "id": "-gYEvkIwgKW1"
   },
   "source": [
    "Insurance Type"
   ]
  },
  {
   "cell_type": "code",
   "execution_count": 40,
   "metadata": {
    "colab": {
     "base_uri": "https://localhost:8080/"
    },
    "executionInfo": {
     "elapsed": 362,
     "status": "ok",
     "timestamp": 1731048143228,
     "user": {
      "displayName": "Mihir Karkare",
      "userId": "14360659307592880959"
     },
     "user_tz": 480
    },
    "id": "MROgCV27gIhq",
    "outputId": "57018a25-0463-4d00-a969-1f8f56114508"
   },
   "outputs": [
    {
     "data": {
      "text/plain": [
       "{'PCA_1': {('PCA_1', '1 vs 2'): {'KS Statistic': 0.10781983564835101,\n",
       "   'p-value': 1.0668023103607894e-59},\n",
       "  ('PCA_1', '1 vs 0'): {'KS Statistic': 0.13184883297665606,\n",
       "   'p-value': 7.965014794026655e-36},\n",
       "  ('PCA_1', '2 vs 0'): {'KS Statistic': 0.02633727091807395,\n",
       "   'p-value': 0.12516352164559258}},\n",
       " 'PCA_2': {('PCA_2', '1 vs 2'): {'KS Statistic': 0.03551575608406543,\n",
       "   'p-value': 7.54522307164046e-07},\n",
       "  ('PCA_2', '1 vs 0'): {'KS Statistic': 0.06447297967113161,\n",
       "   'p-value': 7.1121597438958685e-09},\n",
       "  ('PCA_2', '2 vs 0'): {'KS Statistic': 0.03184330976904387,\n",
       "   'p-value': 0.03499770477852689}},\n",
       " 'PCA_3': {('PCA_3', '1 vs 2'): {'KS Statistic': 0.038584362013408424,\n",
       "   'p-value': 5.252064744362301e-08},\n",
       "  ('PCA_3', '1 vs 0'): {'KS Statistic': 0.056127227014570735,\n",
       "   'p-value': 7.891170903665137e-07},\n",
       "  ('PCA_3', '2 vs 0'): {'KS Statistic': 0.019838477860306316,\n",
       "   'p-value': 0.40989481210438466}},\n",
       " 'PCA_4': {('PCA_4', '1 vs 2'): {'KS Statistic': 0.1176509801079269,\n",
       "   'p-value': 4.944144731609595e-71},\n",
       "  ('PCA_4', '1 vs 0'): {'KS Statistic': 0.052568116147931776,\n",
       "   'p-value': 4.820256319811678e-06},\n",
       "  ('PCA_4', '2 vs 0'): {'KS Statistic': 0.07312481747209769,\n",
       "   'p-value': 1.1530679191109968e-09}}}"
      ]
     },
     "execution_count": 40,
     "metadata": {},
     "output_type": "execute_result"
    }
   ],
   "source": [
    "\n",
    "# List of PCA columns to test\n",
    "pca_columns = ['PCA_1', 'PCA_2', 'PCA_3', 'PCA_4']\n",
    "# Unique race categories (assuming three races)\n",
    "insurance_categories = new_df['insurance_type'].unique()\n",
    "\n",
    "# Dictionary to store KS test results\n",
    "ks_results_insurance = {}\n",
    "\n",
    "# Loop over each PCA column\n",
    "for column in pca_columns:\n",
    "    ks_results_insurance[column] = {}\n",
    "\n",
    "    # Generate all unique pairs of race categories\n",
    "    for race_pair in itertools.combinations(insurance_categories, 2):\n",
    "        race_1, race_2 = race_pair\n",
    "\n",
    "        # Filter data for each race group\n",
    "        group_race_1 = new_df[new_df['insurance_type'] == race_1]\n",
    "        group_race_2 = new_df[new_df['insurance_type'] == race_2]\n",
    "\n",
    "        # Perform KS test\n",
    "        ks_stat, p_value = ks_2samp(group_race_1[column], group_race_2[column])\n",
    "\n",
    "        # Store the result in the dictionary\n",
    "        ks_results_insurance[column][column,f\"{race_1} vs {race_2}\"] = {'KS Statistic': ks_stat, 'p-value': p_value}\n",
    "\n",
    "# Display results\n",
    "ks_results_insurance\n"
   ]
  },
  {
   "cell_type": "markdown",
   "metadata": {
    "id": "J_Q6l61bxgJN"
   },
   "source": [
    "Kruskal Wallis Test"
   ]
  },
  {
   "cell_type": "code",
   "execution_count": 49,
   "metadata": {
    "colab": {
     "base_uri": "https://localhost:8080/"
    },
    "executionInfo": {
     "elapsed": 200,
     "status": "ok",
     "timestamp": 1731047809499,
     "user": {
      "displayName": "Mihir Karkare",
      "userId": "14360659307592880959"
     },
     "user_tz": 480
    },
    "id": "sHwQ07p_vgim",
    "outputId": "435300ff-b5ea-4a79-d043-b2164d57737b"
   },
   "outputs": [
    {
     "data": {
      "text/plain": [
       "{'PCA_1': {'Kruskal-Wallis Statistic': 94.03916340320447,\n",
       "  'p-value': 3.798876067499975e-21},\n",
       " 'PCA_2': {'Kruskal-Wallis Statistic': 626.2866084929128,\n",
       "  'p-value': 1.0083026783677734e-136},\n",
       " 'PCA_3': {'Kruskal-Wallis Statistic': 118.90108257019965,\n",
       "  'p-value': 1.5169035709838102e-26},\n",
       " 'PCA_4': {'Kruskal-Wallis Statistic': 790.9687012263499,\n",
       "  'p-value': 1.7511721816635826e-172}}"
      ]
     },
     "execution_count": 49,
     "metadata": {},
     "output_type": "execute_result"
    }
   ],
   "source": [
    "\n",
    "# List of PCA columns\n",
    "pca_columns = ['PCA_1', 'PCA_2', 'PCA_3', 'PCA_4']\n",
    "kruskal_results = {}\n",
    "\n",
    "# Run Kruskal-Wallis test for each PCA column across races\n",
    "for column in pca_columns:\n",
    "    groups = [new_df[new_df['race'] == race][column] for race in new_df['race'].unique()]\n",
    "    kruskal_stat, p_value = kruskal(*groups)\n",
    "    kruskal_results[column] = {'Kruskal-Wallis Statistic': kruskal_stat, 'p-value': p_value}\n",
    "\n",
    "# Display results\n",
    "kruskal_results\n"
   ]
  },
  {
   "cell_type": "code",
   "execution_count": 50,
   "metadata": {
    "colab": {
     "base_uri": "https://localhost:8080/"
    },
    "executionInfo": {
     "elapsed": 162,
     "status": "ok",
     "timestamp": 1731047809660,
     "user": {
      "displayName": "Mihir Karkare",
      "userId": "14360659307592880959"
     },
     "user_tz": 480
    },
    "id": "47a3IuerxndC",
    "outputId": "39b7678b-b8c8-4e8f-95af-a42250078354"
   },
   "outputs": [
    {
     "data": {
      "text/plain": [
       "{'PCA_1': {'0 vs 1': {'KS Statistic': 0.07548192343031945,\n",
       "   'p-value': 6.941088698750058e-20,\n",
       "   'BY-corrected p-value': 5.169518536408474e-19},\n",
       "  '0 vs 2': {'KS Statistic': 0.04943049162583424,\n",
       "   'p-value': 0.00010448734893743983,\n",
       "   'BY-corrected p-value': 0.0004323283426141179},\n",
       "  '1 vs 2': {'KS Statistic': 0.0447984095646252,\n",
       "   'p-value': 0.004911669193629346,\n",
       "   'BY-corrected p-value': 0.01662757558855529}},\n",
       " 'PCA_2': {'0 vs 1': {'KS Statistic': 0.16202601019403207,\n",
       "   'p-value': 1.8840222301002718e-90,\n",
       "   'BY-corrected p-value': 3.5079107414600755e-89},\n",
       "  '0 vs 2': {'KS Statistic': 0.039887361980813774,\n",
       "   'p-value': 0.0032443559990622834,\n",
       "   'BY-corrected p-value': 0.012081504216248342},\n",
       "  '1 vs 2': {'KS Statistic': 0.18235858893082924,\n",
       "   'p-value': 1.055987780988705e-43,\n",
       "   'BY-corrected p-value': 1.3107810232096594e-42}},\n",
       " 'PCA_3': {'0 vs 1': {'KS Statistic': 0.07270673549912943,\n",
       "   'p-value': 1.7657106057443392e-18,\n",
       "   'BY-corrected p-value': 1.0958744012751357e-17},\n",
       "  '0 vs 2': {'KS Statistic': 0.020117603192403966,\n",
       "   'p-value': 0.38500336923300915,\n",
       "   'BY-corrected p-value': 1.0},\n",
       "  '1 vs 2': {'KS Statistic': 0.08600015920077281,\n",
       "   'p-value': 5.047185001652804e-10,\n",
       "   'BY-corrected p-value': 2.6849962957772163e-09}},\n",
       " 'PCA_4': {'0 vs 1': {'KS Statistic': 0.19438729566519292,\n",
       "   'p-value': 2.4644610820997873e-130,\n",
       "   'BY-corrected p-value': 9.177290335208045e-129},\n",
       "  '0 vs 2': {'KS Statistic': 0.05360456948439879,\n",
       "   'p-value': 1.8458297162078007e-05,\n",
       "   'BY-corrected p-value': 8.59199772824195e-05},\n",
       "  '1 vs 2': {'KS Statistic': 0.1552324478691173,\n",
       "   'p-value': 9.63013104874564e-32,\n",
       "   'BY-corrected p-value': 8.965297650910701e-31}}}"
      ]
     },
     "execution_count": 50,
     "metadata": {},
     "output_type": "execute_result"
    }
   ],
   "source": [
    "# List of PCA columns\n",
    "pca_columns = ['PCA_1', 'PCA_2', 'PCA_3', 'PCA_4']\n",
    "race_categories = new_df['race'].unique()\n",
    "\n",
    "# Dictionary to store KS test results\n",
    "ks_results_race = {}\n",
    "all_p_values = []\n",
    "\n",
    "# Loop over each PCA column\n",
    "for column in pca_columns:\n",
    "    ks_results_race[column] = {}\n",
    "\n",
    "    # Generate all unique pairs of race categories\n",
    "    for race_pair in itertools.combinations(race_categories, 2):\n",
    "        race_1, race_2 = race_pair\n",
    "\n",
    "        # Filter data for each race group\n",
    "        group_race_1 = new_df[new_df['race'] == race_1]\n",
    "        group_race_2 = new_df[new_df['race'] == race_2]\n",
    "\n",
    "        # Perform KS test\n",
    "        ks_stat, p_value = ks_2samp(group_race_1[column], group_race_2[column])\n",
    "\n",
    "        # Store the result\n",
    "        ks_results_race[column][f\"{race_1} vs {race_2}\"] = {'KS Statistic': ks_stat, 'p-value': p_value}\n",
    "\n",
    "        # Collect the p-value for BY correction\n",
    "        all_p_values.append(p_value)\n",
    "\n",
    "# Apply Benjamini-Yekutieli correction\n",
    "_, by_corrected_p_values, _, _ = multipletests(all_p_values, method='fdr_by')\n",
    "\n",
    "# Insert corrected p-values back into the results dictionary\n",
    "p_value_index = 0\n",
    "for column in pca_columns:\n",
    "    for race_pair in itertools.combinations(race_categories, 2):\n",
    "        race_1, race_2 = race_pair\n",
    "        ks_results_race[column][f\"{race_1} vs {race_2}\"]['BY-corrected p-value'] = by_corrected_p_values[p_value_index]\n",
    "        p_value_index += 1\n",
    "\n",
    "# Display results\n",
    "ks_results_race\n"
   ]
  },
  {
   "cell_type": "code",
   "execution_count": 44,
   "metadata": {
    "colab": {
     "base_uri": "https://localhost:8080/"
    },
    "executionInfo": {
     "elapsed": 359,
     "status": "ok",
     "timestamp": 1731047810018,
     "user": {
      "displayName": "Mihir Karkare",
      "userId": "14360659307592880959"
     },
     "user_tz": 480
    },
    "id": "FnnYPDSQy9Ds",
    "outputId": "32dca11a-7325-46d6-8ce5-a83c8d13f207"
   },
   "outputs": [
    {
     "ename": "NameError",
     "evalue": "name 'anderson_ksamp' is not defined",
     "output_type": "error",
     "traceback": [
      "\u001b[1;31m---------------------------------------------------------------------------\u001b[0m",
      "\u001b[1;31mNameError\u001b[0m                                 Traceback (most recent call last)",
      "Cell \u001b[1;32mIn[44], line 10\u001b[0m\n\u001b[0;32m      8\u001b[0m         group_race_1 \u001b[38;5;241m=\u001b[39m new_df[new_df[\u001b[38;5;124m'\u001b[39m\u001b[38;5;124mrace\u001b[39m\u001b[38;5;124m'\u001b[39m] \u001b[38;5;241m==\u001b[39m race_1][column]\n\u001b[0;32m      9\u001b[0m         group_race_2 \u001b[38;5;241m=\u001b[39m new_df[new_df[\u001b[38;5;124m'\u001b[39m\u001b[38;5;124mrace\u001b[39m\u001b[38;5;124m'\u001b[39m] \u001b[38;5;241m==\u001b[39m race_2][column]\n\u001b[1;32m---> 10\u001b[0m         ad_stat, p_value, _ \u001b[38;5;241m=\u001b[39m \u001b[43manderson_ksamp\u001b[49m([group_race_1, group_race_2])\n\u001b[0;32m     11\u001b[0m         ad_results[column][\u001b[38;5;124mf\u001b[39m\u001b[38;5;124m\"\u001b[39m\u001b[38;5;132;01m{\u001b[39;00mrace_1\u001b[38;5;132;01m}\u001b[39;00m\u001b[38;5;124m vs \u001b[39m\u001b[38;5;132;01m{\u001b[39;00mrace_2\u001b[38;5;132;01m}\u001b[39;00m\u001b[38;5;124m\"\u001b[39m] \u001b[38;5;241m=\u001b[39m {\u001b[38;5;124m'\u001b[39m\u001b[38;5;124mAD Statistic\u001b[39m\u001b[38;5;124m'\u001b[39m: ad_stat, \u001b[38;5;124m'\u001b[39m\u001b[38;5;124mp-value\u001b[39m\u001b[38;5;124m'\u001b[39m: p_value}\n\u001b[0;32m     13\u001b[0m \u001b[38;5;66;03m# Display results\u001b[39;00m\n",
      "\u001b[1;31mNameError\u001b[0m: name 'anderson_ksamp' is not defined"
     ]
    }
   ],
   "source": [
    "ad_results = {}\n",
    "\n",
    "# Run Anderson-Darling for each PCA column and race pairs\n",
    "for column in pca_columns:\n",
    "    ad_results[column] = {}\n",
    "    for race_pair in itertools.combinations(new_df['race'].unique(), 2):\n",
    "        race_1, race_2 = race_pair\n",
    "        group_race_1 = new_df[new_df['race'] == race_1][column]\n",
    "        group_race_2 = new_df[new_df['race'] == race_2][column]\n",
    "        ad_stat, p_value, _ = anderson_ksamp([group_race_1, group_race_2])\n",
    "        ad_results[column][f\"{race_1} vs {race_2}\"] = {'AD Statistic': ad_stat, 'p-value': p_value}\n",
    "\n",
    "# Display results\n",
    "ad_results\n"
   ]
  }
 ],
 "metadata": {
  "colab": {
   "authorship_tag": "ABX9TyOouz+FWAIIT1VROSb58jyA",
   "provenance": []
  },
  "kernelspec": {
   "display_name": "Python 3",
   "name": "python3"
  },
  "language_info": {
   "codemirror_mode": {
    "name": "ipython",
    "version": 3
   },
   "file_extension": ".py",
   "mimetype": "text/x-python",
   "name": "python",
   "nbconvert_exporter": "python",
   "pygments_lexer": "ipython3",
   "version": "3.12.7"
  }
 },
 "nbformat": 4,
 "nbformat_minor": 0
}
