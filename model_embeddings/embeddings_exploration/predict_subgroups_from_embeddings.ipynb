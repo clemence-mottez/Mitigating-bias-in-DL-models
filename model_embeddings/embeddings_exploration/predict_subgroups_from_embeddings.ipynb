{
 "cells": [
  {
   "cell_type": "code",
   "execution_count": 18,
   "metadata": {},
   "outputs": [],
   "source": [
    "import pandas as pd\n",
    "import numpy as np\n",
    "import ast\n",
    "from sklearn.model_selection import train_test_split\n",
    "from sklearn.multioutput import MultiOutputClassifier\n",
    "from sklearn.ensemble import RandomForestClassifier\n",
    "from sklearn.ensemble import GradientBoostingClassifier\n",
    "from sklearn.metrics import accuracy_score, f1_score, recall_score, precision_score\n",
    "import matplotlib.pyplot as plt\n",
    "import seaborn as sns\n",
    "from sklearn.tree import DecisionTreeClassifier\n",
    "from sklearn.naive_bayes import MultinomialNB\n",
    "from sklearn.linear_model import LogisticRegression\n",
    "\n",
    "from sklearn.decomposition import PCA\n",
    "from sklearn.preprocessing import StandardScaler\n",
    "from sklearn.metrics import roc_curve, roc_auc_score\n",
    "from collections import defaultdict\n",
    "from xgboost import XGBClassifier\n",
    "from sklearn.metrics import accuracy_score, f1_score, recall_score, precision_score, confusion_matrix, roc_auc_score, precision_recall_curve, auc"
   ]
  },
  {
   "cell_type": "markdown",
   "metadata": {},
   "source": [
    "### Read the CSV"
   ]
  },
  {
   "cell_type": "code",
   "execution_count": 19,
   "metadata": {},
   "outputs": [
    {
     "name": "stdout",
     "output_type": "stream",
     "text": [
      "Index(['path_to_image', 'path_to_dcm', 'age', 'sex', 'race', 'insurance_type',\n",
      "       'No Finding', 'Enlarged Cardiomediastinum', 'Cardiomegaly',\n",
      "       'Lung Opacity', 'Lung Lesion', 'Edema', 'Consolidation', 'Pneumonia',\n",
      "       'Atelectasis', 'Pneumothorax', 'Pleural Effusion', 'Pleural Other',\n",
      "       'Fracture', 'Support Devices', 'embeddings'],\n",
      "      dtype='object')\n"
     ]
    },
    {
     "data": {
      "text/html": [
       "<div>\n",
       "<style scoped>\n",
       "    .dataframe tbody tr th:only-of-type {\n",
       "        vertical-align: middle;\n",
       "    }\n",
       "\n",
       "    .dataframe tbody tr th {\n",
       "        vertical-align: top;\n",
       "    }\n",
       "\n",
       "    .dataframe thead th {\n",
       "        text-align: right;\n",
       "    }\n",
       "</style>\n",
       "<table border=\"1\" class=\"dataframe\">\n",
       "  <thead>\n",
       "    <tr style=\"text-align: right;\">\n",
       "      <th></th>\n",
       "      <th>path_to_image</th>\n",
       "      <th>path_to_dcm</th>\n",
       "      <th>age</th>\n",
       "      <th>sex</th>\n",
       "      <th>race</th>\n",
       "      <th>insurance_type</th>\n",
       "      <th>No Finding</th>\n",
       "      <th>Enlarged Cardiomediastinum</th>\n",
       "      <th>Cardiomegaly</th>\n",
       "      <th>Lung Opacity</th>\n",
       "      <th>...</th>\n",
       "      <th>Edema</th>\n",
       "      <th>Consolidation</th>\n",
       "      <th>Pneumonia</th>\n",
       "      <th>Atelectasis</th>\n",
       "      <th>Pneumothorax</th>\n",
       "      <th>Pleural Effusion</th>\n",
       "      <th>Pleural Other</th>\n",
       "      <th>Fracture</th>\n",
       "      <th>Support Devices</th>\n",
       "      <th>embeddings</th>\n",
       "    </tr>\n",
       "  </thead>\n",
       "  <tbody>\n",
       "    <tr>\n",
       "      <th>0</th>\n",
       "      <td>train/patient02424/study8/view1_frontal.jpg</td>\n",
       "      <td>train/patient02424/study8/view1_frontal.dcm</td>\n",
       "      <td>52.0</td>\n",
       "      <td>0</td>\n",
       "      <td>0</td>\n",
       "      <td>1</td>\n",
       "      <td>0</td>\n",
       "      <td>0</td>\n",
       "      <td>0</td>\n",
       "      <td>0</td>\n",
       "      <td>...</td>\n",
       "      <td>0</td>\n",
       "      <td>0</td>\n",
       "      <td>0</td>\n",
       "      <td>1</td>\n",
       "      <td>0</td>\n",
       "      <td>1</td>\n",
       "      <td>0</td>\n",
       "      <td>0</td>\n",
       "      <td>1</td>\n",
       "      <td>[0.0036964279133826494, 0.026995880529284477, ...</td>\n",
       "    </tr>\n",
       "    <tr>\n",
       "      <th>1</th>\n",
       "      <td>train/patient08517/study10/view1_frontal.jpg</td>\n",
       "      <td>train/patient08517/study10/view1_frontal.dcm</td>\n",
       "      <td>53.0</td>\n",
       "      <td>0</td>\n",
       "      <td>1</td>\n",
       "      <td>2</td>\n",
       "      <td>0</td>\n",
       "      <td>0</td>\n",
       "      <td>1</td>\n",
       "      <td>1</td>\n",
       "      <td>...</td>\n",
       "      <td>1</td>\n",
       "      <td>0</td>\n",
       "      <td>0</td>\n",
       "      <td>0</td>\n",
       "      <td>0</td>\n",
       "      <td>0</td>\n",
       "      <td>0</td>\n",
       "      <td>0</td>\n",
       "      <td>1</td>\n",
       "      <td>[0.0035102381370961666, 0.11090341955423355, 0...</td>\n",
       "    </tr>\n",
       "    <tr>\n",
       "      <th>2</th>\n",
       "      <td>train/patient03164/study14/view1_frontal.jpg</td>\n",
       "      <td>train/patient03164/study14/view1_frontal.dcm</td>\n",
       "      <td>80.0</td>\n",
       "      <td>0</td>\n",
       "      <td>0</td>\n",
       "      <td>1</td>\n",
       "      <td>0</td>\n",
       "      <td>0</td>\n",
       "      <td>0</td>\n",
       "      <td>1</td>\n",
       "      <td>...</td>\n",
       "      <td>0</td>\n",
       "      <td>0</td>\n",
       "      <td>0</td>\n",
       "      <td>0</td>\n",
       "      <td>0</td>\n",
       "      <td>1</td>\n",
       "      <td>0</td>\n",
       "      <td>0</td>\n",
       "      <td>1</td>\n",
       "      <td>[0.005892541725188494, 0.1605752557516098, 0.1...</td>\n",
       "    </tr>\n",
       "    <tr>\n",
       "      <th>3</th>\n",
       "      <td>train/patient28576/study3/view1_frontal.jpg</td>\n",
       "      <td>train/patient28576/study3/view1_frontal.dcm</td>\n",
       "      <td>63.0</td>\n",
       "      <td>1</td>\n",
       "      <td>0</td>\n",
       "      <td>2</td>\n",
       "      <td>1</td>\n",
       "      <td>0</td>\n",
       "      <td>0</td>\n",
       "      <td>0</td>\n",
       "      <td>...</td>\n",
       "      <td>0</td>\n",
       "      <td>0</td>\n",
       "      <td>0</td>\n",
       "      <td>0</td>\n",
       "      <td>0</td>\n",
       "      <td>0</td>\n",
       "      <td>0</td>\n",
       "      <td>0</td>\n",
       "      <td>0</td>\n",
       "      <td>[0.0012315319618210196, 0.013657770119607449, ...</td>\n",
       "    </tr>\n",
       "    <tr>\n",
       "      <th>4</th>\n",
       "      <td>train/patient35066/study5/view1_frontal.jpg</td>\n",
       "      <td>train/patient35066/study5/view1_frontal.dcm</td>\n",
       "      <td>59.0</td>\n",
       "      <td>1</td>\n",
       "      <td>0</td>\n",
       "      <td>1</td>\n",
       "      <td>0</td>\n",
       "      <td>0</td>\n",
       "      <td>0</td>\n",
       "      <td>0</td>\n",
       "      <td>...</td>\n",
       "      <td>0</td>\n",
       "      <td>0</td>\n",
       "      <td>0</td>\n",
       "      <td>0</td>\n",
       "      <td>0</td>\n",
       "      <td>1</td>\n",
       "      <td>0</td>\n",
       "      <td>0</td>\n",
       "      <td>1</td>\n",
       "      <td>[0.0032588730100542307, 0.02126752771437168, 0...</td>\n",
       "    </tr>\n",
       "  </tbody>\n",
       "</table>\n",
       "<p>5 rows × 21 columns</p>\n",
       "</div>"
      ],
      "text/plain": [
       "                                  path_to_image  \\\n",
       "0   train/patient02424/study8/view1_frontal.jpg   \n",
       "1  train/patient08517/study10/view1_frontal.jpg   \n",
       "2  train/patient03164/study14/view1_frontal.jpg   \n",
       "3   train/patient28576/study3/view1_frontal.jpg   \n",
       "4   train/patient35066/study5/view1_frontal.jpg   \n",
       "\n",
       "                                    path_to_dcm   age  sex  race  \\\n",
       "0   train/patient02424/study8/view1_frontal.dcm  52.0    0     0   \n",
       "1  train/patient08517/study10/view1_frontal.dcm  53.0    0     1   \n",
       "2  train/patient03164/study14/view1_frontal.dcm  80.0    0     0   \n",
       "3   train/patient28576/study3/view1_frontal.dcm  63.0    1     0   \n",
       "4   train/patient35066/study5/view1_frontal.dcm  59.0    1     0   \n",
       "\n",
       "   insurance_type  No Finding  Enlarged Cardiomediastinum  Cardiomegaly  \\\n",
       "0               1           0                           0             0   \n",
       "1               2           0                           0             1   \n",
       "2               1           0                           0             0   \n",
       "3               2           1                           0             0   \n",
       "4               1           0                           0             0   \n",
       "\n",
       "   Lung Opacity  ...  Edema  Consolidation  Pneumonia  Atelectasis  \\\n",
       "0             0  ...      0              0          0            1   \n",
       "1             1  ...      1              0          0            0   \n",
       "2             1  ...      0              0          0            0   \n",
       "3             0  ...      0              0          0            0   \n",
       "4             0  ...      0              0          0            0   \n",
       "\n",
       "   Pneumothorax  Pleural Effusion  Pleural Other  Fracture  Support Devices  \\\n",
       "0             0                 1              0         0                1   \n",
       "1             0                 0              0         0                1   \n",
       "2             0                 1              0         0                1   \n",
       "3             0                 0              0         0                0   \n",
       "4             0                 1              0         0                1   \n",
       "\n",
       "                                          embeddings  \n",
       "0  [0.0036964279133826494, 0.026995880529284477, ...  \n",
       "1  [0.0035102381370961666, 0.11090341955423355, 0...  \n",
       "2  [0.005892541725188494, 0.1605752557516098, 0.1...  \n",
       "3  [0.0012315319618210196, 0.013657770119607449, ...  \n",
       "4  [0.0032588730100542307, 0.02126752771437168, 0...  \n",
       "\n",
       "[5 rows x 21 columns]"
      ]
     },
     "execution_count": 19,
     "metadata": {},
     "output_type": "execute_result"
    }
   ],
   "source": [
    "train = pd.read_csv(\"../model_dev/densenet_data/densenet_train_embeddings.csv\", quotechar='\"', on_bad_lines='skip')\n",
    "\n",
    "print(train.columns)\n",
    "train.head()"
   ]
  },
  {
   "cell_type": "markdown",
   "metadata": {},
   "source": [
    "### Convert embeddings from str to list (a bit long for large data sets)"
   ]
  },
  {
   "cell_type": "code",
   "execution_count": 20,
   "metadata": {},
   "outputs": [],
   "source": [
    "train['embeddings'] = train['embeddings'].apply(ast.literal_eval)"
   ]
  },
  {
   "cell_type": "markdown",
   "metadata": {},
   "source": [
    "### Remove columns"
   ]
  },
  {
   "cell_type": "code",
   "execution_count": 21,
   "metadata": {},
   "outputs": [],
   "source": [
    "train = train.drop(columns=['path_to_image', 'path_to_dcm',\n",
    "       'No Finding', 'Enlarged Cardiomediastinum', 'Cardiomegaly',\n",
    "       'Lung Opacity', 'Lung Lesion', 'Edema', 'Consolidation', 'Pneumonia',\n",
    "       'Atelectasis', 'Pneumothorax', 'Pleural Effusion', 'Pleural Other',\n",
    "       'Fracture', 'Support Devices'])\n"
   ]
  },
  {
   "cell_type": "markdown",
   "metadata": {},
   "source": [
    "### Remove rows that were not processed (embeddings = 0)"
   ]
  },
  {
   "cell_type": "code",
   "execution_count": 22,
   "metadata": {},
   "outputs": [
    {
     "name": "stdout",
     "output_type": "stream",
     "text": [
      "Number of train removed rows = 67\n"
     ]
    }
   ],
   "source": [
    "initial_size = train.shape[0] \n",
    "\n",
    "train = train[train['embeddings'].apply(type) == list]\n",
    "\n",
    "final_size = train.shape[0] \n",
    "\n",
    "print(f'Number of train removed rows = {initial_size - final_size}')"
   ]
  },
  {
   "cell_type": "markdown",
   "metadata": {},
   "source": [
    "### Convert age to binary to study bias"
   ]
  },
  {
   "cell_type": "code",
   "execution_count": 23,
   "metadata": {},
   "outputs": [],
   "source": [
    "a = 70\n",
    "train['age'] = (train['age'] >= a).astype(int)"
   ]
  },
  {
   "cell_type": "markdown",
   "metadata": {},
   "source": [
    "### Train test"
   ]
  },
  {
   "cell_type": "code",
   "execution_count": 24,
   "metadata": {},
   "outputs": [],
   "source": [
    "subgroups = ['age', 'sex', 'race', 'insurance_type']\n",
    "\n",
    "train_embeddings = pd.DataFrame(train['embeddings'].tolist())\n",
    "y_train = train[subgroups]\n",
    "\n",
    "x_train = pd.concat([train.reset_index(), train_embeddings], axis=1)\n",
    "x_train.drop(columns=[\"embeddings\"] + subgroups, inplace=True)"
   ]
  },
  {
   "cell_type": "code",
   "execution_count": 25,
   "metadata": {},
   "outputs": [],
   "source": [
    "x_train.drop(columns=[\"index\"], inplace=True)"
   ]
  },
  {
   "cell_type": "code",
   "execution_count": 26,
   "metadata": {},
   "outputs": [],
   "source": [
    "y_sex = train['sex']\n",
    "y_race = train['race']\n",
    "y_age = train['age']\n",
    "y_insurance = train['insurance_type']\n"
   ]
  },
  {
   "cell_type": "markdown",
   "metadata": {},
   "source": [
    "### Sex"
   ]
  },
  {
   "cell_type": "code",
   "execution_count": 27,
   "metadata": {},
   "outputs": [],
   "source": [
    "X_train, X_test, y_train_sex, y_test_sex = train_test_split(x_train, y_sex, test_size=0.2, random_state=42)"
   ]
  },
  {
   "cell_type": "code",
   "execution_count": 28,
   "metadata": {},
   "outputs": [
    {
     "data": {
      "text/html": [
       "<style>#sk-container-id-2 {color: black;}#sk-container-id-2 pre{padding: 0;}#sk-container-id-2 div.sk-toggleable {background-color: white;}#sk-container-id-2 label.sk-toggleable__label {cursor: pointer;display: block;width: 100%;margin-bottom: 0;padding: 0.3em;box-sizing: border-box;text-align: center;}#sk-container-id-2 label.sk-toggleable__label-arrow:before {content: \"▸\";float: left;margin-right: 0.25em;color: #696969;}#sk-container-id-2 label.sk-toggleable__label-arrow:hover:before {color: black;}#sk-container-id-2 div.sk-estimator:hover label.sk-toggleable__label-arrow:before {color: black;}#sk-container-id-2 div.sk-toggleable__content {max-height: 0;max-width: 0;overflow: hidden;text-align: left;background-color: #f0f8ff;}#sk-container-id-2 div.sk-toggleable__content pre {margin: 0.2em;color: black;border-radius: 0.25em;background-color: #f0f8ff;}#sk-container-id-2 input.sk-toggleable__control:checked~div.sk-toggleable__content {max-height: 200px;max-width: 100%;overflow: auto;}#sk-container-id-2 input.sk-toggleable__control:checked~label.sk-toggleable__label-arrow:before {content: \"▾\";}#sk-container-id-2 div.sk-estimator input.sk-toggleable__control:checked~label.sk-toggleable__label {background-color: #d4ebff;}#sk-container-id-2 div.sk-label input.sk-toggleable__control:checked~label.sk-toggleable__label {background-color: #d4ebff;}#sk-container-id-2 input.sk-hidden--visually {border: 0;clip: rect(1px 1px 1px 1px);clip: rect(1px, 1px, 1px, 1px);height: 1px;margin: -1px;overflow: hidden;padding: 0;position: absolute;width: 1px;}#sk-container-id-2 div.sk-estimator {font-family: monospace;background-color: #f0f8ff;border: 1px dotted black;border-radius: 0.25em;box-sizing: border-box;margin-bottom: 0.5em;}#sk-container-id-2 div.sk-estimator:hover {background-color: #d4ebff;}#sk-container-id-2 div.sk-parallel-item::after {content: \"\";width: 100%;border-bottom: 1px solid gray;flex-grow: 1;}#sk-container-id-2 div.sk-label:hover label.sk-toggleable__label {background-color: #d4ebff;}#sk-container-id-2 div.sk-serial::before {content: \"\";position: absolute;border-left: 1px solid gray;box-sizing: border-box;top: 0;bottom: 0;left: 50%;z-index: 0;}#sk-container-id-2 div.sk-serial {display: flex;flex-direction: column;align-items: center;background-color: white;padding-right: 0.2em;padding-left: 0.2em;position: relative;}#sk-container-id-2 div.sk-item {position: relative;z-index: 1;}#sk-container-id-2 div.sk-parallel {display: flex;align-items: stretch;justify-content: center;background-color: white;position: relative;}#sk-container-id-2 div.sk-item::before, #sk-container-id-2 div.sk-parallel-item::before {content: \"\";position: absolute;border-left: 1px solid gray;box-sizing: border-box;top: 0;bottom: 0;left: 50%;z-index: -1;}#sk-container-id-2 div.sk-parallel-item {display: flex;flex-direction: column;z-index: 1;position: relative;background-color: white;}#sk-container-id-2 div.sk-parallel-item:first-child::after {align-self: flex-end;width: 50%;}#sk-container-id-2 div.sk-parallel-item:last-child::after {align-self: flex-start;width: 50%;}#sk-container-id-2 div.sk-parallel-item:only-child::after {width: 0;}#sk-container-id-2 div.sk-dashed-wrapped {border: 1px dashed gray;margin: 0 0.4em 0.5em 0.4em;box-sizing: border-box;padding-bottom: 0.4em;background-color: white;}#sk-container-id-2 div.sk-label label {font-family: monospace;font-weight: bold;display: inline-block;line-height: 1.2em;}#sk-container-id-2 div.sk-label-container {text-align: center;}#sk-container-id-2 div.sk-container {/* jupyter's `normalize.less` sets `[hidden] { display: none; }` but bootstrap.min.css set `[hidden] { display: none !important; }` so we also need the `!important` here to be able to override the default hidden behavior on the sphinx rendered scikit-learn.org. See: https://github.com/scikit-learn/scikit-learn/issues/21755 */display: inline-block !important;position: relative;}#sk-container-id-2 div.sk-text-repr-fallback {display: none;}</style><div id=\"sk-container-id-2\" class=\"sk-top-container\"><div class=\"sk-text-repr-fallback\"><pre>RandomForestClassifier(max_depth=10, min_samples_leaf=2, min_samples_split=5,\n",
       "                       random_state=42)</pre><b>In a Jupyter environment, please rerun this cell to show the HTML representation or trust the notebook. <br />On GitHub, the HTML representation is unable to render, please try loading this page with nbviewer.org.</b></div><div class=\"sk-container\" hidden><div class=\"sk-item\"><div class=\"sk-estimator sk-toggleable\"><input class=\"sk-toggleable__control sk-hidden--visually\" id=\"sk-estimator-id-2\" type=\"checkbox\" checked><label for=\"sk-estimator-id-2\" class=\"sk-toggleable__label sk-toggleable__label-arrow\">RandomForestClassifier</label><div class=\"sk-toggleable__content\"><pre>RandomForestClassifier(max_depth=10, min_samples_leaf=2, min_samples_split=5,\n",
       "                       random_state=42)</pre></div></div></div></div></div>"
      ],
      "text/plain": [
       "RandomForestClassifier(max_depth=10, min_samples_leaf=2, min_samples_split=5,\n",
       "                       random_state=42)"
      ]
     },
     "execution_count": 28,
     "metadata": {},
     "output_type": "execute_result"
    }
   ],
   "source": [
    "clf_sex = clf = RandomForestClassifier(\n",
    "    n_estimators=100,       # Use 100 trees\n",
    "    max_depth=10,            # Set maximum depth of each tree to 10\n",
    "    min_samples_split=5,     # Minimum number of samples required to split an internal node\n",
    "    min_samples_leaf=2,      # Minimum number of samples required to be at a leaf node\n",
    "    max_features='sqrt',     # Number of features to consider when looking for the best split: sqrt(total_features)\n",
    "    bootstrap=True,          # Use bootstrapping\n",
    "    random_state=42          # Set a random state for reproducibility\n",
    ")\n",
    "clf_sex.fit(X_train, y_train_sex)"
   ]
  },
  {
   "cell_type": "code",
   "execution_count": 29,
   "metadata": {},
   "outputs": [
    {
     "name": "stdout",
     "output_type": "stream",
     "text": [
      "AUC Score: 0.8554639829998935\n"
     ]
    }
   ],
   "source": [
    "y_scores_sex = clf_sex.predict_proba(X_test)[:, 1]  # Get probabilities for the positive class\n",
    "fpr, tpr, thresholds = roc_curve(y_test_sex, y_scores_sex)\n",
    "auc_score = roc_auc_score(y_test_sex, y_scores_sex)\n",
    "print(f\"AUC Score: {auc_score}\")"
   ]
  },
  {
   "cell_type": "code",
   "execution_count": 30,
   "metadata": {},
   "outputs": [
    {
     "name": "stdout",
     "output_type": "stream",
     "text": [
      "Top N important embeddings for sex prediction:\n",
      "Embedding 634 importance: 0.031987947873739306\n",
      "Embedding 611 importance: 0.021207261477278846\n",
      "Embedding 13 importance: 0.01490744643213179\n",
      "Embedding 632 importance: 0.014693097374506048\n",
      "Embedding 630 importance: 0.011383139503288025\n",
      "Embedding 371 importance: 0.01070354966956921\n",
      "Embedding 105 importance: 0.01065773191272925\n",
      "Embedding 108 importance: 0.010411652089956078\n",
      "Embedding 744 importance: 0.009963929265807272\n",
      "Embedding 312 importance: 0.009950422164634367\n"
     ]
    }
   ],
   "source": [
    "importances_sex = clf_sex.feature_importances_\n",
    "# Sort and display the top N important features\n",
    "indices = np.argsort(importances_sex)[::-1]\n",
    "print(\"Top N important embeddings for sex prediction:\")\n",
    "for i in indices[:10]:  # top 10 features\n",
    "    print(f\"Embedding {i} importance: {importances_sex[i]}\")\n",
    "\n"
   ]
  },
  {
   "cell_type": "code",
   "execution_count": 31,
   "metadata": {},
   "outputs": [
    {
     "name": "stdout",
     "output_type": "stream",
     "text": [
      "Top N important embeddings for race prediction:\n",
      "Embedding 611 importance: 0.010535659145837921\n",
      "Embedding 304 importance: 0.010429737791338076\n",
      "Embedding 172 importance: 0.009874259214875268\n",
      "Embedding 634 importance: 0.009868407016808554\n",
      "Embedding 316 importance: 0.008827436934266684\n",
      "Embedding 293 importance: 0.008707826371391399\n",
      "Embedding 312 importance: 0.008065844364274178\n",
      "Embedding 435 importance: 0.007560679944286893\n",
      "Embedding 238 importance: 0.007284878064704216\n",
      "Embedding 525 importance: 0.006478203061417899\n"
     ]
    }
   ],
   "source": [
    "X_train, X_test, y_train_race, y_test_race = train_test_split(x_train, y_race, test_size=0.2, random_state=42)\n",
    "\n",
    "clf_race = clf = RandomForestClassifier(\n",
    "    n_estimators=100,       # Use 100 trees\n",
    "    max_depth=10,            # Set maximum depth of each tree to 10\n",
    "    min_samples_split=5,     # Minimum number of samples required to split an internal node\n",
    "    min_samples_leaf=2,      # Minimum number of samples required to be at a leaf node\n",
    "    max_features='sqrt',     # Number of features to consider when looking for the best split: sqrt(total_features)\n",
    "    bootstrap=True,          # Use bootstrapping\n",
    "    random_state=42          # Set a random state for reproducibility\n",
    ")\n",
    "clf_race.fit(X_train, y_train_race)\n",
    "\n",
    "# y_scores_race = clf_sex.predict_proba(X_test)[:, 1]  # Get probabilities for the positive class\n",
    "# fpr, tpr, thresholds = roc_curve(y_test_race, y_scores_race)\n",
    "# auc_score = roc_auc_score(y_test_race, y_scores_race)\n",
    "# print(f\"AUC Score: {auc_score}\")\n",
    "\n",
    "\n",
    "importances_race = clf_race.feature_importances_\n",
    "# Sort and display the top N important features\n",
    "indices = np.argsort(importances_race)[::-1]\n",
    "print(\"Top N important embeddings for race prediction:\")\n",
    "for i in indices[:10]:  # top 10 features\n",
    "    print(f\"Embedding {i} importance: {importances_race[i]}\")\n",
    "\n"
   ]
  },
  {
   "cell_type": "code",
   "execution_count": 32,
   "metadata": {},
   "outputs": [
    {
     "name": "stdout",
     "output_type": "stream",
     "text": [
      "Top N important embeddings for age prediction:\n",
      "Embedding 885 importance: 0.05129458479605044\n",
      "Embedding 892 importance: 0.030763301199778582\n",
      "Embedding 867 importance: 0.030010819063191637\n",
      "Embedding 973 importance: 0.01822174921950952\n",
      "Embedding 508 importance: 0.016030197645587413\n",
      "Embedding 889 importance: 0.0155482992608116\n",
      "Embedding 441 importance: 0.01361207199308293\n",
      "Embedding 160 importance: 0.012683934840116148\n",
      "Embedding 416 importance: 0.011126091419768232\n",
      "Embedding 886 importance: 0.009655212483585831\n"
     ]
    }
   ],
   "source": [
    "X_train, X_test, y_train_age, y_test_age = train_test_split(x_train, y_age, test_size=0.2, random_state=42)\n",
    "\n",
    "clf_age = clf = RandomForestClassifier(\n",
    "    n_estimators=100,       # Use 100 trees\n",
    "    max_depth=10,            # Set maximum depth of each tree to 10\n",
    "    min_samples_split=5,     # Minimum number of samples required to split an internal node\n",
    "    min_samples_leaf=2,      # Minimum number of samples required to be at a leaf node\n",
    "    max_features='sqrt',     # Number of features to consider when looking for the best split: sqrt(total_features)\n",
    "    bootstrap=True,          # Use bootstrapping\n",
    "    random_state=42          # Set a random state for reproducibility\n",
    ")\n",
    "clf_age.fit(X_train, y_train_age)\n",
    "\n",
    "# # Predict probabilities for the positive class\n",
    "# y_scores_age = clf_age.predict_proba(X_test)[:, 1]  # Get probabilities for the positive class\n",
    "# fpr, tpr, thresholds = roc_curve(y_test_age, y_scores_age)\n",
    "# auc_score = roc_auc_score(y_test_age, y_scores_age)\n",
    "# print(f\"AUC Score: {auc_score}\")\n",
    "\n",
    "importances_age = clf_age.feature_importances_\n",
    "# Sort and display the top N important features\n",
    "indices = np.argsort(importances_age)[::-1]\n",
    "print(\"Top N important embeddings for age prediction:\")\n",
    "for i in indices[:10]:  # top 10 features\n",
    "    print(f\"Embedding {i} importance: {importances_age[i]}\")\n",
    "\n"
   ]
  },
  {
   "cell_type": "code",
   "execution_count": 33,
   "metadata": {},
   "outputs": [
    {
     "name": "stdout",
     "output_type": "stream",
     "text": [
      "Top N important embeddings for age prediction:\n",
      "Embedding 885 importance: 0.026993045166427733\n",
      "Embedding 867 importance: 0.018186180849187886\n",
      "Embedding 508 importance: 0.0170813126680816\n",
      "Embedding 973 importance: 0.013781295683683581\n",
      "Embedding 892 importance: 0.0121509465025808\n",
      "Embedding 441 importance: 0.009716967512262066\n",
      "Embedding 160 importance: 0.009503985605748137\n",
      "Embedding 889 importance: 0.009358132040096272\n",
      "Embedding 795 importance: 0.0075231834246995855\n",
      "Embedding 940 importance: 0.007106200044237633\n"
     ]
    }
   ],
   "source": [
    "X_train, X_test, y_train_insurance, y_test_insurance = train_test_split(x_train, y_insurance, test_size=0.2, random_state=42)\n",
    "\n",
    "clf_insurance = clf = RandomForestClassifier(\n",
    "    n_estimators=100,       # Use 100 trees\n",
    "    max_depth=10,            # Set maximum depth of each tree to 10\n",
    "    min_samples_split=5,     # Minimum number of samples required to split an internal node\n",
    "    min_samples_leaf=2,      # Minimum number of samples required to be at a leaf node\n",
    "    max_features='sqrt',     # Number of features to consider when looking for the best split: sqrt(total_features)\n",
    "    bootstrap=True,          # Use bootstrapping\n",
    "    random_state=42          # Set a random state for reproducibility\n",
    ")\n",
    "clf_insurance.fit(X_train, y_train_insurance)\n",
    "\n",
    "# y_scores_insurance = clf_sex.predict_proba(X_test)[:, 1]  # Get probabilities for the positive class\n",
    "# fpr, tpr, thresholds = roc_curve(y_test_insurance, y_scores_insurance)\n",
    "# auc_score = roc_auc_score(y_test_insurance, y_scores_insurance)\n",
    "# print(f\"AUC Score: {auc_score}\")\n",
    "\n",
    "\n",
    "importances_insurance = clf_insurance.feature_importances_\n",
    "# Sort and display the top N important features\n",
    "indices = np.argsort(importances_insurance)[::-1]\n",
    "print(\"Top N important embeddings for age prediction:\")\n",
    "for i in indices[:10]:  # top 10 features\n",
    "    print(f\"Embedding {i} importance: {importances_insurance[i]}\")\n",
    "\n"
   ]
  }
 ],
 "metadata": {
  "kernelspec": {
   "display_name": "mitigate-bias",
   "language": "python",
   "name": "python3"
  },
  "language_info": {
   "codemirror_mode": {
    "name": "ipython",
    "version": 3
   },
   "file_extension": ".py",
   "mimetype": "text/x-python",
   "name": "python",
   "nbconvert_exporter": "python",
   "pygments_lexer": "ipython3",
   "version": "3.8.19"
  }
 },
 "nbformat": 4,
 "nbformat_minor": 2
}
