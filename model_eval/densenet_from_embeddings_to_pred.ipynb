{
 "cells": [
  {
   "cell_type": "markdown",
   "metadata": {},
   "source": [
    "# Prediction from densenet embeddings"
   ]
  },
  {
   "cell_type": "markdown",
   "metadata": {},
   "source": [
    "Input: \n",
    "- csv with disease labels + embeddings extracted using the densenet torch x ray vision model  \n",
    "\n",
    "Do:  \n",
    "- train a neural network multiclass classifier to predict the diseases  \n",
    "- assess bias  "
   ]
  },
  {
   "cell_type": "code",
   "execution_count": null,
   "metadata": {},
   "outputs": [],
   "source": [
    "import pandas as pd\n",
    "import numpy as np\n",
    "import ast\n",
    "from sklearn.model_selection import train_test_split\n",
    "from sklearn.multioutput import MultiOutputClassifier\n",
    "from sklearn.ensemble import RandomForestClassifier\n",
    "from sklearn.metrics import accuracy_score, f1_score, recall_score, precision_score, confusion_matrix, roc_auc_score, precision_recall_curve, auc\n",
    "import torch\n",
    "import torch.nn as nn\n",
    "from torch.utils.data import DataLoader, TensorDataset\n",
    "import matplotlib.pyplot as plt\n",
    "from torch.optim.lr_scheduler import ReduceLROnPlateau\n",
    "import torch.optim as optim\n",
    "import wandb\n"
   ]
  },
  {
   "cell_type": "markdown",
   "metadata": {},
   "source": [
    "### Read the CSV"
   ]
  },
  {
   "cell_type": "code",
   "execution_count": 6,
   "metadata": {},
   "outputs": [
    {
     "name": "stdout",
     "output_type": "stream",
     "text": [
      "Index(['path_to_image', 'path_to_dcm', 'age', 'sex', 'race', 'insurance_type',\n",
      "       'No Finding', 'Enlarged Cardiomediastinum', 'Cardiomegaly',\n",
      "       'Lung Opacity', 'Lung Lesion', 'Edema', 'Consolidation', 'Pneumonia',\n",
      "       'Atelectasis', 'Pneumothorax', 'Pleural Effusion', 'Pleural Other',\n",
      "       'Fracture', 'Support Devices', 'embeddings'],\n",
      "      dtype='object')\n"
     ]
    },
    {
     "data": {
      "text/html": [
       "<div>\n",
       "<style scoped>\n",
       "    .dataframe tbody tr th:only-of-type {\n",
       "        vertical-align: middle;\n",
       "    }\n",
       "\n",
       "    .dataframe tbody tr th {\n",
       "        vertical-align: top;\n",
       "    }\n",
       "\n",
       "    .dataframe thead th {\n",
       "        text-align: right;\n",
       "    }\n",
       "</style>\n",
       "<table border=\"1\" class=\"dataframe\">\n",
       "  <thead>\n",
       "    <tr style=\"text-align: right;\">\n",
       "      <th></th>\n",
       "      <th>path_to_image</th>\n",
       "      <th>path_to_dcm</th>\n",
       "      <th>age</th>\n",
       "      <th>sex</th>\n",
       "      <th>race</th>\n",
       "      <th>insurance_type</th>\n",
       "      <th>No Finding</th>\n",
       "      <th>Enlarged Cardiomediastinum</th>\n",
       "      <th>Cardiomegaly</th>\n",
       "      <th>Lung Opacity</th>\n",
       "      <th>...</th>\n",
       "      <th>Edema</th>\n",
       "      <th>Consolidation</th>\n",
       "      <th>Pneumonia</th>\n",
       "      <th>Atelectasis</th>\n",
       "      <th>Pneumothorax</th>\n",
       "      <th>Pleural Effusion</th>\n",
       "      <th>Pleural Other</th>\n",
       "      <th>Fracture</th>\n",
       "      <th>Support Devices</th>\n",
       "      <th>embeddings</th>\n",
       "    </tr>\n",
       "  </thead>\n",
       "  <tbody>\n",
       "    <tr>\n",
       "      <th>0</th>\n",
       "      <td>train/patient47347/study3/view1_frontal.jpg</td>\n",
       "      <td>train/patient47347/study3/view1_frontal.dcm</td>\n",
       "      <td>78.0</td>\n",
       "      <td>1</td>\n",
       "      <td>0</td>\n",
       "      <td>1</td>\n",
       "      <td>0</td>\n",
       "      <td>0</td>\n",
       "      <td>1</td>\n",
       "      <td>0</td>\n",
       "      <td>...</td>\n",
       "      <td>1</td>\n",
       "      <td>0</td>\n",
       "      <td>0</td>\n",
       "      <td>1</td>\n",
       "      <td>0</td>\n",
       "      <td>1</td>\n",
       "      <td>0</td>\n",
       "      <td>1</td>\n",
       "      <td>1</td>\n",
       "      <td>[0.0029132624622434378, 0.1020001769065857, 0....</td>\n",
       "    </tr>\n",
       "    <tr>\n",
       "      <th>1</th>\n",
       "      <td>train/patient37527/study12/view1_frontal.jpg</td>\n",
       "      <td>train/patient37527/study12/view1_frontal.dcm</td>\n",
       "      <td>63.0</td>\n",
       "      <td>0</td>\n",
       "      <td>1</td>\n",
       "      <td>2</td>\n",
       "      <td>0</td>\n",
       "      <td>0</td>\n",
       "      <td>0</td>\n",
       "      <td>0</td>\n",
       "      <td>...</td>\n",
       "      <td>0</td>\n",
       "      <td>0</td>\n",
       "      <td>0</td>\n",
       "      <td>0</td>\n",
       "      <td>0</td>\n",
       "      <td>1</td>\n",
       "      <td>0</td>\n",
       "      <td>0</td>\n",
       "      <td>0</td>\n",
       "      <td>[0.0014348188415169716, 0.0543656125664711, 0....</td>\n",
       "    </tr>\n",
       "    <tr>\n",
       "      <th>2</th>\n",
       "      <td>train/patient41208/study9/view1_frontal.jpg</td>\n",
       "      <td>train/patient41208/study9/view1_frontal.dcm</td>\n",
       "      <td>70.0</td>\n",
       "      <td>0</td>\n",
       "      <td>0</td>\n",
       "      <td>1</td>\n",
       "      <td>0</td>\n",
       "      <td>0</td>\n",
       "      <td>0</td>\n",
       "      <td>1</td>\n",
       "      <td>...</td>\n",
       "      <td>0</td>\n",
       "      <td>0</td>\n",
       "      <td>0</td>\n",
       "      <td>0</td>\n",
       "      <td>0</td>\n",
       "      <td>0</td>\n",
       "      <td>0</td>\n",
       "      <td>0</td>\n",
       "      <td>0</td>\n",
       "      <td>[0.001982336398214102, 0.040021587163209915, 0...</td>\n",
       "    </tr>\n",
       "    <tr>\n",
       "      <th>3</th>\n",
       "      <td>train/patient39357/study1/view1_frontal.jpg</td>\n",
       "      <td>train/patient39357/study1/view1_frontal.dcm</td>\n",
       "      <td>79.0</td>\n",
       "      <td>1</td>\n",
       "      <td>1</td>\n",
       "      <td>1</td>\n",
       "      <td>0</td>\n",
       "      <td>0</td>\n",
       "      <td>0</td>\n",
       "      <td>0</td>\n",
       "      <td>...</td>\n",
       "      <td>0</td>\n",
       "      <td>0</td>\n",
       "      <td>1</td>\n",
       "      <td>0</td>\n",
       "      <td>0</td>\n",
       "      <td>0</td>\n",
       "      <td>0</td>\n",
       "      <td>0</td>\n",
       "      <td>0</td>\n",
       "      <td>[0.001741771469824016, 0.0560498870909214, 0.1...</td>\n",
       "    </tr>\n",
       "    <tr>\n",
       "      <th>4</th>\n",
       "      <td>train/patient31982/study4/view1_frontal.jpg</td>\n",
       "      <td>train/patient31982/study4/view1_frontal.dcm</td>\n",
       "      <td>67.0</td>\n",
       "      <td>0</td>\n",
       "      <td>0</td>\n",
       "      <td>0</td>\n",
       "      <td>0</td>\n",
       "      <td>0</td>\n",
       "      <td>0</td>\n",
       "      <td>0</td>\n",
       "      <td>...</td>\n",
       "      <td>0</td>\n",
       "      <td>1</td>\n",
       "      <td>0</td>\n",
       "      <td>0</td>\n",
       "      <td>0</td>\n",
       "      <td>1</td>\n",
       "      <td>0</td>\n",
       "      <td>0</td>\n",
       "      <td>0</td>\n",
       "      <td>[9.678312198957428e-05, 0.12247737497091293, 0...</td>\n",
       "    </tr>\n",
       "  </tbody>\n",
       "</table>\n",
       "<p>5 rows × 21 columns</p>\n",
       "</div>"
      ],
      "text/plain": [
       "                                  path_to_image  \\\n",
       "0   train/patient47347/study3/view1_frontal.jpg   \n",
       "1  train/patient37527/study12/view1_frontal.jpg   \n",
       "2   train/patient41208/study9/view1_frontal.jpg   \n",
       "3   train/patient39357/study1/view1_frontal.jpg   \n",
       "4   train/patient31982/study4/view1_frontal.jpg   \n",
       "\n",
       "                                    path_to_dcm   age  sex  race  \\\n",
       "0   train/patient47347/study3/view1_frontal.dcm  78.0    1     0   \n",
       "1  train/patient37527/study12/view1_frontal.dcm  63.0    0     1   \n",
       "2   train/patient41208/study9/view1_frontal.dcm  70.0    0     0   \n",
       "3   train/patient39357/study1/view1_frontal.dcm  79.0    1     1   \n",
       "4   train/patient31982/study4/view1_frontal.dcm  67.0    0     0   \n",
       "\n",
       "   insurance_type  No Finding  Enlarged Cardiomediastinum  Cardiomegaly  \\\n",
       "0               1           0                           0             1   \n",
       "1               2           0                           0             0   \n",
       "2               1           0                           0             0   \n",
       "3               1           0                           0             0   \n",
       "4               0           0                           0             0   \n",
       "\n",
       "   Lung Opacity  ...  Edema  Consolidation  Pneumonia  Atelectasis  \\\n",
       "0             0  ...      1              0          0            1   \n",
       "1             0  ...      0              0          0            0   \n",
       "2             1  ...      0              0          0            0   \n",
       "3             0  ...      0              0          1            0   \n",
       "4             0  ...      0              1          0            0   \n",
       "\n",
       "   Pneumothorax  Pleural Effusion  Pleural Other  Fracture  Support Devices  \\\n",
       "0             0                 1              0         1                1   \n",
       "1             0                 1              0         0                0   \n",
       "2             0                 0              0         0                0   \n",
       "3             0                 0              0         0                0   \n",
       "4             0                 1              0         0                0   \n",
       "\n",
       "                                          embeddings  \n",
       "0  [0.0029132624622434378, 0.1020001769065857, 0....  \n",
       "1  [0.0014348188415169716, 0.0543656125664711, 0....  \n",
       "2  [0.001982336398214102, 0.040021587163209915, 0...  \n",
       "3  [0.001741771469824016, 0.0560498870909214, 0.1...  \n",
       "4  [9.678312198957428e-05, 0.12247737497091293, 0...  \n",
       "\n",
       "[5 rows x 21 columns]"
      ]
     },
     "execution_count": 6,
     "metadata": {},
     "output_type": "execute_result"
    }
   ],
   "source": [
    "# test = pd.read_csv(\"../model_dev/densenet_data/densenet_all_test_embeddings.csv\", quotechar='\"', on_bad_lines='skip')\n",
    "# train = pd.read_csv(\"../model_dev/densenet_data/densenet_all_train_embeddings.csv\", quotechar='\"', on_bad_lines='skip')\n",
    "# valid = pd.read_csv(\"../model_dev/densenet_data/densenet_all_valid_embeddings.csv\", quotechar='\"', on_bad_lines='skip')\n",
    "\n",
    "test_initial = pd.read_csv(\"../model_dev/densenet_data/densenet_test_embeddings.csv\", quotechar='\"', on_bad_lines='skip')\n",
    "train_initial = pd.read_csv(\"../model_dev/densenet_data/densenet_train_embeddings.csv\", quotechar='\"', on_bad_lines='skip')\n",
    "valid_initial = pd.read_csv(\"../model_dev/densenet_data/densenet_valid_embeddings.csv\", quotechar='\"', on_bad_lines='skip')\n",
    "\n",
    "print(test_initial.columns)\n",
    "test_initial.head()"
   ]
  },
  {
   "cell_type": "code",
   "execution_count": null,
   "metadata": {},
   "outputs": [],
   "source": []
  },
  {
   "cell_type": "markdown",
   "metadata": {},
   "source": [
    "### Convert embeddings from str to list (a bit long for large data sets)"
   ]
  },
  {
   "cell_type": "code",
   "execution_count": 7,
   "metadata": {},
   "outputs": [],
   "source": [
    "test_initial['embeddings'] = test_initial['embeddings'].apply(ast.literal_eval)"
   ]
  },
  {
   "cell_type": "code",
   "execution_count": 8,
   "metadata": {},
   "outputs": [],
   "source": [
    "valid_initial['embeddings'] = valid_initial['embeddings'].apply(ast.literal_eval)"
   ]
  },
  {
   "cell_type": "code",
   "execution_count": 9,
   "metadata": {},
   "outputs": [],
   "source": [
    "train_initial['embeddings'] = train_initial['embeddings'].apply(ast.literal_eval)"
   ]
  },
  {
   "cell_type": "markdown",
   "metadata": {},
   "source": [
    "### Remove columns"
   ]
  },
  {
   "cell_type": "code",
   "execution_count": 10,
   "metadata": {},
   "outputs": [],
   "source": [
    "test = test_initial.drop(columns=['path_to_image', 'path_to_dcm'])\n",
    "train = train_initial.drop(columns=['path_to_image', 'path_to_dcm'])\n",
    "valid = valid_initial.drop(columns=['path_to_image', 'path_to_dcm'])\n"
   ]
  },
  {
   "cell_type": "markdown",
   "metadata": {},
   "source": [
    "### Remove rows that were not processed (embeddings = 0)"
   ]
  },
  {
   "cell_type": "code",
   "execution_count": 11,
   "metadata": {},
   "outputs": [
    {
     "name": "stdout",
     "output_type": "stream",
     "text": [
      "Number of test removed rows = 51\n",
      "Number of train removed rows = 67\n",
      "Number of valid removed rows = 0\n"
     ]
    }
   ],
   "source": [
    "initial_size = test.shape[0] \n",
    "test = test[test['embeddings'].str.len() > 10]\n",
    "final_size = test.shape[0] \n",
    "print(f'Number of test removed rows = {initial_size - final_size}')\n",
    "\n",
    "initial_size = train.shape[0] \n",
    "train = train[train['embeddings'].str.len() > 10]\n",
    "final_size = train.shape[0] \n",
    "print(f'Number of train removed rows = {initial_size - final_size}')\n",
    "\n",
    "initial_size = test.shape[0] \n",
    "valid = valid[valid['embeddings'].str.len() > 10]\n",
    "final_size = test.shape[0] \n",
    "print(f'Number of valid removed rows = {initial_size - final_size}')"
   ]
  },
  {
   "cell_type": "markdown",
   "metadata": {},
   "source": [
    "### Create artificial training distribution"
   ]
  },
  {
   "cell_type": "code",
   "execution_count": 12,
   "metadata": {},
   "outputs": [
    {
     "name": "stdout",
     "output_type": "stream",
     "text": [
      "Initial sex Distribution:\n",
      "sex\n",
      "0    38998\n",
      "1    28198\n",
      "Name: count, dtype: int64\n",
      "\n",
      "Initial Race Distribution:\n",
      "race\n",
      "0    52553\n",
      "1     9844\n",
      "2     4799\n",
      "Name: count, dtype: int64\n"
     ]
    }
   ],
   "source": [
    "print(\"Initial sex Distribution:\")\n",
    "print(train['sex'].value_counts())\n",
    "\n",
    "print(\"\\nInitial Race Distribution:\")\n",
    "print(train['race'].value_counts())"
   ]
  },
  {
   "cell_type": "code",
   "execution_count": 13,
   "metadata": {},
   "outputs": [
    {
     "name": "stdout",
     "output_type": "stream",
     "text": [
      "\n",
      "Final sex Distribution:\n",
      "sex\n",
      "0    38998\n",
      "1    28198\n",
      "Name: count, dtype: int64\n",
      "\n",
      "Final Race Distribution:\n",
      "race\n",
      "0    52553\n",
      "1     9844\n",
      "2     4799\n",
      "Name: count, dtype: int64\n"
     ]
    }
   ],
   "source": [
    "nb_of_rows_to_remove = 0\n",
    "cath_to_remove = 'sex' # sex or race\n",
    "which_cath = 1 # 0 or 1 or 2\n",
    "\n",
    "filtered_df = train[train[cath_to_remove] == which_cath]\n",
    "\n",
    "rows_to_drop = filtered_df.sample(n=nb_of_rows_to_remove, random_state=42) \n",
    "\n",
    "train = train.drop(rows_to_drop.index)\n",
    "\n",
    "print(\"\\nFinal sex Distribution:\")\n",
    "print(train['sex'].value_counts())\n",
    "\n",
    "print(\"\\nFinal Race Distribution:\")\n",
    "print(train['race'].value_counts())"
   ]
  },
  {
   "cell_type": "markdown",
   "metadata": {},
   "source": [
    "### Visualize distribution of diseases"
   ]
  },
  {
   "cell_type": "code",
   "execution_count": 14,
   "metadata": {},
   "outputs": [
    {
     "name": "stdout",
     "output_type": "stream",
     "text": [
      "Distribution of Enlarged Cardiomediastinum in train set: - 0s: 63738, 1s: 3458\n",
      "Distribution of Cardiomegaly in train set: - 0s: 58986, 1s: 8210\n",
      "Distribution of Lung Opacity in train set: - 0s: 33926, 1s: 33270\n",
      "Distribution of Lung Lesion in train set: - 0s: 64703, 1s: 2493\n",
      "Distribution of Edema in train set: - 0s: 51202, 1s: 15994\n",
      "Distribution of Consolidation in train set: - 0s: 62851, 1s: 4345\n",
      "Distribution of Pneumonia in train set: - 0s: 65571, 1s: 1625\n",
      "Distribution of Atelectasis in train set: - 0s: 57067, 1s: 10129\n",
      "Distribution of Pneumothorax in train set: - 0s: 60688, 1s: 6508\n",
      "Distribution of Pleural Effusion in train set: - 0s: 40484, 1s: 26712\n",
      "Distribution of Pleural Other in train set: - 0s: 66251, 1s: 945\n",
      "Distribution of Fracture in train set: - 0s: 64485, 1s: 2711\n",
      "Distribution of No Finding in train set: - 0s: 61107, 1s: 6089\n",
      "\n",
      "Distribution of Enlarged Cardiomediastinum in test set:- 0s: 38350, 1s: 1957\n",
      "Distribution of Cardiomegaly in test set:- 0s: 35347, 1s: 4960\n",
      "Distribution of Lung Opacity in test set:- 0s: 20463, 1s: 19844\n",
      "Distribution of Lung Lesion in test set:- 0s: 38810, 1s: 1497\n",
      "Distribution of Edema in test set:- 0s: 30622, 1s: 9685\n",
      "Distribution of Consolidation in test set:- 0s: 37814, 1s: 2493\n",
      "Distribution of Pneumonia in test set:- 0s: 39325, 1s: 982\n",
      "Distribution of Atelectasis in test set:- 0s: 34107, 1s: 6200\n",
      "Distribution of Pneumothorax in test set:- 0s: 36201, 1s: 4106\n",
      "Distribution of Pleural Effusion in test set:- 0s: 24418, 1s: 15889\n",
      "Distribution of Pleural Other in test set:- 0s: 39739, 1s: 568\n",
      "Distribution of Fracture in test set:- 0s: 38699, 1s: 1608\n",
      "Distribution of No Finding in test set:- 0s: 36645, 1s: 3662\n"
     ]
    }
   ],
   "source": [
    "col = ['Enlarged Cardiomediastinum', 'Cardiomegaly', 'Lung Opacity', 'Lung Lesion', 'Edema', 'Consolidation', 'Pneumonia',\n",
    "            'Atelectasis', 'Pneumothorax', 'Pleural Effusion', 'Pleural Other', 'Fracture', 'No Finding']\n",
    "\n",
    "print(f\"Distribution in train set\")\n",
    "for disease in col:\n",
    "    counts = train[disease].value_counts()\n",
    "    print(f\"{disease}: - 0s: {counts.get(0, 0)}, 1s: {counts.get(1, 0)}\")\n",
    "print(f\"Distribution in test set\")\n",
    "for disease in col:\n",
    "    counts = test[disease].value_counts()\n",
    "    print(f\"{disease}:- 0s: {counts.get(0, 0)}, 1s: {counts.get(1, 0)}\")\n"
   ]
  },
  {
   "cell_type": "markdown",
   "metadata": {},
   "source": [
    "### Train evaluate test"
   ]
  },
  {
   "cell_type": "code",
   "execution_count": 15,
   "metadata": {},
   "outputs": [
    {
     "name": "stderr",
     "output_type": "stream",
     "text": [
      "\u001b[34m\u001b[1mwandb\u001b[0m: Using wandb-core as the SDK backend. Please refer to https://wandb.me/wandb-core for more information.\n",
      "\u001b[34m\u001b[1mwandb\u001b[0m: Currently logged in as: \u001b[33mcmottez\u001b[0m (\u001b[33mcmottez-stanford-university\u001b[0m). Use \u001b[1m`wandb login --relogin`\u001b[0m to force relogin\n"
     ]
    },
    {
     "data": {
      "text/plain": [
       "True"
      ]
     },
     "execution_count": 15,
     "metadata": {},
     "output_type": "execute_result"
    }
   ],
   "source": [
    "wandb.login()"
   ]
  },
  {
   "cell_type": "code",
   "execution_count": 16,
   "metadata": {},
   "outputs": [
    {
     "data": {
      "text/html": [
       "Tracking run with wandb version 0.18.5"
      ],
      "text/plain": [
       "<IPython.core.display.HTML object>"
      ]
     },
     "metadata": {},
     "output_type": "display_data"
    },
    {
     "data": {
      "text/html": [
       "Run data is saved locally in <code>/home/cmottez/Mitigating-bias-in-DL-models/model_embeddings/wandb/run-20241029_135644-puk569zv</code>"
      ],
      "text/plain": [
       "<IPython.core.display.HTML object>"
      ]
     },
     "metadata": {},
     "output_type": "display_data"
    },
    {
     "data": {
      "text/html": [
       "Syncing run <strong><a href='https://wandb.ai/cmottez-stanford-university/test_bias/runs/puk569zv' target=\"_blank\">brisk-spaceship-2</a></strong> to <a href='https://wandb.ai/cmottez-stanford-university/test_bias' target=\"_blank\">Weights & Biases</a> (<a href='https://wandb.me/run' target=\"_blank\">docs</a>)<br/>"
      ],
      "text/plain": [
       "<IPython.core.display.HTML object>"
      ]
     },
     "metadata": {},
     "output_type": "display_data"
    },
    {
     "data": {
      "text/html": [
       " View project at <a href='https://wandb.ai/cmottez-stanford-university/test_bias' target=\"_blank\">https://wandb.ai/cmottez-stanford-university/test_bias</a>"
      ],
      "text/plain": [
       "<IPython.core.display.HTML object>"
      ]
     },
     "metadata": {},
     "output_type": "display_data"
    },
    {
     "data": {
      "text/html": [
       " View run at <a href='https://wandb.ai/cmottez-stanford-university/test_bias/runs/puk569zv' target=\"_blank\">https://wandb.ai/cmottez-stanford-university/test_bias/runs/puk569zv</a>"
      ],
      "text/plain": [
       "<IPython.core.display.HTML object>"
      ]
     },
     "metadata": {},
     "output_type": "display_data"
    },
    {
     "data": {
      "text/html": [
       "<button onClick=\"this.nextSibling.style.display='block';this.style.display='none';\">Display W&B run</button><iframe src='https://wandb.ai/cmottez-stanford-university/test_bias/runs/puk569zv?jupyter=true' style='border:none;width:100%;height:420px;display:none;'></iframe>"
      ],
      "text/plain": [
       "<wandb.sdk.wandb_run.Run at 0x7fe44b52a580>"
      ]
     },
     "execution_count": 16,
     "metadata": {},
     "output_type": "execute_result"
    }
   ],
   "source": [
    "# Initialize a new run\n",
    "wandb.init(project='test_bias', entity='cmottez-stanford-university')"
   ]
  },
  {
   "cell_type": "code",
   "execution_count": 36,
   "metadata": {},
   "outputs": [],
   "source": [
    "train_embeddings = pd.DataFrame(train['embeddings'].tolist())\n",
    "test_embeddings = pd.DataFrame(test['embeddings'].tolist())\n",
    "valid_embeddings = pd.DataFrame(valid['embeddings'].tolist())\n",
    "\n",
    "# Diseases to predict\n",
    "# diseases = ['Enlarged Cardiomediastinum', 'Cardiomegaly', 'Lung Opacity', 'Lung Lesion', 'Edema', 'Consolidation', 'Pneumonia',\n",
    "#             'Atelectasis', 'Pneumothorax', 'Pleural Effusion', 'Pleural Other', 'Fracture']\n",
    "diseases = ['Cardiomegaly', 'Lung Opacity', 'Edema', 'Atelectasis', 'Pneumothorax', 'Pleural Effusion']\n",
    "\n",
    "# Labels for train and test\n",
    "y_train = train[diseases]\n",
    "y_test = test[diseases]\n",
    "y_valid = valid[diseases]\n",
    "y_no_finding = test[\"No Finding\"]\n",
    "y_sex = test['sex']\n",
    "y_race = test['race']"
   ]
  },
  {
   "cell_type": "code",
   "execution_count": 37,
   "metadata": {},
   "outputs": [],
   "source": [
    "learning_rate = 0.001\n",
    "weight_decay = 1e-7\n",
    "dropout = 0.2\n",
    "batch_size = 64"
   ]
  },
  {
   "cell_type": "code",
   "execution_count": 38,
   "metadata": {},
   "outputs": [],
   "source": [
    "# Check if GPU is available and set the device\n",
    "device = torch.device('cuda' if torch.cuda.is_available() else 'cpu')\n",
    "\n",
    "# Prepare data - Convert dataframes to tensors and create dataloaders\n",
    "X_train = torch.tensor(train_embeddings.values).float().to(device)\n",
    "y_train = torch.tensor(y_train.values).float().to(device)\n",
    "X_test = torch.tensor(test_embeddings.values).float().to(device)\n",
    "y_test = torch.tensor(y_test.values).float().to(device)\n",
    "X_valid = torch.tensor(valid_embeddings.values).float().to(device)\n",
    "y_valid = torch.tensor(y_valid.values).float().to(device)\n",
    "\n",
    "train_data = TensorDataset(X_train, y_train)\n",
    "test_data = TensorDataset(X_test, y_test)\n",
    "valid_data = TensorDataset(X_valid, y_valid)\n",
    "\n",
    "train_loader = DataLoader(train_data, batch_size=batch_size, shuffle=True)\n",
    "test_loader = DataLoader(test_data, batch_size=batch_size, shuffle=False)\n",
    "valid_loader = DataLoader(valid_data, batch_size=batch_size, shuffle=False)\n",
    "\n"
   ]
  },
  {
   "cell_type": "code",
   "execution_count": 39,
   "metadata": {},
   "outputs": [],
   "source": [
    "# Define the neural network\n",
    "class MultiLabelNN(nn.Module):\n",
    "    def __init__(self, input_size, output_size, dropout):\n",
    "        super(MultiLabelNN, self).__init__()\n",
    "        self.fc1 = nn.Linear(input_size, 256)\n",
    "        self.bn1 = nn.BatchNorm1d(256)\n",
    "        self.fc2 = nn.Linear(256, 128)\n",
    "        self.bn2 = nn.BatchNorm1d(128)\n",
    "        self.fc3 = nn.Linear(128, output_size)  # Output layer size = number of diseases\n",
    "        self.relu = nn.ReLU()\n",
    "        self.dropout = nn.Dropout(dropout) \n",
    "\n",
    "    def forward(self, x):\n",
    "        x = self.fc1(x)\n",
    "        x = self.bn1(x)\n",
    "        x = self.relu(x)\n",
    "        x = self.dropout(x)\n",
    "        x = self.fc2(x)\n",
    "        x = self.bn2(x)\n",
    "        x = self.relu(x)\n",
    "        x = self.dropout(x)\n",
    "        x = self.fc3(x)\n",
    "        return x\n"
   ]
  },
  {
   "cell_type": "code",
   "execution_count": 40,
   "metadata": {},
   "outputs": [],
   "source": [
    "model = MultiLabelNN(1024, len(diseases), dropout).to(device)\n",
    "criterion = nn.BCEWithLogitsLoss()\n",
    "optimizer = optim.Adam(model.parameters(), lr=learning_rate, weight_decay=weight_decay)"
   ]
  },
  {
   "cell_type": "code",
   "execution_count": 41,
   "metadata": {},
   "outputs": [],
   "source": [
    "# Training the model with loss reporting and improved visualization\n",
    "def train_model(train_loader, validation_loader, model, criterion, optimizer, num_epochs):\n",
    "    model.train()\n",
    "    training_stats = {'train_loss': [], 'val_loss': []}\n",
    "\n",
    "    for epoch in range(num_epochs):\n",
    "        model.train()\n",
    "        total_loss, total_val_loss = 0, 0\n",
    "\n",
    "        for data, target in train_loader:\n",
    "            data, target = data.to(device), target.to(device)\n",
    "            optimizer.zero_grad()\n",
    "            output = model(data)\n",
    "            loss = criterion(output, target)\n",
    "            loss.backward()\n",
    "            optimizer.step()\n",
    "            total_loss += loss.item()\n",
    "\n",
    "        training_stats['train_loss'].append(total_loss / len(train_loader))\n",
    "\n",
    "        # Validation loss calculation\n",
    "        model.eval()\n",
    "        with torch.no_grad():\n",
    "            for data, target in validation_loader:\n",
    "                data, target = data.to(device), target.to(device)\n",
    "                output = model(data)\n",
    "                val_loss = criterion(output, target)\n",
    "                total_val_loss += val_loss.item()\n",
    "\n",
    "        training_stats['val_loss'].append(total_val_loss / len(validation_loader))\n",
    "        print(f'Epoch {epoch+1}/{num_epochs}, Training Loss: {training_stats[\"train_loss\"][-1]:.4f}, Validation Loss: {training_stats[\"val_loss\"][-1]:.4f}')\n",
    "\n",
    "        wandb.log({\n",
    "        'epoch': epoch,\n",
    "        'training_loss': loss,\n",
    "        'validation_loss': val_loss,\n",
    "    })\n",
    "\n",
    "    return training_stats\n"
   ]
  },
  {
   "cell_type": "code",
   "execution_count": 42,
   "metadata": {},
   "outputs": [
    {
     "name": "stdout",
     "output_type": "stream",
     "text": [
      "Epoch 1/10, Training Loss: 0.4451, Validation Loss: 0.4323\n",
      "Epoch 2/10, Training Loss: 0.4344, Validation Loss: 0.4314\n",
      "Epoch 3/10, Training Loss: 0.4320, Validation Loss: 0.4292\n",
      "Epoch 4/10, Training Loss: 0.4306, Validation Loss: 0.4284\n",
      "Epoch 5/10, Training Loss: 0.4292, Validation Loss: 0.4283\n",
      "Epoch 6/10, Training Loss: 0.4275, Validation Loss: 0.4273\n",
      "Epoch 7/10, Training Loss: 0.4265, Validation Loss: 0.4263\n",
      "Epoch 8/10, Training Loss: 0.4252, Validation Loss: 0.4260\n",
      "Epoch 9/10, Training Loss: 0.4242, Validation Loss: 0.4251\n",
      "Epoch 10/10, Training Loss: 0.4234, Validation Loss: 0.4262\n"
     ]
    },
    {
     "data": {
      "image/png": "[encoded data removed]",
      "text/plain": [
       "<Figure size 1000x500 with 1 Axes>"
      ]
     },
     "metadata": {},
     "output_type": "display_data"
    }
   ],
   "source": [
    "# Run training\n",
    "nb_epoch = 10\n",
    "stats = train_model(train_loader, valid_loader, model, criterion, optimizer, nb_epoch)\n",
    "\n",
    "# Plotting the training and validation loss per epoch\n",
    "plt.figure(figsize=(10, 5))\n",
    "plt.plot(stats['train_loss'], marker='o', linestyle='-', color='blue', label='Training Loss')\n",
    "plt.plot(stats['val_loss'], marker='o', linestyle='-', color='red', label='Validation Loss')\n",
    "plt.title('Loss per Epoch')\n",
    "plt.xlabel('Epoch')\n",
    "plt.ylabel('Loss')\n",
    "plt.grid(True)\n",
    "plt.legend()\n",
    "plt.show()"
   ]
  },
  {
   "cell_type": "code",
   "execution_count": null,
   "metadata": {},
   "outputs": [],
   "source": []
  },
  {
   "cell_type": "code",
   "execution_count": 43,
   "metadata": {},
   "outputs": [],
   "source": [
    "# Function to evaluate the model\n",
    "def evaluate_model(loader):\n",
    "    model.eval()\n",
    "    all_preds = []\n",
    "    all_targets = []\n",
    "    with torch.no_grad():\n",
    "        for data, target in loader:\n",
    "            output = model(data)\n",
    "            predicted = torch.sigmoid(output).cpu().numpy()\n",
    "            all_preds.append(predicted)\n",
    "            all_targets.append(target.cpu().numpy())\n",
    "\n",
    "    all_preds = np.vstack(all_preds)\n",
    "    all_targets = np.vstack(all_targets)\n",
    "    return all_preds, all_targets"
   ]
  },
  {
   "cell_type": "code",
   "execution_count": 44,
   "metadata": {},
   "outputs": [],
   "source": [
    "# Evaluate on test data\n",
    "predictions, targets = evaluate_model(test_loader)\n",
    "\n",
    "# Create the no finding column\n",
    "updated_predictions = []\n",
    "\n",
    "for row in predictions:\n",
    "    # Check if all elements in the row are less than or equal to 0.5\n",
    "    if np.all(row <= 0.5):\n",
    "        new_row = np.append(row, 1)\n",
    "    else:\n",
    "        new_row = np.append(row, 0)\n",
    "    updated_predictions.append(new_row)\n",
    "\n",
    "predictions = np.array(updated_predictions)\n",
    "\n",
    "updated_targets = []\n",
    "for target, no_finding_target in zip(targets, y_no_finding):\n",
    "    new_target = np.append(target, no_finding_target)\n",
    "    updated_targets.append(new_target)\n",
    "\n",
    "targets = np.array(updated_targets)\n",
    "\n"
   ]
  },
  {
   "cell_type": "code",
   "execution_count": 45,
   "metadata": {},
   "outputs": [],
   "source": [
    "# diseases = ['Enlarged Cardiomediastinum', 'Cardiomegaly', 'Lung Opacity', 'Lung Lesion', 'Edema', 'Consolidation', 'Pneumonia',\n",
    "#             'Atelectasis', 'Pneumothorax', 'Pleural Effusion', 'Pleural Other', 'Fracture', 'No finding']\n",
    "diseases = ['Cardiomegaly', 'Lung Opacity', 'Edema', 'Atelectasis', 'Pneumothorax', 'Pleural Effusion']"
   ]
  },
  {
   "cell_type": "code",
   "execution_count": 46,
   "metadata": {},
   "outputs": [
    {
     "ename": "TypeError",
     "evalue": "'dict' object is not callable",
     "output_type": "error",
     "traceback": [
      "\u001b[0;31m---------------------------------------------------------------------------\u001b[0m",
      "\u001b[0;31mTypeError\u001b[0m                                 Traceback (most recent call last)",
      "Cell \u001b[0;32mIn[46], line 32\u001b[0m\n\u001b[1;32m     20\u001b[0m         metrics[disease] \u001b[38;5;241m=\u001b[39m {\n\u001b[1;32m     21\u001b[0m             \u001b[38;5;124m'\u001b[39m\u001b[38;5;124mAccuracy\u001b[39m\u001b[38;5;124m'\u001b[39m: accuracy,\n\u001b[1;32m     22\u001b[0m             \u001b[38;5;124m'\u001b[39m\u001b[38;5;124mAUC\u001b[39m\u001b[38;5;124m'\u001b[39m: auc_roc,\n\u001b[0;32m   (...)\u001b[0m\n\u001b[1;32m     28\u001b[0m             \u001b[38;5;124m'\u001b[39m\u001b[38;5;124mFP Rate\u001b[39m\u001b[38;5;124m'\u001b[39m: fp_rate\n\u001b[1;32m     29\u001b[0m         }\n\u001b[1;32m     30\u001b[0m     \u001b[38;5;28;01mreturn\u001b[39;00m metrics\n\u001b[0;32m---> 32\u001b[0m metrics \u001b[38;5;241m=\u001b[39m \u001b[43mcompute_metrics\u001b[49m\u001b[43m(\u001b[49m\u001b[43m)\u001b[49m\n\u001b[1;32m     33\u001b[0m \u001b[38;5;28mprint\u001b[39m(metrics)\n",
      "Cell \u001b[0;32mIn[46], line 18\u001b[0m, in \u001b[0;36mcompute_metrics\u001b[0;34m()\u001b[0m\n\u001b[1;32m     16\u001b[0m     \u001b[38;5;66;03m# Calculate Precision-Recall AUC\u001b[39;00m\n\u001b[1;32m     17\u001b[0m     precision, recall, _ \u001b[38;5;241m=\u001b[39m precision_recall_curve(disease_true, disease_pred)\n\u001b[0;32m---> 18\u001b[0m     auprc \u001b[38;5;241m=\u001b[39m \u001b[43mauc\u001b[49m\u001b[43m(\u001b[49m\u001b[43mrecall\u001b[49m\u001b[43m,\u001b[49m\u001b[43m \u001b[49m\u001b[43mprecision\u001b[49m\u001b[43m)\u001b[49m\n\u001b[1;32m     20\u001b[0m     metrics[disease] \u001b[38;5;241m=\u001b[39m {\n\u001b[1;32m     21\u001b[0m         \u001b[38;5;124m'\u001b[39m\u001b[38;5;124mAccuracy\u001b[39m\u001b[38;5;124m'\u001b[39m: accuracy,\n\u001b[1;32m     22\u001b[0m         \u001b[38;5;124m'\u001b[39m\u001b[38;5;124mAUC\u001b[39m\u001b[38;5;124m'\u001b[39m: auc_roc,\n\u001b[0;32m   (...)\u001b[0m\n\u001b[1;32m     28\u001b[0m         \u001b[38;5;124m'\u001b[39m\u001b[38;5;124mFP Rate\u001b[39m\u001b[38;5;124m'\u001b[39m: fp_rate\n\u001b[1;32m     29\u001b[0m     }\n\u001b[1;32m     30\u001b[0m \u001b[38;5;28;01mreturn\u001b[39;00m metrics\n",
      "\u001b[0;31mTypeError\u001b[0m: 'dict' object is not callable"
     ]
    }
   ],
   "source": [
    "def compute_metrics():\n",
    "    # Calculate metrics for each disease\n",
    "    metrics = {}\n",
    "    for idx, disease in enumerate(diseases):\n",
    "        disease_pred = predictions[:, idx]\n",
    "        disease_true = targets[:, idx]\n",
    "        auc_roc = roc_auc_score(disease_true, disease_pred)\n",
    "        f1 = f1_score(disease_true, (disease_pred > 0.5).astype(int))\n",
    "        accuracy = accuracy_score(disease_true, (disease_pred > 0.5).astype(int))\n",
    "        tn, fp, fn, tp = confusion_matrix(disease_true, (disease_pred > 0.5).astype(int)).ravel()\n",
    "        tp_rate = tp / (tp + fn) if (tp + fn) > 0 else 0\n",
    "        tn_rate = tn / (tn + fp) if (tn + fp) > 0 else 0\n",
    "        fn_rate = fn / (fn + tp) if (fn + tp) > 0 else 0\n",
    "        fp_rate = fp / (tn + fp) if (tn + fp) > 0 else 0\n",
    "        \n",
    "        # Calculate Precision-Recall AUC\n",
    "        precision, recall, _ = precision_recall_curve(disease_true, disease_pred)\n",
    "        auprc = auc(recall, precision)\n",
    "\n",
    "        metrics[disease] = {\n",
    "            'Accuracy': accuracy,\n",
    "            'AUC': auc_roc,\n",
    "            'AUPRC': auprc,\n",
    "            'F1 Score': f1,\n",
    "            'TP Rate': tp_rate,\n",
    "            'FN Rate': fn_rate,\n",
    "            'TN Rate': tn_rate,\n",
    "            'FP Rate': fp_rate\n",
    "        }\n",
    "    return metrics\n",
    "\n",
    "metrics = compute_metrics()\n",
    "print(metrics)"
   ]
  },
  {
   "cell_type": "code",
   "execution_count": 35,
   "metadata": {},
   "outputs": [
    {
     "data": {
      "text/plain": [
       "{'Cardiomegaly': 0.41807690168125905,\n",
       " 'Lung Opacity': 0.6476209396184301,\n",
       " 'Edema': 0.5059838700351449,\n",
       " 'Atelectasis': 0.21841231789386567,\n",
       " 'Pneumothorax': 0.2917853073356055,\n",
       " 'Pleural Effusion': 0.714921194066366}"
      ]
     },
     "execution_count": 35,
     "metadata": {},
     "output_type": "execute_result"
    }
   ],
   "source": [
    "auc = {}\n",
    "\n",
    "for disease, values in metrics.items():\n",
    "    for metric, value in values.items():\n",
    "        if metric == 'AUC':\n",
    "            auc[disease] = value\n",
    "\n",
    "auc"
   ]
  },
  {
   "cell_type": "markdown",
   "metadata": {},
   "source": [
    "### Parameters finetuning"
   ]
  },
  {
   "cell_type": "code",
   "execution_count": 29,
   "metadata": {},
   "outputs": [],
   "source": [
    "learning_rates = [0.0001, 0.001, 0.01, 0.1]\n",
    "weight_decays = [0, 1e-8, 1e-5, 1e-3, 1e-1]\n",
    "dropouts = [0, 0.2, 0.5, 0.8]\n",
    "batch_sizes = [32, 64, 128, 256]\n",
    "\n",
    "learning_rates = [0.001]\n",
    "weight_decays = [0, 1e-5]\n",
    "dropouts = [0.2, 0.5, 0.8]\n",
    "batch_sizes = [32, 128, 256]"
   ]
  },
  {
   "cell_type": "code",
   "execution_count": 30,
   "metadata": {},
   "outputs": [],
   "source": [
    "\n",
    "def try_parameters(learning_rate, weight_decay, dropout, batch_size, nb_epoch): \n",
    "\n",
    "    diseases = ['Cardiomegaly', 'Lung Opacity', 'Edema', 'Atelectasis', 'Pneumothorax', 'Pleural Effusion']\n",
    "\n",
    "\n",
    "    train_loader = DataLoader(train_data, batch_size=batch_size, shuffle=True)\n",
    "    test_loader = DataLoader(test_data, batch_size=batch_size, shuffle=False)\n",
    "    valid_loader = DataLoader(valid_data, batch_size=batch_size, shuffle=False)\n",
    "\n",
    "    model = MultiLabelNN(1024, len(diseases), dropout).to(device)\n",
    "    criterion = nn.BCEWithLogitsLoss()\n",
    "    optimizer = optim.Adam(model.parameters(), lr=learning_rate, weight_decay=weight_decay)\n",
    "\n",
    "    stats = train_model(train_loader, valid_loader, model, criterion, optimizer, nb_epoch)\n",
    "\n",
    "    # Evaluate on test data\n",
    "    predictions, targets = evaluate_model(test_loader)\n",
    "\n",
    "    # Create the no finding column\n",
    "    updated_predictions = []\n",
    "\n",
    "    for row in predictions:\n",
    "        # Check if all elements in the row are less than or equal to 0.5\n",
    "        if np.all(row <= 0.5):\n",
    "            new_row = np.append(row, 1)\n",
    "        else:\n",
    "            new_row = np.append(row, 0)\n",
    "        updated_predictions.append(new_row)\n",
    "\n",
    "    predictions = np.array(updated_predictions)\n",
    "\n",
    "    updated_targets = []\n",
    "    for target, no_finding_target in zip(targets, y_no_finding):\n",
    "        new_target = np.append(target, no_finding_target)\n",
    "        updated_targets.append(new_target)\n",
    "\n",
    "    targets = np.array(updated_targets)\n",
    "\n",
    "    metrics = compute_metrics()\n",
    "\n",
    "    auc = {}\n",
    "\n",
    "    for disease, values in metrics.items():\n",
    "        for metric, value in values.items():\n",
    "            if metric == 'AUC':\n",
    "                auc[disease] = value\n",
    "\n",
    "    return stats, auc\n",
    "\n",
    "\n",
    "def plot_loss(stats):\n",
    "    plt.figure(figsize=(5, 3))\n",
    "    plt.plot(stats['train_loss'], marker='o', linestyle='-', color='blue', label='Training Loss')\n",
    "    plt.plot(stats['val_loss'], marker='o', linestyle='-', color='red', label='Validation Loss')\n",
    "    plt.title('Loss per Epoch')\n",
    "    plt.xlabel('Epoch')\n",
    "    plt.ylabel('Loss')\n",
    "    plt.grid(True)\n",
    "    plt.legend()\n",
    "    plt.show()"
   ]
  },
  {
   "cell_type": "code",
   "execution_count": 31,
   "metadata": {},
   "outputs": [],
   "source": [
    "best_param = {'learning_rate': 0,\n",
    "              'weight_decay': 0,\n",
    "              'dropout': 0,\n",
    "              'batch_size': 0}\n",
    "previous_auc = 0"
   ]
  },
  {
   "cell_type": "code",
   "execution_count": 32,
   "metadata": {},
   "outputs": [
    {
     "name": "stdout",
     "output_type": "stream",
     "text": [
      "Results for learning_rate = 0.001\n",
      "Results for weight_decay = 0\n",
      "Results for dropout = 0.2\n",
      "Results for batch_size = 32\n",
      "Epoch 1/5, Training Loss: 0.4443, Validation Loss: 0.4353\n",
      "Epoch 2/5, Training Loss: 0.4371, Validation Loss: 0.4324\n",
      "Epoch 3/5, Training Loss: 0.4345, Validation Loss: 0.4313\n",
      "Epoch 4/5, Training Loss: 0.4323, Validation Loss: 0.4315\n",
      "Epoch 5/5, Training Loss: 0.4311, Validation Loss: 0.4282\n"
     ]
    },
    {
     "ename": "TypeError",
     "evalue": "compute_metrics() missing 3 required positional arguments: 'predictions', 'targets', and 'diseases'",
     "output_type": "error",
     "traceback": [
      "\u001b[0;31m---------------------------------------------------------------------------\u001b[0m",
      "\u001b[0;31mTypeError\u001b[0m                                 Traceback (most recent call last)",
      "Cell \u001b[0;32mIn[32], line 9\u001b[0m\n\u001b[1;32m      7\u001b[0m \u001b[38;5;28;01mfor\u001b[39;00m batch_size \u001b[38;5;129;01min\u001b[39;00m batch_sizes:\n\u001b[1;32m      8\u001b[0m     \u001b[38;5;28mprint\u001b[39m(\u001b[38;5;124mf\u001b[39m\u001b[38;5;124m\"\u001b[39m\u001b[38;5;124mResults for batch_size = \u001b[39m\u001b[38;5;132;01m{\u001b[39;00mbatch_size\u001b[38;5;132;01m}\u001b[39;00m\u001b[38;5;124m\"\u001b[39m)\n\u001b[0;32m----> 9\u001b[0m     stats, auc \u001b[38;5;241m=\u001b[39m \u001b[43mtry_parameters\u001b[49m\u001b[43m(\u001b[49m\u001b[43mlearning_rate\u001b[49m\u001b[43m,\u001b[49m\u001b[43m \u001b[49m\u001b[43mweight_decay\u001b[49m\u001b[43m,\u001b[49m\u001b[43m \u001b[49m\u001b[43mdropout\u001b[49m\u001b[43m,\u001b[49m\u001b[43m \u001b[49m\u001b[43mbatch_size\u001b[49m\u001b[43m,\u001b[49m\u001b[43m \u001b[49m\u001b[38;5;241;43m5\u001b[39;49m\u001b[43m)\u001b[49m\n\u001b[1;32m     10\u001b[0m     \u001b[38;5;28mprint\u001b[39m(\u001b[38;5;124mf\u001b[39m\u001b[38;5;124m\"\u001b[39m\u001b[38;5;124mAUC \u001b[39m\u001b[38;5;132;01m{\u001b[39;00mauc\u001b[38;5;132;01m}\u001b[39;00m\u001b[38;5;124m\"\u001b[39m)\n\u001b[1;32m     11\u001b[0m     mean_auc \u001b[38;5;241m=\u001b[39m \u001b[38;5;28msum\u001b[39m(auc\u001b[38;5;241m.\u001b[39mvalues()) \u001b[38;5;241m/\u001b[39m \u001b[38;5;28mlen\u001b[39m(auc)\n",
      "Cell \u001b[0;32mIn[30], line 39\u001b[0m, in \u001b[0;36mtry_parameters\u001b[0;34m(learning_rate, weight_decay, dropout, batch_size, nb_epoch)\u001b[0m\n\u001b[1;32m     35\u001b[0m     updated_targets\u001b[38;5;241m.\u001b[39mappend(new_target)\n\u001b[1;32m     37\u001b[0m targets \u001b[38;5;241m=\u001b[39m np\u001b[38;5;241m.\u001b[39marray(updated_targets)\n\u001b[0;32m---> 39\u001b[0m metrics \u001b[38;5;241m=\u001b[39m \u001b[43mcompute_metrics\u001b[49m\u001b[43m(\u001b[49m\u001b[43m)\u001b[49m\n\u001b[1;32m     41\u001b[0m auc \u001b[38;5;241m=\u001b[39m {}\n\u001b[1;32m     43\u001b[0m \u001b[38;5;28;01mfor\u001b[39;00m disease, values \u001b[38;5;129;01min\u001b[39;00m metrics\u001b[38;5;241m.\u001b[39mitems():\n",
      "\u001b[0;31mTypeError\u001b[0m: compute_metrics() missing 3 required positional arguments: 'predictions', 'targets', and 'diseases'"
     ]
    }
   ],
   "source": [
    "for learning_rate in learning_rates:\n",
    "    print(f\"Results for learning_rate = {learning_rate}\")\n",
    "    for weight_decay in weight_decays:\n",
    "        print(f\"Results for weight_decay = {weight_decay}\")\n",
    "        for dropout in dropouts:\n",
    "            print(f\"Results for dropout = {dropout}\")\n",
    "            for batch_size in batch_sizes:\n",
    "                print(f\"Results for batch_size = {batch_size}\")\n",
    "                stats, auc = try_parameters(learning_rate, weight_decay, dropout, batch_size, 5)\n",
    "                print(f\"AUC {auc}\")\n",
    "                mean_auc = sum(auc.values()) / len(auc)\n",
    "                if mean_auc > previous_auc:\n",
    "                    previous_auc = mean_auc\n",
    "                    best_auc = auc\n",
    "                    best_param['learning_rate'] = learning_rate\n",
    "                    best_param['weight_decay'] = weight_decay\n",
    "                    best_param['dropout'] = dropout\n",
    "                    best_param['batch_size'] = batch_size\n",
    "                    \n",
    "                # plot_loss(stats)\n",
    "print(f'best_param: {best_param}')\n",
    "print(f\"best_auc: {best_auc}\")"
   ]
  },
  {
   "cell_type": "code",
   "execution_count": 184,
   "metadata": {},
   "outputs": [
    {
     "data": {
      "text/plain": [
       "{'learning_rate': 0.001, 'weight_decay': 0, 'dropout': 0.2, 'batch_size': 32}"
      ]
     },
     "execution_count": 184,
     "metadata": {},
     "output_type": "execute_result"
    }
   ],
   "source": [
    "stats, auc = best_param"
   ]
  },
  {
   "cell_type": "code",
   "execution_count": 188,
   "metadata": {},
   "outputs": [
    {
     "data": {
      "image/png": "[encoded data removed]",
      "text/plain": [
       "<Figure size 500x300 with 1 Axes>"
      ]
     },
     "metadata": {},
     "output_type": "display_data"
    },
    {
     "data": {
      "text/plain": [
       "{'Cardiomegaly': 0.8041574568996595,\n",
       " 'Lung Opacity': 0.6946831463886772,\n",
       " 'Edema': 0.7871031324484976,\n",
       " 'Atelectasis': 0.625728880269588,\n",
       " 'Pneumothorax': 0.7504201994834465,\n",
       " 'Pleural Effusion': 0.8122826031075887}"
      ]
     },
     "execution_count": 188,
     "metadata": {},
     "output_type": "execute_result"
    }
   ],
   "source": [
    "stats, auc = try_parameters(0.001, 0, 0.2, 32, 6)\n",
    "plot_loss(stats)\n",
    "auc"
   ]
  },
  {
   "cell_type": "code",
   "execution_count": 200,
   "metadata": {},
   "outputs": [
    {
     "data": {
      "text/plain": [
       "{'Accuracy': 0.8461805641699953,\n",
       " 'AUC': 0.625728880269588,\n",
       " 'F1 Score': 0.0,\n",
       " 'TP Rate': 0.0,\n",
       " 'FN Rate': 1.0,\n",
       " 'TN Rate': 1.0,\n",
       " 'FP Rate': 0.0}"
      ]
     },
     "execution_count": 200,
     "metadata": {},
     "output_type": "execute_result"
    }
   ],
   "source": [
    "metrics['Atelectasis']"
   ]
  },
  {
   "cell_type": "code",
   "execution_count": 189,
   "metadata": {},
   "outputs": [],
   "source": [
    "\n",
    "# Calculate metrics for each disease and for each class\n",
    "\n",
    "metrics_female = {}\n",
    "for idx, disease in enumerate(diseases):\n",
    "    # disease_pred = predictions[:, idx]\n",
    "    disease_pred = predictions[y_sex == 1, idx]\n",
    "    disease_true = targets[y_sex == 1, idx]\n",
    "    auc = roc_auc_score(disease_true, disease_pred)\n",
    "    f1 = f1_score(disease_true, (disease_pred > 0.5).astype(int))\n",
    "    accuracy = accuracy_score(disease_true, (disease_pred > 0.5).astype(int))\n",
    "    tn, fp, fn, tp = confusion_matrix(disease_true, (disease_pred > 0.5).astype(int)).ravel()\n",
    "    tp_rate = tp / (tp + fn)\n",
    "    tn_rate = tn / (tn + fp)\n",
    "    fn_rate = fn / (fn + tp)\n",
    "    fp_rate = fp / (tn + fp)\n",
    "\n",
    "    metrics_female[disease] = {\n",
    "        'Accuracy': accuracy,\n",
    "        'AUC': auc,\n",
    "        'F1 Score': f1,\n",
    "        'TP Rate': tp_rate,\n",
    "        'FN Rate': fn_rate,\n",
    "        'TN Rate': tn_rate,\n",
    "        'FP Rate': fp_rate\n",
    "        }\n",
    "    \n",
    "metrics_male = {}\n",
    "for idx, disease in enumerate(diseases):\n",
    "    # disease_pred = predictions[:, idx]\n",
    "    disease_pred = predictions[y_sex == 0, idx]\n",
    "    disease_true = targets[y_sex == 0, idx]\n",
    "    auc = roc_auc_score(disease_true, disease_pred)\n",
    "    f1 = f1_score(disease_true, (disease_pred > 0.5).astype(int))\n",
    "    accuracy = accuracy_score(disease_true, (disease_pred > 0.5).astype(int))\n",
    "    tn, fp, fn, tp = confusion_matrix(disease_true, (disease_pred > 0.5).astype(int)).ravel()\n",
    "    tp_rate = tp / (tp + fn)\n",
    "    tn_rate = tn / (tn + fp)\n",
    "    fn_rate = fn / (fn + tp)\n",
    "    fp_rate = fp / (tn + fp)\n",
    "\n",
    "    metrics_male[disease] = {\n",
    "        'Accuracy': accuracy,\n",
    "        'AUC': auc,\n",
    "        'F1 Score': f1,\n",
    "        'TP Rate': tp_rate,\n",
    "        'FN Rate': fn_rate,\n",
    "        'TN Rate': tn_rate,\n",
    "        'FP Rate': fp_rate\n",
    "        }\n",
    "\n",
    "metrics_white = {}\n",
    "for idx, disease in enumerate(diseases):\n",
    "    # disease_pred = predictions[:, idx]\n",
    "    disease_pred = predictions[y_race == 0, idx]\n",
    "    disease_true = targets[y_race == 0, idx]\n",
    "    auc = roc_auc_score(disease_true, disease_pred)\n",
    "    f1 = f1_score(disease_true, (disease_pred > 0.5).astype(int))\n",
    "    accuracy = accuracy_score(disease_true, (disease_pred > 0.5).astype(int))\n",
    "    tn, fp, fn, tp = confusion_matrix(disease_true, (disease_pred > 0.5).astype(int)).ravel()\n",
    "    tp_rate = tp / (tp + fn)\n",
    "    tn_rate = tn / (tn + fp)\n",
    "    fn_rate = fn / (fn + tp)\n",
    "    fp_rate = fp / (tn + fp)\n",
    "\n",
    "    metrics_white[disease] = {\n",
    "        'Accuracy': accuracy,\n",
    "        'AUC': auc,\n",
    "        'F1 Score': f1,\n",
    "        'TP Rate': tp_rate,\n",
    "        'FN Rate': fn_rate,\n",
    "        'TN Rate': tn_rate,\n",
    "        'FP Rate': fp_rate\n",
    "        }\n",
    "    \n",
    "metrics_black = {}\n",
    "for idx, disease in enumerate(diseases):\n",
    "    # disease_pred = predictions[:, idx]\n",
    "    disease_pred = predictions[y_race == 2, idx]\n",
    "    disease_true = targets[y_race == 2, idx]\n",
    "    auc = roc_auc_score(disease_true, disease_pred)\n",
    "    f1 = f1_score(disease_true, (disease_pred > 0.5).astype(int))\n",
    "    accuracy = accuracy_score(disease_true, (disease_pred > 0.5).astype(int))\n",
    "    tn, fp, fn, tp = confusion_matrix(disease_true, (disease_pred > 0.5).astype(int)).ravel()\n",
    "    tp_rate = tp / (tp + fn)\n",
    "    tn_rate = tn / (tn + fp)\n",
    "    fn_rate = fn / (fn + tp)\n",
    "    fp_rate = fp / (tn + fp)\n",
    "\n",
    "    metrics_black[disease] = {\n",
    "        'Accuracy': accuracy,\n",
    "        'AUC': auc,\n",
    "        'F1 Score': f1,\n",
    "        'TP Rate': tp_rate,\n",
    "        'FN Rate': fn_rate,\n",
    "        'TN Rate': tn_rate,\n",
    "        'FP Rate': fp_rate\n",
    "        }\n",
    "    \n",
    "metrics_asian = {}\n",
    "for idx, disease in enumerate(diseases):\n",
    "    # disease_pred = predictions[:, idx]\n",
    "    disease_pred = predictions[y_race == 1, idx]\n",
    "    disease_true = targets[y_race == 1, idx]\n",
    "    auc = roc_auc_score(disease_true, disease_pred)\n",
    "    f1 = f1_score(disease_true, (disease_pred > 0.5).astype(int))\n",
    "    accuracy = accuracy_score(disease_true, (disease_pred > 0.5).astype(int))\n",
    "    tn, fp, fn, tp = confusion_matrix(disease_true, (disease_pred > 0.5).astype(int)).ravel()\n",
    "    tp_rate = tp / (tp + fn)\n",
    "    tn_rate = tn / (tn + fp)\n",
    "    fn_rate = fn / (fn + tp)\n",
    "    fp_rate = fp / (tn + fp)\n",
    "\n",
    "    metrics_asian[disease] = {\n",
    "        'Accuracy': accuracy,\n",
    "        'AUC': auc,\n",
    "        'F1 Score': f1,\n",
    "        'TP Rate': tp_rate,\n",
    "        'FN Rate': fn_rate,\n",
    "        'TN Rate': tn_rate,\n",
    "        'FP Rate': fp_rate\n",
    "        }"
   ]
  },
  {
   "cell_type": "code",
   "execution_count": 190,
   "metadata": {},
   "outputs": [
    {
     "data": {
      "text/html": [
       "<style type=\"text/css\">\n",
       "#T_22fa5_row0_col1 {\n",
       "  background-color: #e2e418;\n",
       "  color: #000000;\n",
       "}\n",
       "#T_22fa5_row0_col2 {\n",
       "  background-color: #f1e51d;\n",
       "  color: #000000;\n",
       "}\n",
       "#T_22fa5_row0_col3 {\n",
       "  background-color: #d2e21b;\n",
       "  color: #000000;\n",
       "}\n",
       "#T_22fa5_row0_col4 {\n",
       "  background-color: #365d8d;\n",
       "  color: #f1f1f1;\n",
       "}\n",
       "#T_22fa5_row0_col5 {\n",
       "  background-color: #2b758e;\n",
       "  color: #f1f1f1;\n",
       "}\n",
       "#T_22fa5_row1_col1 {\n",
       "  background-color: #2d718e;\n",
       "  color: #f1f1f1;\n",
       "}\n",
       "#T_22fa5_row1_col2 {\n",
       "  background-color: #2e6d8e;\n",
       "  color: #f1f1f1;\n",
       "}\n",
       "#T_22fa5_row1_col3 {\n",
       "  background-color: #2a768e;\n",
       "  color: #f1f1f1;\n",
       "}\n",
       "#T_22fa5_row1_col4, #T_22fa5_row3_col1, #T_22fa5_row3_col2, #T_22fa5_row3_col3, #T_22fa5_row3_col5 {\n",
       "  background-color: #440154;\n",
       "  color: #f1f1f1;\n",
       "}\n",
       "#T_22fa5_row1_col5, #T_22fa5_row3_col4, #T_22fa5_row5_col1, #T_22fa5_row5_col2, #T_22fa5_row5_col3 {\n",
       "  background-color: #fde725;\n",
       "  color: #000000;\n",
       "}\n",
       "#T_22fa5_row2_col1 {\n",
       "  background-color: #a5db36;\n",
       "  color: #000000;\n",
       "}\n",
       "#T_22fa5_row2_col2 {\n",
       "  background-color: #aadc32;\n",
       "  color: #000000;\n",
       "}\n",
       "#T_22fa5_row2_col3 {\n",
       "  background-color: #a0da39;\n",
       "  color: #000000;\n",
       "}\n",
       "#T_22fa5_row2_col4 {\n",
       "  background-color: #471063;\n",
       "  color: #f1f1f1;\n",
       "}\n",
       "#T_22fa5_row2_col5 {\n",
       "  background-color: #bade28;\n",
       "  color: #000000;\n",
       "}\n",
       "#T_22fa5_row4_col1, #T_22fa5_row5_col5 {\n",
       "  background-color: #37b878;\n",
       "  color: #f1f1f1;\n",
       "}\n",
       "#T_22fa5_row4_col2 {\n",
       "  background-color: #27ad81;\n",
       "  color: #f1f1f1;\n",
       "}\n",
       "#T_22fa5_row4_col3 {\n",
       "  background-color: #50c46a;\n",
       "  color: #000000;\n",
       "}\n",
       "#T_22fa5_row4_col4 {\n",
       "  background-color: #f4e61e;\n",
       "  color: #000000;\n",
       "}\n",
       "#T_22fa5_row4_col5 {\n",
       "  background-color: #443b84;\n",
       "  color: #f1f1f1;\n",
       "}\n",
       "#T_22fa5_row5_col4 {\n",
       "  background-color: #463480;\n",
       "  color: #f1f1f1;\n",
       "}\n",
       "</style>\n",
       "<table id=\"T_22fa5\">\n",
       "  <thead>\n",
       "    <tr>\n",
       "      <th class=\"blank level0\" >&nbsp;</th>\n",
       "      <th id=\"T_22fa5_level0_col0\" class=\"col_heading level0 col0\" >Disease</th>\n",
       "      <th id=\"T_22fa5_level0_col1\" class=\"col_heading level0 col1\" >AUC</th>\n",
       "      <th id=\"T_22fa5_level0_col2\" class=\"col_heading level0 col2\" >AUC_Male</th>\n",
       "      <th id=\"T_22fa5_level0_col3\" class=\"col_heading level0 col3\" >AUC_Female</th>\n",
       "      <th id=\"T_22fa5_level0_col4\" class=\"col_heading level0 col4\" >Delta AUC</th>\n",
       "      <th id=\"T_22fa5_level0_col5\" class=\"col_heading level0 col5\" >EqOdds</th>\n",
       "    </tr>\n",
       "  </thead>\n",
       "  <tbody>\n",
       "    <tr>\n",
       "      <th id=\"T_22fa5_level0_row0\" class=\"row_heading level0 row0\" >0</th>\n",
       "      <td id=\"T_22fa5_row0_col0\" class=\"data row0 col0\" >Cardiomegaly</td>\n",
       "      <td id=\"T_22fa5_row0_col1\" class=\"data row0 col1\" >80.416</td>\n",
       "      <td id=\"T_22fa5_row0_col2\" class=\"data row0 col2\" >80.677</td>\n",
       "      <td id=\"T_22fa5_row0_col3\" class=\"data row0 col3\" >80.112</td>\n",
       "      <td id=\"T_22fa5_row0_col4\" class=\"data row0 col4\" >0.565</td>\n",
       "      <td id=\"T_22fa5_row0_col5\" class=\"data row0 col5\" >0.422</td>\n",
       "    </tr>\n",
       "    <tr>\n",
       "      <th id=\"T_22fa5_level0_row1\" class=\"row_heading level0 row1\" >1</th>\n",
       "      <td id=\"T_22fa5_row1_col0\" class=\"data row1 col0\" >Lung Opacity</td>\n",
       "      <td id=\"T_22fa5_row1_col1\" class=\"data row1 col1\" >69.468</td>\n",
       "      <td id=\"T_22fa5_row1_col2\" class=\"data row1 col2\" >69.534</td>\n",
       "      <td id=\"T_22fa5_row1_col3\" class=\"data row1 col3\" >69.412</td>\n",
       "      <td id=\"T_22fa5_row1_col4\" class=\"data row1 col4\" >0.122</td>\n",
       "      <td id=\"T_22fa5_row1_col5\" class=\"data row1 col5\" >1.082</td>\n",
       "    </tr>\n",
       "    <tr>\n",
       "      <th id=\"T_22fa5_level0_row2\" class=\"row_heading level0 row2\" >2</th>\n",
       "      <td id=\"T_22fa5_row2_col0\" class=\"data row2 col0\" >Edema</td>\n",
       "      <td id=\"T_22fa5_row2_col1\" class=\"data row2 col1\" >78.710</td>\n",
       "      <td id=\"T_22fa5_row2_col2\" class=\"data row2 col2\" >78.789</td>\n",
       "      <td id=\"T_22fa5_row2_col3\" class=\"data row2 col3\" >78.608</td>\n",
       "      <td id=\"T_22fa5_row2_col4\" class=\"data row2 col4\" >0.182</td>\n",
       "      <td id=\"T_22fa5_row2_col5\" class=\"data row2 col5\" >0.968</td>\n",
       "    </tr>\n",
       "    <tr>\n",
       "      <th id=\"T_22fa5_level0_row3\" class=\"row_heading level0 row3\" >3</th>\n",
       "      <td id=\"T_22fa5_row3_col0\" class=\"data row3 col0\" >Atelectasis</td>\n",
       "      <td id=\"T_22fa5_row3_col1\" class=\"data row3 col1\" >62.573</td>\n",
       "      <td id=\"T_22fa5_row3_col2\" class=\"data row3 col2\" >63.242</td>\n",
       "      <td id=\"T_22fa5_row3_col3\" class=\"data row3 col3\" >61.607</td>\n",
       "      <td id=\"T_22fa5_row3_col4\" class=\"data row3 col4\" >1.635</td>\n",
       "      <td id=\"T_22fa5_row3_col5\" class=\"data row3 col5\" >0.000</td>\n",
       "    </tr>\n",
       "    <tr>\n",
       "      <th id=\"T_22fa5_level0_row4\" class=\"row_heading level0 row4\" >4</th>\n",
       "      <td id=\"T_22fa5_row4_col0\" class=\"data row4 col0\" >Pneumothorax</td>\n",
       "      <td id=\"T_22fa5_row4_col1\" class=\"data row4 col1\" >75.042</td>\n",
       "      <td id=\"T_22fa5_row4_col2\" class=\"data row4 col2\" >74.375</td>\n",
       "      <td id=\"T_22fa5_row4_col3\" class=\"data row4 col3\" >75.985</td>\n",
       "      <td id=\"T_22fa5_row4_col4\" class=\"data row4 col4\" >1.610</td>\n",
       "      <td id=\"T_22fa5_row4_col5\" class=\"data row4 col5\" >0.189</td>\n",
       "    </tr>\n",
       "    <tr>\n",
       "      <th id=\"T_22fa5_level0_row5\" class=\"row_heading level0 row5\" >5</th>\n",
       "      <td id=\"T_22fa5_row5_col0\" class=\"data row5 col0\" >Pleural Effusion</td>\n",
       "      <td id=\"T_22fa5_row5_col1\" class=\"data row5 col1\" >81.228</td>\n",
       "      <td id=\"T_22fa5_row5_col2\" class=\"data row5 col2\" >81.084</td>\n",
       "      <td id=\"T_22fa5_row5_col3\" class=\"data row5 col3\" >81.433</td>\n",
       "      <td id=\"T_22fa5_row5_col4\" class=\"data row5 col4\" >0.348</td>\n",
       "      <td id=\"T_22fa5_row5_col5\" class=\"data row5 col5\" >0.726</td>\n",
       "    </tr>\n",
       "  </tbody>\n",
       "</table>\n"
      ],
      "text/plain": [
       "<pandas.io.formats.style.Styler at 0x7f6505e5ac70>"
      ]
     },
     "execution_count": 190,
     "metadata": {},
     "output_type": "execute_result"
    }
   ],
   "source": [
    "# Initialize an empty list to store the data\n",
    "data = []\n",
    "\n",
    "# Iterate over the diseases in the metrics dictionary\n",
    "for disease, values in metrics.items():\n",
    "    # Extract AUC and rates from dictionaries\n",
    "    auc_overall = values['AUC'] *100\n",
    "    auc_male = metrics_male[disease]['AUC'] *100\n",
    "    auc_female = metrics_female[disease]['AUC'] *100\n",
    "    tp_rate_male = metrics_male[disease]['TP Rate'] *100\n",
    "    tp_rate_female = metrics_female[disease]['TP Rate'] *100\n",
    "    fp_rate_male = metrics_male[disease]['FP Rate'] *100\n",
    "    fp_rate_female = metrics_female[disease]['FP Rate'] *100\n",
    "    \n",
    "    # Calculate delta AUC and equality of odds\n",
    "    delta_auc = abs(auc_male - auc_female)\n",
    "    eq_odds = 0.5 * (abs(tp_rate_male - tp_rate_female) + abs(fp_rate_male - fp_rate_female))\n",
    "    \n",
    "    # Append to the data list\n",
    "    data.append([disease, auc_overall, auc_male, auc_female, delta_auc, eq_odds])\n",
    "\n",
    "# Create a DataFrame\n",
    "df = pd.DataFrame(data, columns=['Disease', 'AUC', 'AUC_Male', 'AUC_Female', 'Delta AUC', 'EqOdds'])\n",
    "\n",
    "\n",
    "# Styling the DataFrame\n",
    "styled_df = df.style.format({\n",
    "    'AUC': \"{:.3f}\", \n",
    "    'AUC_Male': \"{:.3f}\", \n",
    "    'AUC_Female': \"{:.3f}\",\n",
    "    'Delta AUC': \"{:.3f}\",\n",
    "    'EqOdds': \"{:.3f}\"\n",
    "}).background_gradient(cmap='viridis', subset=['AUC', 'AUC_Male', 'AUC_Female', 'Delta AUC', 'EqOdds'])\n",
    "\n",
    "# Display the styled DataFrame\n",
    "styled_df\n"
   ]
  },
  {
   "cell_type": "code",
   "execution_count": 191,
   "metadata": {},
   "outputs": [
    {
     "data": {
      "text/html": [
       "<style type=\"text/css\">\n",
       "#T_69980_row0_col1 {\n",
       "  background-color: #e2e418;\n",
       "  color: #000000;\n",
       "}\n",
       "#T_69980_row0_col2 {\n",
       "  background-color: #d2e21b;\n",
       "  color: #000000;\n",
       "}\n",
       "#T_69980_row0_col3, #T_69980_row2_col6, #T_69980_row4_col5, #T_69980_row5_col1, #T_69980_row5_col2, #T_69980_row5_col4 {\n",
       "  background-color: #fde725;\n",
       "  color: #000000;\n",
       "}\n",
       "#T_69980_row0_col4 {\n",
       "  background-color: #dfe318;\n",
       "  color: #000000;\n",
       "}\n",
       "#T_69980_row0_col5 {\n",
       "  background-color: #481c6e;\n",
       "  color: #f1f1f1;\n",
       "}\n",
       "#T_69980_row0_col6 {\n",
       "  background-color: #277e8e;\n",
       "  color: #f1f1f1;\n",
       "}\n",
       "#T_69980_row1_col1 {\n",
       "  background-color: #2d718e;\n",
       "  color: #f1f1f1;\n",
       "}\n",
       "#T_69980_row1_col2 {\n",
       "  background-color: #2f6c8e;\n",
       "  color: #f1f1f1;\n",
       "}\n",
       "#T_69980_row1_col3 {\n",
       "  background-color: #20938c;\n",
       "  color: #f1f1f1;\n",
       "}\n",
       "#T_69980_row1_col4 {\n",
       "  background-color: #2b758e;\n",
       "  color: #f1f1f1;\n",
       "}\n",
       "#T_69980_row1_col5, #T_69980_row3_col1, #T_69980_row3_col2, #T_69980_row3_col3, #T_69980_row3_col4, #T_69980_row3_col6 {\n",
       "  background-color: #440154;\n",
       "  color: #f1f1f1;\n",
       "}\n",
       "#T_69980_row1_col6 {\n",
       "  background-color: #48c16e;\n",
       "  color: #f1f1f1;\n",
       "}\n",
       "#T_69980_row2_col1 {\n",
       "  background-color: #a5db36;\n",
       "  color: #000000;\n",
       "}\n",
       "#T_69980_row2_col2 {\n",
       "  background-color: #aadc32;\n",
       "  color: #000000;\n",
       "}\n",
       "#T_69980_row2_col3 {\n",
       "  background-color: #77d153;\n",
       "  color: #000000;\n",
       "}\n",
       "#T_69980_row2_col4 {\n",
       "  background-color: #98d83e;\n",
       "  color: #000000;\n",
       "}\n",
       "#T_69980_row2_col5 {\n",
       "  background-color: #482576;\n",
       "  color: #f1f1f1;\n",
       "}\n",
       "#T_69980_row3_col5 {\n",
       "  background-color: #1f968b;\n",
       "  color: #f1f1f1;\n",
       "}\n",
       "#T_69980_row4_col1 {\n",
       "  background-color: #37b878;\n",
       "  color: #f1f1f1;\n",
       "}\n",
       "#T_69980_row4_col2 {\n",
       "  background-color: #2ab07f;\n",
       "  color: #f1f1f1;\n",
       "}\n",
       "#T_69980_row4_col3 {\n",
       "  background-color: #9bd93c;\n",
       "  color: #000000;\n",
       "}\n",
       "#T_69980_row4_col4 {\n",
       "  background-color: #4cc26c;\n",
       "  color: #000000;\n",
       "}\n",
       "#T_69980_row4_col6 {\n",
       "  background-color: #3e4c8a;\n",
       "  color: #f1f1f1;\n",
       "}\n",
       "#T_69980_row5_col3 {\n",
       "  background-color: #d5e21a;\n",
       "  color: #000000;\n",
       "}\n",
       "#T_69980_row5_col5 {\n",
       "  background-color: #472a7a;\n",
       "  color: #f1f1f1;\n",
       "}\n",
       "#T_69980_row5_col6 {\n",
       "  background-color: #2a788e;\n",
       "  color: #f1f1f1;\n",
       "}\n",
       "</style>\n",
       "<table id=\"T_69980\">\n",
       "  <thead>\n",
       "    <tr>\n",
       "      <th class=\"blank level0\" >&nbsp;</th>\n",
       "      <th id=\"T_69980_level0_col0\" class=\"col_heading level0 col0\" >Disease</th>\n",
       "      <th id=\"T_69980_level0_col1\" class=\"col_heading level0 col1\" >AUC</th>\n",
       "      <th id=\"T_69980_level0_col2\" class=\"col_heading level0 col2\" >AUC_White</th>\n",
       "      <th id=\"T_69980_level0_col3\" class=\"col_heading level0 col3\" >AUC_Black</th>\n",
       "      <th id=\"T_69980_level0_col4\" class=\"col_heading level0 col4\" >AUC_Asian</th>\n",
       "      <th id=\"T_69980_level0_col5\" class=\"col_heading level0 col5\" >Max Delta AUC</th>\n",
       "      <th id=\"T_69980_level0_col6\" class=\"col_heading level0 col6\" >Max EqOdds</th>\n",
       "    </tr>\n",
       "  </thead>\n",
       "  <tbody>\n",
       "    <tr>\n",
       "      <th id=\"T_69980_level0_row0\" class=\"row_heading level0 row0\" >0</th>\n",
       "      <td id=\"T_69980_row0_col0\" class=\"data row0 col0\" >Cardiomegaly</td>\n",
       "      <td id=\"T_69980_row0_col1\" class=\"data row0 col1\" >80.416</td>\n",
       "      <td id=\"T_69980_row0_col2\" class=\"data row0 col2\" >79.807</td>\n",
       "      <td id=\"T_69980_row0_col3\" class=\"data row0 col3\" >81.835</td>\n",
       "      <td id=\"T_69980_row0_col4\" class=\"data row0 col4\" >81.484</td>\n",
       "      <td id=\"T_69980_row0_col5\" class=\"data row0 col5\" >2.028</td>\n",
       "      <td id=\"T_69980_row0_col6\" class=\"data row0 col6\" >1.266</td>\n",
       "    </tr>\n",
       "    <tr>\n",
       "      <th id=\"T_69980_level0_row1\" class=\"row_heading level0 row1\" >1</th>\n",
       "      <td id=\"T_69980_row1_col0\" class=\"data row1 col0\" >Lung Opacity</td>\n",
       "      <td id=\"T_69980_row1_col1\" class=\"data row1 col1\" >69.468</td>\n",
       "      <td id=\"T_69980_row1_col2\" class=\"data row1 col2\" >69.153</td>\n",
       "      <td id=\"T_69980_row1_col3\" class=\"data row1 col3\" >71.004</td>\n",
       "      <td id=\"T_69980_row1_col4\" class=\"data row1 col4\" >70.292</td>\n",
       "      <td id=\"T_69980_row1_col5\" class=\"data row1 col5\" >1.850</td>\n",
       "      <td id=\"T_69980_row1_col6\" class=\"data row1 col6\" >2.116</td>\n",
       "    </tr>\n",
       "    <tr>\n",
       "      <th id=\"T_69980_level0_row2\" class=\"row_heading level0 row2\" >2</th>\n",
       "      <td id=\"T_69980_row2_col0\" class=\"data row2 col0\" >Edema</td>\n",
       "      <td id=\"T_69980_row2_col1\" class=\"data row2 col1\" >78.710</td>\n",
       "      <td id=\"T_69980_row2_col2\" class=\"data row2 col2\" >78.710</td>\n",
       "      <td id=\"T_69980_row2_col3\" class=\"data row2 col3\" >77.310</td>\n",
       "      <td id=\"T_69980_row2_col4\" class=\"data row2 col4\" >79.397</td>\n",
       "      <td id=\"T_69980_row2_col5\" class=\"data row2 col5\" >2.087</td>\n",
       "      <td id=\"T_69980_row2_col6\" class=\"data row2 col6\" >2.978</td>\n",
       "    </tr>\n",
       "    <tr>\n",
       "      <th id=\"T_69980_level0_row3\" class=\"row_heading level0 row3\" >3</th>\n",
       "      <td id=\"T_69980_row3_col0\" class=\"data row3 col0\" >Atelectasis</td>\n",
       "      <td id=\"T_69980_row3_col1\" class=\"data row3 col1\" >62.573</td>\n",
       "      <td id=\"T_69980_row3_col2\" class=\"data row3 col2\" >62.708</td>\n",
       "      <td id=\"T_69980_row3_col3\" class=\"data row3 col3\" >59.634</td>\n",
       "      <td id=\"T_69980_row3_col4\" class=\"data row3 col4\" >62.544</td>\n",
       "      <td id=\"T_69980_row3_col5\" class=\"data row3 col5\" >3.075</td>\n",
       "      <td id=\"T_69980_row3_col6\" class=\"data row3 col6\" >0.000</td>\n",
       "    </tr>\n",
       "    <tr>\n",
       "      <th id=\"T_69980_level0_row4\" class=\"row_heading level0 row4\" >4</th>\n",
       "      <td id=\"T_69980_row4_col0\" class=\"data row4 col0\" >Pneumothorax</td>\n",
       "      <td id=\"T_69980_row4_col1\" class=\"data row4 col1\" >75.042</td>\n",
       "      <td id=\"T_69980_row4_col2\" class=\"data row4 col2\" >74.348</td>\n",
       "      <td id=\"T_69980_row4_col3\" class=\"data row4 col3\" >78.526</td>\n",
       "      <td id=\"T_69980_row4_col4\" class=\"data row4 col4\" >76.880</td>\n",
       "      <td id=\"T_69980_row4_col5\" class=\"data row4 col5\" >4.178</td>\n",
       "      <td id=\"T_69980_row4_col6\" class=\"data row4 col6\" >0.682</td>\n",
       "    </tr>\n",
       "    <tr>\n",
       "      <th id=\"T_69980_level0_row5\" class=\"row_heading level0 row5\" >5</th>\n",
       "      <td id=\"T_69980_row5_col0\" class=\"data row5 col0\" >Pleural Effusion</td>\n",
       "      <td id=\"T_69980_row5_col1\" class=\"data row5 col1\" >81.228</td>\n",
       "      <td id=\"T_69980_row5_col2\" class=\"data row5 col2\" >81.053</td>\n",
       "      <td id=\"T_69980_row5_col3\" class=\"data row5 col3\" >80.372</td>\n",
       "      <td id=\"T_69980_row5_col4\" class=\"data row5 col4\" >82.496</td>\n",
       "      <td id=\"T_69980_row5_col5\" class=\"data row5 col5\" >2.124</td>\n",
       "      <td id=\"T_69980_row5_col6\" class=\"data row5 col6\" >1.195</td>\n",
       "    </tr>\n",
       "  </tbody>\n",
       "</table>\n"
      ],
      "text/plain": [
       "<pandas.io.formats.style.Styler at 0x7f64f46c52e0>"
      ]
     },
     "execution_count": 191,
     "metadata": {},
     "output_type": "execute_result"
    }
   ],
   "source": [
    "# Initialize an empty list to store the data\n",
    "data = []\n",
    "\n",
    "# Iterate over the diseases in the metrics dictionary\n",
    "for disease, values in metrics.items():\n",
    "    auc_overall = values['AUC'] *100\n",
    "    auc_groups = [\n",
    "        metrics_white[disease]['AUC'] *100,\n",
    "        metrics_black[disease]['AUC'] *100,\n",
    "        metrics_asian[disease]['AUC'] *100\n",
    "    ]\n",
    "    tp_rates = [\n",
    "        metrics_white[disease]['TP Rate'] *100,\n",
    "        metrics_black[disease]['TP Rate'] *100,\n",
    "        metrics_asian[disease]['TP Rate'] *100\n",
    "    ]\n",
    "    fp_rates = [\n",
    "        metrics_white[disease]['FP Rate'] *100,\n",
    "        metrics_black[disease]['FP Rate'] *100,\n",
    "        metrics_asian[disease]['FP Rate'] *100\n",
    "    ]\n",
    "\n",
    "    # Calculate the maximum delta AUC\n",
    "    delta_auc = max(abs(auc_groups[i] - auc_groups[j]) for i in range(len(auc_groups)) for j in range(i + 1, len(auc_groups)))\n",
    "\n",
    "    # Calculate the maximum equality of odds\n",
    "    eq_odds = max(\n",
    "        0.5 * (abs(tp_rates[i] - tp_rates[j]) + abs(fp_rates[i] - fp_rates[j]))\n",
    "        for i in range(len(tp_rates)) for j in range(i + 1, len(tp_rates))\n",
    "    )\n",
    "\n",
    "    # Append to the data list\n",
    "    data.append([disease, auc_overall] + auc_groups + [delta_auc, eq_odds])\n",
    "\n",
    "# Create a DataFrame\n",
    "columns = ['Disease', 'AUC', 'AUC_White', 'AUC_Black', 'AUC_Asian', 'Max Delta AUC', 'Max EqOdds']\n",
    "df = pd.DataFrame(data, columns=columns)\n",
    "\n",
    "# Display the DataFrame with styling\n",
    "# Styling the DataFrame\n",
    "styled_df = df.style.format({\n",
    "    'AUC': \"{:.3f}\", \n",
    "    'AUC_White': \"{:.3f}\", \n",
    "    'AUC_Black': \"{:.3f}\",\n",
    "    'AUC_Asian': \"{:.3f}\",\n",
    "    'Max Delta AUC': \"{:.3f}\",\n",
    "    'Max EqOdds': \"{:.3f}\"\n",
    "}).background_gradient(cmap='viridis', subset=['AUC', 'AUC_White', 'AUC_Black', 'AUC_Asian', 'Max Delta AUC', 'Max EqOdds'])\n",
    "\n",
    "# Display the styled DataFrame\n",
    "styled_df"
   ]
  },
  {
   "cell_type": "markdown",
   "metadata": {},
   "source": [
    "### Study a metric"
   ]
  },
  {
   "cell_type": "code",
   "execution_count": 192,
   "metadata": {},
   "outputs": [],
   "source": [
    "met = 'AUC'  #Accuracy, AUC, F1 Score, TP Rate, FN Rate"
   ]
  },
  {
   "cell_type": "code",
   "execution_count": 193,
   "metadata": {},
   "outputs": [],
   "source": [
    "# Compute metrics for each disease\n",
    "auc_general = {}\n",
    "for disease, values in metrics.items():\n",
    "    for metric, value in values.items():\n",
    "        if metric == met:\n",
    "            auc_general[disease] = value\n",
    "\n",
    "print(f\"General {met}\", auc_general)\n"
   ]
  },
  {
   "cell_type": "code",
   "execution_count": 194,
   "metadata": {},
   "outputs": [],
   "source": [
    "# Initialize dictionaries to store AUC values\n",
    "auc_female = {}\n",
    "auc_male = {}\n",
    "\n",
    "for disease, values in metrics_female.items():\n",
    "    for metric, value in values.items():\n",
    "        if metric == met:\n",
    "            auc_female[disease] = value\n",
    "\n",
    "for disease, values in metrics_male.items():\n",
    "    for metric, value in values.items():\n",
    "        if metric == met:\n",
    "            auc_male[disease] = value\n",
    "\n",
    "# Output results\n",
    "print(f\"{met} for Females: {auc_female}\")\n",
    "print(f\"{met} for Males: {auc_male}\")\n"
   ]
  },
  {
   "cell_type": "code",
   "execution_count": 195,
   "metadata": {},
   "outputs": [],
   "source": [
    "# Initialize dictionaries to store AUC values\n",
    "auc_white = {}\n",
    "auc_black = {}\n",
    "auc_asian = {}\n",
    "\n",
    "for disease, values in metrics_white.items():\n",
    "    for metric, value in values.items():\n",
    "        if metric == met:\n",
    "            auc_white[disease] = value\n",
    "\n",
    "for disease, values in metrics_asian.items():\n",
    "    for metric, value in values.items():\n",
    "        if metric == met:\n",
    "            auc_asian[disease] = value\n",
    "\n",
    "for disease, values in metrics_black.items():\n",
    "    for metric, value in values.items():\n",
    "        if metric == met:\n",
    "            auc_black[disease] = value\n",
    "\n",
    "# Output results\n",
    "print(f\"{met} for W: {auc_white}\")\n",
    "print(f\"{met} for B: {auc_black}\")\n",
    "print(f\"{met} for A: {auc_asian}\")\n"
   ]
  },
  {
   "cell_type": "code",
   "execution_count": 196,
   "metadata": {},
   "outputs": [
    {
     "data": {
      "image/png": "[encoded data removed]",
      "text/plain": [
       "<Figure size 640x480 with 1 Axes>"
      ]
     },
     "metadata": {},
     "output_type": "display_data"
    }
   ],
   "source": [
    "\n",
    "# Extract diseases and AUC values\n",
    "diseases_to_plot = list(auc_general.keys())\n",
    "values2 = [auc_general[disease] for disease in diseases_to_plot]\n",
    "values_male = [auc_female[disease] for disease in diseases_to_plot]\n",
    "values_female = [auc_female[disease] for disease in diseases_to_plot]\n",
    "\n",
    "# Setting the positions and width for the bars\n",
    "positions = np.arange(len(diseases_to_plot))\n",
    "bar_width = 0.2\n",
    "\n",
    "# Plotting the bars\n",
    "fig, ax = plt.subplots()\n",
    "bar2 = ax.bar(positions - bar_width, values2, width=bar_width, label='predicted_results_densenet')\n",
    "bar3 = ax.bar(positions, values_male, width=bar_width, label='predicted_results_male')\n",
    "bar4 = ax.bar(positions + bar_width, values_female, width=bar_width, label='predicted_results_female')\n",
    "\n",
    "\n",
    "# Adding some text for labels, title, and axes ticks\n",
    "ax.set_xlabel('Diseases')\n",
    "ax.set_ylabel(met)\n",
    "ax.set_title(f'Comparison of {met}')\n",
    "ax.set_xticks(positions)\n",
    "ax.set_xticklabels(diseases, rotation='vertical')  # Rotating labels vertically\n",
    "ax.legend()\n",
    "\n",
    "# Show the plot\n",
    "plt.show()\n"
   ]
  },
  {
   "cell_type": "code",
   "execution_count": 197,
   "metadata": {},
   "outputs": [
    {
     "data": {
      "image/png": "[encoded data removed]",
      "text/plain": [
       "<Figure size 640x480 with 1 Axes>"
      ]
     },
     "metadata": {},
     "output_type": "display_data"
    }
   ],
   "source": [
    "\n",
    "# Extract diseases and AUC values\n",
    "diseases = list(auc_general.keys())\n",
    "values2 = [auc_general[disease] for disease in diseases]\n",
    "values_white = [auc_white[disease] for disease in diseases]\n",
    "values_black = [auc_black[disease] for disease in diseases]\n",
    "values_asian = [auc_asian[disease] for disease in diseases]\n",
    "\n",
    "# Setting the positions and width for the bars\n",
    "positions = np.arange(len(diseases))\n",
    "bar_width = 0.2\n",
    "\n",
    "# Plotting the bars\n",
    "fig, ax = plt.subplots()\n",
    "bar2 = ax.bar(positions - 2*bar_width, values2, width=bar_width, label='predicted_results_densenet')\n",
    "bar3 = ax.bar(positions - bar_width, values_white, width=bar_width, label='predicted_results_white')\n",
    "bar4 = ax.bar(positions, values_black, width=bar_width, label='predicted_results_black')\n",
    "bar5 = ax.bar(positions + bar_width, values_asian, width=bar_width, label='predicted_results_asian')\n",
    "\n",
    "\n",
    "# Adding some text for labels, title, and axes ticks\n",
    "ax.set_xlabel('Diseases')\n",
    "ax.set_ylabel(met)\n",
    "ax.set_title(f'Comparison of {met}')\n",
    "ax.set_xticks(positions)\n",
    "ax.set_xticklabels(diseases, rotation='vertical')  # Rotating labels vertically\n",
    "ax.legend()\n",
    "\n",
    "# Show the plot\n",
    "plt.show()\n"
   ]
  }
 ],
 "metadata": {
  "kernelspec": {
   "display_name": "mitigate-bias",
   "language": "python",
   "name": "python3"
  },
  "language_info": {
   "codemirror_mode": {
    "name": "ipython",
    "version": 3
   },
   "file_extension": ".py",
   "mimetype": "text/x-python",
   "name": "python",
   "nbconvert_exporter": "python",
   "pygments_lexer": "ipython3",
   "version": "3.8.19"
  }
 },
 "nbformat": 4,
 "nbformat_minor": 2
}
