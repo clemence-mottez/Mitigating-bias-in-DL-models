{
 "cells": [
  {
   "cell_type": "markdown",
   "metadata": {},
   "source": [
    "# Imports"
   ]
  },
  {
   "cell_type": "code",
   "execution_count": 1,
   "metadata": {},
   "outputs": [],
   "source": [
    "import pandas as pd\n",
    "from sklearn.model_selection import train_test_split"
   ]
  },
  {
   "cell_type": "markdown",
   "metadata": {},
   "source": [
    "# Splits"
   ]
  },
  {
   "cell_type": "markdown",
   "metadata": {},
   "source": [
    "Splits adapted from Glocker et al. [Risk of Bias in Chest Radiography Deep Learning Foundation Models]"
   ]
  },
  {
   "cell_type": "code",
   "execution_count": 2,
   "metadata": {},
   "outputs": [
    {
     "name": "stdout",
     "output_type": "stream",
     "text": [
      "Total:  127118\n",
      "Train:  0.5994823707106782\n",
      "Valid:  0.09969477178684372\n",
      "Test:  0.300822857502478\n"
     ]
    }
   ],
   "source": [
    "# Glocker et al. split: \n",
    "train = 76205\n",
    "valid = 12673\n",
    "test=38240\n",
    "\n",
    "sum = train + valid + test\n",
    "print(\"Total: \", sum)\n",
    "\n",
    "print(\"Train: \", train/sum)\n",
    "print(\"Valid: \", valid/sum)\n",
    "print(\"Test: \", test/sum)"
   ]
  },
  {
   "cell_type": "code",
   "execution_count": 3,
   "metadata": {},
   "outputs": [],
   "source": [
    "df = pd.read_csv('../final_data/chexpert_plus_240401_cleaned_label.csv')"
   ]
  },
  {
   "cell_type": "code",
   "execution_count": 4,
   "metadata": {},
   "outputs": [],
   "source": [
    "bias_var = [\"sex\", \"race\", \"health_insurance\"]"
   ]
  },
  {
   "cell_type": "markdown",
   "metadata": {},
   "source": [
    "### Create splits"
   ]
  },
  {
   "cell_type": "code",
   "execution_count": 5,
   "metadata": {},
   "outputs": [
    {
     "name": "stdout",
     "output_type": "stream",
     "text": [
      "Training set: 67263 samples\n",
      "Validation set: 4484 samples\n",
      "Test set: 40358 samples\n"
     ]
    }
   ],
   "source": [
    "# Combine the bias variables into a single column for stratification\n",
    "df['bias_combined'] = df[['sex', 'race', 'insurance_type']].apply(lambda row: '_'.join(row.values.astype(str)), axis=1)\n",
    "\n",
    "# Step 1: Split into train (60%) and temp (40%) while stratifying\n",
    "train_df, temp_df = train_test_split(df, test_size=0.4, stratify=df['bias_combined'], random_state=42)\n",
    "\n",
    "# Step 2: Split temp into validation (20%) and test (20%) while stratifying\n",
    "valid_df, test_df = train_test_split(temp_df, test_size=0.9, stratify=temp_df['bias_combined'], random_state=42)\n",
    "\n",
    "# Drop the combined bias column if not needed\n",
    "train_df = train_df.drop(columns=['bias_combined'])\n",
    "valid_df = valid_df.drop(columns=['bias_combined'])\n",
    "test_df = test_df.drop(columns=['bias_combined'])\n",
    "\n",
    "# Print the number of samples in each set (optional)\n",
    "print(f\"Training set: {len(train_df)} samples\")\n",
    "print(f\"Validation set: {len(valid_df)} samples\")\n",
    "print(f\"Test set: {len(test_df)} samples\")\n"
   ]
  },
  {
   "cell_type": "markdown",
   "metadata": {},
   "source": [
    "### sex distribution"
   ]
  },
  {
   "cell_type": "code",
   "execution_count": 6,
   "metadata": {},
   "outputs": [
    {
     "name": "stdout",
     "output_type": "stream",
     "text": [
      "### OVERALL DATA ###\n",
      "     Count\n",
      "sex       \n",
      "0    65060\n",
      "1    47045\n",
      "     Percentage\n",
      "sex            \n",
      "0     58.034878\n",
      "1     41.965122\n",
      "\n",
      "\n",
      "### TRAIN SET ###\n",
      "     Count\n",
      "sex       \n",
      "0    39035\n",
      "1    28228\n",
      "     Percentage\n",
      "sex            \n",
      "0     58.033391\n",
      "1     41.966609\n",
      "\n",
      "\n",
      "### TEST SET ###\n",
      "     Count\n",
      "sex       \n",
      "0    23423\n",
      "1    16935\n",
      "     Percentage\n",
      "sex            \n",
      "0     58.038059\n",
      "1     41.961941\n",
      "\n",
      "\n",
      "### VALIDATION SET ###\n",
      "     Count\n",
      "sex       \n",
      "0     2602\n",
      "1     1882\n",
      "     Percentage\n",
      "sex            \n",
      "0     58.028546\n",
      "1     41.971454\n"
     ]
    }
   ],
   "source": [
    "# Print overall race distribution\n",
    "print(\"### OVERALL DATA ###\")\n",
    "print(df['sex'].value_counts().to_frame('Count'))\n",
    "print(df['sex'].value_counts(normalize=True).to_frame('Percentage') * 100)\n",
    "print(\"\\n\")\n",
    "\n",
    "# Print training set race distribution\n",
    "print(\"### TRAIN SET ###\")\n",
    "print(train_df['sex'].value_counts().to_frame('Count'))\n",
    "print(train_df['sex'].value_counts(normalize=True).to_frame('Percentage') * 100)\n",
    "print(\"\\n\")\n",
    "\n",
    "# Print test set race distribution\n",
    "print(\"### TEST SET ###\")\n",
    "print(test_df['sex'].value_counts().to_frame('Count'))\n",
    "print(test_df['sex'].value_counts(normalize=True).to_frame('Percentage') * 100)\n",
    "print(\"\\n\")\n",
    "\n",
    "# Print validation set race distribution\n",
    "print(\"### VALIDATION SET ###\")\n",
    "print(valid_df['sex'].value_counts().to_frame('Count'))\n",
    "print(valid_df['sex'].value_counts(normalize=True).to_frame('Percentage') * 100)\n"
   ]
  },
  {
   "cell_type": "markdown",
   "metadata": {},
   "source": [
    "### race distribution"
   ]
  },
  {
   "cell_type": "code",
   "execution_count": 7,
   "metadata": {},
   "outputs": [
    {
     "name": "stdout",
     "output_type": "stream",
     "text": [
      "### OVERALL DATA ###\n",
      "      Count\n",
      "race       \n",
      "0     87681\n",
      "1     16420\n",
      "2      8004\n",
      "      Percentage\n",
      "race            \n",
      "0      78.213282\n",
      "1      14.646983\n",
      "2       7.139735\n",
      "\n",
      "\n",
      "### TRAIN SET ###\n",
      "      Count\n",
      "race       \n",
      "0     52609\n",
      "1      9851\n",
      "2      4803\n",
      "      Percentage\n",
      "race            \n",
      "0      78.213877\n",
      "1      14.645496\n",
      "2       7.140627\n",
      "\n",
      "\n",
      "### TEST SET ###\n",
      "      Count\n",
      "race       \n",
      "0     31565\n",
      "1      5912\n",
      "2      2881\n",
      "      Percentage\n",
      "race            \n",
      "0      78.212498\n",
      "1      14.648892\n",
      "2       7.138609\n",
      "\n",
      "\n",
      "### VALIDATION SET ###\n",
      "      Count\n",
      "race       \n",
      "0      3507\n",
      "1       657\n",
      "2       320\n",
      "      Percentage\n",
      "race            \n",
      "0      78.211418\n",
      "1      14.652096\n",
      "2       7.136485\n"
     ]
    }
   ],
   "source": [
    "# Print overall race distribution\n",
    "print(\"### OVERALL DATA ###\")\n",
    "print(df['race'].value_counts().to_frame('Count'))\n",
    "print(df['race'].value_counts(normalize=True).to_frame('Percentage') * 100)\n",
    "print(\"\\n\")\n",
    "\n",
    "# Print training set race distribution\n",
    "print(\"### TRAIN SET ###\")\n",
    "print(train_df['race'].value_counts().to_frame('Count'))\n",
    "print(train_df['race'].value_counts(normalize=True).to_frame('Percentage') * 100)\n",
    "print(\"\\n\")\n",
    "\n",
    "# Print test set race distribution\n",
    "print(\"### TEST SET ###\")\n",
    "print(test_df['race'].value_counts().to_frame('Count'))\n",
    "print(test_df['race'].value_counts(normalize=True).to_frame('Percentage') * 100)\n",
    "print(\"\\n\")\n",
    "\n",
    "# Print validation set race distribution\n",
    "print(\"### VALIDATION SET ###\")\n",
    "print(valid_df['race'].value_counts().to_frame('Count'))\n",
    "print(valid_df['race'].value_counts(normalize=True).to_frame('Percentage') * 100)\n"
   ]
  },
  {
   "cell_type": "markdown",
   "metadata": {},
   "source": [
    "### insurance type"
   ]
  },
  {
   "cell_type": "code",
   "execution_count": 8,
   "metadata": {},
   "outputs": [
    {
     "name": "stdout",
     "output_type": "stream",
     "text": [
      "### OVERALL DATA ###\n",
      "                Count\n",
      "insurance_type       \n",
      "1               71875\n",
      "2               30590\n",
      "0                9640\n",
      "                Percentage\n",
      "insurance_type            \n",
      "1                64.114000\n",
      "2                27.286919\n",
      "0                 8.599081\n",
      "\n",
      "\n",
      "### TRAIN SET ###\n",
      "                Count\n",
      "insurance_type       \n",
      "1               43124\n",
      "2               18355\n",
      "0                5784\n",
      "                Percentage\n",
      "insurance_type            \n",
      "1                64.112514\n",
      "2                27.288405\n",
      "0                 8.599081\n",
      "\n",
      "\n",
      "### TEST SET ###\n",
      "                Count\n",
      "insurance_type       \n",
      "1               25877\n",
      "2               11011\n",
      "0                3470\n",
      "                Percentage\n",
      "insurance_type            \n",
      "1                64.118638\n",
      "2                27.283314\n",
      "0                 8.598047\n",
      "\n",
      "\n",
      "### VALIDATION SET ###\n",
      "                Count\n",
      "insurance_type       \n",
      "1                2874\n",
      "2                1224\n",
      "0                 386\n",
      "                Percentage\n",
      "insurance_type            \n",
      "1                64.094558\n",
      "2                27.297056\n",
      "0                 8.608385\n"
     ]
    }
   ],
   "source": [
    "# Print overall race distribution\n",
    "print(\"### OVERALL DATA ###\")\n",
    "print(df['insurance_type'].value_counts().to_frame('Count'))\n",
    "print(df['insurance_type'].value_counts(normalize=True).to_frame('Percentage') * 100)\n",
    "print(\"\\n\")\n",
    "\n",
    "# Print training set race distribution\n",
    "print(\"### TRAIN SET ###\")\n",
    "print(train_df['insurance_type'].value_counts().to_frame('Count'))\n",
    "print(train_df['insurance_type'].value_counts(normalize=True).to_frame('Percentage') * 100)\n",
    "print(\"\\n\")\n",
    "\n",
    "# Print test set race distribution\n",
    "print(\"### TEST SET ###\")\n",
    "print(test_df['insurance_type'].value_counts().to_frame('Count'))\n",
    "print(test_df['insurance_type'].value_counts(normalize=True).to_frame('Percentage') * 100)\n",
    "print(\"\\n\")\n",
    "\n",
    "# Print validation set race distribution\n",
    "print(\"### VALIDATION SET ###\")\n",
    "print(valid_df['insurance_type'].value_counts().to_frame('Count'))\n",
    "print(valid_df['insurance_type'].value_counts(normalize=True).to_frame('Percentage') * 100)\n"
   ]
  },
  {
   "cell_type": "markdown",
   "metadata": {},
   "source": [
    "### save data frames"
   ]
  },
  {
   "cell_type": "code",
   "execution_count": 9,
   "metadata": {},
   "outputs": [],
   "source": [
    "# df drop columns with Unnamed\n",
    "train_df = train_df.loc[:, ~train_df.columns.str.contains('^Unnamed')]\n",
    "valid_df = valid_df.loc[:, ~valid_df.columns.str.contains('^Unnamed')]\n",
    "test_df = test_df.loc[:, ~test_df.columns.str.contains('^Unnamed')]\n",
    "df = df.loc[:, ~df.columns.str.contains('^Unnamed')]\n"
   ]
  },
  {
   "cell_type": "code",
   "execution_count": 10,
   "metadata": {},
   "outputs": [],
   "source": [
    "# save\n",
    "train_df.to_csv('../final_data/chexpert_plus_240401_train.csv', index=False)\n",
    "valid_df.to_csv('../final_data/chexpert_plus_240401_valid.csv', index=False)\n",
    "test_df.to_csv('../final_data/chexpert_plus_240401_test.csv', index=False)\n",
    "# df.to_csv('/data4/lfay/chexpert_plus_240401_cleaned.csv', index=False)"
   ]
  }
 ],
 "metadata": {
  "kernelspec": {
   "display_name": "mitigate-bias",
   "language": "python",
   "name": "python3"
  },
  "language_info": {
   "codemirror_mode": {
    "name": "ipython",
    "version": 3
   },
   "file_extension": ".py",
   "mimetype": "text/x-python",
   "name": "python",
   "nbconvert_exporter": "python",
   "pygments_lexer": "ipython3",
   "version": "3.8.19"
  }
 },
 "nbformat": 4,
 "nbformat_minor": 2
}
