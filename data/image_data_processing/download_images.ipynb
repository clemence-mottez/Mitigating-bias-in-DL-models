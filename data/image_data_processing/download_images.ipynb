{
 "cells": [
  {
   "cell_type": "markdown",
   "metadata": {},
   "source": [
    "## Imports"
   ]
  },
  {
   "cell_type": "code",
   "execution_count": 1,
   "metadata": {},
   "outputs": [
    {
     "data": {
      "application/vnd.jupyter.widget-view+json": {
       "model_id": "acd88bea7007414cb0df59512f89d020",
       "version_major": 2,
       "version_minor": 0
      },
      "text/plain": [
       "VBox(children=(HTML(value='<center> <img\\nsrc=https://huggingface.co/front/assets/huggingface_logo-noborder.sv…"
      ]
     },
     "metadata": {},
     "output_type": "display_data"
    }
   ],
   "source": [
    "from huggingface_hub import notebook_login\n",
    "\n",
    "notebook_login()"
   ]
  },
  {
   "cell_type": "code",
   "execution_count": 2,
   "metadata": {},
   "outputs": [],
   "source": [
    "from datasets import load_dataset\n",
    "import os"
   ]
  },
  {
   "cell_type": "code",
   "execution_count": 4,
   "metadata": {},
   "outputs": [
    {
     "name": "stdout",
     "output_type": "stream",
     "text": [
      "Processing split: train\n"
     ]
    },
    {
     "data": {
      "application/vnd.jupyter.widget-view+json": {
       "model_id": "3c9c4b67065c40eba0d3bae110f60ab7",
       "version_major": 2,
       "version_minor": 0
      },
      "text/plain": [
       "Resolving data files:   0%|          | 0/625 [00:00<?, ?it/s]"
      ]
     },
     "metadata": {},
     "output_type": "display_data"
    },
    {
     "data": {
      "application/vnd.jupyter.widget-view+json": {
       "model_id": "b766f57ed51041e48436e92df7828a97",
       "version_major": 2,
       "version_minor": 0
      },
      "text/plain": [
       "Resolving data files:   0%|          | 0/625 [00:00<?, ?it/s]"
      ]
     },
     "metadata": {},
     "output_type": "display_data"
    },
    {
     "data": {
      "application/vnd.jupyter.widget-view+json": {
       "model_id": "51a13c4702f44941ac217e3138f9aa9c",
       "version_major": 2,
       "version_minor": 0
      },
      "text/plain": [
       "Downloading data:   0%|          | 0/625 [00:00<?, ?files/s]"
      ]
     },
     "metadata": {},
     "output_type": "display_data"
    },
    {
     "data": {
      "application/vnd.jupyter.widget-view+json": {
       "model_id": "41404d108502446f8f4b2c73d36c7c9e",
       "version_major": 2,
       "version_minor": 0
      },
      "text/plain": [
       "train-00116-of-00625.parquet:  71%|#######   | 41.9M/59.2M [00:00<?, ?B/s]"
      ]
     },
     "metadata": {},
     "output_type": "display_data"
    },
    {
     "data": {
      "application/vnd.jupyter.widget-view+json": {
       "model_id": "0a38a065cba94da791eabd357537664c",
       "version_major": 2,
       "version_minor": 0
      },
      "text/plain": [
       "train-00118-of-00625.parquet:   0%|          | 0.00/58.5M [00:00<?, ?B/s]"
      ]
     },
     "metadata": {},
     "output_type": "display_data"
    },
    {
     "data": {
      "application/vnd.jupyter.widget-view+json": {
       "model_id": "2e3f8df9a3de4a2c9b85f0a96d6a7efe",
       "version_major": 2,
       "version_minor": 0
      },
      "text/plain": [
       "train-00119-of-00625.parquet:   0%|          | 0.00/58.6M [00:00<?, ?B/s]"
      ]
     },
     "metadata": {},
     "output_type": "display_data"
    },
    {
     "data": {
      "application/vnd.jupyter.widget-view+json": {
       "model_id": "9cb1620e2b184213addcc4efd7164473",
       "version_major": 2,
       "version_minor": 0
      },
      "text/plain": [
       "train-00120-of-00625.parquet:   0%|          | 0.00/57.5M [00:00<?, ?B/s]"
      ]
     },
     "metadata": {},
     "output_type": "display_data"
    },
    {
     "data": {
      "application/vnd.jupyter.widget-view+json": {
       "model_id": "c1d09bd2060d42ae864fc82c52a5cc90",
       "version_major": 2,
       "version_minor": 0
      },
      "text/plain": [
       "train-00121-of-00625.parquet:   0%|          | 0.00/57.7M [00:00<?, ?B/s]"
      ]
     },
     "metadata": {},
     "output_type": "display_data"
    },
    {
     "data": {
      "application/vnd.jupyter.widget-view+json": {
       "model_id": "2ad7cb45a7c6456f8209dce630ac0ea6",
       "version_major": 2,
       "version_minor": 0
      },
      "text/plain": [
       "train-00122-of-00625.parquet:   0%|          | 0.00/59.0M [00:00<?, ?B/s]"
      ]
     },
     "metadata": {},
     "output_type": "display_data"
    },
    {
     "data": {
      "application/vnd.jupyter.widget-view+json": {
       "model_id": "e39dd135a21a450aa05f094dcdcbb798",
       "version_major": 2,
       "version_minor": 0
      },
      "text/plain": [
       "train-00123-of-00625.parquet:   0%|          | 0.00/58.8M [00:00<?, ?B/s]"
      ]
     },
     "metadata": {},
     "output_type": "display_data"
    },
    {
     "data": {
      "application/vnd.jupyter.widget-view+json": {
       "model_id": "bb1fe570fbc947c9acb470a6921ab032",
       "version_major": 2,
       "version_minor": 0
      },
      "text/plain": [
       "train-00124-of-00625.parquet:   0%|          | 0.00/58.9M [00:00<?, ?B/s]"
      ]
     },
     "metadata": {},
     "output_type": "display_data"
    },
    {
     "data": {
      "application/vnd.jupyter.widget-view+json": {
       "model_id": "dc104a1399f949768cd1765646cef732",
       "version_major": 2,
       "version_minor": 0
      },
      "text/plain": [
       "train-00125-of-00625.parquet:   0%|          | 0.00/58.8M [00:00<?, ?B/s]"
      ]
     },
     "metadata": {},
     "output_type": "display_data"
    },
    {
     "data": {
      "application/vnd.jupyter.widget-view+json": {
       "model_id": "eba53df1754b40498bafd79326b05440",
       "version_major": 2,
       "version_minor": 0
      },
      "text/plain": [
       "train-00126-of-00625.parquet:   0%|          | 0.00/58.4M [00:00<?, ?B/s]"
      ]
     },
     "metadata": {},
     "output_type": "display_data"
    },
    {
     "data": {
      "application/vnd.jupyter.widget-view+json": {
       "model_id": "9d9c5f669e0d42bbab3a38dd1e2ccf3b",
       "version_major": 2,
       "version_minor": 0
      },
      "text/plain": [
       "train-00127-of-00625.parquet:   0%|          | 0.00/57.8M [00:00<?, ?B/s]"
      ]
     },
     "metadata": {},
     "output_type": "display_data"
    },
    {
     "data": {
      "application/vnd.jupyter.widget-view+json": {
       "model_id": "138771351611407cb40c640dbb8ff4bc",
       "version_major": 2,
       "version_minor": 0
      },
      "text/plain": [
       "train-00128-of-00625.parquet:   0%|          | 0.00/58.0M [00:00<?, ?B/s]"
      ]
     },
     "metadata": {},
     "output_type": "display_data"
    },
    {
     "data": {
      "application/vnd.jupyter.widget-view+json": {
       "model_id": "4cbe6c28b140461cb47c3a6ef0146e6e",
       "version_major": 2,
       "version_minor": 0
      },
      "text/plain": [
       "train-00129-of-00625.parquet:   0%|          | 0.00/57.7M [00:00<?, ?B/s]"
      ]
     },
     "metadata": {},
     "output_type": "display_data"
    },
    {
     "data": {
      "application/vnd.jupyter.widget-view+json": {
       "model_id": "2dd9cf8e1b674d128292549538b916c7",
       "version_major": 2,
       "version_minor": 0
      },
      "text/plain": [
       "train-00130-of-00625.parquet:   0%|          | 0.00/59.3M [00:00<?, ?B/s]"
      ]
     },
     "metadata": {},
     "output_type": "display_data"
    },
    {
     "data": {
      "application/vnd.jupyter.widget-view+json": {
       "model_id": "4395907f1aba45ae9759ca73eaab448c",
       "version_major": 2,
       "version_minor": 0
      },
      "text/plain": [
       "train-00131-of-00625.parquet:   0%|          | 0.00/58.4M [00:00<?, ?B/s]"
      ]
     },
     "metadata": {},
     "output_type": "display_data"
    },
    {
     "data": {
      "application/vnd.jupyter.widget-view+json": {
       "model_id": "473b7c152cc9400b8246e445ba1218cf",
       "version_major": 2,
       "version_minor": 0
      },
      "text/plain": [
       "train-00132-of-00625.parquet:   0%|          | 0.00/59.4M [00:00<?, ?B/s]"
      ]
     },
     "metadata": {},
     "output_type": "display_data"
    },
    {
     "data": {
      "application/vnd.jupyter.widget-view+json": {
       "model_id": "b94952f4b9f645c890b7eb2da0d619d6",
       "version_major": 2,
       "version_minor": 0
      },
      "text/plain": [
       "train-00133-of-00625.parquet:   0%|          | 0.00/58.9M [00:00<?, ?B/s]"
      ]
     },
     "metadata": {},
     "output_type": "display_data"
    },
    {
     "data": {
      "application/vnd.jupyter.widget-view+json": {
       "model_id": "1e68dee311234ff4aa4d8a70100467ee",
       "version_major": 2,
       "version_minor": 0
      },
      "text/plain": [
       "train-00134-of-00625.parquet:   0%|          | 0.00/59.3M [00:00<?, ?B/s]"
      ]
     },
     "metadata": {},
     "output_type": "display_data"
    },
    {
     "data": {
      "application/vnd.jupyter.widget-view+json": {
       "model_id": "41f2f2b26456411588320e123a5cfd81",
       "version_major": 2,
       "version_minor": 0
      },
      "text/plain": [
       "train-00135-of-00625.parquet:   0%|          | 0.00/58.5M [00:00<?, ?B/s]"
      ]
     },
     "metadata": {},
     "output_type": "display_data"
    },
    {
     "data": {
      "application/vnd.jupyter.widget-view+json": {
       "model_id": "a19946381b5d431aaa62b7b043fa94a7",
       "version_major": 2,
       "version_minor": 0
      },
      "text/plain": [
       "train-00136-of-00625.parquet:   0%|          | 0.00/58.7M [00:00<?, ?B/s]"
      ]
     },
     "metadata": {},
     "output_type": "display_data"
    },
    {
     "data": {
      "application/vnd.jupyter.widget-view+json": {
       "model_id": "36973e10442e4e92a0e94b0866e03e5d",
       "version_major": 2,
       "version_minor": 0
      },
      "text/plain": [
       "train-00137-of-00625.parquet:   0%|          | 0.00/58.8M [00:00<?, ?B/s]"
      ]
     },
     "metadata": {},
     "output_type": "display_data"
    },
    {
     "data": {
      "application/vnd.jupyter.widget-view+json": {
       "model_id": "1a468cf4dc1b43a0a4559686494719ed",
       "version_major": 2,
       "version_minor": 0
      },
      "text/plain": [
       "train-00138-of-00625.parquet:   0%|          | 0.00/58.7M [00:00<?, ?B/s]"
      ]
     },
     "metadata": {},
     "output_type": "display_data"
    },
    {
     "data": {
      "application/vnd.jupyter.widget-view+json": {
       "model_id": "9dc5fcffcff845d59c55ac685888496b",
       "version_major": 2,
       "version_minor": 0
      },
      "text/plain": [
       "train-00139-of-00625.parquet:   0%|          | 0.00/59.0M [00:00<?, ?B/s]"
      ]
     },
     "metadata": {},
     "output_type": "display_data"
    },
    {
     "data": {
      "application/vnd.jupyter.widget-view+json": {
       "model_id": "aa6c1f2fe9fd449798a6a8a9a29749c7",
       "version_major": 2,
       "version_minor": 0
      },
      "text/plain": [
       "train-00140-of-00625.parquet:   0%|          | 0.00/58.5M [00:00<?, ?B/s]"
      ]
     },
     "metadata": {},
     "output_type": "display_data"
    },
    {
     "data": {
      "application/vnd.jupyter.widget-view+json": {
       "model_id": "702796f69ceb4926a6614b33d048a582",
       "version_major": 2,
       "version_minor": 0
      },
      "text/plain": [
       "train-00141-of-00625.parquet:   0%|          | 0.00/58.6M [00:00<?, ?B/s]"
      ]
     },
     "metadata": {},
     "output_type": "display_data"
    },
    {
     "data": {
      "application/vnd.jupyter.widget-view+json": {
       "model_id": "237ba95ce5bf4c1393ba5a5eb9af97d0",
       "version_major": 2,
       "version_minor": 0
      },
      "text/plain": [
       "train-00142-of-00625.parquet:   0%|          | 0.00/58.5M [00:00<?, ?B/s]"
      ]
     },
     "metadata": {},
     "output_type": "display_data"
    },
    {
     "data": {
      "application/vnd.jupyter.widget-view+json": {
       "model_id": "e908bd259757475e924d9606c717c76e",
       "version_major": 2,
       "version_minor": 0
      },
      "text/plain": [
       "train-00143-of-00625.parquet:   0%|          | 0.00/58.7M [00:00<?, ?B/s]"
      ]
     },
     "metadata": {},
     "output_type": "display_data"
    },
    {
     "data": {
      "application/vnd.jupyter.widget-view+json": {
       "model_id": "c7c0ba835aae409983a043e08aaa9b87",
       "version_major": 2,
       "version_minor": 0
      },
      "text/plain": [
       "train-00144-of-00625.parquet:   0%|          | 0.00/58.4M [00:00<?, ?B/s]"
      ]
     },
     "metadata": {},
     "output_type": "display_data"
    },
    {
     "data": {
      "application/vnd.jupyter.widget-view+json": {
       "model_id": "5bafe50b688b41578432da367969950a",
       "version_major": 2,
       "version_minor": 0
      },
      "text/plain": [
       "train-00145-of-00625.parquet:   0%|          | 0.00/58.3M [00:00<?, ?B/s]"
      ]
     },
     "metadata": {},
     "output_type": "display_data"
    },
    {
     "data": {
      "application/vnd.jupyter.widget-view+json": {
       "model_id": "335e6394c5d74f898de81744eec1239a",
       "version_major": 2,
       "version_minor": 0
      },
      "text/plain": [
       "train-00146-of-00625.parquet:   0%|          | 0.00/58.7M [00:00<?, ?B/s]"
      ]
     },
     "metadata": {},
     "output_type": "display_data"
    },
    {
     "data": {
      "application/vnd.jupyter.widget-view+json": {
       "model_id": "adcb9c59745b46cba15e10798cd88283",
       "version_major": 2,
       "version_minor": 0
      },
      "text/plain": [
       "train-00147-of-00625.parquet:   0%|          | 0.00/59.4M [00:00<?, ?B/s]"
      ]
     },
     "metadata": {},
     "output_type": "display_data"
    },
    {
     "data": {
      "application/vnd.jupyter.widget-view+json": {
       "model_id": "42b71ad9761e4c6a981e703099918c72",
       "version_major": 2,
       "version_minor": 0
      },
      "text/plain": [
       "train-00148-of-00625.parquet:   0%|          | 0.00/58.3M [00:00<?, ?B/s]"
      ]
     },
     "metadata": {},
     "output_type": "display_data"
    },
    {
     "data": {
      "application/vnd.jupyter.widget-view+json": {
       "model_id": "f6eeb8b6dd99441d9e9652569b643093",
       "version_major": 2,
       "version_minor": 0
      },
      "text/plain": [
       "train-00149-of-00625.parquet:   0%|          | 0.00/57.7M [00:00<?, ?B/s]"
      ]
     },
     "metadata": {},
     "output_type": "display_data"
    },
    {
     "data": {
      "application/vnd.jupyter.widget-view+json": {
       "model_id": "5cd40b8b3d3b40939c906720ceed266f",
       "version_major": 2,
       "version_minor": 0
      },
      "text/plain": [
       "train-00150-of-00625.parquet:   0%|          | 0.00/58.0M [00:00<?, ?B/s]"
      ]
     },
     "metadata": {},
     "output_type": "display_data"
    },
    {
     "data": {
      "application/vnd.jupyter.widget-view+json": {
       "model_id": "dba15dbdc799492ca93e3b67ddd5bf6e",
       "version_major": 2,
       "version_minor": 0
      },
      "text/plain": [
       "train-00151-of-00625.parquet:   0%|          | 0.00/59.3M [00:00<?, ?B/s]"
      ]
     },
     "metadata": {},
     "output_type": "display_data"
    },
    {
     "data": {
      "application/vnd.jupyter.widget-view+json": {
       "model_id": "fa3648357d2c497a849334de5599a939",
       "version_major": 2,
       "version_minor": 0
      },
      "text/plain": [
       "train-00152-of-00625.parquet:   0%|          | 0.00/59.6M [00:00<?, ?B/s]"
      ]
     },
     "metadata": {},
     "output_type": "display_data"
    },
    {
     "data": {
      "application/vnd.jupyter.widget-view+json": {
       "model_id": "65b0b3e8938a4879850a83302736ad30",
       "version_major": 2,
       "version_minor": 0
      },
      "text/plain": [
       "train-00153-of-00625.parquet:   0%|          | 0.00/58.0M [00:00<?, ?B/s]"
      ]
     },
     "metadata": {},
     "output_type": "display_data"
    },
    {
     "data": {
      "application/vnd.jupyter.widget-view+json": {
       "model_id": "840d8f8e6919457c8da6c07b08d371fd",
       "version_major": 2,
       "version_minor": 0
      },
      "text/plain": [
       "train-00154-of-00625.parquet:   0%|          | 0.00/57.3M [00:00<?, ?B/s]"
      ]
     },
     "metadata": {},
     "output_type": "display_data"
    },
    {
     "data": {
      "application/vnd.jupyter.widget-view+json": {
       "model_id": "9361c9039bf24ef89685ec66d29a782d",
       "version_major": 2,
       "version_minor": 0
      },
      "text/plain": [
       "train-00155-of-00625.parquet:   0%|          | 0.00/60.1M [00:00<?, ?B/s]"
      ]
     },
     "metadata": {},
     "output_type": "display_data"
    },
    {
     "data": {
      "application/vnd.jupyter.widget-view+json": {
       "model_id": "5b710150933a43628b179271a7d0d547",
       "version_major": 2,
       "version_minor": 0
      },
      "text/plain": [
       "train-00156-of-00625.parquet:   0%|          | 0.00/59.5M [00:00<?, ?B/s]"
      ]
     },
     "metadata": {},
     "output_type": "display_data"
    },
    {
     "data": {
      "application/vnd.jupyter.widget-view+json": {
       "model_id": "18d44c0a191846d785ca16967570d927",
       "version_major": 2,
       "version_minor": 0
      },
      "text/plain": [
       "train-00157-of-00625.parquet:   0%|          | 0.00/57.7M [00:00<?, ?B/s]"
      ]
     },
     "metadata": {},
     "output_type": "display_data"
    },
    {
     "data": {
      "application/vnd.jupyter.widget-view+json": {
       "model_id": "1f7336f5e14a4f94aa8bac41019fcb6e",
       "version_major": 2,
       "version_minor": 0
      },
      "text/plain": [
       "train-00158-of-00625.parquet:   0%|          | 0.00/58.4M [00:00<?, ?B/s]"
      ]
     },
     "metadata": {},
     "output_type": "display_data"
    },
    {
     "data": {
      "application/vnd.jupyter.widget-view+json": {
       "model_id": "6f352320ca984c4f9f19a734c6a4541f",
       "version_major": 2,
       "version_minor": 0
      },
      "text/plain": [
       "train-00159-of-00625.parquet:   0%|          | 0.00/58.6M [00:00<?, ?B/s]"
      ]
     },
     "metadata": {},
     "output_type": "display_data"
    },
    {
     "data": {
      "application/vnd.jupyter.widget-view+json": {
       "model_id": "50f6c7a57e384184905d57a78d8418b0",
       "version_major": 2,
       "version_minor": 0
      },
      "text/plain": [
       "train-00160-of-00625.parquet:   0%|          | 0.00/57.2M [00:00<?, ?B/s]"
      ]
     },
     "metadata": {},
     "output_type": "display_data"
    },
    {
     "data": {
      "application/vnd.jupyter.widget-view+json": {
       "model_id": "ee75379f84424fd6a6670e5d810dcb4d",
       "version_major": 2,
       "version_minor": 0
      },
      "text/plain": [
       "train-00161-of-00625.parquet:   0%|          | 0.00/58.9M [00:00<?, ?B/s]"
      ]
     },
     "metadata": {},
     "output_type": "display_data"
    },
    {
     "data": {
      "application/vnd.jupyter.widget-view+json": {
       "model_id": "7e92e3be6140429a9c974634d98ef292",
       "version_major": 2,
       "version_minor": 0
      },
      "text/plain": [
       "train-00162-of-00625.parquet:   0%|          | 0.00/58.9M [00:00<?, ?B/s]"
      ]
     },
     "metadata": {},
     "output_type": "display_data"
    },
    {
     "data": {
      "application/vnd.jupyter.widget-view+json": {
       "model_id": "8255434a32294daea7d3acb0515bf2dc",
       "version_major": 2,
       "version_minor": 0
      },
      "text/plain": [
       "train-00163-of-00625.parquet:   0%|          | 0.00/58.8M [00:00<?, ?B/s]"
      ]
     },
     "metadata": {},
     "output_type": "display_data"
    },
    {
     "data": {
      "application/vnd.jupyter.widget-view+json": {
       "model_id": "1fdd1ccd853a4d358d1c3ed73f7b7d47",
       "version_major": 2,
       "version_minor": 0
      },
      "text/plain": [
       "train-00164-of-00625.parquet:   0%|          | 0.00/60.1M [00:00<?, ?B/s]"
      ]
     },
     "metadata": {},
     "output_type": "display_data"
    },
    {
     "data": {
      "application/vnd.jupyter.widget-view+json": {
       "model_id": "cc7281fa013f43f0b9fe627920369195",
       "version_major": 2,
       "version_minor": 0
      },
      "text/plain": [
       "train-00165-of-00625.parquet:   0%|          | 0.00/58.5M [00:00<?, ?B/s]"
      ]
     },
     "metadata": {},
     "output_type": "display_data"
    },
    {
     "data": {
      "application/vnd.jupyter.widget-view+json": {
       "model_id": "c2e08507cae942519f46d499835dd5f1",
       "version_major": 2,
       "version_minor": 0
      },
      "text/plain": [
       "train-00166-of-00625.parquet:   0%|          | 0.00/57.5M [00:00<?, ?B/s]"
      ]
     },
     "metadata": {},
     "output_type": "display_data"
    },
    {
     "data": {
      "application/vnd.jupyter.widget-view+json": {
       "model_id": "e67313da4c104e25b054bab92cb88237",
       "version_major": 2,
       "version_minor": 0
      },
      "text/plain": [
       "train-00167-of-00625.parquet:   0%|          | 0.00/59.3M [00:00<?, ?B/s]"
      ]
     },
     "metadata": {},
     "output_type": "display_data"
    },
    {
     "data": {
      "application/vnd.jupyter.widget-view+json": {
       "model_id": "bb8dc7c82998451dbaa4257c0d8cdb11",
       "version_major": 2,
       "version_minor": 0
      },
      "text/plain": [
       "train-00168-of-00625.parquet:   0%|          | 0.00/57.2M [00:00<?, ?B/s]"
      ]
     },
     "metadata": {},
     "output_type": "display_data"
    },
    {
     "data": {
      "application/vnd.jupyter.widget-view+json": {
       "model_id": "678598ce067948c1927ca6da68b2b0dc",
       "version_major": 2,
       "version_minor": 0
      },
      "text/plain": [
       "train-00169-of-00625.parquet:   0%|          | 0.00/59.5M [00:00<?, ?B/s]"
      ]
     },
     "metadata": {},
     "output_type": "display_data"
    },
    {
     "data": {
      "application/vnd.jupyter.widget-view+json": {
       "model_id": "2ca1d2751168492ba58f67ed1543596c",
       "version_major": 2,
       "version_minor": 0
      },
      "text/plain": [
       "train-00170-of-00625.parquet:   0%|          | 0.00/58.2M [00:00<?, ?B/s]"
      ]
     },
     "metadata": {},
     "output_type": "display_data"
    },
    {
     "data": {
      "application/vnd.jupyter.widget-view+json": {
       "model_id": "3eb42b526b5a4af3918cc7a19ea077e1",
       "version_major": 2,
       "version_minor": 0
      },
      "text/plain": [
       "train-00171-of-00625.parquet:   0%|          | 0.00/59.3M [00:00<?, ?B/s]"
      ]
     },
     "metadata": {},
     "output_type": "display_data"
    },
    {
     "data": {
      "application/vnd.jupyter.widget-view+json": {
       "model_id": "183afb7ccb5148e1a10a0751a60a757b",
       "version_major": 2,
       "version_minor": 0
      },
      "text/plain": [
       "train-00172-of-00625.parquet:   0%|          | 0.00/59.1M [00:00<?, ?B/s]"
      ]
     },
     "metadata": {},
     "output_type": "display_data"
    },
    {
     "data": {
      "application/vnd.jupyter.widget-view+json": {
       "model_id": "52f614136ab347dea214a0f562e29214",
       "version_major": 2,
       "version_minor": 0
      },
      "text/plain": [
       "train-00173-of-00625.parquet:   0%|          | 0.00/58.9M [00:00<?, ?B/s]"
      ]
     },
     "metadata": {},
     "output_type": "display_data"
    },
    {
     "data": {
      "application/vnd.jupyter.widget-view+json": {
       "model_id": "181afbf944134d77a459bd9079e9d0e1",
       "version_major": 2,
       "version_minor": 0
      },
      "text/plain": [
       "train-00174-of-00625.parquet:   0%|          | 0.00/58.9M [00:00<?, ?B/s]"
      ]
     },
     "metadata": {},
     "output_type": "display_data"
    },
    {
     "data": {
      "application/vnd.jupyter.widget-view+json": {
       "model_id": "d6ce4d3639114c29a92c579d78dca00b",
       "version_major": 2,
       "version_minor": 0
      },
      "text/plain": [
       "train-00175-of-00625.parquet:   0%|          | 0.00/58.0M [00:00<?, ?B/s]"
      ]
     },
     "metadata": {},
     "output_type": "display_data"
    },
    {
     "data": {
      "application/vnd.jupyter.widget-view+json": {
       "model_id": "d0c1c9a708fb4a80b84afe7855f4f117",
       "version_major": 2,
       "version_minor": 0
      },
      "text/plain": [
       "train-00176-of-00625.parquet:   0%|          | 0.00/59.2M [00:00<?, ?B/s]"
      ]
     },
     "metadata": {},
     "output_type": "display_data"
    },
    {
     "data": {
      "application/vnd.jupyter.widget-view+json": {
       "model_id": "ec87e864c29d4170a8fdc805e3fd4f00",
       "version_major": 2,
       "version_minor": 0
      },
      "text/plain": [
       "train-00177-of-00625.parquet:   0%|          | 0.00/58.5M [00:00<?, ?B/s]"
      ]
     },
     "metadata": {},
     "output_type": "display_data"
    },
    {
     "data": {
      "application/vnd.jupyter.widget-view+json": {
       "model_id": "b5f58c87c94f4a67a31bc4943915c148",
       "version_major": 2,
       "version_minor": 0
      },
      "text/plain": [
       "train-00178-of-00625.parquet:   0%|          | 0.00/59.9M [00:00<?, ?B/s]"
      ]
     },
     "metadata": {},
     "output_type": "display_data"
    },
    {
     "data": {
      "application/vnd.jupyter.widget-view+json": {
       "model_id": "cb6a757ef6a94ea88e6b30f59e4b8834",
       "version_major": 2,
       "version_minor": 0
      },
      "text/plain": [
       "train-00179-of-00625.parquet:   0%|          | 0.00/57.5M [00:00<?, ?B/s]"
      ]
     },
     "metadata": {},
     "output_type": "display_data"
    },
    {
     "data": {
      "application/vnd.jupyter.widget-view+json": {
       "model_id": "e41cbf9059c84c208ec4f23cdbd2e84b",
       "version_major": 2,
       "version_minor": 0
      },
      "text/plain": [
       "train-00180-of-00625.parquet:   0%|          | 0.00/58.8M [00:00<?, ?B/s]"
      ]
     },
     "metadata": {},
     "output_type": "display_data"
    },
    {
     "data": {
      "application/vnd.jupyter.widget-view+json": {
       "model_id": "ab9cb6d74c7243fc8edd11bd47dd1007",
       "version_major": 2,
       "version_minor": 0
      },
      "text/plain": [
       "train-00181-of-00625.parquet:   0%|          | 0.00/58.1M [00:00<?, ?B/s]"
      ]
     },
     "metadata": {},
     "output_type": "display_data"
    },
    {
     "data": {
      "application/vnd.jupyter.widget-view+json": {
       "model_id": "dba6168314454a6c9302ca5c06e9def3",
       "version_major": 2,
       "version_minor": 0
      },
      "text/plain": [
       "train-00182-of-00625.parquet:   0%|          | 0.00/58.5M [00:00<?, ?B/s]"
      ]
     },
     "metadata": {},
     "output_type": "display_data"
    },
    {
     "data": {
      "application/vnd.jupyter.widget-view+json": {
       "model_id": "7dd197d42ab64c2b85eba56314feec12",
       "version_major": 2,
       "version_minor": 0
      },
      "text/plain": [
       "train-00183-of-00625.parquet:   0%|          | 0.00/57.9M [00:00<?, ?B/s]"
      ]
     },
     "metadata": {},
     "output_type": "display_data"
    },
    {
     "data": {
      "application/vnd.jupyter.widget-view+json": {
       "model_id": "42f21d98d983444b9b52f1b0fc842c18",
       "version_major": 2,
       "version_minor": 0
      },
      "text/plain": [
       "train-00184-of-00625.parquet:   0%|          | 0.00/58.4M [00:00<?, ?B/s]"
      ]
     },
     "metadata": {},
     "output_type": "display_data"
    },
    {
     "data": {
      "application/vnd.jupyter.widget-view+json": {
       "model_id": "0a46666c79da443b90b0dcb303eb4774",
       "version_major": 2,
       "version_minor": 0
      },
      "text/plain": [
       "train-00185-of-00625.parquet:   0%|          | 0.00/59.6M [00:00<?, ?B/s]"
      ]
     },
     "metadata": {},
     "output_type": "display_data"
    },
    {
     "data": {
      "application/vnd.jupyter.widget-view+json": {
       "model_id": "9d23bac1bed64e0a9f573eee6f4dcb14",
       "version_major": 2,
       "version_minor": 0
      },
      "text/plain": [
       "train-00186-of-00625.parquet:   0%|          | 0.00/58.3M [00:00<?, ?B/s]"
      ]
     },
     "metadata": {},
     "output_type": "display_data"
    },
    {
     "data": {
      "application/vnd.jupyter.widget-view+json": {
       "model_id": "47b15b0ee6ae49c4964d9d971b73f11f",
       "version_major": 2,
       "version_minor": 0
      },
      "text/plain": [
       "train-00187-of-00625.parquet:   0%|          | 0.00/58.5M [00:00<?, ?B/s]"
      ]
     },
     "metadata": {},
     "output_type": "display_data"
    },
    {
     "data": {
      "application/vnd.jupyter.widget-view+json": {
       "model_id": "247692cf06104f948694a43242fb522a",
       "version_major": 2,
       "version_minor": 0
      },
      "text/plain": [
       "train-00188-of-00625.parquet:   0%|          | 0.00/58.3M [00:00<?, ?B/s]"
      ]
     },
     "metadata": {},
     "output_type": "display_data"
    },
    {
     "data": {
      "application/vnd.jupyter.widget-view+json": {
       "model_id": "33f17c0e7bb54814afbdd491ab857b69",
       "version_major": 2,
       "version_minor": 0
      },
      "text/plain": [
       "train-00189-of-00625.parquet:   0%|          | 0.00/59.2M [00:00<?, ?B/s]"
      ]
     },
     "metadata": {},
     "output_type": "display_data"
    },
    {
     "data": {
      "application/vnd.jupyter.widget-view+json": {
       "model_id": "0f25d929d5264bd88d15375eb2c53527",
       "version_major": 2,
       "version_minor": 0
      },
      "text/plain": [
       "train-00190-of-00625.parquet:   0%|          | 0.00/58.2M [00:00<?, ?B/s]"
      ]
     },
     "metadata": {},
     "output_type": "display_data"
    },
    {
     "data": {
      "application/vnd.jupyter.widget-view+json": {
       "model_id": "a4cee9826bf640259bb198aa29320779",
       "version_major": 2,
       "version_minor": 0
      },
      "text/plain": [
       "train-00191-of-00625.parquet:   0%|          | 0.00/58.6M [00:00<?, ?B/s]"
      ]
     },
     "metadata": {},
     "output_type": "display_data"
    },
    {
     "data": {
      "application/vnd.jupyter.widget-view+json": {
       "model_id": "edb498ef716546c29f98b8be86fdf284",
       "version_major": 2,
       "version_minor": 0
      },
      "text/plain": [
       "train-00192-of-00625.parquet:   0%|          | 0.00/58.6M [00:00<?, ?B/s]"
      ]
     },
     "metadata": {},
     "output_type": "display_data"
    },
    {
     "data": {
      "application/vnd.jupyter.widget-view+json": {
       "model_id": "87ca47a1bbd243ad93b9d45bd7411b06",
       "version_major": 2,
       "version_minor": 0
      },
      "text/plain": [
       "train-00193-of-00625.parquet:   0%|          | 0.00/59.5M [00:00<?, ?B/s]"
      ]
     },
     "metadata": {},
     "output_type": "display_data"
    },
    {
     "data": {
      "application/vnd.jupyter.widget-view+json": {
       "model_id": "82640971fd49421083e7295c50fcdb45",
       "version_major": 2,
       "version_minor": 0
      },
      "text/plain": [
       "train-00194-of-00625.parquet:   0%|          | 0.00/57.8M [00:00<?, ?B/s]"
      ]
     },
     "metadata": {},
     "output_type": "display_data"
    },
    {
     "data": {
      "application/vnd.jupyter.widget-view+json": {
       "model_id": "48f4df26ef684abab9cce9f351414b08",
       "version_major": 2,
       "version_minor": 0
      },
      "text/plain": [
       "train-00195-of-00625.parquet:   0%|          | 0.00/58.7M [00:00<?, ?B/s]"
      ]
     },
     "metadata": {},
     "output_type": "display_data"
    },
    {
     "data": {
      "application/vnd.jupyter.widget-view+json": {
       "model_id": "1a120067189544aea393b7ee5d605bd2",
       "version_major": 2,
       "version_minor": 0
      },
      "text/plain": [
       "train-00196-of-00625.parquet:   0%|          | 0.00/58.0M [00:00<?, ?B/s]"
      ]
     },
     "metadata": {},
     "output_type": "display_data"
    },
    {
     "data": {
      "application/vnd.jupyter.widget-view+json": {
       "model_id": "8d49d7f15690461f870934ac00eb3839",
       "version_major": 2,
       "version_minor": 0
      },
      "text/plain": [
       "train-00197-of-00625.parquet:   0%|          | 0.00/57.7M [00:00<?, ?B/s]"
      ]
     },
     "metadata": {},
     "output_type": "display_data"
    },
    {
     "data": {
      "application/vnd.jupyter.widget-view+json": {
       "model_id": "a1709ae6f68c409d9868aad881cf4518",
       "version_major": 2,
       "version_minor": 0
      },
      "text/plain": [
       "train-00198-of-00625.parquet:   0%|          | 0.00/58.9M [00:00<?, ?B/s]"
      ]
     },
     "metadata": {},
     "output_type": "display_data"
    },
    {
     "data": {
      "application/vnd.jupyter.widget-view+json": {
       "model_id": "dcf0ee5572d94bc7b0a9e39fcac0d87b",
       "version_major": 2,
       "version_minor": 0
      },
      "text/plain": [
       "train-00199-of-00625.parquet:   0%|          | 0.00/58.5M [00:00<?, ?B/s]"
      ]
     },
     "metadata": {},
     "output_type": "display_data"
    },
    {
     "data": {
      "application/vnd.jupyter.widget-view+json": {
       "model_id": "07887ea856c14d688c64ce2a2bd5d379",
       "version_major": 2,
       "version_minor": 0
      },
      "text/plain": [
       "train-00200-of-00625.parquet:   0%|          | 0.00/60.2M [00:00<?, ?B/s]"
      ]
     },
     "metadata": {},
     "output_type": "display_data"
    },
    {
     "data": {
      "application/vnd.jupyter.widget-view+json": {
       "model_id": "288b4dff10364599a2d54aaa02fa491e",
       "version_major": 2,
       "version_minor": 0
      },
      "text/plain": [
       "train-00201-of-00625.parquet:   0%|          | 0.00/57.2M [00:00<?, ?B/s]"
      ]
     },
     "metadata": {},
     "output_type": "display_data"
    },
    {
     "data": {
      "application/vnd.jupyter.widget-view+json": {
       "model_id": "cac1fa465cae473d8e4722882920ba08",
       "version_major": 2,
       "version_minor": 0
      },
      "text/plain": [
       "train-00202-of-00625.parquet:   0%|          | 0.00/57.1M [00:00<?, ?B/s]"
      ]
     },
     "metadata": {},
     "output_type": "display_data"
    },
    {
     "data": {
      "application/vnd.jupyter.widget-view+json": {
       "model_id": "1d63035ebeed4c0492aa20f130c61b09",
       "version_major": 2,
       "version_minor": 0
      },
      "text/plain": [
       "train-00203-of-00625.parquet:   0%|          | 0.00/59.3M [00:00<?, ?B/s]"
      ]
     },
     "metadata": {},
     "output_type": "display_data"
    },
    {
     "data": {
      "application/vnd.jupyter.widget-view+json": {
       "model_id": "1f9d1bc1f9d84d08906020fa8de1ec1d",
       "version_major": 2,
       "version_minor": 0
      },
      "text/plain": [
       "train-00204-of-00625.parquet:   0%|          | 0.00/59.4M [00:00<?, ?B/s]"
      ]
     },
     "metadata": {},
     "output_type": "display_data"
    },
    {
     "data": {
      "application/vnd.jupyter.widget-view+json": {
       "model_id": "8359defadaf74edcbc9f211500159ebc",
       "version_major": 2,
       "version_minor": 0
      },
      "text/plain": [
       "train-00205-of-00625.parquet:   0%|          | 0.00/58.8M [00:00<?, ?B/s]"
      ]
     },
     "metadata": {},
     "output_type": "display_data"
    },
    {
     "data": {
      "application/vnd.jupyter.widget-view+json": {
       "model_id": "a50befc47800425a91e51c62e5489261",
       "version_major": 2,
       "version_minor": 0
      },
      "text/plain": [
       "train-00206-of-00625.parquet:   0%|          | 0.00/59.5M [00:00<?, ?B/s]"
      ]
     },
     "metadata": {},
     "output_type": "display_data"
    },
    {
     "data": {
      "application/vnd.jupyter.widget-view+json": {
       "model_id": "171ab7b0933a4603a4033cead7513490",
       "version_major": 2,
       "version_minor": 0
      },
      "text/plain": [
       "train-00207-of-00625.parquet:   0%|          | 0.00/58.4M [00:00<?, ?B/s]"
      ]
     },
     "metadata": {},
     "output_type": "display_data"
    },
    {
     "data": {
      "application/vnd.jupyter.widget-view+json": {
       "model_id": "16439050d2b8472b9685e5b490223dea",
       "version_major": 2,
       "version_minor": 0
      },
      "text/plain": [
       "train-00208-of-00625.parquet:   0%|          | 0.00/58.5M [00:00<?, ?B/s]"
      ]
     },
     "metadata": {},
     "output_type": "display_data"
    },
    {
     "data": {
      "application/vnd.jupyter.widget-view+json": {
       "model_id": "290ae1d1c04d47ebba0818a8cbe5b9c2",
       "version_major": 2,
       "version_minor": 0
      },
      "text/plain": [
       "train-00209-of-00625.parquet:   0%|          | 0.00/59.3M [00:00<?, ?B/s]"
      ]
     },
     "metadata": {},
     "output_type": "display_data"
    },
    {
     "data": {
      "application/vnd.jupyter.widget-view+json": {
       "model_id": "80f2be606b8b42f490ce78393c6bd11c",
       "version_major": 2,
       "version_minor": 0
      },
      "text/plain": [
       "train-00210-of-00625.parquet:   0%|          | 0.00/58.3M [00:00<?, ?B/s]"
      ]
     },
     "metadata": {},
     "output_type": "display_data"
    },
    {
     "data": {
      "application/vnd.jupyter.widget-view+json": {
       "model_id": "643880b0c6ab44fd8a34a56a934e3f47",
       "version_major": 2,
       "version_minor": 0
      },
      "text/plain": [
       "train-00211-of-00625.parquet:   0%|          | 0.00/59.0M [00:00<?, ?B/s]"
      ]
     },
     "metadata": {},
     "output_type": "display_data"
    },
    {
     "data": {
      "application/vnd.jupyter.widget-view+json": {
       "model_id": "646aff3e45044e118d40b143219f1871",
       "version_major": 2,
       "version_minor": 0
      },
      "text/plain": [
       "train-00212-of-00625.parquet:   0%|          | 0.00/58.9M [00:00<?, ?B/s]"
      ]
     },
     "metadata": {},
     "output_type": "display_data"
    },
    {
     "data": {
      "application/vnd.jupyter.widget-view+json": {
       "model_id": "064f71af90e4439c8f17b0bdbb905cfe",
       "version_major": 2,
       "version_minor": 0
      },
      "text/plain": [
       "train-00213-of-00625.parquet:   0%|          | 0.00/58.1M [00:00<?, ?B/s]"
      ]
     },
     "metadata": {},
     "output_type": "display_data"
    },
    {
     "data": {
      "application/vnd.jupyter.widget-view+json": {
       "model_id": "7c76ddf5a20c4eda960d8ae450bfd4be",
       "version_major": 2,
       "version_minor": 0
      },
      "text/plain": [
       "train-00214-of-00625.parquet:   0%|          | 0.00/57.7M [00:00<?, ?B/s]"
      ]
     },
     "metadata": {},
     "output_type": "display_data"
    },
    {
     "data": {
      "application/vnd.jupyter.widget-view+json": {
       "model_id": "5dff93d9598e434e88a78371b187e70a",
       "version_major": 2,
       "version_minor": 0
      },
      "text/plain": [
       "train-00215-of-00625.parquet:   0%|          | 0.00/58.0M [00:00<?, ?B/s]"
      ]
     },
     "metadata": {},
     "output_type": "display_data"
    },
    {
     "data": {
      "application/vnd.jupyter.widget-view+json": {
       "model_id": "9b2317022c804fb9a0e309f4033ddf1d",
       "version_major": 2,
       "version_minor": 0
      },
      "text/plain": [
       "train-00216-of-00625.parquet:   0%|          | 0.00/57.4M [00:00<?, ?B/s]"
      ]
     },
     "metadata": {},
     "output_type": "display_data"
    },
    {
     "data": {
      "application/vnd.jupyter.widget-view+json": {
       "model_id": "c0de50bbfd874eb38f786fce9c70e036",
       "version_major": 2,
       "version_minor": 0
      },
      "text/plain": [
       "train-00217-of-00625.parquet:   0%|          | 0.00/58.4M [00:00<?, ?B/s]"
      ]
     },
     "metadata": {},
     "output_type": "display_data"
    },
    {
     "data": {
      "application/vnd.jupyter.widget-view+json": {
       "model_id": "67db7bd3e9824db69c9e4e7be22373b0",
       "version_major": 2,
       "version_minor": 0
      },
      "text/plain": [
       "train-00218-of-00625.parquet:   0%|          | 0.00/58.3M [00:00<?, ?B/s]"
      ]
     },
     "metadata": {},
     "output_type": "display_data"
    },
    {
     "data": {
      "application/vnd.jupyter.widget-view+json": {
       "model_id": "0d7a3b7263d74bb8818ce78679b05a98",
       "version_major": 2,
       "version_minor": 0
      },
      "text/plain": [
       "train-00219-of-00625.parquet:   0%|          | 0.00/58.4M [00:00<?, ?B/s]"
      ]
     },
     "metadata": {},
     "output_type": "display_data"
    },
    {
     "data": {
      "application/vnd.jupyter.widget-view+json": {
       "model_id": "95e007ec66d94a18ac5e41b5fd9b10ec",
       "version_major": 2,
       "version_minor": 0
      },
      "text/plain": [
       "train-00220-of-00625.parquet:   0%|          | 0.00/59.8M [00:00<?, ?B/s]"
      ]
     },
     "metadata": {},
     "output_type": "display_data"
    },
    {
     "data": {
      "application/vnd.jupyter.widget-view+json": {
       "model_id": "2c1752dffe1c45419c443286933b947d",
       "version_major": 2,
       "version_minor": 0
      },
      "text/plain": [
       "train-00221-of-00625.parquet:   0%|          | 0.00/58.5M [00:00<?, ?B/s]"
      ]
     },
     "metadata": {},
     "output_type": "display_data"
    },
    {
     "data": {
      "application/vnd.jupyter.widget-view+json": {
       "model_id": "be81d7171beb4eef955ab0462da580d5",
       "version_major": 2,
       "version_minor": 0
      },
      "text/plain": [
       "train-00222-of-00625.parquet:   0%|          | 0.00/59.0M [00:00<?, ?B/s]"
      ]
     },
     "metadata": {},
     "output_type": "display_data"
    },
    {
     "data": {
      "application/vnd.jupyter.widget-view+json": {
       "model_id": "11f0ec2e04114094bb6c0c22ea7dab7d",
       "version_major": 2,
       "version_minor": 0
      },
      "text/plain": [
       "train-00223-of-00625.parquet:   0%|          | 0.00/58.5M [00:00<?, ?B/s]"
      ]
     },
     "metadata": {},
     "output_type": "display_data"
    },
    {
     "data": {
      "application/vnd.jupyter.widget-view+json": {
       "model_id": "280f925940fd4754a554a0e0d763f7c1",
       "version_major": 2,
       "version_minor": 0
      },
      "text/plain": [
       "train-00224-of-00625.parquet:   0%|          | 0.00/58.4M [00:00<?, ?B/s]"
      ]
     },
     "metadata": {},
     "output_type": "display_data"
    },
    {
     "data": {
      "application/vnd.jupyter.widget-view+json": {
       "model_id": "37b50d0c5fd44eccb456a29385b0b225",
       "version_major": 2,
       "version_minor": 0
      },
      "text/plain": [
       "train-00225-of-00625.parquet:   0%|          | 0.00/58.0M [00:00<?, ?B/s]"
      ]
     },
     "metadata": {},
     "output_type": "display_data"
    },
    {
     "data": {
      "application/vnd.jupyter.widget-view+json": {
       "model_id": "e9bb78e5a9d04d8eb47a90d0f0c05a99",
       "version_major": 2,
       "version_minor": 0
      },
      "text/plain": [
       "train-00226-of-00625.parquet:   0%|          | 0.00/58.0M [00:00<?, ?B/s]"
      ]
     },
     "metadata": {},
     "output_type": "display_data"
    },
    {
     "data": {
      "application/vnd.jupyter.widget-view+json": {
       "model_id": "14f8f71ef07843aab671af7b6d5ebb57",
       "version_major": 2,
       "version_minor": 0
      },
      "text/plain": [
       "train-00227-of-00625.parquet:   0%|          | 0.00/57.8M [00:00<?, ?B/s]"
      ]
     },
     "metadata": {},
     "output_type": "display_data"
    },
    {
     "data": {
      "application/vnd.jupyter.widget-view+json": {
       "model_id": "33af1a35781e4377998914cc893409ca",
       "version_major": 2,
       "version_minor": 0
      },
      "text/plain": [
       "train-00228-of-00625.parquet:   0%|          | 0.00/58.7M [00:00<?, ?B/s]"
      ]
     },
     "metadata": {},
     "output_type": "display_data"
    },
    {
     "data": {
      "application/vnd.jupyter.widget-view+json": {
       "model_id": "a666ac71ea884791b8b4c873eb079f1c",
       "version_major": 2,
       "version_minor": 0
      },
      "text/plain": [
       "train-00229-of-00625.parquet:   0%|          | 0.00/57.9M [00:00<?, ?B/s]"
      ]
     },
     "metadata": {},
     "output_type": "display_data"
    },
    {
     "data": {
      "application/vnd.jupyter.widget-view+json": {
       "model_id": "c7b85a6fd685480088ed31e807da0a44",
       "version_major": 2,
       "version_minor": 0
      },
      "text/plain": [
       "train-00230-of-00625.parquet:   0%|          | 0.00/58.3M [00:00<?, ?B/s]"
      ]
     },
     "metadata": {},
     "output_type": "display_data"
    },
    {
     "data": {
      "application/vnd.jupyter.widget-view+json": {
       "model_id": "450270c2042847b391eba8ba379c990f",
       "version_major": 2,
       "version_minor": 0
      },
      "text/plain": [
       "train-00231-of-00625.parquet:   0%|          | 0.00/57.3M [00:00<?, ?B/s]"
      ]
     },
     "metadata": {},
     "output_type": "display_data"
    },
    {
     "data": {
      "application/vnd.jupyter.widget-view+json": {
       "model_id": "3ddffc16c343462abe58cb3b4815d293",
       "version_major": 2,
       "version_minor": 0
      },
      "text/plain": [
       "train-00232-of-00625.parquet:   0%|          | 0.00/58.0M [00:00<?, ?B/s]"
      ]
     },
     "metadata": {},
     "output_type": "display_data"
    },
    {
     "data": {
      "application/vnd.jupyter.widget-view+json": {
       "model_id": "4e1ca7bfe6594f0a8e296c154c1fc3b6",
       "version_major": 2,
       "version_minor": 0
      },
      "text/plain": [
       "train-00233-of-00625.parquet:   0%|          | 0.00/58.9M [00:00<?, ?B/s]"
      ]
     },
     "metadata": {},
     "output_type": "display_data"
    },
    {
     "data": {
      "application/vnd.jupyter.widget-view+json": {
       "model_id": "078fbbadb5b34fdda38d21ebae3bcbad",
       "version_major": 2,
       "version_minor": 0
      },
      "text/plain": [
       "train-00234-of-00625.parquet:   0%|          | 0.00/58.9M [00:00<?, ?B/s]"
      ]
     },
     "metadata": {},
     "output_type": "display_data"
    },
    {
     "data": {
      "application/vnd.jupyter.widget-view+json": {
       "model_id": "64cc1bcf78424fbca3f404fe8c8fa0ac",
       "version_major": 2,
       "version_minor": 0
      },
      "text/plain": [
       "train-00235-of-00625.parquet:   0%|          | 0.00/59.2M [00:00<?, ?B/s]"
      ]
     },
     "metadata": {},
     "output_type": "display_data"
    },
    {
     "data": {
      "application/vnd.jupyter.widget-view+json": {
       "model_id": "20526c3540704849bc78b53a05f141b3",
       "version_major": 2,
       "version_minor": 0
      },
      "text/plain": [
       "train-00236-of-00625.parquet:   0%|          | 0.00/58.4M [00:00<?, ?B/s]"
      ]
     },
     "metadata": {},
     "output_type": "display_data"
    },
    {
     "data": {
      "application/vnd.jupyter.widget-view+json": {
       "model_id": "15d51538866f430a9c78ee17b7a58e4b",
       "version_major": 2,
       "version_minor": 0
      },
      "text/plain": [
       "train-00237-of-00625.parquet:   0%|          | 0.00/58.8M [00:00<?, ?B/s]"
      ]
     },
     "metadata": {},
     "output_type": "display_data"
    },
    {
     "data": {
      "application/vnd.jupyter.widget-view+json": {
       "model_id": "7227c4c0b7c54b65aa5a6b681b57b3c0",
       "version_major": 2,
       "version_minor": 0
      },
      "text/plain": [
       "train-00238-of-00625.parquet:   0%|          | 0.00/58.8M [00:00<?, ?B/s]"
      ]
     },
     "metadata": {},
     "output_type": "display_data"
    },
    {
     "data": {
      "application/vnd.jupyter.widget-view+json": {
       "model_id": "c07bc964e064438abc5ac19ee018b479",
       "version_major": 2,
       "version_minor": 0
      },
      "text/plain": [
       "train-00239-of-00625.parquet:   0%|          | 0.00/58.7M [00:00<?, ?B/s]"
      ]
     },
     "metadata": {},
     "output_type": "display_data"
    },
    {
     "data": {
      "application/vnd.jupyter.widget-view+json": {
       "model_id": "2baef9bceba2456ebc8b0bb017f4dad6",
       "version_major": 2,
       "version_minor": 0
      },
      "text/plain": [
       "train-00240-of-00625.parquet:   0%|          | 0.00/58.7M [00:00<?, ?B/s]"
      ]
     },
     "metadata": {},
     "output_type": "display_data"
    },
    {
     "data": {
      "application/vnd.jupyter.widget-view+json": {
       "model_id": "be6f10ce03fb4027ac83d82963a00077",
       "version_major": 2,
       "version_minor": 0
      },
      "text/plain": [
       "train-00241-of-00625.parquet:   0%|          | 0.00/58.3M [00:00<?, ?B/s]"
      ]
     },
     "metadata": {},
     "output_type": "display_data"
    },
    {
     "data": {
      "application/vnd.jupyter.widget-view+json": {
       "model_id": "a366ddc106ea4f0b8074b56b6c6f4998",
       "version_major": 2,
       "version_minor": 0
      },
      "text/plain": [
       "train-00242-of-00625.parquet:   0%|          | 0.00/58.6M [00:00<?, ?B/s]"
      ]
     },
     "metadata": {},
     "output_type": "display_data"
    },
    {
     "data": {
      "application/vnd.jupyter.widget-view+json": {
       "model_id": "01b9d7676e6249fdbf92f7b8702e1997",
       "version_major": 2,
       "version_minor": 0
      },
      "text/plain": [
       "train-00243-of-00625.parquet:   0%|          | 0.00/58.7M [00:00<?, ?B/s]"
      ]
     },
     "metadata": {},
     "output_type": "display_data"
    },
    {
     "data": {
      "application/vnd.jupyter.widget-view+json": {
       "model_id": "28da570295c642a5b4535a3b7c2188ef",
       "version_major": 2,
       "version_minor": 0
      },
      "text/plain": [
       "train-00244-of-00625.parquet:   0%|          | 0.00/58.6M [00:00<?, ?B/s]"
      ]
     },
     "metadata": {},
     "output_type": "display_data"
    },
    {
     "data": {
      "application/vnd.jupyter.widget-view+json": {
       "model_id": "95597ac77152490cb4987a5993964911",
       "version_major": 2,
       "version_minor": 0
      },
      "text/plain": [
       "train-00245-of-00625.parquet:   0%|          | 0.00/58.9M [00:00<?, ?B/s]"
      ]
     },
     "metadata": {},
     "output_type": "display_data"
    },
    {
     "data": {
      "application/vnd.jupyter.widget-view+json": {
       "model_id": "6d7c571b4f224f9491c884c829300e50",
       "version_major": 2,
       "version_minor": 0
      },
      "text/plain": [
       "train-00246-of-00625.parquet:   0%|          | 0.00/59.0M [00:00<?, ?B/s]"
      ]
     },
     "metadata": {},
     "output_type": "display_data"
    },
    {
     "data": {
      "application/vnd.jupyter.widget-view+json": {
       "model_id": "34b0d70f843648afbc12833a7d8823a3",
       "version_major": 2,
       "version_minor": 0
      },
      "text/plain": [
       "train-00247-of-00625.parquet:   0%|          | 0.00/57.9M [00:00<?, ?B/s]"
      ]
     },
     "metadata": {},
     "output_type": "display_data"
    },
    {
     "data": {
      "application/vnd.jupyter.widget-view+json": {
       "model_id": "5f15493ce7ca4c42aaf738248fc1fceb",
       "version_major": 2,
       "version_minor": 0
      },
      "text/plain": [
       "train-00248-of-00625.parquet:   0%|          | 0.00/58.0M [00:00<?, ?B/s]"
      ]
     },
     "metadata": {},
     "output_type": "display_data"
    },
    {
     "data": {
      "application/vnd.jupyter.widget-view+json": {
       "model_id": "2e78655dadd944d99cb4cda81d698429",
       "version_major": 2,
       "version_minor": 0
      },
      "text/plain": [
       "train-00249-of-00625.parquet:   0%|          | 0.00/58.5M [00:00<?, ?B/s]"
      ]
     },
     "metadata": {},
     "output_type": "display_data"
    },
    {
     "data": {
      "application/vnd.jupyter.widget-view+json": {
       "model_id": "dc7a48e54ca749b28d7e12c681035761",
       "version_major": 2,
       "version_minor": 0
      },
      "text/plain": [
       "train-00250-of-00625.parquet:   0%|          | 0.00/58.9M [00:00<?, ?B/s]"
      ]
     },
     "metadata": {},
     "output_type": "display_data"
    },
    {
     "data": {
      "application/vnd.jupyter.widget-view+json": {
       "model_id": "a6e29849dbcd46e1b9ae4ce2b831bee1",
       "version_major": 2,
       "version_minor": 0
      },
      "text/plain": [
       "train-00251-of-00625.parquet:   0%|          | 0.00/58.2M [00:00<?, ?B/s]"
      ]
     },
     "metadata": {},
     "output_type": "display_data"
    },
    {
     "data": {
      "application/vnd.jupyter.widget-view+json": {
       "model_id": "732ca95f2dfa483eb5d980d4fc1dc940",
       "version_major": 2,
       "version_minor": 0
      },
      "text/plain": [
       "train-00252-of-00625.parquet:   0%|          | 0.00/58.7M [00:00<?, ?B/s]"
      ]
     },
     "metadata": {},
     "output_type": "display_data"
    },
    {
     "data": {
      "application/vnd.jupyter.widget-view+json": {
       "model_id": "64d6bf15b4a54007946e091e586c665e",
       "version_major": 2,
       "version_minor": 0
      },
      "text/plain": [
       "train-00253-of-00625.parquet:   0%|          | 0.00/59.4M [00:00<?, ?B/s]"
      ]
     },
     "metadata": {},
     "output_type": "display_data"
    },
    {
     "data": {
      "application/vnd.jupyter.widget-view+json": {
       "model_id": "db1e1d752b784ee9992b8aa37dd2a08f",
       "version_major": 2,
       "version_minor": 0
      },
      "text/plain": [
       "train-00254-of-00625.parquet:   0%|          | 0.00/58.2M [00:00<?, ?B/s]"
      ]
     },
     "metadata": {},
     "output_type": "display_data"
    },
    {
     "data": {
      "application/vnd.jupyter.widget-view+json": {
       "model_id": "ee8f945ee6b94c24bd219e6ae6b1de01",
       "version_major": 2,
       "version_minor": 0
      },
      "text/plain": [
       "train-00255-of-00625.parquet:   0%|          | 0.00/58.9M [00:00<?, ?B/s]"
      ]
     },
     "metadata": {},
     "output_type": "display_data"
    },
    {
     "data": {
      "application/vnd.jupyter.widget-view+json": {
       "model_id": "aa435d881c744924815868bf1057201d",
       "version_major": 2,
       "version_minor": 0
      },
      "text/plain": [
       "train-00256-of-00625.parquet:   0%|          | 0.00/59.0M [00:00<?, ?B/s]"
      ]
     },
     "metadata": {},
     "output_type": "display_data"
    },
    {
     "data": {
      "application/vnd.jupyter.widget-view+json": {
       "model_id": "96cc5b7ff10646bfaeaeee9be252678d",
       "version_major": 2,
       "version_minor": 0
      },
      "text/plain": [
       "train-00257-of-00625.parquet:   0%|          | 0.00/58.6M [00:00<?, ?B/s]"
      ]
     },
     "metadata": {},
     "output_type": "display_data"
    },
    {
     "data": {
      "application/vnd.jupyter.widget-view+json": {
       "model_id": "3477de89397f4e888fe43e93a8a4e7dd",
       "version_major": 2,
       "version_minor": 0
      },
      "text/plain": [
       "train-00258-of-00625.parquet:   0%|          | 0.00/58.6M [00:00<?, ?B/s]"
      ]
     },
     "metadata": {},
     "output_type": "display_data"
    },
    {
     "data": {
      "application/vnd.jupyter.widget-view+json": {
       "model_id": "e8d92b0d9c414e5490d39ffb30fe504b",
       "version_major": 2,
       "version_minor": 0
      },
      "text/plain": [
       "train-00259-of-00625.parquet:   0%|          | 0.00/57.5M [00:00<?, ?B/s]"
      ]
     },
     "metadata": {},
     "output_type": "display_data"
    },
    {
     "data": {
      "application/vnd.jupyter.widget-view+json": {
       "model_id": "3e27c8ef9d0e47acb09336980bfb52d4",
       "version_major": 2,
       "version_minor": 0
      },
      "text/plain": [
       "train-00260-of-00625.parquet:   0%|          | 0.00/57.6M [00:00<?, ?B/s]"
      ]
     },
     "metadata": {},
     "output_type": "display_data"
    },
    {
     "data": {
      "application/vnd.jupyter.widget-view+json": {
       "model_id": "050ff6fc31204662b2e79017e9c12c9a",
       "version_major": 2,
       "version_minor": 0
      },
      "text/plain": [
       "train-00261-of-00625.parquet:   0%|          | 0.00/59.5M [00:00<?, ?B/s]"
      ]
     },
     "metadata": {},
     "output_type": "display_data"
    },
    {
     "data": {
      "application/vnd.jupyter.widget-view+json": {
       "model_id": "e20078234d59421595621bbdc80f1c7d",
       "version_major": 2,
       "version_minor": 0
      },
      "text/plain": [
       "train-00262-of-00625.parquet:   0%|          | 0.00/58.2M [00:00<?, ?B/s]"
      ]
     },
     "metadata": {},
     "output_type": "display_data"
    },
    {
     "data": {
      "application/vnd.jupyter.widget-view+json": {
       "model_id": "88729e37bb424fd58967fa025df1bb4a",
       "version_major": 2,
       "version_minor": 0
      },
      "text/plain": [
       "train-00263-of-00625.parquet:   0%|          | 0.00/58.6M [00:00<?, ?B/s]"
      ]
     },
     "metadata": {},
     "output_type": "display_data"
    },
    {
     "data": {
      "application/vnd.jupyter.widget-view+json": {
       "model_id": "7ad5916c84fb476f9e43d4a22306e19b",
       "version_major": 2,
       "version_minor": 0
      },
      "text/plain": [
       "train-00264-of-00625.parquet:   0%|          | 0.00/58.5M [00:00<?, ?B/s]"
      ]
     },
     "metadata": {},
     "output_type": "display_data"
    },
    {
     "data": {
      "application/vnd.jupyter.widget-view+json": {
       "model_id": "7b546acd3f87403c8bbbe9412e49c77e",
       "version_major": 2,
       "version_minor": 0
      },
      "text/plain": [
       "train-00265-of-00625.parquet:   0%|          | 0.00/58.0M [00:00<?, ?B/s]"
      ]
     },
     "metadata": {},
     "output_type": "display_data"
    },
    {
     "data": {
      "application/vnd.jupyter.widget-view+json": {
       "model_id": "0bfb5b94a5df45c983f86c351deaf08b",
       "version_major": 2,
       "version_minor": 0
      },
      "text/plain": [
       "train-00266-of-00625.parquet:   0%|          | 0.00/57.1M [00:00<?, ?B/s]"
      ]
     },
     "metadata": {},
     "output_type": "display_data"
    },
    {
     "data": {
      "application/vnd.jupyter.widget-view+json": {
       "model_id": "80794f999ecd49c880f97ca0f75c0253",
       "version_major": 2,
       "version_minor": 0
      },
      "text/plain": [
       "train-00267-of-00625.parquet:   0%|          | 0.00/58.5M [00:00<?, ?B/s]"
      ]
     },
     "metadata": {},
     "output_type": "display_data"
    },
    {
     "data": {
      "application/vnd.jupyter.widget-view+json": {
       "model_id": "b01081e86540451f8f72a1427b2b7f70",
       "version_major": 2,
       "version_minor": 0
      },
      "text/plain": [
       "train-00268-of-00625.parquet:   0%|          | 0.00/58.8M [00:00<?, ?B/s]"
      ]
     },
     "metadata": {},
     "output_type": "display_data"
    },
    {
     "data": {
      "application/vnd.jupyter.widget-view+json": {
       "model_id": "be436a06c2b34080b0b2663d4601c812",
       "version_major": 2,
       "version_minor": 0
      },
      "text/plain": [
       "train-00269-of-00625.parquet:   0%|          | 0.00/59.3M [00:00<?, ?B/s]"
      ]
     },
     "metadata": {},
     "output_type": "display_data"
    },
    {
     "data": {
      "application/vnd.jupyter.widget-view+json": {
       "model_id": "f1a8a9d8455048d9873c94cf31010a5a",
       "version_major": 2,
       "version_minor": 0
      },
      "text/plain": [
       "train-00270-of-00625.parquet:   0%|          | 0.00/58.7M [00:00<?, ?B/s]"
      ]
     },
     "metadata": {},
     "output_type": "display_data"
    },
    {
     "data": {
      "application/vnd.jupyter.widget-view+json": {
       "model_id": "ce705d89d45b47b986653b92f4d0f73d",
       "version_major": 2,
       "version_minor": 0
      },
      "text/plain": [
       "train-00271-of-00625.parquet:   0%|          | 0.00/59.7M [00:00<?, ?B/s]"
      ]
     },
     "metadata": {},
     "output_type": "display_data"
    },
    {
     "data": {
      "application/vnd.jupyter.widget-view+json": {
       "model_id": "1507ac9e4e8942edac3926ac66ee9c4e",
       "version_major": 2,
       "version_minor": 0
      },
      "text/plain": [
       "train-00272-of-00625.parquet:   0%|          | 0.00/58.0M [00:00<?, ?B/s]"
      ]
     },
     "metadata": {},
     "output_type": "display_data"
    },
    {
     "data": {
      "application/vnd.jupyter.widget-view+json": {
       "model_id": "64b0b1d8744b49bd87c74eb22c1c5ed1",
       "version_major": 2,
       "version_minor": 0
      },
      "text/plain": [
       "train-00273-of-00625.parquet:   0%|          | 0.00/58.6M [00:00<?, ?B/s]"
      ]
     },
     "metadata": {},
     "output_type": "display_data"
    },
    {
     "data": {
      "application/vnd.jupyter.widget-view+json": {
       "model_id": "82d47ad851e44f159fc81d53debdcdf5",
       "version_major": 2,
       "version_minor": 0
      },
      "text/plain": [
       "train-00274-of-00625.parquet:   0%|          | 0.00/59.1M [00:00<?, ?B/s]"
      ]
     },
     "metadata": {},
     "output_type": "display_data"
    },
    {
     "data": {
      "application/vnd.jupyter.widget-view+json": {
       "model_id": "6260f8ce47a74484a5230da734ba51dc",
       "version_major": 2,
       "version_minor": 0
      },
      "text/plain": [
       "train-00275-of-00625.parquet:   0%|          | 0.00/60.3M [00:00<?, ?B/s]"
      ]
     },
     "metadata": {},
     "output_type": "display_data"
    },
    {
     "data": {
      "application/vnd.jupyter.widget-view+json": {
       "model_id": "63d197a9829d446b8d2632df1ee8cbd4",
       "version_major": 2,
       "version_minor": 0
      },
      "text/plain": [
       "train-00276-of-00625.parquet:   0%|          | 0.00/60.3M [00:00<?, ?B/s]"
      ]
     },
     "metadata": {},
     "output_type": "display_data"
    },
    {
     "data": {
      "application/vnd.jupyter.widget-view+json": {
       "model_id": "f0ae98678a344a4fa3db451255989131",
       "version_major": 2,
       "version_minor": 0
      },
      "text/plain": [
       "train-00277-of-00625.parquet:   0%|          | 0.00/59.2M [00:00<?, ?B/s]"
      ]
     },
     "metadata": {},
     "output_type": "display_data"
    },
    {
     "data": {
      "application/vnd.jupyter.widget-view+json": {
       "model_id": "7c8069939078465b81798c17505f3e10",
       "version_major": 2,
       "version_minor": 0
      },
      "text/plain": [
       "train-00278-of-00625.parquet:   0%|          | 0.00/58.1M [00:00<?, ?B/s]"
      ]
     },
     "metadata": {},
     "output_type": "display_data"
    },
    {
     "data": {
      "application/vnd.jupyter.widget-view+json": {
       "model_id": "bddf1b55fbe14485ba091295baf7e264",
       "version_major": 2,
       "version_minor": 0
      },
      "text/plain": [
       "train-00279-of-00625.parquet:   0%|          | 0.00/58.4M [00:00<?, ?B/s]"
      ]
     },
     "metadata": {},
     "output_type": "display_data"
    },
    {
     "data": {
      "application/vnd.jupyter.widget-view+json": {
       "model_id": "19271a28a23c4adea6772dfb573e72e7",
       "version_major": 2,
       "version_minor": 0
      },
      "text/plain": [
       "train-00280-of-00625.parquet:   0%|          | 0.00/59.5M [00:00<?, ?B/s]"
      ]
     },
     "metadata": {},
     "output_type": "display_data"
    },
    {
     "data": {
      "application/vnd.jupyter.widget-view+json": {
       "model_id": "a814446bf90d425f8a2fce19f7e9f346",
       "version_major": 2,
       "version_minor": 0
      },
      "text/plain": [
       "train-00281-of-00625.parquet:   0%|          | 0.00/59.4M [00:00<?, ?B/s]"
      ]
     },
     "metadata": {},
     "output_type": "display_data"
    },
    {
     "data": {
      "application/vnd.jupyter.widget-view+json": {
       "model_id": "455e1ec496204615a8d1e9c7e53e4c54",
       "version_major": 2,
       "version_minor": 0
      },
      "text/plain": [
       "train-00282-of-00625.parquet:   0%|          | 0.00/59.3M [00:00<?, ?B/s]"
      ]
     },
     "metadata": {},
     "output_type": "display_data"
    },
    {
     "data": {
      "application/vnd.jupyter.widget-view+json": {
       "model_id": "f18490af70a143b29e08cd45195077a3",
       "version_major": 2,
       "version_minor": 0
      },
      "text/plain": [
       "train-00283-of-00625.parquet:   0%|          | 0.00/58.7M [00:00<?, ?B/s]"
      ]
     },
     "metadata": {},
     "output_type": "display_data"
    },
    {
     "data": {
      "application/vnd.jupyter.widget-view+json": {
       "model_id": "9c72f382581f438b95669856e9c2e166",
       "version_major": 2,
       "version_minor": 0
      },
      "text/plain": [
       "train-00284-of-00625.parquet:   0%|          | 0.00/58.4M [00:00<?, ?B/s]"
      ]
     },
     "metadata": {},
     "output_type": "display_data"
    },
    {
     "data": {
      "application/vnd.jupyter.widget-view+json": {
       "model_id": "f7abbb01a02f45638a4aced04266aca9",
       "version_major": 2,
       "version_minor": 0
      },
      "text/plain": [
       "train-00285-of-00625.parquet:   0%|          | 0.00/58.2M [00:00<?, ?B/s]"
      ]
     },
     "metadata": {},
     "output_type": "display_data"
    },
    {
     "data": {
      "application/vnd.jupyter.widget-view+json": {
       "model_id": "3443e7095ae244cc90e6b9869e48ecc3",
       "version_major": 2,
       "version_minor": 0
      },
      "text/plain": [
       "train-00286-of-00625.parquet:   0%|          | 0.00/58.7M [00:00<?, ?B/s]"
      ]
     },
     "metadata": {},
     "output_type": "display_data"
    },
    {
     "data": {
      "application/vnd.jupyter.widget-view+json": {
       "model_id": "61c6a2b515b14e69adcd7d5dd6cd8abd",
       "version_major": 2,
       "version_minor": 0
      },
      "text/plain": [
       "train-00287-of-00625.parquet:   0%|          | 0.00/59.8M [00:00<?, ?B/s]"
      ]
     },
     "metadata": {},
     "output_type": "display_data"
    },
    {
     "data": {
      "application/vnd.jupyter.widget-view+json": {
       "model_id": "5b0ac9b4ada943879e1ce65dbd1361b6",
       "version_major": 2,
       "version_minor": 0
      },
      "text/plain": [
       "train-00288-of-00625.parquet:   0%|          | 0.00/59.2M [00:00<?, ?B/s]"
      ]
     },
     "metadata": {},
     "output_type": "display_data"
    },
    {
     "data": {
      "application/vnd.jupyter.widget-view+json": {
       "model_id": "f71952fdedaf48e9b9e74a3f5a98ec8b",
       "version_major": 2,
       "version_minor": 0
      },
      "text/plain": [
       "train-00289-of-00625.parquet:   0%|          | 0.00/58.9M [00:00<?, ?B/s]"
      ]
     },
     "metadata": {},
     "output_type": "display_data"
    },
    {
     "data": {
      "application/vnd.jupyter.widget-view+json": {
       "model_id": "d33f2bc381f541e6abd2fd170d6f216d",
       "version_major": 2,
       "version_minor": 0
      },
      "text/plain": [
       "train-00290-of-00625.parquet:   0%|          | 0.00/58.9M [00:00<?, ?B/s]"
      ]
     },
     "metadata": {},
     "output_type": "display_data"
    },
    {
     "data": {
      "application/vnd.jupyter.widget-view+json": {
       "model_id": "34bb4d43c5bb41539e83596580f517dc",
       "version_major": 2,
       "version_minor": 0
      },
      "text/plain": [
       "train-00291-of-00625.parquet:   0%|          | 0.00/59.1M [00:00<?, ?B/s]"
      ]
     },
     "metadata": {},
     "output_type": "display_data"
    },
    {
     "data": {
      "application/vnd.jupyter.widget-view+json": {
       "model_id": "a32aba48871849b6942fcc81c5f2d87d",
       "version_major": 2,
       "version_minor": 0
      },
      "text/plain": [
       "train-00292-of-00625.parquet:   0%|          | 0.00/58.5M [00:00<?, ?B/s]"
      ]
     },
     "metadata": {},
     "output_type": "display_data"
    },
    {
     "data": {
      "application/vnd.jupyter.widget-view+json": {
       "model_id": "d94be157d0ad45779291ec0f86f71ae3",
       "version_major": 2,
       "version_minor": 0
      },
      "text/plain": [
       "train-00293-of-00625.parquet:   0%|          | 0.00/58.8M [00:00<?, ?B/s]"
      ]
     },
     "metadata": {},
     "output_type": "display_data"
    },
    {
     "data": {
      "application/vnd.jupyter.widget-view+json": {
       "model_id": "6098a100348d452385b19bc2f250f20d",
       "version_major": 2,
       "version_minor": 0
      },
      "text/plain": [
       "train-00294-of-00625.parquet:   0%|          | 0.00/57.4M [00:00<?, ?B/s]"
      ]
     },
     "metadata": {},
     "output_type": "display_data"
    },
    {
     "data": {
      "application/vnd.jupyter.widget-view+json": {
       "model_id": "68f451a1e97f4595b3569b693a291142",
       "version_major": 2,
       "version_minor": 0
      },
      "text/plain": [
       "train-00295-of-00625.parquet:   0%|          | 0.00/58.0M [00:00<?, ?B/s]"
      ]
     },
     "metadata": {},
     "output_type": "display_data"
    },
    {
     "data": {
      "application/vnd.jupyter.widget-view+json": {
       "model_id": "49a17ca5454a413ebe4cd4285af38e4d",
       "version_major": 2,
       "version_minor": 0
      },
      "text/plain": [
       "train-00296-of-00625.parquet:   0%|          | 0.00/58.3M [00:00<?, ?B/s]"
      ]
     },
     "metadata": {},
     "output_type": "display_data"
    },
    {
     "data": {
      "application/vnd.jupyter.widget-view+json": {
       "model_id": "92b73fccbb3d4385b9c753c4614d987f",
       "version_major": 2,
       "version_minor": 0
      },
      "text/plain": [
       "train-00297-of-00625.parquet:   0%|          | 0.00/59.0M [00:00<?, ?B/s]"
      ]
     },
     "metadata": {},
     "output_type": "display_data"
    },
    {
     "data": {
      "application/vnd.jupyter.widget-view+json": {
       "model_id": "f0e975cccadc4f8d9d40db6be8a6a19a",
       "version_major": 2,
       "version_minor": 0
      },
      "text/plain": [
       "train-00298-of-00625.parquet:   0%|          | 0.00/59.4M [00:00<?, ?B/s]"
      ]
     },
     "metadata": {},
     "output_type": "display_data"
    },
    {
     "data": {
      "application/vnd.jupyter.widget-view+json": {
       "model_id": "c40b9e66a570471fba9c0bff0254eeb8",
       "version_major": 2,
       "version_minor": 0
      },
      "text/plain": [
       "train-00299-of-00625.parquet:   0%|          | 0.00/59.0M [00:00<?, ?B/s]"
      ]
     },
     "metadata": {},
     "output_type": "display_data"
    },
    {
     "data": {
      "application/vnd.jupyter.widget-view+json": {
       "model_id": "e47ff8e7a92940ddbc17e9a8e916a9b2",
       "version_major": 2,
       "version_minor": 0
      },
      "text/plain": [
       "train-00300-of-00625.parquet:   0%|          | 0.00/58.3M [00:00<?, ?B/s]"
      ]
     },
     "metadata": {},
     "output_type": "display_data"
    },
    {
     "data": {
      "application/vnd.jupyter.widget-view+json": {
       "model_id": "658d1098a27b422091b3b750f7093932",
       "version_major": 2,
       "version_minor": 0
      },
      "text/plain": [
       "train-00301-of-00625.parquet:   0%|          | 0.00/58.3M [00:00<?, ?B/s]"
      ]
     },
     "metadata": {},
     "output_type": "display_data"
    },
    {
     "data": {
      "application/vnd.jupyter.widget-view+json": {
       "model_id": "115e6d1869154fefa5370cc9e6d97b59",
       "version_major": 2,
       "version_minor": 0
      },
      "text/plain": [
       "train-00302-of-00625.parquet:   0%|          | 0.00/57.9M [00:00<?, ?B/s]"
      ]
     },
     "metadata": {},
     "output_type": "display_data"
    },
    {
     "data": {
      "application/vnd.jupyter.widget-view+json": {
       "model_id": "a588441e94b44a54a029c991409d33fd",
       "version_major": 2,
       "version_minor": 0
      },
      "text/plain": [
       "train-00303-of-00625.parquet:   0%|          | 0.00/59.3M [00:00<?, ?B/s]"
      ]
     },
     "metadata": {},
     "output_type": "display_data"
    },
    {
     "data": {
      "application/vnd.jupyter.widget-view+json": {
       "model_id": "dc711307f67f4bfe96d358c284fef989",
       "version_major": 2,
       "version_minor": 0
      },
      "text/plain": [
       "train-00304-of-00625.parquet:   0%|          | 0.00/57.9M [00:00<?, ?B/s]"
      ]
     },
     "metadata": {},
     "output_type": "display_data"
    },
    {
     "data": {
      "application/vnd.jupyter.widget-view+json": {
       "model_id": "1a412246210240fa9e6a3a30480adcfe",
       "version_major": 2,
       "version_minor": 0
      },
      "text/plain": [
       "train-00305-of-00625.parquet:   0%|          | 0.00/58.4M [00:00<?, ?B/s]"
      ]
     },
     "metadata": {},
     "output_type": "display_data"
    },
    {
     "data": {
      "application/vnd.jupyter.widget-view+json": {
       "model_id": "847acd88cada4b8b97613c0a23bde545",
       "version_major": 2,
       "version_minor": 0
      },
      "text/plain": [
       "train-00306-of-00625.parquet:   0%|          | 0.00/58.9M [00:00<?, ?B/s]"
      ]
     },
     "metadata": {},
     "output_type": "display_data"
    },
    {
     "data": {
      "application/vnd.jupyter.widget-view+json": {
       "model_id": "51e71549a0cb459881ef318f20b39c13",
       "version_major": 2,
       "version_minor": 0
      },
      "text/plain": [
       "train-00307-of-00625.parquet:   0%|          | 0.00/58.6M [00:00<?, ?B/s]"
      ]
     },
     "metadata": {},
     "output_type": "display_data"
    },
    {
     "data": {
      "application/vnd.jupyter.widget-view+json": {
       "model_id": "5067c3f7efda40369aa79708f8051eaf",
       "version_major": 2,
       "version_minor": 0
      },
      "text/plain": [
       "train-00308-of-00625.parquet:   0%|          | 0.00/57.7M [00:00<?, ?B/s]"
      ]
     },
     "metadata": {},
     "output_type": "display_data"
    },
    {
     "data": {
      "application/vnd.jupyter.widget-view+json": {
       "model_id": "522e91333b114aaca477a7eed1cee093",
       "version_major": 2,
       "version_minor": 0
      },
      "text/plain": [
       "train-00309-of-00625.parquet:   0%|          | 0.00/57.5M [00:00<?, ?B/s]"
      ]
     },
     "metadata": {},
     "output_type": "display_data"
    },
    {
     "data": {
      "application/vnd.jupyter.widget-view+json": {
       "model_id": "264ea53ff8244bc9a532bd4635bc216a",
       "version_major": 2,
       "version_minor": 0
      },
      "text/plain": [
       "train-00310-of-00625.parquet:   0%|          | 0.00/58.6M [00:00<?, ?B/s]"
      ]
     },
     "metadata": {},
     "output_type": "display_data"
    },
    {
     "data": {
      "application/vnd.jupyter.widget-view+json": {
       "model_id": "2e95dcf39b7740c1bc0d0f9b10939cd9",
       "version_major": 2,
       "version_minor": 0
      },
      "text/plain": [
       "train-00311-of-00625.parquet:   0%|          | 0.00/58.3M [00:00<?, ?B/s]"
      ]
     },
     "metadata": {},
     "output_type": "display_data"
    },
    {
     "data": {
      "application/vnd.jupyter.widget-view+json": {
       "model_id": "96baab637cf34b45aed9f92d96b4103f",
       "version_major": 2,
       "version_minor": 0
      },
      "text/plain": [
       "train-00312-of-00625.parquet:   0%|          | 0.00/58.4M [00:00<?, ?B/s]"
      ]
     },
     "metadata": {},
     "output_type": "display_data"
    },
    {
     "data": {
      "application/vnd.jupyter.widget-view+json": {
       "model_id": "69361d0516154b43822b07f40f6024a1",
       "version_major": 2,
       "version_minor": 0
      },
      "text/plain": [
       "train-00313-of-00625.parquet:   0%|          | 0.00/59.2M [00:00<?, ?B/s]"
      ]
     },
     "metadata": {},
     "output_type": "display_data"
    },
    {
     "data": {
      "application/vnd.jupyter.widget-view+json": {
       "model_id": "1ede1c0a6ac2473c91dc6591ce432152",
       "version_major": 2,
       "version_minor": 0
      },
      "text/plain": [
       "train-00314-of-00625.parquet:   0%|          | 0.00/58.1M [00:00<?, ?B/s]"
      ]
     },
     "metadata": {},
     "output_type": "display_data"
    },
    {
     "data": {
      "application/vnd.jupyter.widget-view+json": {
       "model_id": "e0c0bb1526524a62a436840c09f8dc1d",
       "version_major": 2,
       "version_minor": 0
      },
      "text/plain": [
       "train-00315-of-00625.parquet:   0%|          | 0.00/58.3M [00:00<?, ?B/s]"
      ]
     },
     "metadata": {},
     "output_type": "display_data"
    },
    {
     "data": {
      "application/vnd.jupyter.widget-view+json": {
       "model_id": "02cdbf1d39b64ea09ad3aa51ea395f12",
       "version_major": 2,
       "version_minor": 0
      },
      "text/plain": [
       "train-00316-of-00625.parquet:   0%|          | 0.00/58.3M [00:00<?, ?B/s]"
      ]
     },
     "metadata": {},
     "output_type": "display_data"
    },
    {
     "data": {
      "application/vnd.jupyter.widget-view+json": {
       "model_id": "04081e915d6e48739cc9db015d0e1a8b",
       "version_major": 2,
       "version_minor": 0
      },
      "text/plain": [
       "train-00317-of-00625.parquet:   0%|          | 0.00/58.3M [00:00<?, ?B/s]"
      ]
     },
     "metadata": {},
     "output_type": "display_data"
    },
    {
     "data": {
      "application/vnd.jupyter.widget-view+json": {
       "model_id": "0585840eb77d4c12bb4abcef924202d3",
       "version_major": 2,
       "version_minor": 0
      },
      "text/plain": [
       "train-00318-of-00625.parquet:   0%|          | 0.00/57.4M [00:00<?, ?B/s]"
      ]
     },
     "metadata": {},
     "output_type": "display_data"
    },
    {
     "data": {
      "application/vnd.jupyter.widget-view+json": {
       "model_id": "ddd2216994fc40c0acf716e69e7d9190",
       "version_major": 2,
       "version_minor": 0
      },
      "text/plain": [
       "train-00319-of-00625.parquet:   0%|          | 0.00/59.0M [00:00<?, ?B/s]"
      ]
     },
     "metadata": {},
     "output_type": "display_data"
    },
    {
     "data": {
      "application/vnd.jupyter.widget-view+json": {
       "model_id": "ebf648e465c24969b0ecddac2b998f17",
       "version_major": 2,
       "version_minor": 0
      },
      "text/plain": [
       "train-00320-of-00625.parquet:   0%|          | 0.00/59.6M [00:00<?, ?B/s]"
      ]
     },
     "metadata": {},
     "output_type": "display_data"
    },
    {
     "data": {
      "application/vnd.jupyter.widget-view+json": {
       "model_id": "7e3ebbe0f968448397184bae084ec08a",
       "version_major": 2,
       "version_minor": 0
      },
      "text/plain": [
       "train-00321-of-00625.parquet:   0%|          | 0.00/58.5M [00:00<?, ?B/s]"
      ]
     },
     "metadata": {},
     "output_type": "display_data"
    },
    {
     "data": {
      "application/vnd.jupyter.widget-view+json": {
       "model_id": "dcd31954e13548e78356805c1c176d1e",
       "version_major": 2,
       "version_minor": 0
      },
      "text/plain": [
       "train-00322-of-00625.parquet:   0%|          | 0.00/59.2M [00:00<?, ?B/s]"
      ]
     },
     "metadata": {},
     "output_type": "display_data"
    },
    {
     "data": {
      "application/vnd.jupyter.widget-view+json": {
       "model_id": "b6e8d244dcb9414aa566927513df153f",
       "version_major": 2,
       "version_minor": 0
      },
      "text/plain": [
       "train-00323-of-00625.parquet:   0%|          | 0.00/59.7M [00:00<?, ?B/s]"
      ]
     },
     "metadata": {},
     "output_type": "display_data"
    },
    {
     "data": {
      "application/vnd.jupyter.widget-view+json": {
       "model_id": "bc2fa5bfe5824c15bd12182a7d6dc702",
       "version_major": 2,
       "version_minor": 0
      },
      "text/plain": [
       "train-00324-of-00625.parquet:   0%|          | 0.00/59.1M [00:00<?, ?B/s]"
      ]
     },
     "metadata": {},
     "output_type": "display_data"
    },
    {
     "data": {
      "application/vnd.jupyter.widget-view+json": {
       "model_id": "9287933f829d4eb3b436bd8ac6dcbd20",
       "version_major": 2,
       "version_minor": 0
      },
      "text/plain": [
       "train-00325-of-00625.parquet:   0%|          | 0.00/57.6M [00:00<?, ?B/s]"
      ]
     },
     "metadata": {},
     "output_type": "display_data"
    },
    {
     "data": {
      "application/vnd.jupyter.widget-view+json": {
       "model_id": "223ff256af024ff69ab46d898c45cf68",
       "version_major": 2,
       "version_minor": 0
      },
      "text/plain": [
       "train-00326-of-00625.parquet:   0%|          | 0.00/60.2M [00:00<?, ?B/s]"
      ]
     },
     "metadata": {},
     "output_type": "display_data"
    },
    {
     "data": {
      "application/vnd.jupyter.widget-view+json": {
       "model_id": "bf4bc73199ae451babd0cf9343b7e23c",
       "version_major": 2,
       "version_minor": 0
      },
      "text/plain": [
       "train-00327-of-00625.parquet:   0%|          | 0.00/57.9M [00:00<?, ?B/s]"
      ]
     },
     "metadata": {},
     "output_type": "display_data"
    },
    {
     "data": {
      "application/vnd.jupyter.widget-view+json": {
       "model_id": "1448da319ccc40b0a90b09bf8a5fe960",
       "version_major": 2,
       "version_minor": 0
      },
      "text/plain": [
       "train-00328-of-00625.parquet:   0%|          | 0.00/59.2M [00:00<?, ?B/s]"
      ]
     },
     "metadata": {},
     "output_type": "display_data"
    },
    {
     "data": {
      "application/vnd.jupyter.widget-view+json": {
       "model_id": "30abf717359d4e8383b7fcc68f16fd27",
       "version_major": 2,
       "version_minor": 0
      },
      "text/plain": [
       "train-00329-of-00625.parquet:   0%|          | 0.00/58.1M [00:00<?, ?B/s]"
      ]
     },
     "metadata": {},
     "output_type": "display_data"
    },
    {
     "data": {
      "application/vnd.jupyter.widget-view+json": {
       "model_id": "3e62665ba1f84a97be6414e4b4c3dbbc",
       "version_major": 2,
       "version_minor": 0
      },
      "text/plain": [
       "train-00330-of-00625.parquet:   0%|          | 0.00/58.9M [00:00<?, ?B/s]"
      ]
     },
     "metadata": {},
     "output_type": "display_data"
    },
    {
     "data": {
      "application/vnd.jupyter.widget-view+json": {
       "model_id": "69824aa90b9d4a2993a46d75650868d8",
       "version_major": 2,
       "version_minor": 0
      },
      "text/plain": [
       "train-00331-of-00625.parquet:   0%|          | 0.00/58.4M [00:00<?, ?B/s]"
      ]
     },
     "metadata": {},
     "output_type": "display_data"
    },
    {
     "data": {
      "application/vnd.jupyter.widget-view+json": {
       "model_id": "b913cb9d37f940a78f871765516d4ead",
       "version_major": 2,
       "version_minor": 0
      },
      "text/plain": [
       "train-00332-of-00625.parquet:   0%|          | 0.00/58.8M [00:00<?, ?B/s]"
      ]
     },
     "metadata": {},
     "output_type": "display_data"
    },
    {
     "data": {
      "application/vnd.jupyter.widget-view+json": {
       "model_id": "76443d746c714ee3b888a72f42f2e5a4",
       "version_major": 2,
       "version_minor": 0
      },
      "text/plain": [
       "train-00333-of-00625.parquet:   0%|          | 0.00/57.9M [00:00<?, ?B/s]"
      ]
     },
     "metadata": {},
     "output_type": "display_data"
    },
    {
     "data": {
      "application/vnd.jupyter.widget-view+json": {
       "model_id": "43c6ec5273194e4c853092bcea89f8b8",
       "version_major": 2,
       "version_minor": 0
      },
      "text/plain": [
       "train-00334-of-00625.parquet:   0%|          | 0.00/58.4M [00:00<?, ?B/s]"
      ]
     },
     "metadata": {},
     "output_type": "display_data"
    },
    {
     "data": {
      "application/vnd.jupyter.widget-view+json": {
       "model_id": "533c9cb2cd80435f85cba2261b0702f5",
       "version_major": 2,
       "version_minor": 0
      },
      "text/plain": [
       "train-00335-of-00625.parquet:   0%|          | 0.00/57.8M [00:00<?, ?B/s]"
      ]
     },
     "metadata": {},
     "output_type": "display_data"
    },
    {
     "data": {
      "application/vnd.jupyter.widget-view+json": {
       "model_id": "35e3c26bb96a4a518d8a56e408607d7e",
       "version_major": 2,
       "version_minor": 0
      },
      "text/plain": [
       "train-00336-of-00625.parquet:   0%|          | 0.00/57.8M [00:00<?, ?B/s]"
      ]
     },
     "metadata": {},
     "output_type": "display_data"
    },
    {
     "data": {
      "application/vnd.jupyter.widget-view+json": {
       "model_id": "5416644d80874c5bb88e76fed2673452",
       "version_major": 2,
       "version_minor": 0
      },
      "text/plain": [
       "train-00337-of-00625.parquet:   0%|          | 0.00/58.7M [00:00<?, ?B/s]"
      ]
     },
     "metadata": {},
     "output_type": "display_data"
    },
    {
     "data": {
      "application/vnd.jupyter.widget-view+json": {
       "model_id": "a282f2d0a37f415ab9b227e58641bc66",
       "version_major": 2,
       "version_minor": 0
      },
      "text/plain": [
       "train-00338-of-00625.parquet:   0%|          | 0.00/58.5M [00:00<?, ?B/s]"
      ]
     },
     "metadata": {},
     "output_type": "display_data"
    },
    {
     "data": {
      "application/vnd.jupyter.widget-view+json": {
       "model_id": "94e46119d3554c748332ade7dfa9b926",
       "version_major": 2,
       "version_minor": 0
      },
      "text/plain": [
       "train-00339-of-00625.parquet:   0%|          | 0.00/59.0M [00:00<?, ?B/s]"
      ]
     },
     "metadata": {},
     "output_type": "display_data"
    },
    {
     "data": {
      "application/vnd.jupyter.widget-view+json": {
       "model_id": "3ec146a4eab0491690ea98c37b7b13db",
       "version_major": 2,
       "version_minor": 0
      },
      "text/plain": [
       "train-00340-of-00625.parquet:   0%|          | 0.00/58.2M [00:00<?, ?B/s]"
      ]
     },
     "metadata": {},
     "output_type": "display_data"
    },
    {
     "data": {
      "application/vnd.jupyter.widget-view+json": {
       "model_id": "fa10a57e6e044179a5c0532f243101a8",
       "version_major": 2,
       "version_minor": 0
      },
      "text/plain": [
       "train-00341-of-00625.parquet:   0%|          | 0.00/57.8M [00:00<?, ?B/s]"
      ]
     },
     "metadata": {},
     "output_type": "display_data"
    },
    {
     "data": {
      "application/vnd.jupyter.widget-view+json": {
       "model_id": "c00d22af63704939952f1be577a665c3",
       "version_major": 2,
       "version_minor": 0
      },
      "text/plain": [
       "train-00342-of-00625.parquet:   0%|          | 0.00/57.6M [00:00<?, ?B/s]"
      ]
     },
     "metadata": {},
     "output_type": "display_data"
    },
    {
     "data": {
      "application/vnd.jupyter.widget-view+json": {
       "model_id": "0b22b41795054c028f2bc8626e2ada60",
       "version_major": 2,
       "version_minor": 0
      },
      "text/plain": [
       "train-00343-of-00625.parquet:   0%|          | 0.00/58.6M [00:00<?, ?B/s]"
      ]
     },
     "metadata": {},
     "output_type": "display_data"
    },
    {
     "data": {
      "application/vnd.jupyter.widget-view+json": {
       "model_id": "691d05a0695544e6a6a0dfc3465bccb7",
       "version_major": 2,
       "version_minor": 0
      },
      "text/plain": [
       "train-00344-of-00625.parquet:   0%|          | 0.00/58.4M [00:00<?, ?B/s]"
      ]
     },
     "metadata": {},
     "output_type": "display_data"
    },
    {
     "data": {
      "application/vnd.jupyter.widget-view+json": {
       "model_id": "98d1a26a02f44fbd8bc287ffa4a60c16",
       "version_major": 2,
       "version_minor": 0
      },
      "text/plain": [
       "train-00345-of-00625.parquet:   0%|          | 0.00/58.1M [00:00<?, ?B/s]"
      ]
     },
     "metadata": {},
     "output_type": "display_data"
    },
    {
     "data": {
      "application/vnd.jupyter.widget-view+json": {
       "model_id": "7e5988f00856479380e84744e11bdc84",
       "version_major": 2,
       "version_minor": 0
      },
      "text/plain": [
       "train-00346-of-00625.parquet:   0%|          | 0.00/59.2M [00:00<?, ?B/s]"
      ]
     },
     "metadata": {},
     "output_type": "display_data"
    },
    {
     "data": {
      "application/vnd.jupyter.widget-view+json": {
       "model_id": "d2b9a017b40e411db94ee1f9c28289c0",
       "version_major": 2,
       "version_minor": 0
      },
      "text/plain": [
       "train-00347-of-00625.parquet:   0%|          | 0.00/58.9M [00:00<?, ?B/s]"
      ]
     },
     "metadata": {},
     "output_type": "display_data"
    },
    {
     "data": {
      "application/vnd.jupyter.widget-view+json": {
       "model_id": "583b620a33b240adb70083091fdfc70d",
       "version_major": 2,
       "version_minor": 0
      },
      "text/plain": [
       "train-00348-of-00625.parquet:   0%|          | 0.00/59.5M [00:00<?, ?B/s]"
      ]
     },
     "metadata": {},
     "output_type": "display_data"
    },
    {
     "data": {
      "application/vnd.jupyter.widget-view+json": {
       "model_id": "91802c40354346ac9a73ca5ca8151ea0",
       "version_major": 2,
       "version_minor": 0
      },
      "text/plain": [
       "train-00349-of-00625.parquet:   0%|          | 0.00/58.3M [00:00<?, ?B/s]"
      ]
     },
     "metadata": {},
     "output_type": "display_data"
    },
    {
     "data": {
      "application/vnd.jupyter.widget-view+json": {
       "model_id": "03945ad0a78a462288846900a459241d",
       "version_major": 2,
       "version_minor": 0
      },
      "text/plain": [
       "train-00350-of-00625.parquet:   0%|          | 0.00/57.7M [00:00<?, ?B/s]"
      ]
     },
     "metadata": {},
     "output_type": "display_data"
    },
    {
     "data": {
      "application/vnd.jupyter.widget-view+json": {
       "model_id": "97ea614b19274707ad298eea1eb4d222",
       "version_major": 2,
       "version_minor": 0
      },
      "text/plain": [
       "train-00351-of-00625.parquet:   0%|          | 0.00/57.8M [00:00<?, ?B/s]"
      ]
     },
     "metadata": {},
     "output_type": "display_data"
    },
    {
     "data": {
      "application/vnd.jupyter.widget-view+json": {
       "model_id": "e28dbf6c73074801bd2176e7ead70c42",
       "version_major": 2,
       "version_minor": 0
      },
      "text/plain": [
       "train-00352-of-00625.parquet:   0%|          | 0.00/57.7M [00:00<?, ?B/s]"
      ]
     },
     "metadata": {},
     "output_type": "display_data"
    },
    {
     "data": {
      "application/vnd.jupyter.widget-view+json": {
       "model_id": "219a0510c8d843a9981a13e1a5918f8f",
       "version_major": 2,
       "version_minor": 0
      },
      "text/plain": [
       "train-00353-of-00625.parquet:   0%|          | 0.00/57.8M [00:00<?, ?B/s]"
      ]
     },
     "metadata": {},
     "output_type": "display_data"
    },
    {
     "data": {
      "application/vnd.jupyter.widget-view+json": {
       "model_id": "1da2338b76a9422c81b2e14e29cae3a5",
       "version_major": 2,
       "version_minor": 0
      },
      "text/plain": [
       "train-00354-of-00625.parquet:   0%|          | 0.00/59.6M [00:00<?, ?B/s]"
      ]
     },
     "metadata": {},
     "output_type": "display_data"
    },
    {
     "data": {
      "application/vnd.jupyter.widget-view+json": {
       "model_id": "bd60c818182d4f93a2638d4ee6172707",
       "version_major": 2,
       "version_minor": 0
      },
      "text/plain": [
       "train-00355-of-00625.parquet:   0%|          | 0.00/58.1M [00:00<?, ?B/s]"
      ]
     },
     "metadata": {},
     "output_type": "display_data"
    },
    {
     "data": {
      "application/vnd.jupyter.widget-view+json": {
       "model_id": "b4c671d72373401d982885a0bb18fabd",
       "version_major": 2,
       "version_minor": 0
      },
      "text/plain": [
       "train-00356-of-00625.parquet:   0%|          | 0.00/59.4M [00:00<?, ?B/s]"
      ]
     },
     "metadata": {},
     "output_type": "display_data"
    },
    {
     "data": {
      "application/vnd.jupyter.widget-view+json": {
       "model_id": "288a47e931b442e3a290870d900d54d7",
       "version_major": 2,
       "version_minor": 0
      },
      "text/plain": [
       "train-00357-of-00625.parquet:   0%|          | 0.00/58.2M [00:00<?, ?B/s]"
      ]
     },
     "metadata": {},
     "output_type": "display_data"
    },
    {
     "data": {
      "application/vnd.jupyter.widget-view+json": {
       "model_id": "a2019836efe44a0ca6a9d56ee928b253",
       "version_major": 2,
       "version_minor": 0
      },
      "text/plain": [
       "train-00358-of-00625.parquet:   0%|          | 0.00/58.2M [00:00<?, ?B/s]"
      ]
     },
     "metadata": {},
     "output_type": "display_data"
    },
    {
     "data": {
      "application/vnd.jupyter.widget-view+json": {
       "model_id": "7076982054a148cdb956edd0cb3ca320",
       "version_major": 2,
       "version_minor": 0
      },
      "text/plain": [
       "train-00359-of-00625.parquet:   0%|          | 0.00/57.5M [00:00<?, ?B/s]"
      ]
     },
     "metadata": {},
     "output_type": "display_data"
    },
    {
     "data": {
      "application/vnd.jupyter.widget-view+json": {
       "model_id": "3276f4de0628420888d14af844f3606b",
       "version_major": 2,
       "version_minor": 0
      },
      "text/plain": [
       "train-00360-of-00625.parquet:   0%|          | 0.00/58.2M [00:00<?, ?B/s]"
      ]
     },
     "metadata": {},
     "output_type": "display_data"
    },
    {
     "data": {
      "application/vnd.jupyter.widget-view+json": {
       "model_id": "a21d68a5660c42cfa5bb6606176e48ba",
       "version_major": 2,
       "version_minor": 0
      },
      "text/plain": [
       "train-00361-of-00625.parquet:   0%|          | 0.00/59.3M [00:00<?, ?B/s]"
      ]
     },
     "metadata": {},
     "output_type": "display_data"
    },
    {
     "data": {
      "application/vnd.jupyter.widget-view+json": {
       "model_id": "007f0c0da9ef48499c41eb8de9c41d09",
       "version_major": 2,
       "version_minor": 0
      },
      "text/plain": [
       "train-00362-of-00625.parquet:   0%|          | 0.00/58.2M [00:00<?, ?B/s]"
      ]
     },
     "metadata": {},
     "output_type": "display_data"
    },
    {
     "data": {
      "application/vnd.jupyter.widget-view+json": {
       "model_id": "e77aa7d960eb45de870f9678daa251cb",
       "version_major": 2,
       "version_minor": 0
      },
      "text/plain": [
       "train-00363-of-00625.parquet:   0%|          | 0.00/58.3M [00:00<?, ?B/s]"
      ]
     },
     "metadata": {},
     "output_type": "display_data"
    },
    {
     "data": {
      "application/vnd.jupyter.widget-view+json": {
       "model_id": "e4e69c9d250047bd8283bfcb9737b157",
       "version_major": 2,
       "version_minor": 0
      },
      "text/plain": [
       "train-00364-of-00625.parquet:   0%|          | 0.00/59.0M [00:00<?, ?B/s]"
      ]
     },
     "metadata": {},
     "output_type": "display_data"
    },
    {
     "data": {
      "application/vnd.jupyter.widget-view+json": {
       "model_id": "58f66f8f40144fde8b0677d898ff49f8",
       "version_major": 2,
       "version_minor": 0
      },
      "text/plain": [
       "train-00365-of-00625.parquet:   0%|          | 0.00/58.6M [00:00<?, ?B/s]"
      ]
     },
     "metadata": {},
     "output_type": "display_data"
    },
    {
     "data": {
      "application/vnd.jupyter.widget-view+json": {
       "model_id": "2ac7911d41fd45319173d0bb39b100d1",
       "version_major": 2,
       "version_minor": 0
      },
      "text/plain": [
       "train-00366-of-00625.parquet:   0%|          | 0.00/57.8M [00:00<?, ?B/s]"
      ]
     },
     "metadata": {},
     "output_type": "display_data"
    },
    {
     "data": {
      "application/vnd.jupyter.widget-view+json": {
       "model_id": "373d999c5a814e4fbdaac1584fb81964",
       "version_major": 2,
       "version_minor": 0
      },
      "text/plain": [
       "train-00367-of-00625.parquet:   0%|          | 0.00/58.2M [00:00<?, ?B/s]"
      ]
     },
     "metadata": {},
     "output_type": "display_data"
    },
    {
     "data": {
      "application/vnd.jupyter.widget-view+json": {
       "model_id": "d3046cd44a1b4f3a930f29cb79085282",
       "version_major": 2,
       "version_minor": 0
      },
      "text/plain": [
       "train-00368-of-00625.parquet:   0%|          | 0.00/58.0M [00:00<?, ?B/s]"
      ]
     },
     "metadata": {},
     "output_type": "display_data"
    },
    {
     "data": {
      "application/vnd.jupyter.widget-view+json": {
       "model_id": "9a842f6d7c8044bd93909d81edbdf741",
       "version_major": 2,
       "version_minor": 0
      },
      "text/plain": [
       "train-00369-of-00625.parquet:   0%|          | 0.00/58.0M [00:00<?, ?B/s]"
      ]
     },
     "metadata": {},
     "output_type": "display_data"
    },
    {
     "data": {
      "application/vnd.jupyter.widget-view+json": {
       "model_id": "bac14b5677904fce8ec326bec3b272f5",
       "version_major": 2,
       "version_minor": 0
      },
      "text/plain": [
       "train-00370-of-00625.parquet:   0%|          | 0.00/59.2M [00:00<?, ?B/s]"
      ]
     },
     "metadata": {},
     "output_type": "display_data"
    },
    {
     "data": {
      "application/vnd.jupyter.widget-view+json": {
       "model_id": "ce7aab3e8a394a0697dc9382701a5b0e",
       "version_major": 2,
       "version_minor": 0
      },
      "text/plain": [
       "train-00371-of-00625.parquet:   0%|          | 0.00/58.2M [00:00<?, ?B/s]"
      ]
     },
     "metadata": {},
     "output_type": "display_data"
    },
    {
     "data": {
      "application/vnd.jupyter.widget-view+json": {
       "model_id": "48da05c028784a04b2be0f9029f0c65b",
       "version_major": 2,
       "version_minor": 0
      },
      "text/plain": [
       "train-00372-of-00625.parquet:   0%|          | 0.00/57.4M [00:00<?, ?B/s]"
      ]
     },
     "metadata": {},
     "output_type": "display_data"
    },
    {
     "data": {
      "application/vnd.jupyter.widget-view+json": {
       "model_id": "8d141a65148b454b9bd2fe8e682144a1",
       "version_major": 2,
       "version_minor": 0
      },
      "text/plain": [
       "train-00373-of-00625.parquet:   0%|          | 0.00/58.0M [00:00<?, ?B/s]"
      ]
     },
     "metadata": {},
     "output_type": "display_data"
    },
    {
     "data": {
      "application/vnd.jupyter.widget-view+json": {
       "model_id": "03bffeebf5b44979b70d288dc0a5eaf0",
       "version_major": 2,
       "version_minor": 0
      },
      "text/plain": [
       "train-00374-of-00625.parquet:   0%|          | 0.00/58.1M [00:00<?, ?B/s]"
      ]
     },
     "metadata": {},
     "output_type": "display_data"
    },
    {
     "data": {
      "application/vnd.jupyter.widget-view+json": {
       "model_id": "9e966f94108f4030ac61b99bf32324a4",
       "version_major": 2,
       "version_minor": 0
      },
      "text/plain": [
       "train-00375-of-00625.parquet:   0%|          | 0.00/58.6M [00:00<?, ?B/s]"
      ]
     },
     "metadata": {},
     "output_type": "display_data"
    },
    {
     "data": {
      "application/vnd.jupyter.widget-view+json": {
       "model_id": "34100051d6274186b315892f5bdc6412",
       "version_major": 2,
       "version_minor": 0
      },
      "text/plain": [
       "train-00376-of-00625.parquet:   0%|          | 0.00/57.8M [00:00<?, ?B/s]"
      ]
     },
     "metadata": {},
     "output_type": "display_data"
    },
    {
     "data": {
      "application/vnd.jupyter.widget-view+json": {
       "model_id": "540bc5c3840c4d27b6e4cb8d90b2a9e7",
       "version_major": 2,
       "version_minor": 0
      },
      "text/plain": [
       "train-00377-of-00625.parquet:   0%|          | 0.00/59.0M [00:00<?, ?B/s]"
      ]
     },
     "metadata": {},
     "output_type": "display_data"
    },
    {
     "data": {
      "application/vnd.jupyter.widget-view+json": {
       "model_id": "941f46218cb447748bfe1d4532dcd9cf",
       "version_major": 2,
       "version_minor": 0
      },
      "text/plain": [
       "train-00378-of-00625.parquet:   0%|          | 0.00/58.6M [00:00<?, ?B/s]"
      ]
     },
     "metadata": {},
     "output_type": "display_data"
    },
    {
     "data": {
      "application/vnd.jupyter.widget-view+json": {
       "model_id": "e0a39ea180f94015a66f22acc7022b08",
       "version_major": 2,
       "version_minor": 0
      },
      "text/plain": [
       "train-00379-of-00625.parquet:   0%|          | 0.00/58.0M [00:00<?, ?B/s]"
      ]
     },
     "metadata": {},
     "output_type": "display_data"
    },
    {
     "data": {
      "application/vnd.jupyter.widget-view+json": {
       "model_id": "1608165130ec4176b1b3a80d2ae03dfb",
       "version_major": 2,
       "version_minor": 0
      },
      "text/plain": [
       "train-00380-of-00625.parquet:   0%|          | 0.00/58.4M [00:00<?, ?B/s]"
      ]
     },
     "metadata": {},
     "output_type": "display_data"
    },
    {
     "data": {
      "application/vnd.jupyter.widget-view+json": {
       "model_id": "dc2c9d5dddd44185aea09a9855e1584a",
       "version_major": 2,
       "version_minor": 0
      },
      "text/plain": [
       "train-00381-of-00625.parquet:   0%|          | 0.00/58.5M [00:00<?, ?B/s]"
      ]
     },
     "metadata": {},
     "output_type": "display_data"
    },
    {
     "data": {
      "application/vnd.jupyter.widget-view+json": {
       "model_id": "0525ec5488b6474ab06e244c7b53ab32",
       "version_major": 2,
       "version_minor": 0
      },
      "text/plain": [
       "train-00382-of-00625.parquet:   0%|          | 0.00/58.1M [00:00<?, ?B/s]"
      ]
     },
     "metadata": {},
     "output_type": "display_data"
    },
    {
     "data": {
      "application/vnd.jupyter.widget-view+json": {
       "model_id": "bc87c2c522c1442d90d83e7dba6eca51",
       "version_major": 2,
       "version_minor": 0
      },
      "text/plain": [
       "train-00383-of-00625.parquet:   0%|          | 0.00/58.8M [00:00<?, ?B/s]"
      ]
     },
     "metadata": {},
     "output_type": "display_data"
    },
    {
     "data": {
      "application/vnd.jupyter.widget-view+json": {
       "model_id": "df2cf83aad3149809c75ec2741e37f6c",
       "version_major": 2,
       "version_minor": 0
      },
      "text/plain": [
       "train-00384-of-00625.parquet:   0%|          | 0.00/59.4M [00:00<?, ?B/s]"
      ]
     },
     "metadata": {},
     "output_type": "display_data"
    },
    {
     "data": {
      "application/vnd.jupyter.widget-view+json": {
       "model_id": "d80acf7f63a9420eb30e489f4c31cce5",
       "version_major": 2,
       "version_minor": 0
      },
      "text/plain": [
       "train-00385-of-00625.parquet:   0%|          | 0.00/58.0M [00:00<?, ?B/s]"
      ]
     },
     "metadata": {},
     "output_type": "display_data"
    },
    {
     "data": {
      "application/vnd.jupyter.widget-view+json": {
       "model_id": "30b74745357e4910994a8e1300176960",
       "version_major": 2,
       "version_minor": 0
      },
      "text/plain": [
       "train-00386-of-00625.parquet:   0%|          | 0.00/58.7M [00:00<?, ?B/s]"
      ]
     },
     "metadata": {},
     "output_type": "display_data"
    },
    {
     "data": {
      "application/vnd.jupyter.widget-view+json": {
       "model_id": "4a746528819847198cdbb89464dff393",
       "version_major": 2,
       "version_minor": 0
      },
      "text/plain": [
       "train-00387-of-00625.parquet:   0%|          | 0.00/58.0M [00:00<?, ?B/s]"
      ]
     },
     "metadata": {},
     "output_type": "display_data"
    },
    {
     "data": {
      "application/vnd.jupyter.widget-view+json": {
       "model_id": "764852b04e0e4ca488ee6be9f3d5cd20",
       "version_major": 2,
       "version_minor": 0
      },
      "text/plain": [
       "train-00388-of-00625.parquet:   0%|          | 0.00/58.4M [00:00<?, ?B/s]"
      ]
     },
     "metadata": {},
     "output_type": "display_data"
    },
    {
     "data": {
      "application/vnd.jupyter.widget-view+json": {
       "model_id": "cc579ee1ebf84567834a97e5080864e3",
       "version_major": 2,
       "version_minor": 0
      },
      "text/plain": [
       "train-00389-of-00625.parquet:   0%|          | 0.00/58.1M [00:00<?, ?B/s]"
      ]
     },
     "metadata": {},
     "output_type": "display_data"
    },
    {
     "data": {
      "application/vnd.jupyter.widget-view+json": {
       "model_id": "16c2a51d678a4cf0936fae5309b13934",
       "version_major": 2,
       "version_minor": 0
      },
      "text/plain": [
       "train-00390-of-00625.parquet:   0%|          | 0.00/59.1M [00:00<?, ?B/s]"
      ]
     },
     "metadata": {},
     "output_type": "display_data"
    },
    {
     "data": {
      "application/vnd.jupyter.widget-view+json": {
       "model_id": "c31541609dc0461b97fb49f78da9b1f5",
       "version_major": 2,
       "version_minor": 0
      },
      "text/plain": [
       "train-00391-of-00625.parquet:   0%|          | 0.00/58.6M [00:00<?, ?B/s]"
      ]
     },
     "metadata": {},
     "output_type": "display_data"
    },
    {
     "data": {
      "application/vnd.jupyter.widget-view+json": {
       "model_id": "3e6d06ea82da4d0889201f7d8ee6b4dd",
       "version_major": 2,
       "version_minor": 0
      },
      "text/plain": [
       "train-00392-of-00625.parquet:   0%|          | 0.00/58.9M [00:00<?, ?B/s]"
      ]
     },
     "metadata": {},
     "output_type": "display_data"
    },
    {
     "data": {
      "application/vnd.jupyter.widget-view+json": {
       "model_id": "b1847f469ea64f8ca9adeb93ae25a4aa",
       "version_major": 2,
       "version_minor": 0
      },
      "text/plain": [
       "train-00393-of-00625.parquet:   0%|          | 0.00/58.5M [00:00<?, ?B/s]"
      ]
     },
     "metadata": {},
     "output_type": "display_data"
    },
    {
     "data": {
      "application/vnd.jupyter.widget-view+json": {
       "model_id": "ca32b5c7cbc740d196204925d47b393a",
       "version_major": 2,
       "version_minor": 0
      },
      "text/plain": [
       "train-00394-of-00625.parquet:   0%|          | 0.00/57.5M [00:00<?, ?B/s]"
      ]
     },
     "metadata": {},
     "output_type": "display_data"
    },
    {
     "data": {
      "application/vnd.jupyter.widget-view+json": {
       "model_id": "32ef0069421f4e25979003b6cc682aff",
       "version_major": 2,
       "version_minor": 0
      },
      "text/plain": [
       "train-00395-of-00625.parquet:   0%|          | 0.00/57.0M [00:00<?, ?B/s]"
      ]
     },
     "metadata": {},
     "output_type": "display_data"
    },
    {
     "data": {
      "application/vnd.jupyter.widget-view+json": {
       "model_id": "e93e3ce419cf44d99fc15f1c5c3d16dc",
       "version_major": 2,
       "version_minor": 0
      },
      "text/plain": [
       "train-00396-of-00625.parquet:   0%|          | 0.00/58.9M [00:00<?, ?B/s]"
      ]
     },
     "metadata": {},
     "output_type": "display_data"
    },
    {
     "data": {
      "application/vnd.jupyter.widget-view+json": {
       "model_id": "158681233b5c483cad2b5039e88c018a",
       "version_major": 2,
       "version_minor": 0
      },
      "text/plain": [
       "train-00397-of-00625.parquet:   0%|          | 0.00/59.1M [00:00<?, ?B/s]"
      ]
     },
     "metadata": {},
     "output_type": "display_data"
    },
    {
     "data": {
      "application/vnd.jupyter.widget-view+json": {
       "model_id": "65c2ab0370cc46099c3490634c911bac",
       "version_major": 2,
       "version_minor": 0
      },
      "text/plain": [
       "train-00398-of-00625.parquet:   0%|          | 0.00/58.2M [00:00<?, ?B/s]"
      ]
     },
     "metadata": {},
     "output_type": "display_data"
    },
    {
     "data": {
      "application/vnd.jupyter.widget-view+json": {
       "model_id": "9f11423bbe87410bb2f120f4b06dc1d4",
       "version_major": 2,
       "version_minor": 0
      },
      "text/plain": [
       "train-00399-of-00625.parquet:   0%|          | 0.00/59.5M [00:00<?, ?B/s]"
      ]
     },
     "metadata": {},
     "output_type": "display_data"
    },
    {
     "data": {
      "application/vnd.jupyter.widget-view+json": {
       "model_id": "70127d4dccbe4b30872c6ab4c7d7cc2f",
       "version_major": 2,
       "version_minor": 0
      },
      "text/plain": [
       "train-00400-of-00625.parquet:   0%|          | 0.00/57.9M [00:00<?, ?B/s]"
      ]
     },
     "metadata": {},
     "output_type": "display_data"
    },
    {
     "data": {
      "application/vnd.jupyter.widget-view+json": {
       "model_id": "a2c401d5120e42cfac2aef8a03d187e4",
       "version_major": 2,
       "version_minor": 0
      },
      "text/plain": [
       "train-00401-of-00625.parquet:   0%|          | 0.00/58.4M [00:00<?, ?B/s]"
      ]
     },
     "metadata": {},
     "output_type": "display_data"
    },
    {
     "data": {
      "application/vnd.jupyter.widget-view+json": {
       "model_id": "32c5b277fbc242eaaf607c195e6e578d",
       "version_major": 2,
       "version_minor": 0
      },
      "text/plain": [
       "train-00402-of-00625.parquet:   0%|          | 0.00/58.2M [00:00<?, ?B/s]"
      ]
     },
     "metadata": {},
     "output_type": "display_data"
    },
    {
     "data": {
      "application/vnd.jupyter.widget-view+json": {
       "model_id": "db8d00ec9bad4faf9bc7f6ada8a11ac2",
       "version_major": 2,
       "version_minor": 0
      },
      "text/plain": [
       "train-00403-of-00625.parquet:   0%|          | 0.00/59.4M [00:00<?, ?B/s]"
      ]
     },
     "metadata": {},
     "output_type": "display_data"
    },
    {
     "data": {
      "application/vnd.jupyter.widget-view+json": {
       "model_id": "fcf45a31a66f4c29a4eafce6916f91ef",
       "version_major": 2,
       "version_minor": 0
      },
      "text/plain": [
       "train-00404-of-00625.parquet:   0%|          | 0.00/58.3M [00:00<?, ?B/s]"
      ]
     },
     "metadata": {},
     "output_type": "display_data"
    },
    {
     "data": {
      "application/vnd.jupyter.widget-view+json": {
       "model_id": "50b56d2390ba4814b31bc639850ee667",
       "version_major": 2,
       "version_minor": 0
      },
      "text/plain": [
       "train-00405-of-00625.parquet:   0%|          | 0.00/58.4M [00:00<?, ?B/s]"
      ]
     },
     "metadata": {},
     "output_type": "display_data"
    },
    {
     "data": {
      "application/vnd.jupyter.widget-view+json": {
       "model_id": "925db4b3a05448208f845132aad36529",
       "version_major": 2,
       "version_minor": 0
      },
      "text/plain": [
       "train-00406-of-00625.parquet:   0%|          | 0.00/58.5M [00:00<?, ?B/s]"
      ]
     },
     "metadata": {},
     "output_type": "display_data"
    },
    {
     "data": {
      "application/vnd.jupyter.widget-view+json": {
       "model_id": "76d0aadf8d4946ec88937c96a3841052",
       "version_major": 2,
       "version_minor": 0
      },
      "text/plain": [
       "train-00407-of-00625.parquet:   0%|          | 0.00/59.1M [00:00<?, ?B/s]"
      ]
     },
     "metadata": {},
     "output_type": "display_data"
    },
    {
     "data": {
      "application/vnd.jupyter.widget-view+json": {
       "model_id": "ffb43c65a5f64b1b8345114703c30a11",
       "version_major": 2,
       "version_minor": 0
      },
      "text/plain": [
       "train-00408-of-00625.parquet:   0%|          | 0.00/58.9M [00:00<?, ?B/s]"
      ]
     },
     "metadata": {},
     "output_type": "display_data"
    },
    {
     "data": {
      "application/vnd.jupyter.widget-view+json": {
       "model_id": "24ecf467d9a34b40a9ebb4d40667c934",
       "version_major": 2,
       "version_minor": 0
      },
      "text/plain": [
       "train-00409-of-00625.parquet:   0%|          | 0.00/58.7M [00:00<?, ?B/s]"
      ]
     },
     "metadata": {},
     "output_type": "display_data"
    },
    {
     "data": {
      "application/vnd.jupyter.widget-view+json": {
       "model_id": "5baead7fde1c489a95b83bc94496df2a",
       "version_major": 2,
       "version_minor": 0
      },
      "text/plain": [
       "train-00410-of-00625.parquet:   0%|          | 0.00/58.8M [00:00<?, ?B/s]"
      ]
     },
     "metadata": {},
     "output_type": "display_data"
    },
    {
     "data": {
      "application/vnd.jupyter.widget-view+json": {
       "model_id": "450a00f9b20c4ef2a7df80c7d027069f",
       "version_major": 2,
       "version_minor": 0
      },
      "text/plain": [
       "train-00411-of-00625.parquet:   0%|          | 0.00/58.2M [00:00<?, ?B/s]"
      ]
     },
     "metadata": {},
     "output_type": "display_data"
    },
    {
     "data": {
      "application/vnd.jupyter.widget-view+json": {
       "model_id": "f7530a35016c4ce9bed8e0402473ea1b",
       "version_major": 2,
       "version_minor": 0
      },
      "text/plain": [
       "train-00412-of-00625.parquet:   0%|          | 0.00/59.1M [00:00<?, ?B/s]"
      ]
     },
     "metadata": {},
     "output_type": "display_data"
    },
    {
     "data": {
      "application/vnd.jupyter.widget-view+json": {
       "model_id": "50a3e02ef7344b0fa7e3c1da7baf6d5b",
       "version_major": 2,
       "version_minor": 0
      },
      "text/plain": [
       "train-00413-of-00625.parquet:   0%|          | 0.00/58.3M [00:00<?, ?B/s]"
      ]
     },
     "metadata": {},
     "output_type": "display_data"
    },
    {
     "data": {
      "application/vnd.jupyter.widget-view+json": {
       "model_id": "f0b0de2f24fa4cb9bcd2f7bab17720d7",
       "version_major": 2,
       "version_minor": 0
      },
      "text/plain": [
       "train-00414-of-00625.parquet:   0%|          | 0.00/58.8M [00:00<?, ?B/s]"
      ]
     },
     "metadata": {},
     "output_type": "display_data"
    },
    {
     "data": {
      "application/vnd.jupyter.widget-view+json": {
       "model_id": "4f79a74ecf0646aebcb77d6df68f7ece",
       "version_major": 2,
       "version_minor": 0
      },
      "text/plain": [
       "train-00415-of-00625.parquet:   0%|          | 0.00/58.7M [00:00<?, ?B/s]"
      ]
     },
     "metadata": {},
     "output_type": "display_data"
    },
    {
     "data": {
      "application/vnd.jupyter.widget-view+json": {
       "model_id": "471addaaa1c645159e394067d9c76392",
       "version_major": 2,
       "version_minor": 0
      },
      "text/plain": [
       "train-00416-of-00625.parquet:   0%|          | 0.00/59.3M [00:00<?, ?B/s]"
      ]
     },
     "metadata": {},
     "output_type": "display_data"
    },
    {
     "data": {
      "application/vnd.jupyter.widget-view+json": {
       "model_id": "e3547121a5224f1e8a981f5b68a8ba69",
       "version_major": 2,
       "version_minor": 0
      },
      "text/plain": [
       "train-00417-of-00625.parquet:   0%|          | 0.00/58.4M [00:00<?, ?B/s]"
      ]
     },
     "metadata": {},
     "output_type": "display_data"
    },
    {
     "data": {
      "application/vnd.jupyter.widget-view+json": {
       "model_id": "7af5fd805d6941aaae993e6c976a1f0f",
       "version_major": 2,
       "version_minor": 0
      },
      "text/plain": [
       "train-00418-of-00625.parquet:   0%|          | 0.00/57.9M [00:00<?, ?B/s]"
      ]
     },
     "metadata": {},
     "output_type": "display_data"
    },
    {
     "data": {
      "application/vnd.jupyter.widget-view+json": {
       "model_id": "e474ef3e2a4d41b49a05e6614c8b3e94",
       "version_major": 2,
       "version_minor": 0
      },
      "text/plain": [
       "train-00419-of-00625.parquet:   0%|          | 0.00/57.4M [00:00<?, ?B/s]"
      ]
     },
     "metadata": {},
     "output_type": "display_data"
    },
    {
     "data": {
      "application/vnd.jupyter.widget-view+json": {
       "model_id": "57c1313d02454212a64e747b08c133e5",
       "version_major": 2,
       "version_minor": 0
      },
      "text/plain": [
       "train-00420-of-00625.parquet:   0%|          | 0.00/58.7M [00:00<?, ?B/s]"
      ]
     },
     "metadata": {},
     "output_type": "display_data"
    },
    {
     "data": {
      "application/vnd.jupyter.widget-view+json": {
       "model_id": "20e38f9f5ad04c839df5fafdefa7df89",
       "version_major": 2,
       "version_minor": 0
      },
      "text/plain": [
       "train-00421-of-00625.parquet:   0%|          | 0.00/58.0M [00:00<?, ?B/s]"
      ]
     },
     "metadata": {},
     "output_type": "display_data"
    },
    {
     "data": {
      "application/vnd.jupyter.widget-view+json": {
       "model_id": "8cf16ba76d4448ebb3f27f447e4d5433",
       "version_major": 2,
       "version_minor": 0
      },
      "text/plain": [
       "train-00422-of-00625.parquet:   0%|          | 0.00/58.1M [00:00<?, ?B/s]"
      ]
     },
     "metadata": {},
     "output_type": "display_data"
    },
    {
     "data": {
      "application/vnd.jupyter.widget-view+json": {
       "model_id": "7399e0dfeaa54953ab019c1fa952c7b6",
       "version_major": 2,
       "version_minor": 0
      },
      "text/plain": [
       "train-00423-of-00625.parquet:   0%|          | 0.00/57.3M [00:00<?, ?B/s]"
      ]
     },
     "metadata": {},
     "output_type": "display_data"
    },
    {
     "data": {
      "application/vnd.jupyter.widget-view+json": {
       "model_id": "e64917dbfdb94efc9b1b4d188c406ab9",
       "version_major": 2,
       "version_minor": 0
      },
      "text/plain": [
       "train-00424-of-00625.parquet:   0%|          | 0.00/58.2M [00:00<?, ?B/s]"
      ]
     },
     "metadata": {},
     "output_type": "display_data"
    },
    {
     "data": {
      "application/vnd.jupyter.widget-view+json": {
       "model_id": "193df74e7b774a23bb54e55e55ae8315",
       "version_major": 2,
       "version_minor": 0
      },
      "text/plain": [
       "train-00425-of-00625.parquet:   0%|          | 0.00/59.4M [00:00<?, ?B/s]"
      ]
     },
     "metadata": {},
     "output_type": "display_data"
    },
    {
     "data": {
      "application/vnd.jupyter.widget-view+json": {
       "model_id": "1d2a7e3e5ce440d2a631ad366c8ef13a",
       "version_major": 2,
       "version_minor": 0
      },
      "text/plain": [
       "train-00426-of-00625.parquet:   0%|          | 0.00/58.2M [00:00<?, ?B/s]"
      ]
     },
     "metadata": {},
     "output_type": "display_data"
    },
    {
     "data": {
      "application/vnd.jupyter.widget-view+json": {
       "model_id": "1d078d12920345389f477b52942cf0ff",
       "version_major": 2,
       "version_minor": 0
      },
      "text/plain": [
       "train-00427-of-00625.parquet:   0%|          | 0.00/58.1M [00:00<?, ?B/s]"
      ]
     },
     "metadata": {},
     "output_type": "display_data"
    },
    {
     "data": {
      "application/vnd.jupyter.widget-view+json": {
       "model_id": "82714daaa6cd414fb6a636eb43aadb79",
       "version_major": 2,
       "version_minor": 0
      },
      "text/plain": [
       "train-00428-of-00625.parquet:   0%|          | 0.00/58.3M [00:00<?, ?B/s]"
      ]
     },
     "metadata": {},
     "output_type": "display_data"
    },
    {
     "data": {
      "application/vnd.jupyter.widget-view+json": {
       "model_id": "c487377327654f06b2c107cf9b45d2d4",
       "version_major": 2,
       "version_minor": 0
      },
      "text/plain": [
       "train-00429-of-00625.parquet:   0%|          | 0.00/58.0M [00:00<?, ?B/s]"
      ]
     },
     "metadata": {},
     "output_type": "display_data"
    },
    {
     "data": {
      "application/vnd.jupyter.widget-view+json": {
       "model_id": "5fb87bd2874648239fd07bbaef17fd22",
       "version_major": 2,
       "version_minor": 0
      },
      "text/plain": [
       "train-00430-of-00625.parquet:   0%|          | 0.00/58.8M [00:00<?, ?B/s]"
      ]
     },
     "metadata": {},
     "output_type": "display_data"
    },
    {
     "data": {
      "application/vnd.jupyter.widget-view+json": {
       "model_id": "bdd0656002644c8f961f724e95c7aa5d",
       "version_major": 2,
       "version_minor": 0
      },
      "text/plain": [
       "train-00431-of-00625.parquet:   0%|          | 0.00/58.2M [00:00<?, ?B/s]"
      ]
     },
     "metadata": {},
     "output_type": "display_data"
    },
    {
     "data": {
      "application/vnd.jupyter.widget-view+json": {
       "model_id": "ea30316d3cb0409586c8c34a03efd54e",
       "version_major": 2,
       "version_minor": 0
      },
      "text/plain": [
       "train-00432-of-00625.parquet:   0%|          | 0.00/57.8M [00:00<?, ?B/s]"
      ]
     },
     "metadata": {},
     "output_type": "display_data"
    },
    {
     "data": {
      "application/vnd.jupyter.widget-view+json": {
       "model_id": "376b9fef84784c41bd0f5f4ce8072725",
       "version_major": 2,
       "version_minor": 0
      },
      "text/plain": [
       "train-00433-of-00625.parquet:   0%|          | 0.00/59.1M [00:00<?, ?B/s]"
      ]
     },
     "metadata": {},
     "output_type": "display_data"
    },
    {
     "data": {
      "application/vnd.jupyter.widget-view+json": {
       "model_id": "df021c25a074433fa9df63bafbbcaedf",
       "version_major": 2,
       "version_minor": 0
      },
      "text/plain": [
       "train-00434-of-00625.parquet:   0%|          | 0.00/58.0M [00:00<?, ?B/s]"
      ]
     },
     "metadata": {},
     "output_type": "display_data"
    },
    {
     "data": {
      "application/vnd.jupyter.widget-view+json": {
       "model_id": "b7f928951de44a85bc92c39710d4c214",
       "version_major": 2,
       "version_minor": 0
      },
      "text/plain": [
       "train-00435-of-00625.parquet:   0%|          | 0.00/59.0M [00:00<?, ?B/s]"
      ]
     },
     "metadata": {},
     "output_type": "display_data"
    },
    {
     "data": {
      "application/vnd.jupyter.widget-view+json": {
       "model_id": "7d79b8953d9948f78fdb3a6e00e8df60",
       "version_major": 2,
       "version_minor": 0
      },
      "text/plain": [
       "train-00436-of-00625.parquet:   0%|          | 0.00/58.3M [00:00<?, ?B/s]"
      ]
     },
     "metadata": {},
     "output_type": "display_data"
    },
    {
     "data": {
      "application/vnd.jupyter.widget-view+json": {
       "model_id": "fdef072c1cc74b2397dd571288fba3c9",
       "version_major": 2,
       "version_minor": 0
      },
      "text/plain": [
       "train-00437-of-00625.parquet:   0%|          | 0.00/58.9M [00:00<?, ?B/s]"
      ]
     },
     "metadata": {},
     "output_type": "display_data"
    },
    {
     "data": {
      "application/vnd.jupyter.widget-view+json": {
       "model_id": "6e5036153f354cd88147667cfbae848b",
       "version_major": 2,
       "version_minor": 0
      },
      "text/plain": [
       "train-00438-of-00625.parquet:   0%|          | 0.00/58.2M [00:00<?, ?B/s]"
      ]
     },
     "metadata": {},
     "output_type": "display_data"
    },
    {
     "data": {
      "application/vnd.jupyter.widget-view+json": {
       "model_id": "3fc824e95869493a958622f5f2f958bf",
       "version_major": 2,
       "version_minor": 0
      },
      "text/plain": [
       "train-00439-of-00625.parquet:   0%|          | 0.00/57.5M [00:00<?, ?B/s]"
      ]
     },
     "metadata": {},
     "output_type": "display_data"
    },
    {
     "data": {
      "application/vnd.jupyter.widget-view+json": {
       "model_id": "60b482fa31034f0ca435e90e7c4c8390",
       "version_major": 2,
       "version_minor": 0
      },
      "text/plain": [
       "train-00440-of-00625.parquet:   0%|          | 0.00/59.0M [00:00<?, ?B/s]"
      ]
     },
     "metadata": {},
     "output_type": "display_data"
    },
    {
     "data": {
      "application/vnd.jupyter.widget-view+json": {
       "model_id": "7958b92b9b264fb8b4aa878b251ba1e3",
       "version_major": 2,
       "version_minor": 0
      },
      "text/plain": [
       "train-00441-of-00625.parquet:   0%|          | 0.00/57.0M [00:00<?, ?B/s]"
      ]
     },
     "metadata": {},
     "output_type": "display_data"
    },
    {
     "data": {
      "application/vnd.jupyter.widget-view+json": {
       "model_id": "3d67548b03564d2985be48bc70d7788b",
       "version_major": 2,
       "version_minor": 0
      },
      "text/plain": [
       "train-00442-of-00625.parquet:   0%|          | 0.00/59.2M [00:00<?, ?B/s]"
      ]
     },
     "metadata": {},
     "output_type": "display_data"
    },
    {
     "data": {
      "application/vnd.jupyter.widget-view+json": {
       "model_id": "4846cb07f1a04a4fbda09c395448b093",
       "version_major": 2,
       "version_minor": 0
      },
      "text/plain": [
       "train-00443-of-00625.parquet:   0%|          | 0.00/58.0M [00:00<?, ?B/s]"
      ]
     },
     "metadata": {},
     "output_type": "display_data"
    },
    {
     "data": {
      "application/vnd.jupyter.widget-view+json": {
       "model_id": "9dcf9b50303d47e2ae24222a50f558a2",
       "version_major": 2,
       "version_minor": 0
      },
      "text/plain": [
       "train-00444-of-00625.parquet:   0%|          | 0.00/58.1M [00:00<?, ?B/s]"
      ]
     },
     "metadata": {},
     "output_type": "display_data"
    },
    {
     "data": {
      "application/vnd.jupyter.widget-view+json": {
       "model_id": "3884ab7ca24f43169bc6dd40fa1adb63",
       "version_major": 2,
       "version_minor": 0
      },
      "text/plain": [
       "train-00445-of-00625.parquet:   0%|          | 0.00/59.0M [00:00<?, ?B/s]"
      ]
     },
     "metadata": {},
     "output_type": "display_data"
    },
    {
     "data": {
      "application/vnd.jupyter.widget-view+json": {
       "model_id": "9e0ee0bb764f4ddabb943baec263add8",
       "version_major": 2,
       "version_minor": 0
      },
      "text/plain": [
       "train-00446-of-00625.parquet:   0%|          | 0.00/58.4M [00:00<?, ?B/s]"
      ]
     },
     "metadata": {},
     "output_type": "display_data"
    },
    {
     "data": {
      "application/vnd.jupyter.widget-view+json": {
       "model_id": "2769b4b8d9c64ee2933274318c814606",
       "version_major": 2,
       "version_minor": 0
      },
      "text/plain": [
       "train-00447-of-00625.parquet:   0%|          | 0.00/57.0M [00:00<?, ?B/s]"
      ]
     },
     "metadata": {},
     "output_type": "display_data"
    },
    {
     "data": {
      "application/vnd.jupyter.widget-view+json": {
       "model_id": "085aaf75696449929d821be9b8bf7423",
       "version_major": 2,
       "version_minor": 0
      },
      "text/plain": [
       "train-00448-of-00625.parquet:   0%|          | 0.00/59.0M [00:00<?, ?B/s]"
      ]
     },
     "metadata": {},
     "output_type": "display_data"
    },
    {
     "data": {
      "application/vnd.jupyter.widget-view+json": {
       "model_id": "e6172d7b3b51481bb4e475adc5d16e5d",
       "version_major": 2,
       "version_minor": 0
      },
      "text/plain": [
       "train-00449-of-00625.parquet:   0%|          | 0.00/57.8M [00:00<?, ?B/s]"
      ]
     },
     "metadata": {},
     "output_type": "display_data"
    },
    {
     "data": {
      "application/vnd.jupyter.widget-view+json": {
       "model_id": "f6ad964c61ca4f049feb248f7310959e",
       "version_major": 2,
       "version_minor": 0
      },
      "text/plain": [
       "train-00450-of-00625.parquet:   0%|          | 0.00/58.3M [00:00<?, ?B/s]"
      ]
     },
     "metadata": {},
     "output_type": "display_data"
    },
    {
     "data": {
      "application/vnd.jupyter.widget-view+json": {
       "model_id": "fa4d50d18f064b589125cd8fb902ff71",
       "version_major": 2,
       "version_minor": 0
      },
      "text/plain": [
       "train-00451-of-00625.parquet:   0%|          | 0.00/58.7M [00:00<?, ?B/s]"
      ]
     },
     "metadata": {},
     "output_type": "display_data"
    },
    {
     "data": {
      "application/vnd.jupyter.widget-view+json": {
       "model_id": "271ec0751d374df78a7aeed0814d6478",
       "version_major": 2,
       "version_minor": 0
      },
      "text/plain": [
       "train-00452-of-00625.parquet:   0%|          | 0.00/58.3M [00:00<?, ?B/s]"
      ]
     },
     "metadata": {},
     "output_type": "display_data"
    },
    {
     "data": {
      "application/vnd.jupyter.widget-view+json": {
       "model_id": "3e9b3e414dde429ca5120cf711d6d46c",
       "version_major": 2,
       "version_minor": 0
      },
      "text/plain": [
       "train-00453-of-00625.parquet:   0%|          | 0.00/57.6M [00:00<?, ?B/s]"
      ]
     },
     "metadata": {},
     "output_type": "display_data"
    },
    {
     "data": {
      "application/vnd.jupyter.widget-view+json": {
       "model_id": "35da6f10bda146f592e92601d4471c29",
       "version_major": 2,
       "version_minor": 0
      },
      "text/plain": [
       "train-00454-of-00625.parquet:   0%|          | 0.00/59.0M [00:00<?, ?B/s]"
      ]
     },
     "metadata": {},
     "output_type": "display_data"
    },
    {
     "data": {
      "application/vnd.jupyter.widget-view+json": {
       "model_id": "1f92399d0ff6441abd49d273b0fa80ec",
       "version_major": 2,
       "version_minor": 0
      },
      "text/plain": [
       "train-00455-of-00625.parquet:   0%|          | 0.00/58.7M [00:00<?, ?B/s]"
      ]
     },
     "metadata": {},
     "output_type": "display_data"
    },
    {
     "data": {
      "application/vnd.jupyter.widget-view+json": {
       "model_id": "6876b455a0fd47ec95bcd9a703d30358",
       "version_major": 2,
       "version_minor": 0
      },
      "text/plain": [
       "train-00456-of-00625.parquet:   0%|          | 0.00/58.8M [00:00<?, ?B/s]"
      ]
     },
     "metadata": {},
     "output_type": "display_data"
    },
    {
     "data": {
      "application/vnd.jupyter.widget-view+json": {
       "model_id": "43bc2e8c2c7e499c9d23fddb7d1edeb6",
       "version_major": 2,
       "version_minor": 0
      },
      "text/plain": [
       "train-00457-of-00625.parquet:   0%|          | 0.00/57.9M [00:00<?, ?B/s]"
      ]
     },
     "metadata": {},
     "output_type": "display_data"
    },
    {
     "data": {
      "application/vnd.jupyter.widget-view+json": {
       "model_id": "747d26b467dd4608bbc0a3ea455b2cc7",
       "version_major": 2,
       "version_minor": 0
      },
      "text/plain": [
       "train-00458-of-00625.parquet:   0%|          | 0.00/58.3M [00:00<?, ?B/s]"
      ]
     },
     "metadata": {},
     "output_type": "display_data"
    },
    {
     "data": {
      "application/vnd.jupyter.widget-view+json": {
       "model_id": "b6e0dd5dea0b439da69996eda67b9542",
       "version_major": 2,
       "version_minor": 0
      },
      "text/plain": [
       "train-00459-of-00625.parquet:   0%|          | 0.00/58.9M [00:00<?, ?B/s]"
      ]
     },
     "metadata": {},
     "output_type": "display_data"
    },
    {
     "data": {
      "application/vnd.jupyter.widget-view+json": {
       "model_id": "2155fff6eefd4092b79f164a813b50d8",
       "version_major": 2,
       "version_minor": 0
      },
      "text/plain": [
       "train-00460-of-00625.parquet:   0%|          | 0.00/58.6M [00:00<?, ?B/s]"
      ]
     },
     "metadata": {},
     "output_type": "display_data"
    },
    {
     "data": {
      "application/vnd.jupyter.widget-view+json": {
       "model_id": "c143172f90f045349feb7e5c0241cc90",
       "version_major": 2,
       "version_minor": 0
      },
      "text/plain": [
       "train-00461-of-00625.parquet:   0%|          | 0.00/59.9M [00:00<?, ?B/s]"
      ]
     },
     "metadata": {},
     "output_type": "display_data"
    },
    {
     "data": {
      "application/vnd.jupyter.widget-view+json": {
       "model_id": "2f738df08b2a4c70b162fc8920a1284e",
       "version_major": 2,
       "version_minor": 0
      },
      "text/plain": [
       "train-00462-of-00625.parquet:   0%|          | 0.00/58.8M [00:00<?, ?B/s]"
      ]
     },
     "metadata": {},
     "output_type": "display_data"
    },
    {
     "data": {
      "application/vnd.jupyter.widget-view+json": {
       "model_id": "753740d46b854ee2878e15aeb3605a76",
       "version_major": 2,
       "version_minor": 0
      },
      "text/plain": [
       "train-00463-of-00625.parquet:   0%|          | 0.00/57.2M [00:00<?, ?B/s]"
      ]
     },
     "metadata": {},
     "output_type": "display_data"
    },
    {
     "data": {
      "application/vnd.jupyter.widget-view+json": {
       "model_id": "c4ad3e0113c344c5926df225ac21d123",
       "version_major": 2,
       "version_minor": 0
      },
      "text/plain": [
       "train-00464-of-00625.parquet:   0%|          | 0.00/58.9M [00:00<?, ?B/s]"
      ]
     },
     "metadata": {},
     "output_type": "display_data"
    },
    {
     "data": {
      "application/vnd.jupyter.widget-view+json": {
       "model_id": "5d10534a034b4ce7aa682548f4771c0a",
       "version_major": 2,
       "version_minor": 0
      },
      "text/plain": [
       "train-00465-of-00625.parquet:   0%|          | 0.00/58.2M [00:00<?, ?B/s]"
      ]
     },
     "metadata": {},
     "output_type": "display_data"
    },
    {
     "data": {
      "application/vnd.jupyter.widget-view+json": {
       "model_id": "8a79265bd44744999c0d69d41b1a2fab",
       "version_major": 2,
       "version_minor": 0
      },
      "text/plain": [
       "train-00466-of-00625.parquet:   0%|          | 0.00/56.8M [00:00<?, ?B/s]"
      ]
     },
     "metadata": {},
     "output_type": "display_data"
    },
    {
     "data": {
      "application/vnd.jupyter.widget-view+json": {
       "model_id": "cb8ceee685c043a5b578f63779560265",
       "version_major": 2,
       "version_minor": 0
      },
      "text/plain": [
       "train-00467-of-00625.parquet:   0%|          | 0.00/57.9M [00:00<?, ?B/s]"
      ]
     },
     "metadata": {},
     "output_type": "display_data"
    },
    {
     "data": {
      "application/vnd.jupyter.widget-view+json": {
       "model_id": "7fa8a204c1de40dc8a85994b9cfcc5d6",
       "version_major": 2,
       "version_minor": 0
      },
      "text/plain": [
       "train-00468-of-00625.parquet:   0%|          | 0.00/57.9M [00:00<?, ?B/s]"
      ]
     },
     "metadata": {},
     "output_type": "display_data"
    },
    {
     "data": {
      "application/vnd.jupyter.widget-view+json": {
       "model_id": "bcfbc7f3b5114497886f13dc040a59d7",
       "version_major": 2,
       "version_minor": 0
      },
      "text/plain": [
       "train-00469-of-00625.parquet:   0%|          | 0.00/59.1M [00:00<?, ?B/s]"
      ]
     },
     "metadata": {},
     "output_type": "display_data"
    },
    {
     "data": {
      "application/vnd.jupyter.widget-view+json": {
       "model_id": "a5e456e035334571ac8229e0348690b7",
       "version_major": 2,
       "version_minor": 0
      },
      "text/plain": [
       "train-00470-of-00625.parquet:   0%|          | 0.00/58.7M [00:00<?, ?B/s]"
      ]
     },
     "metadata": {},
     "output_type": "display_data"
    },
    {
     "data": {
      "application/vnd.jupyter.widget-view+json": {
       "model_id": "f781bea7716141dea5e048e69f071f09",
       "version_major": 2,
       "version_minor": 0
      },
      "text/plain": [
       "train-00471-of-00625.parquet:   0%|          | 0.00/58.4M [00:00<?, ?B/s]"
      ]
     },
     "metadata": {},
     "output_type": "display_data"
    },
    {
     "data": {
      "application/vnd.jupyter.widget-view+json": {
       "model_id": "cbbcfefcb16b404cab7e9480275578a9",
       "version_major": 2,
       "version_minor": 0
      },
      "text/plain": [
       "train-00472-of-00625.parquet:   0%|          | 0.00/58.7M [00:00<?, ?B/s]"
      ]
     },
     "metadata": {},
     "output_type": "display_data"
    },
    {
     "data": {
      "application/vnd.jupyter.widget-view+json": {
       "model_id": "51aa6674bd2e4d10aee3a12e07e50208",
       "version_major": 2,
       "version_minor": 0
      },
      "text/plain": [
       "train-00473-of-00625.parquet:   0%|          | 0.00/58.1M [00:00<?, ?B/s]"
      ]
     },
     "metadata": {},
     "output_type": "display_data"
    },
    {
     "data": {
      "application/vnd.jupyter.widget-view+json": {
       "model_id": "14ba368fc21440d79d8dfebc713cff97",
       "version_major": 2,
       "version_minor": 0
      },
      "text/plain": [
       "train-00474-of-00625.parquet:   0%|          | 0.00/59.4M [00:00<?, ?B/s]"
      ]
     },
     "metadata": {},
     "output_type": "display_data"
    },
    {
     "data": {
      "application/vnd.jupyter.widget-view+json": {
       "model_id": "1b071d8f758c48c0a02d0579138e8416",
       "version_major": 2,
       "version_minor": 0
      },
      "text/plain": [
       "train-00475-of-00625.parquet:   0%|          | 0.00/58.6M [00:00<?, ?B/s]"
      ]
     },
     "metadata": {},
     "output_type": "display_data"
    },
    {
     "data": {
      "application/vnd.jupyter.widget-view+json": {
       "model_id": "341482007d274edf8800cec7582385a7",
       "version_major": 2,
       "version_minor": 0
      },
      "text/plain": [
       "train-00476-of-00625.parquet:   0%|          | 0.00/58.2M [00:00<?, ?B/s]"
      ]
     },
     "metadata": {},
     "output_type": "display_data"
    },
    {
     "data": {
      "application/vnd.jupyter.widget-view+json": {
       "model_id": "bd70966bb82a4a268bcf751686770599",
       "version_major": 2,
       "version_minor": 0
      },
      "text/plain": [
       "train-00477-of-00625.parquet:   0%|          | 0.00/59.2M [00:00<?, ?B/s]"
      ]
     },
     "metadata": {},
     "output_type": "display_data"
    },
    {
     "data": {
      "application/vnd.jupyter.widget-view+json": {
       "model_id": "a654129aef3e4dc5b8ba7efa988ae20c",
       "version_major": 2,
       "version_minor": 0
      },
      "text/plain": [
       "train-00478-of-00625.parquet:   0%|          | 0.00/58.5M [00:00<?, ?B/s]"
      ]
     },
     "metadata": {},
     "output_type": "display_data"
    },
    {
     "data": {
      "application/vnd.jupyter.widget-view+json": {
       "model_id": "d59cfd1381f34559b325c14fd23583f0",
       "version_major": 2,
       "version_minor": 0
      },
      "text/plain": [
       "train-00479-of-00625.parquet:   0%|          | 0.00/58.2M [00:00<?, ?B/s]"
      ]
     },
     "metadata": {},
     "output_type": "display_data"
    },
    {
     "data": {
      "application/vnd.jupyter.widget-view+json": {
       "model_id": "99de3ad661de4e4aaad51c2db77a6cc2",
       "version_major": 2,
       "version_minor": 0
      },
      "text/plain": [
       "train-00480-of-00625.parquet:   0%|          | 0.00/57.7M [00:00<?, ?B/s]"
      ]
     },
     "metadata": {},
     "output_type": "display_data"
    },
    {
     "data": {
      "application/vnd.jupyter.widget-view+json": {
       "model_id": "2fa29c3eba8f4e56bed36904fc45f09c",
       "version_major": 2,
       "version_minor": 0
      },
      "text/plain": [
       "train-00481-of-00625.parquet:   0%|          | 0.00/59.0M [00:00<?, ?B/s]"
      ]
     },
     "metadata": {},
     "output_type": "display_data"
    },
    {
     "data": {
      "application/vnd.jupyter.widget-view+json": {
       "model_id": "f1ccdf76f5e949a7b17e94c5d051e346",
       "version_major": 2,
       "version_minor": 0
      },
      "text/plain": [
       "train-00482-of-00625.parquet:   0%|          | 0.00/56.1M [00:00<?, ?B/s]"
      ]
     },
     "metadata": {},
     "output_type": "display_data"
    },
    {
     "data": {
      "application/vnd.jupyter.widget-view+json": {
       "model_id": "2d4f3652bee24e16a22d4e5df24af682",
       "version_major": 2,
       "version_minor": 0
      },
      "text/plain": [
       "train-00483-of-00625.parquet:   0%|          | 0.00/57.9M [00:00<?, ?B/s]"
      ]
     },
     "metadata": {},
     "output_type": "display_data"
    },
    {
     "data": {
      "application/vnd.jupyter.widget-view+json": {
       "model_id": "ecefadc696994a778150ee78af1b32eb",
       "version_major": 2,
       "version_minor": 0
      },
      "text/plain": [
       "train-00484-of-00625.parquet:   0%|          | 0.00/57.5M [00:00<?, ?B/s]"
      ]
     },
     "metadata": {},
     "output_type": "display_data"
    },
    {
     "data": {
      "application/vnd.jupyter.widget-view+json": {
       "model_id": "5530c48899a04f7699268c149a439e2e",
       "version_major": 2,
       "version_minor": 0
      },
      "text/plain": [
       "train-00485-of-00625.parquet:   0%|          | 0.00/58.4M [00:00<?, ?B/s]"
      ]
     },
     "metadata": {},
     "output_type": "display_data"
    },
    {
     "data": {
      "application/vnd.jupyter.widget-view+json": {
       "model_id": "b39efe7ad34a4e41a31f66b0732018e1",
       "version_major": 2,
       "version_minor": 0
      },
      "text/plain": [
       "train-00486-of-00625.parquet:   0%|          | 0.00/59.4M [00:00<?, ?B/s]"
      ]
     },
     "metadata": {},
     "output_type": "display_data"
    },
    {
     "data": {
      "application/vnd.jupyter.widget-view+json": {
       "model_id": "4ad0a662e75741e6878dd1b1ae8642a4",
       "version_major": 2,
       "version_minor": 0
      },
      "text/plain": [
       "train-00487-of-00625.parquet:   0%|          | 0.00/58.3M [00:00<?, ?B/s]"
      ]
     },
     "metadata": {},
     "output_type": "display_data"
    },
    {
     "data": {
      "application/vnd.jupyter.widget-view+json": {
       "model_id": "6a57b5f6d1c241979ef05128d8b17a9c",
       "version_major": 2,
       "version_minor": 0
      },
      "text/plain": [
       "train-00488-of-00625.parquet:   0%|          | 0.00/58.5M [00:00<?, ?B/s]"
      ]
     },
     "metadata": {},
     "output_type": "display_data"
    },
    {
     "data": {
      "application/vnd.jupyter.widget-view+json": {
       "model_id": "93a820fa105146adb79d7945076c1cb1",
       "version_major": 2,
       "version_minor": 0
      },
      "text/plain": [
       "train-00489-of-00625.parquet:   0%|          | 0.00/57.2M [00:00<?, ?B/s]"
      ]
     },
     "metadata": {},
     "output_type": "display_data"
    },
    {
     "data": {
      "application/vnd.jupyter.widget-view+json": {
       "model_id": "a12662d30294464d814d17329ede1bf6",
       "version_major": 2,
       "version_minor": 0
      },
      "text/plain": [
       "train-00490-of-00625.parquet:   0%|          | 0.00/57.9M [00:00<?, ?B/s]"
      ]
     },
     "metadata": {},
     "output_type": "display_data"
    },
    {
     "data": {
      "application/vnd.jupyter.widget-view+json": {
       "model_id": "e3bd15ec45e245ffb3da6d2cfaee4c62",
       "version_major": 2,
       "version_minor": 0
      },
      "text/plain": [
       "train-00491-of-00625.parquet:   0%|          | 0.00/59.6M [00:00<?, ?B/s]"
      ]
     },
     "metadata": {},
     "output_type": "display_data"
    },
    {
     "data": {
      "application/vnd.jupyter.widget-view+json": {
       "model_id": "5571075dbd2141529e50bd2a91b37593",
       "version_major": 2,
       "version_minor": 0
      },
      "text/plain": [
       "train-00492-of-00625.parquet:   0%|          | 0.00/56.7M [00:00<?, ?B/s]"
      ]
     },
     "metadata": {},
     "output_type": "display_data"
    },
    {
     "data": {
      "application/vnd.jupyter.widget-view+json": {
       "model_id": "85c7d9d13c824938b4172c0559f800c1",
       "version_major": 2,
       "version_minor": 0
      },
      "text/plain": [
       "train-00493-of-00625.parquet:   0%|          | 0.00/57.1M [00:00<?, ?B/s]"
      ]
     },
     "metadata": {},
     "output_type": "display_data"
    },
    {
     "data": {
      "application/vnd.jupyter.widget-view+json": {
       "model_id": "64461ef7162b4119940cbbbfacfeab7d",
       "version_major": 2,
       "version_minor": 0
      },
      "text/plain": [
       "train-00494-of-00625.parquet:   0%|          | 0.00/58.6M [00:00<?, ?B/s]"
      ]
     },
     "metadata": {},
     "output_type": "display_data"
    },
    {
     "data": {
      "application/vnd.jupyter.widget-view+json": {
       "model_id": "6f68002147f349158a4960e068734b90",
       "version_major": 2,
       "version_minor": 0
      },
      "text/plain": [
       "train-00495-of-00625.parquet:   0%|          | 0.00/58.9M [00:00<?, ?B/s]"
      ]
     },
     "metadata": {},
     "output_type": "display_data"
    },
    {
     "data": {
      "application/vnd.jupyter.widget-view+json": {
       "model_id": "bbb57b39ff784982a4b155b4c4f4da41",
       "version_major": 2,
       "version_minor": 0
      },
      "text/plain": [
       "train-00496-of-00625.parquet:   0%|          | 0.00/57.8M [00:00<?, ?B/s]"
      ]
     },
     "metadata": {},
     "output_type": "display_data"
    },
    {
     "data": {
      "application/vnd.jupyter.widget-view+json": {
       "model_id": "a273cb014ff4454c9ae52fbb13dd21ac",
       "version_major": 2,
       "version_minor": 0
      },
      "text/plain": [
       "train-00497-of-00625.parquet:   0%|          | 0.00/59.4M [00:00<?, ?B/s]"
      ]
     },
     "metadata": {},
     "output_type": "display_data"
    },
    {
     "data": {
      "application/vnd.jupyter.widget-view+json": {
       "model_id": "a5d5668495ad49fe8cede4293571bcdf",
       "version_major": 2,
       "version_minor": 0
      },
      "text/plain": [
       "train-00498-of-00625.parquet:   0%|          | 0.00/60.1M [00:00<?, ?B/s]"
      ]
     },
     "metadata": {},
     "output_type": "display_data"
    },
    {
     "data": {
      "application/vnd.jupyter.widget-view+json": {
       "model_id": "d70d5ee864f44c13847eaa1fde4b5546",
       "version_major": 2,
       "version_minor": 0
      },
      "text/plain": [
       "train-00499-of-00625.parquet:   0%|          | 0.00/59.1M [00:00<?, ?B/s]"
      ]
     },
     "metadata": {},
     "output_type": "display_data"
    },
    {
     "data": {
      "application/vnd.jupyter.widget-view+json": {
       "model_id": "13dcd78045ba40d0bca3b9689f9555ce",
       "version_major": 2,
       "version_minor": 0
      },
      "text/plain": [
       "train-00500-of-00625.parquet:   0%|          | 0.00/58.4M [00:00<?, ?B/s]"
      ]
     },
     "metadata": {},
     "output_type": "display_data"
    },
    {
     "data": {
      "application/vnd.jupyter.widget-view+json": {
       "model_id": "3ed9fb6a16204a8185eed7ac14b7ca54",
       "version_major": 2,
       "version_minor": 0
      },
      "text/plain": [
       "train-00501-of-00625.parquet:   0%|          | 0.00/58.4M [00:00<?, ?B/s]"
      ]
     },
     "metadata": {},
     "output_type": "display_data"
    },
    {
     "data": {
      "application/vnd.jupyter.widget-view+json": {
       "model_id": "3f708dfb2e494e75bd344459406282d3",
       "version_major": 2,
       "version_minor": 0
      },
      "text/plain": [
       "train-00502-of-00625.parquet:   0%|          | 0.00/58.0M [00:00<?, ?B/s]"
      ]
     },
     "metadata": {},
     "output_type": "display_data"
    },
    {
     "data": {
      "application/vnd.jupyter.widget-view+json": {
       "model_id": "517c476359a44713af28f5fd67a5de44",
       "version_major": 2,
       "version_minor": 0
      },
      "text/plain": [
       "train-00503-of-00625.parquet:   0%|          | 0.00/57.9M [00:00<?, ?B/s]"
      ]
     },
     "metadata": {},
     "output_type": "display_data"
    },
    {
     "data": {
      "application/vnd.jupyter.widget-view+json": {
       "model_id": "1eb352a9f4b640be93429214baaa4c6e",
       "version_major": 2,
       "version_minor": 0
      },
      "text/plain": [
       "train-00504-of-00625.parquet:   0%|          | 0.00/57.4M [00:00<?, ?B/s]"
      ]
     },
     "metadata": {},
     "output_type": "display_data"
    },
    {
     "data": {
      "application/vnd.jupyter.widget-view+json": {
       "model_id": "3891224d32544386b65fede2ba9cf413",
       "version_major": 2,
       "version_minor": 0
      },
      "text/plain": [
       "train-00505-of-00625.parquet:   0%|          | 0.00/58.2M [00:00<?, ?B/s]"
      ]
     },
     "metadata": {},
     "output_type": "display_data"
    },
    {
     "data": {
      "application/vnd.jupyter.widget-view+json": {
       "model_id": "493f0f23613b425eb34a4830cbf4f12e",
       "version_major": 2,
       "version_minor": 0
      },
      "text/plain": [
       "train-00506-of-00625.parquet:   0%|          | 0.00/58.7M [00:00<?, ?B/s]"
      ]
     },
     "metadata": {},
     "output_type": "display_data"
    },
    {
     "data": {
      "application/vnd.jupyter.widget-view+json": {
       "model_id": "835d151d332d4b43aacf78c1b3481a67",
       "version_major": 2,
       "version_minor": 0
      },
      "text/plain": [
       "train-00507-of-00625.parquet:   0%|          | 0.00/58.9M [00:00<?, ?B/s]"
      ]
     },
     "metadata": {},
     "output_type": "display_data"
    },
    {
     "data": {
      "application/vnd.jupyter.widget-view+json": {
       "model_id": "fe9d433d411240f199e6d11de8a0936b",
       "version_major": 2,
       "version_minor": 0
      },
      "text/plain": [
       "train-00508-of-00625.parquet:   0%|          | 0.00/58.0M [00:00<?, ?B/s]"
      ]
     },
     "metadata": {},
     "output_type": "display_data"
    },
    {
     "data": {
      "application/vnd.jupyter.widget-view+json": {
       "model_id": "9face8aa8486414e8dd141855b94b84e",
       "version_major": 2,
       "version_minor": 0
      },
      "text/plain": [
       "train-00509-of-00625.parquet:   0%|          | 0.00/58.3M [00:00<?, ?B/s]"
      ]
     },
     "metadata": {},
     "output_type": "display_data"
    },
    {
     "data": {
      "application/vnd.jupyter.widget-view+json": {
       "model_id": "512063bbcdcd4a5d88731c4ea4338852",
       "version_major": 2,
       "version_minor": 0
      },
      "text/plain": [
       "train-00510-of-00625.parquet:   0%|          | 0.00/58.3M [00:00<?, ?B/s]"
      ]
     },
     "metadata": {},
     "output_type": "display_data"
    },
    {
     "data": {
      "application/vnd.jupyter.widget-view+json": {
       "model_id": "998a8d50721f4a2699d1714a3fc317e0",
       "version_major": 2,
       "version_minor": 0
      },
      "text/plain": [
       "train-00511-of-00625.parquet:   0%|          | 0.00/58.8M [00:00<?, ?B/s]"
      ]
     },
     "metadata": {},
     "output_type": "display_data"
    },
    {
     "data": {
      "application/vnd.jupyter.widget-view+json": {
       "model_id": "6469059390824f168c4327bb18ef6b29",
       "version_major": 2,
       "version_minor": 0
      },
      "text/plain": [
       "train-00512-of-00625.parquet:   0%|          | 0.00/57.7M [00:00<?, ?B/s]"
      ]
     },
     "metadata": {},
     "output_type": "display_data"
    },
    {
     "data": {
      "application/vnd.jupyter.widget-view+json": {
       "model_id": "2e0f27e9187d4923b92a5f9cd99661a3",
       "version_major": 2,
       "version_minor": 0
      },
      "text/plain": [
       "train-00513-of-00625.parquet:   0%|          | 0.00/58.5M [00:00<?, ?B/s]"
      ]
     },
     "metadata": {},
     "output_type": "display_data"
    },
    {
     "data": {
      "application/vnd.jupyter.widget-view+json": {
       "model_id": "fc769b403afc4298b0b74f3218f90cd8",
       "version_major": 2,
       "version_minor": 0
      },
      "text/plain": [
       "train-00514-of-00625.parquet:   0%|          | 0.00/58.3M [00:00<?, ?B/s]"
      ]
     },
     "metadata": {},
     "output_type": "display_data"
    },
    {
     "data": {
      "application/vnd.jupyter.widget-view+json": {
       "model_id": "0e37c74220d9482891983e1a7ef68971",
       "version_major": 2,
       "version_minor": 0
      },
      "text/plain": [
       "train-00515-of-00625.parquet:   0%|          | 0.00/57.6M [00:00<?, ?B/s]"
      ]
     },
     "metadata": {},
     "output_type": "display_data"
    },
    {
     "data": {
      "application/vnd.jupyter.widget-view+json": {
       "model_id": "7c35b81da62d442fabe842f948cb859b",
       "version_major": 2,
       "version_minor": 0
      },
      "text/plain": [
       "train-00516-of-00625.parquet:   0%|          | 0.00/58.9M [00:00<?, ?B/s]"
      ]
     },
     "metadata": {},
     "output_type": "display_data"
    },
    {
     "data": {
      "application/vnd.jupyter.widget-view+json": {
       "model_id": "ccd959495dd9426ebc94a1ff3e8eb687",
       "version_major": 2,
       "version_minor": 0
      },
      "text/plain": [
       "train-00517-of-00625.parquet:   0%|          | 0.00/58.1M [00:00<?, ?B/s]"
      ]
     },
     "metadata": {},
     "output_type": "display_data"
    },
    {
     "data": {
      "application/vnd.jupyter.widget-view+json": {
       "model_id": "622da1faac134bd3aec83a3c6553d379",
       "version_major": 2,
       "version_minor": 0
      },
      "text/plain": [
       "train-00518-of-00625.parquet:   0%|          | 0.00/58.5M [00:00<?, ?B/s]"
      ]
     },
     "metadata": {},
     "output_type": "display_data"
    },
    {
     "data": {
      "application/vnd.jupyter.widget-view+json": {
       "model_id": "ae7d29608f644b30ba89a36c10d510d9",
       "version_major": 2,
       "version_minor": 0
      },
      "text/plain": [
       "train-00519-of-00625.parquet:   0%|          | 0.00/58.6M [00:00<?, ?B/s]"
      ]
     },
     "metadata": {},
     "output_type": "display_data"
    },
    {
     "data": {
      "application/vnd.jupyter.widget-view+json": {
       "model_id": "baebf34838434ee89712875b8b64b8ad",
       "version_major": 2,
       "version_minor": 0
      },
      "text/plain": [
       "train-00520-of-00625.parquet:   0%|          | 0.00/58.5M [00:00<?, ?B/s]"
      ]
     },
     "metadata": {},
     "output_type": "display_data"
    },
    {
     "data": {
      "application/vnd.jupyter.widget-view+json": {
       "model_id": "9b9742330be34620b55a3b2eb1538a6d",
       "version_major": 2,
       "version_minor": 0
      },
      "text/plain": [
       "train-00521-of-00625.parquet:   0%|          | 0.00/58.1M [00:00<?, ?B/s]"
      ]
     },
     "metadata": {},
     "output_type": "display_data"
    },
    {
     "data": {
      "application/vnd.jupyter.widget-view+json": {
       "model_id": "8fddeadef7964482b3ab96d998cf8a8f",
       "version_major": 2,
       "version_minor": 0
      },
      "text/plain": [
       "train-00522-of-00625.parquet:   0%|          | 0.00/58.8M [00:00<?, ?B/s]"
      ]
     },
     "metadata": {},
     "output_type": "display_data"
    },
    {
     "data": {
      "application/vnd.jupyter.widget-view+json": {
       "model_id": "90de9a95abc24995a59ba4ff9a042c3a",
       "version_major": 2,
       "version_minor": 0
      },
      "text/plain": [
       "train-00523-of-00625.parquet:   0%|          | 0.00/58.7M [00:00<?, ?B/s]"
      ]
     },
     "metadata": {},
     "output_type": "display_data"
    },
    {
     "data": {
      "application/vnd.jupyter.widget-view+json": {
       "model_id": "9b544adbb9764330990c70d920ae3095",
       "version_major": 2,
       "version_minor": 0
      },
      "text/plain": [
       "train-00524-of-00625.parquet:   0%|          | 0.00/58.2M [00:00<?, ?B/s]"
      ]
     },
     "metadata": {},
     "output_type": "display_data"
    },
    {
     "data": {
      "application/vnd.jupyter.widget-view+json": {
       "model_id": "1002c25c087f476ab759117e63246858",
       "version_major": 2,
       "version_minor": 0
      },
      "text/plain": [
       "train-00525-of-00625.parquet:   0%|          | 0.00/58.8M [00:00<?, ?B/s]"
      ]
     },
     "metadata": {},
     "output_type": "display_data"
    },
    {
     "data": {
      "application/vnd.jupyter.widget-view+json": {
       "model_id": "a02fe3d2280449609807bf8778d80126",
       "version_major": 2,
       "version_minor": 0
      },
      "text/plain": [
       "train-00526-of-00625.parquet:   0%|          | 0.00/59.8M [00:00<?, ?B/s]"
      ]
     },
     "metadata": {},
     "output_type": "display_data"
    },
    {
     "data": {
      "application/vnd.jupyter.widget-view+json": {
       "model_id": "ff50c24a5ae84fd9a17007b5938ad16d",
       "version_major": 2,
       "version_minor": 0
      },
      "text/plain": [
       "train-00527-of-00625.parquet:   0%|          | 0.00/58.5M [00:00<?, ?B/s]"
      ]
     },
     "metadata": {},
     "output_type": "display_data"
    },
    {
     "data": {
      "application/vnd.jupyter.widget-view+json": {
       "model_id": "e6ba4342ce0f44718ae9a9255116701b",
       "version_major": 2,
       "version_minor": 0
      },
      "text/plain": [
       "train-00528-of-00625.parquet:   0%|          | 0.00/59.6M [00:00<?, ?B/s]"
      ]
     },
     "metadata": {},
     "output_type": "display_data"
    },
    {
     "data": {
      "application/vnd.jupyter.widget-view+json": {
       "model_id": "90a8b310f1cb40128aaabd9fa3369f9e",
       "version_major": 2,
       "version_minor": 0
      },
      "text/plain": [
       "train-00529-of-00625.parquet:   0%|          | 0.00/58.1M [00:00<?, ?B/s]"
      ]
     },
     "metadata": {},
     "output_type": "display_data"
    },
    {
     "data": {
      "application/vnd.jupyter.widget-view+json": {
       "model_id": "b4db0346f0894800b91217673db2d970",
       "version_major": 2,
       "version_minor": 0
      },
      "text/plain": [
       "train-00530-of-00625.parquet:   0%|          | 0.00/57.4M [00:00<?, ?B/s]"
      ]
     },
     "metadata": {},
     "output_type": "display_data"
    },
    {
     "data": {
      "application/vnd.jupyter.widget-view+json": {
       "model_id": "1f44ee4cf67d4db6aa5db6045dc1c2bc",
       "version_major": 2,
       "version_minor": 0
      },
      "text/plain": [
       "train-00531-of-00625.parquet:   0%|          | 0.00/58.5M [00:00<?, ?B/s]"
      ]
     },
     "metadata": {},
     "output_type": "display_data"
    },
    {
     "data": {
      "application/vnd.jupyter.widget-view+json": {
       "model_id": "0a0cab8387f84feab2f21e1af633a3a3",
       "version_major": 2,
       "version_minor": 0
      },
      "text/plain": [
       "train-00532-of-00625.parquet:   0%|          | 0.00/58.1M [00:00<?, ?B/s]"
      ]
     },
     "metadata": {},
     "output_type": "display_data"
    },
    {
     "data": {
      "application/vnd.jupyter.widget-view+json": {
       "model_id": "dc7cdcb2483d475a8f51cea7893fc79b",
       "version_major": 2,
       "version_minor": 0
      },
      "text/plain": [
       "train-00533-of-00625.parquet:   0%|          | 0.00/58.4M [00:00<?, ?B/s]"
      ]
     },
     "metadata": {},
     "output_type": "display_data"
    },
    {
     "data": {
      "application/vnd.jupyter.widget-view+json": {
       "model_id": "c112c0f801a64d2f95b06e77476580ed",
       "version_major": 2,
       "version_minor": 0
      },
      "text/plain": [
       "train-00534-of-00625.parquet:   0%|          | 0.00/59.1M [00:00<?, ?B/s]"
      ]
     },
     "metadata": {},
     "output_type": "display_data"
    },
    {
     "data": {
      "application/vnd.jupyter.widget-view+json": {
       "model_id": "ed011b3fde354431946ca84a242b368b",
       "version_major": 2,
       "version_minor": 0
      },
      "text/plain": [
       "train-00535-of-00625.parquet:   0%|          | 0.00/57.3M [00:00<?, ?B/s]"
      ]
     },
     "metadata": {},
     "output_type": "display_data"
    },
    {
     "data": {
      "application/vnd.jupyter.widget-view+json": {
       "model_id": "2d5ac408d592492ba3558281b38c0028",
       "version_major": 2,
       "version_minor": 0
      },
      "text/plain": [
       "train-00536-of-00625.parquet:   0%|          | 0.00/58.4M [00:00<?, ?B/s]"
      ]
     },
     "metadata": {},
     "output_type": "display_data"
    },
    {
     "data": {
      "application/vnd.jupyter.widget-view+json": {
       "model_id": "2153d5cef0a24cffa5350e80b1895ec0",
       "version_major": 2,
       "version_minor": 0
      },
      "text/plain": [
       "train-00537-of-00625.parquet:   0%|          | 0.00/59.0M [00:00<?, ?B/s]"
      ]
     },
     "metadata": {},
     "output_type": "display_data"
    },
    {
     "data": {
      "application/vnd.jupyter.widget-view+json": {
       "model_id": "6de7b0481be440d7b8fc185e52ed8dc0",
       "version_major": 2,
       "version_minor": 0
      },
      "text/plain": [
       "train-00538-of-00625.parquet:   0%|          | 0.00/59.1M [00:00<?, ?B/s]"
      ]
     },
     "metadata": {},
     "output_type": "display_data"
    },
    {
     "data": {
      "application/vnd.jupyter.widget-view+json": {
       "model_id": "013c192921884236885d7210f3cc1f43",
       "version_major": 2,
       "version_minor": 0
      },
      "text/plain": [
       "train-00539-of-00625.parquet:   0%|          | 0.00/58.7M [00:00<?, ?B/s]"
      ]
     },
     "metadata": {},
     "output_type": "display_data"
    },
    {
     "data": {
      "application/vnd.jupyter.widget-view+json": {
       "model_id": "15088d7a8ddf4b55b23b4e4dffee1408",
       "version_major": 2,
       "version_minor": 0
      },
      "text/plain": [
       "train-00540-of-00625.parquet:   0%|          | 0.00/57.6M [00:00<?, ?B/s]"
      ]
     },
     "metadata": {},
     "output_type": "display_data"
    },
    {
     "data": {
      "application/vnd.jupyter.widget-view+json": {
       "model_id": "21484cafb3824abca905fc2d6553c585",
       "version_major": 2,
       "version_minor": 0
      },
      "text/plain": [
       "train-00541-of-00625.parquet:   0%|          | 0.00/58.0M [00:00<?, ?B/s]"
      ]
     },
     "metadata": {},
     "output_type": "display_data"
    },
    {
     "data": {
      "application/vnd.jupyter.widget-view+json": {
       "model_id": "baf4c1914d7548b88b107a4021a2e2ac",
       "version_major": 2,
       "version_minor": 0
      },
      "text/plain": [
       "train-00542-of-00625.parquet:   0%|          | 0.00/58.9M [00:00<?, ?B/s]"
      ]
     },
     "metadata": {},
     "output_type": "display_data"
    },
    {
     "data": {
      "application/vnd.jupyter.widget-view+json": {
       "model_id": "409e3920510447d99d9e88364ec43b8c",
       "version_major": 2,
       "version_minor": 0
      },
      "text/plain": [
       "train-00543-of-00625.parquet:   0%|          | 0.00/59.6M [00:00<?, ?B/s]"
      ]
     },
     "metadata": {},
     "output_type": "display_data"
    },
    {
     "data": {
      "application/vnd.jupyter.widget-view+json": {
       "model_id": "63395e5be84e44648ce1091dad9aae6f",
       "version_major": 2,
       "version_minor": 0
      },
      "text/plain": [
       "train-00544-of-00625.parquet:   0%|          | 0.00/58.5M [00:00<?, ?B/s]"
      ]
     },
     "metadata": {},
     "output_type": "display_data"
    },
    {
     "data": {
      "application/vnd.jupyter.widget-view+json": {
       "model_id": "cefc20366e1b4e12bb3a3c4991424490",
       "version_major": 2,
       "version_minor": 0
      },
      "text/plain": [
       "train-00545-of-00625.parquet:   0%|          | 0.00/58.6M [00:00<?, ?B/s]"
      ]
     },
     "metadata": {},
     "output_type": "display_data"
    },
    {
     "data": {
      "application/vnd.jupyter.widget-view+json": {
       "model_id": "9b9045212ee748e38204ee253d7b287a",
       "version_major": 2,
       "version_minor": 0
      },
      "text/plain": [
       "train-00546-of-00625.parquet:   0%|          | 0.00/58.7M [00:00<?, ?B/s]"
      ]
     },
     "metadata": {},
     "output_type": "display_data"
    },
    {
     "data": {
      "application/vnd.jupyter.widget-view+json": {
       "model_id": "bbed544d36b94b9db1154c7d6bf8a5a0",
       "version_major": 2,
       "version_minor": 0
      },
      "text/plain": [
       "train-00547-of-00625.parquet:   0%|          | 0.00/58.3M [00:00<?, ?B/s]"
      ]
     },
     "metadata": {},
     "output_type": "display_data"
    },
    {
     "data": {
      "application/vnd.jupyter.widget-view+json": {
       "model_id": "71da2a5904464c3fa18d43d0d64d45b6",
       "version_major": 2,
       "version_minor": 0
      },
      "text/plain": [
       "train-00548-of-00625.parquet:   0%|          | 0.00/59.1M [00:00<?, ?B/s]"
      ]
     },
     "metadata": {},
     "output_type": "display_data"
    },
    {
     "data": {
      "application/vnd.jupyter.widget-view+json": {
       "model_id": "1bae0ea54b6a4f5eb37887ba370c152c",
       "version_major": 2,
       "version_minor": 0
      },
      "text/plain": [
       "train-00549-of-00625.parquet:   0%|          | 0.00/58.1M [00:00<?, ?B/s]"
      ]
     },
     "metadata": {},
     "output_type": "display_data"
    },
    {
     "data": {
      "application/vnd.jupyter.widget-view+json": {
       "model_id": "6d0ba593b9c74b58a979933f25470bae",
       "version_major": 2,
       "version_minor": 0
      },
      "text/plain": [
       "train-00550-of-00625.parquet:   0%|          | 0.00/58.9M [00:00<?, ?B/s]"
      ]
     },
     "metadata": {},
     "output_type": "display_data"
    },
    {
     "data": {
      "application/vnd.jupyter.widget-view+json": {
       "model_id": "af354df0f9054a538c8823aa51b995cb",
       "version_major": 2,
       "version_minor": 0
      },
      "text/plain": [
       "train-00551-of-00625.parquet:   0%|          | 0.00/58.8M [00:00<?, ?B/s]"
      ]
     },
     "metadata": {},
     "output_type": "display_data"
    },
    {
     "data": {
      "application/vnd.jupyter.widget-view+json": {
       "model_id": "70b625d86146482fa3a713356634d161",
       "version_major": 2,
       "version_minor": 0
      },
      "text/plain": [
       "train-00552-of-00625.parquet:   0%|          | 0.00/59.0M [00:00<?, ?B/s]"
      ]
     },
     "metadata": {},
     "output_type": "display_data"
    },
    {
     "data": {
      "application/vnd.jupyter.widget-view+json": {
       "model_id": "e2d074fac2b44b62b3ab57386c06d1c7",
       "version_major": 2,
       "version_minor": 0
      },
      "text/plain": [
       "train-00553-of-00625.parquet:   0%|          | 0.00/59.6M [00:00<?, ?B/s]"
      ]
     },
     "metadata": {},
     "output_type": "display_data"
    },
    {
     "data": {
      "application/vnd.jupyter.widget-view+json": {
       "model_id": "b7864384a1054533a089f88af9ec2972",
       "version_major": 2,
       "version_minor": 0
      },
      "text/plain": [
       "train-00554-of-00625.parquet:   0%|          | 0.00/58.3M [00:00<?, ?B/s]"
      ]
     },
     "metadata": {},
     "output_type": "display_data"
    },
    {
     "data": {
      "application/vnd.jupyter.widget-view+json": {
       "model_id": "88e83027b0704e5f871458261092aa53",
       "version_major": 2,
       "version_minor": 0
      },
      "text/plain": [
       "train-00555-of-00625.parquet:   0%|          | 0.00/58.2M [00:00<?, ?B/s]"
      ]
     },
     "metadata": {},
     "output_type": "display_data"
    },
    {
     "data": {
      "application/vnd.jupyter.widget-view+json": {
       "model_id": "62452df9aab946baae326b54bdd61d52",
       "version_major": 2,
       "version_minor": 0
      },
      "text/plain": [
       "train-00556-of-00625.parquet:   0%|          | 0.00/58.3M [00:00<?, ?B/s]"
      ]
     },
     "metadata": {},
     "output_type": "display_data"
    },
    {
     "data": {
      "application/vnd.jupyter.widget-view+json": {
       "model_id": "1c51017733e5436c8cd71ebc0bfdf91c",
       "version_major": 2,
       "version_minor": 0
      },
      "text/plain": [
       "train-00557-of-00625.parquet:   0%|          | 0.00/58.9M [00:00<?, ?B/s]"
      ]
     },
     "metadata": {},
     "output_type": "display_data"
    },
    {
     "data": {
      "application/vnd.jupyter.widget-view+json": {
       "model_id": "062421d21db041dca4029934fd3a7297",
       "version_major": 2,
       "version_minor": 0
      },
      "text/plain": [
       "train-00558-of-00625.parquet:   0%|          | 0.00/58.4M [00:00<?, ?B/s]"
      ]
     },
     "metadata": {},
     "output_type": "display_data"
    },
    {
     "data": {
      "application/vnd.jupyter.widget-view+json": {
       "model_id": "ec01e37151074b088da01679f17407ce",
       "version_major": 2,
       "version_minor": 0
      },
      "text/plain": [
       "train-00559-of-00625.parquet:   0%|          | 0.00/59.3M [00:00<?, ?B/s]"
      ]
     },
     "metadata": {},
     "output_type": "display_data"
    },
    {
     "data": {
      "application/vnd.jupyter.widget-view+json": {
       "model_id": "f7aaa4b374f14407a88acc2ea3b7c8d8",
       "version_major": 2,
       "version_minor": 0
      },
      "text/plain": [
       "train-00560-of-00625.parquet:   0%|          | 0.00/57.2M [00:00<?, ?B/s]"
      ]
     },
     "metadata": {},
     "output_type": "display_data"
    },
    {
     "data": {
      "application/vnd.jupyter.widget-view+json": {
       "model_id": "314bcdeb658946ae85a94f857535e6c2",
       "version_major": 2,
       "version_minor": 0
      },
      "text/plain": [
       "train-00561-of-00625.parquet:   0%|          | 0.00/59.0M [00:00<?, ?B/s]"
      ]
     },
     "metadata": {},
     "output_type": "display_data"
    },
    {
     "data": {
      "application/vnd.jupyter.widget-view+json": {
       "model_id": "105d5934abb14e0f894c17bd6b896648",
       "version_major": 2,
       "version_minor": 0
      },
      "text/plain": [
       "train-00562-of-00625.parquet:   0%|          | 0.00/57.8M [00:00<?, ?B/s]"
      ]
     },
     "metadata": {},
     "output_type": "display_data"
    },
    {
     "data": {
      "application/vnd.jupyter.widget-view+json": {
       "model_id": "0e960bb388fc49d49ddaaa93c63ad180",
       "version_major": 2,
       "version_minor": 0
      },
      "text/plain": [
       "train-00563-of-00625.parquet:   0%|          | 0.00/57.7M [00:00<?, ?B/s]"
      ]
     },
     "metadata": {},
     "output_type": "display_data"
    },
    {
     "data": {
      "application/vnd.jupyter.widget-view+json": {
       "model_id": "aa3c7e12afdb4f3388539ef680e0651b",
       "version_major": 2,
       "version_minor": 0
      },
      "text/plain": [
       "train-00564-of-00625.parquet:   0%|          | 0.00/58.2M [00:00<?, ?B/s]"
      ]
     },
     "metadata": {},
     "output_type": "display_data"
    },
    {
     "data": {
      "application/vnd.jupyter.widget-view+json": {
       "model_id": "110a7600137541a4b209c997cf3ce70f",
       "version_major": 2,
       "version_minor": 0
      },
      "text/plain": [
       "train-00565-of-00625.parquet:   0%|          | 0.00/58.9M [00:00<?, ?B/s]"
      ]
     },
     "metadata": {},
     "output_type": "display_data"
    },
    {
     "data": {
      "application/vnd.jupyter.widget-view+json": {
       "model_id": "794b302fff1c449fad8dd04822f34162",
       "version_major": 2,
       "version_minor": 0
      },
      "text/plain": [
       "train-00566-of-00625.parquet:   0%|          | 0.00/58.5M [00:00<?, ?B/s]"
      ]
     },
     "metadata": {},
     "output_type": "display_data"
    },
    {
     "data": {
      "application/vnd.jupyter.widget-view+json": {
       "model_id": "b439cb1a9ab4433eb1f8f29c6e99e86c",
       "version_major": 2,
       "version_minor": 0
      },
      "text/plain": [
       "train-00567-of-00625.parquet:   0%|          | 0.00/58.4M [00:00<?, ?B/s]"
      ]
     },
     "metadata": {},
     "output_type": "display_data"
    },
    {
     "data": {
      "application/vnd.jupyter.widget-view+json": {
       "model_id": "eac05dd9f50640cba2f495ff104f4542",
       "version_major": 2,
       "version_minor": 0
      },
      "text/plain": [
       "train-00568-of-00625.parquet:   0%|          | 0.00/57.3M [00:00<?, ?B/s]"
      ]
     },
     "metadata": {},
     "output_type": "display_data"
    },
    {
     "data": {
      "application/vnd.jupyter.widget-view+json": {
       "model_id": "86c3e68f88ba430ca5ac27c76f76a39a",
       "version_major": 2,
       "version_minor": 0
      },
      "text/plain": [
       "train-00569-of-00625.parquet:   0%|          | 0.00/58.3M [00:00<?, ?B/s]"
      ]
     },
     "metadata": {},
     "output_type": "display_data"
    },
    {
     "data": {
      "application/vnd.jupyter.widget-view+json": {
       "model_id": "26c5357e231b41ceb7664a642b9e45eb",
       "version_major": 2,
       "version_minor": 0
      },
      "text/plain": [
       "train-00570-of-00625.parquet:   0%|          | 0.00/58.1M [00:00<?, ?B/s]"
      ]
     },
     "metadata": {},
     "output_type": "display_data"
    },
    {
     "data": {
      "application/vnd.jupyter.widget-view+json": {
       "model_id": "305b798829224d2a89c39ab4d73f1927",
       "version_major": 2,
       "version_minor": 0
      },
      "text/plain": [
       "train-00571-of-00625.parquet:   0%|          | 0.00/58.8M [00:00<?, ?B/s]"
      ]
     },
     "metadata": {},
     "output_type": "display_data"
    },
    {
     "data": {
      "application/vnd.jupyter.widget-view+json": {
       "model_id": "eec1b0b6cddc466da38fc0e16ab7d7e4",
       "version_major": 2,
       "version_minor": 0
      },
      "text/plain": [
       "train-00572-of-00625.parquet:   0%|          | 0.00/58.1M [00:00<?, ?B/s]"
      ]
     },
     "metadata": {},
     "output_type": "display_data"
    },
    {
     "data": {
      "application/vnd.jupyter.widget-view+json": {
       "model_id": "be3a9aec81f144c5b4530143f7ed94f0",
       "version_major": 2,
       "version_minor": 0
      },
      "text/plain": [
       "train-00573-of-00625.parquet:   0%|          | 0.00/58.2M [00:00<?, ?B/s]"
      ]
     },
     "metadata": {},
     "output_type": "display_data"
    },
    {
     "data": {
      "application/vnd.jupyter.widget-view+json": {
       "model_id": "ab27c53dcf9d4ea382bee227c8077518",
       "version_major": 2,
       "version_minor": 0
      },
      "text/plain": [
       "train-00574-of-00625.parquet:   0%|          | 0.00/58.3M [00:00<?, ?B/s]"
      ]
     },
     "metadata": {},
     "output_type": "display_data"
    },
    {
     "data": {
      "application/vnd.jupyter.widget-view+json": {
       "model_id": "03dc7e37dd864a2fa363df7516c40597",
       "version_major": 2,
       "version_minor": 0
      },
      "text/plain": [
       "train-00575-of-00625.parquet:   0%|          | 0.00/58.3M [00:00<?, ?B/s]"
      ]
     },
     "metadata": {},
     "output_type": "display_data"
    },
    {
     "data": {
      "application/vnd.jupyter.widget-view+json": {
       "model_id": "3916f752b82244dbbbd769e9a1d0a02f",
       "version_major": 2,
       "version_minor": 0
      },
      "text/plain": [
       "train-00576-of-00625.parquet:   0%|          | 0.00/57.6M [00:00<?, ?B/s]"
      ]
     },
     "metadata": {},
     "output_type": "display_data"
    },
    {
     "data": {
      "application/vnd.jupyter.widget-view+json": {
       "model_id": "dfb0c3719c7143999fb6f10e1f30b24d",
       "version_major": 2,
       "version_minor": 0
      },
      "text/plain": [
       "train-00577-of-00625.parquet:   0%|          | 0.00/58.4M [00:00<?, ?B/s]"
      ]
     },
     "metadata": {},
     "output_type": "display_data"
    },
    {
     "data": {
      "application/vnd.jupyter.widget-view+json": {
       "model_id": "a8a4a57b2eb94c39ad397b25235db5ca",
       "version_major": 2,
       "version_minor": 0
      },
      "text/plain": [
       "train-00578-of-00625.parquet:   0%|          | 0.00/58.4M [00:00<?, ?B/s]"
      ]
     },
     "metadata": {},
     "output_type": "display_data"
    },
    {
     "data": {
      "application/vnd.jupyter.widget-view+json": {
       "model_id": "9246093506a9440eaa54017f09372805",
       "version_major": 2,
       "version_minor": 0
      },
      "text/plain": [
       "train-00579-of-00625.parquet:   0%|          | 0.00/57.8M [00:00<?, ?B/s]"
      ]
     },
     "metadata": {},
     "output_type": "display_data"
    },
    {
     "data": {
      "application/vnd.jupyter.widget-view+json": {
       "model_id": "7aea10ec239842ad80f00c73ce92aa44",
       "version_major": 2,
       "version_minor": 0
      },
      "text/plain": [
       "train-00580-of-00625.parquet:   0%|          | 0.00/57.7M [00:00<?, ?B/s]"
      ]
     },
     "metadata": {},
     "output_type": "display_data"
    },
    {
     "data": {
      "application/vnd.jupyter.widget-view+json": {
       "model_id": "fa3a771796494267b546e48eb335970f",
       "version_major": 2,
       "version_minor": 0
      },
      "text/plain": [
       "train-00581-of-00625.parquet:   0%|          | 0.00/58.5M [00:00<?, ?B/s]"
      ]
     },
     "metadata": {},
     "output_type": "display_data"
    },
    {
     "data": {
      "application/vnd.jupyter.widget-view+json": {
       "model_id": "05912e2f87e14424a81a22bdc26f262e",
       "version_major": 2,
       "version_minor": 0
      },
      "text/plain": [
       "train-00582-of-00625.parquet:   0%|          | 0.00/57.9M [00:00<?, ?B/s]"
      ]
     },
     "metadata": {},
     "output_type": "display_data"
    },
    {
     "data": {
      "application/vnd.jupyter.widget-view+json": {
       "model_id": "4bdc9930f0be4da8b61bfc43355d1273",
       "version_major": 2,
       "version_minor": 0
      },
      "text/plain": [
       "train-00583-of-00625.parquet:   0%|          | 0.00/59.0M [00:00<?, ?B/s]"
      ]
     },
     "metadata": {},
     "output_type": "display_data"
    },
    {
     "data": {
      "application/vnd.jupyter.widget-view+json": {
       "model_id": "db9654d087b34c559ab04abbbe9691ea",
       "version_major": 2,
       "version_minor": 0
      },
      "text/plain": [
       "train-00584-of-00625.parquet:   0%|          | 0.00/58.4M [00:00<?, ?B/s]"
      ]
     },
     "metadata": {},
     "output_type": "display_data"
    },
    {
     "data": {
      "application/vnd.jupyter.widget-view+json": {
       "model_id": "eca3feb7b22d49d2a3208d41ff7d9d1c",
       "version_major": 2,
       "version_minor": 0
      },
      "text/plain": [
       "train-00585-of-00625.parquet:   0%|          | 0.00/57.5M [00:00<?, ?B/s]"
      ]
     },
     "metadata": {},
     "output_type": "display_data"
    },
    {
     "data": {
      "application/vnd.jupyter.widget-view+json": {
       "model_id": "ee22f89f34a84c1aa5edfe88b0208794",
       "version_major": 2,
       "version_minor": 0
      },
      "text/plain": [
       "train-00586-of-00625.parquet:   0%|          | 0.00/58.2M [00:00<?, ?B/s]"
      ]
     },
     "metadata": {},
     "output_type": "display_data"
    },
    {
     "data": {
      "application/vnd.jupyter.widget-view+json": {
       "model_id": "f75484278be542b3a961a866942e1557",
       "version_major": 2,
       "version_minor": 0
      },
      "text/plain": [
       "train-00587-of-00625.parquet:   0%|          | 0.00/57.8M [00:00<?, ?B/s]"
      ]
     },
     "metadata": {},
     "output_type": "display_data"
    },
    {
     "data": {
      "application/vnd.jupyter.widget-view+json": {
       "model_id": "a3cff16c227f4f78a7830cad3e5c11e4",
       "version_major": 2,
       "version_minor": 0
      },
      "text/plain": [
       "train-00588-of-00625.parquet:   0%|          | 0.00/58.1M [00:00<?, ?B/s]"
      ]
     },
     "metadata": {},
     "output_type": "display_data"
    },
    {
     "data": {
      "application/vnd.jupyter.widget-view+json": {
       "model_id": "c6dc0b0f67ce4c4ca9e1f24084397418",
       "version_major": 2,
       "version_minor": 0
      },
      "text/plain": [
       "train-00589-of-00625.parquet:   0%|          | 0.00/58.4M [00:00<?, ?B/s]"
      ]
     },
     "metadata": {},
     "output_type": "display_data"
    },
    {
     "data": {
      "application/vnd.jupyter.widget-view+json": {
       "model_id": "05b40baa856040f6b2c885e48e11654f",
       "version_major": 2,
       "version_minor": 0
      },
      "text/plain": [
       "train-00590-of-00625.parquet:   0%|          | 0.00/58.2M [00:00<?, ?B/s]"
      ]
     },
     "metadata": {},
     "output_type": "display_data"
    },
    {
     "data": {
      "application/vnd.jupyter.widget-view+json": {
       "model_id": "398a96822c214bf2a15d0a5f58f99ccc",
       "version_major": 2,
       "version_minor": 0
      },
      "text/plain": [
       "train-00591-of-00625.parquet:   0%|          | 0.00/58.9M [00:00<?, ?B/s]"
      ]
     },
     "metadata": {},
     "output_type": "display_data"
    },
    {
     "data": {
      "application/vnd.jupyter.widget-view+json": {
       "model_id": "8fe71263b0a04fcca89443fe4e15b8a7",
       "version_major": 2,
       "version_minor": 0
      },
      "text/plain": [
       "train-00592-of-00625.parquet:   0%|          | 0.00/59.1M [00:00<?, ?B/s]"
      ]
     },
     "metadata": {},
     "output_type": "display_data"
    },
    {
     "data": {
      "application/vnd.jupyter.widget-view+json": {
       "model_id": "e44f574e10d14ae7a44c31b40f58f63d",
       "version_major": 2,
       "version_minor": 0
      },
      "text/plain": [
       "train-00593-of-00625.parquet:   0%|          | 0.00/57.6M [00:00<?, ?B/s]"
      ]
     },
     "metadata": {},
     "output_type": "display_data"
    },
    {
     "data": {
      "application/vnd.jupyter.widget-view+json": {
       "model_id": "1fbd435a261446e2a8027ea059987afa",
       "version_major": 2,
       "version_minor": 0
      },
      "text/plain": [
       "train-00594-of-00625.parquet:   0%|          | 0.00/58.5M [00:00<?, ?B/s]"
      ]
     },
     "metadata": {},
     "output_type": "display_data"
    },
    {
     "data": {
      "application/vnd.jupyter.widget-view+json": {
       "model_id": "4555e956bbf142f6992e3a4ab2e16776",
       "version_major": 2,
       "version_minor": 0
      },
      "text/plain": [
       "train-00595-of-00625.parquet:   0%|          | 0.00/58.2M [00:00<?, ?B/s]"
      ]
     },
     "metadata": {},
     "output_type": "display_data"
    },
    {
     "data": {
      "application/vnd.jupyter.widget-view+json": {
       "model_id": "c036b69aab7d4615bf86d79dcbda326c",
       "version_major": 2,
       "version_minor": 0
      },
      "text/plain": [
       "train-00596-of-00625.parquet:   0%|          | 0.00/58.0M [00:00<?, ?B/s]"
      ]
     },
     "metadata": {},
     "output_type": "display_data"
    },
    {
     "data": {
      "application/vnd.jupyter.widget-view+json": {
       "model_id": "f6daf254983d4a049dde37484f1f592d",
       "version_major": 2,
       "version_minor": 0
      },
      "text/plain": [
       "train-00597-of-00625.parquet:   0%|          | 0.00/58.9M [00:00<?, ?B/s]"
      ]
     },
     "metadata": {},
     "output_type": "display_data"
    },
    {
     "data": {
      "application/vnd.jupyter.widget-view+json": {
       "model_id": "1d668853905e498eb987377e6dd0bf60",
       "version_major": 2,
       "version_minor": 0
      },
      "text/plain": [
       "train-00598-of-00625.parquet:   0%|          | 0.00/58.5M [00:00<?, ?B/s]"
      ]
     },
     "metadata": {},
     "output_type": "display_data"
    },
    {
     "data": {
      "application/vnd.jupyter.widget-view+json": {
       "model_id": "9528e7e92aab475ebee7ff14ee0fcaf7",
       "version_major": 2,
       "version_minor": 0
      },
      "text/plain": [
       "train-00599-of-00625.parquet:   0%|          | 0.00/58.9M [00:00<?, ?B/s]"
      ]
     },
     "metadata": {},
     "output_type": "display_data"
    },
    {
     "data": {
      "application/vnd.jupyter.widget-view+json": {
       "model_id": "9f5b7464f07947c095b0bc80c8af63c4",
       "version_major": 2,
       "version_minor": 0
      },
      "text/plain": [
       "train-00600-of-00625.parquet:   0%|          | 0.00/58.9M [00:00<?, ?B/s]"
      ]
     },
     "metadata": {},
     "output_type": "display_data"
    },
    {
     "data": {
      "application/vnd.jupyter.widget-view+json": {
       "model_id": "36cfd711885f4a5cabecc07528f1ad26",
       "version_major": 2,
       "version_minor": 0
      },
      "text/plain": [
       "train-00601-of-00625.parquet:   0%|          | 0.00/58.0M [00:00<?, ?B/s]"
      ]
     },
     "metadata": {},
     "output_type": "display_data"
    },
    {
     "data": {
      "application/vnd.jupyter.widget-view+json": {
       "model_id": "c9f2eaa4fcfe466086cb21bd4da419a4",
       "version_major": 2,
       "version_minor": 0
      },
      "text/plain": [
       "train-00602-of-00625.parquet:   0%|          | 0.00/58.9M [00:00<?, ?B/s]"
      ]
     },
     "metadata": {},
     "output_type": "display_data"
    },
    {
     "data": {
      "application/vnd.jupyter.widget-view+json": {
       "model_id": "bc9a002a4de74ef38012152e93fbd2a6",
       "version_major": 2,
       "version_minor": 0
      },
      "text/plain": [
       "train-00603-of-00625.parquet:   0%|          | 0.00/59.2M [00:00<?, ?B/s]"
      ]
     },
     "metadata": {},
     "output_type": "display_data"
    },
    {
     "data": {
      "application/vnd.jupyter.widget-view+json": {
       "model_id": "8e54b431cb154ffba4fc8a70a7242b87",
       "version_major": 2,
       "version_minor": 0
      },
      "text/plain": [
       "train-00604-of-00625.parquet:   0%|          | 0.00/58.4M [00:00<?, ?B/s]"
      ]
     },
     "metadata": {},
     "output_type": "display_data"
    },
    {
     "data": {
      "application/vnd.jupyter.widget-view+json": {
       "model_id": "37c44f94bcb04317ba2e650198aebf80",
       "version_major": 2,
       "version_minor": 0
      },
      "text/plain": [
       "train-00605-of-00625.parquet:   0%|          | 0.00/57.7M [00:00<?, ?B/s]"
      ]
     },
     "metadata": {},
     "output_type": "display_data"
    },
    {
     "data": {
      "application/vnd.jupyter.widget-view+json": {
       "model_id": "65119db94cb74a759253796cb06290bb",
       "version_major": 2,
       "version_minor": 0
      },
      "text/plain": [
       "train-00606-of-00625.parquet:   0%|          | 0.00/58.6M [00:00<?, ?B/s]"
      ]
     },
     "metadata": {},
     "output_type": "display_data"
    },
    {
     "data": {
      "application/vnd.jupyter.widget-view+json": {
       "model_id": "61d25fb1f71f4cf789b14f01920d2c5c",
       "version_major": 2,
       "version_minor": 0
      },
      "text/plain": [
       "train-00607-of-00625.parquet:   0%|          | 0.00/58.7M [00:00<?, ?B/s]"
      ]
     },
     "metadata": {},
     "output_type": "display_data"
    },
    {
     "data": {
      "application/vnd.jupyter.widget-view+json": {
       "model_id": "408762e884f34b38bbc30068a8d3e2a8",
       "version_major": 2,
       "version_minor": 0
      },
      "text/plain": [
       "train-00608-of-00625.parquet:   0%|          | 0.00/57.9M [00:00<?, ?B/s]"
      ]
     },
     "metadata": {},
     "output_type": "display_data"
    },
    {
     "data": {
      "application/vnd.jupyter.widget-view+json": {
       "model_id": "c587f0bdd61b4f6fac4fa2791661fc63",
       "version_major": 2,
       "version_minor": 0
      },
      "text/plain": [
       "train-00609-of-00625.parquet:   0%|          | 0.00/58.5M [00:00<?, ?B/s]"
      ]
     },
     "metadata": {},
     "output_type": "display_data"
    },
    {
     "data": {
      "application/vnd.jupyter.widget-view+json": {
       "model_id": "a463d04b6c8743a9b11c41c3cc255083",
       "version_major": 2,
       "version_minor": 0
      },
      "text/plain": [
       "train-00610-of-00625.parquet:   0%|          | 0.00/58.9M [00:00<?, ?B/s]"
      ]
     },
     "metadata": {},
     "output_type": "display_data"
    },
    {
     "data": {
      "application/vnd.jupyter.widget-view+json": {
       "model_id": "6bd2ef199ff945fe8846e543750b0f50",
       "version_major": 2,
       "version_minor": 0
      },
      "text/plain": [
       "train-00611-of-00625.parquet:   0%|          | 0.00/58.4M [00:00<?, ?B/s]"
      ]
     },
     "metadata": {},
     "output_type": "display_data"
    },
    {
     "data": {
      "application/vnd.jupyter.widget-view+json": {
       "model_id": "5ed16fd58ac449ed81dd96c8fceb16f9",
       "version_major": 2,
       "version_minor": 0
      },
      "text/plain": [
       "train-00612-of-00625.parquet:   0%|          | 0.00/57.8M [00:00<?, ?B/s]"
      ]
     },
     "metadata": {},
     "output_type": "display_data"
    },
    {
     "data": {
      "application/vnd.jupyter.widget-view+json": {
       "model_id": "16e9bd77ac984e979cc8ef3151a478b6",
       "version_major": 2,
       "version_minor": 0
      },
      "text/plain": [
       "train-00613-of-00625.parquet:   0%|          | 0.00/58.8M [00:00<?, ?B/s]"
      ]
     },
     "metadata": {},
     "output_type": "display_data"
    },
    {
     "data": {
      "application/vnd.jupyter.widget-view+json": {
       "model_id": "3dc06e726f5c4c5bacad55cb7a10d311",
       "version_major": 2,
       "version_minor": 0
      },
      "text/plain": [
       "train-00614-of-00625.parquet:   0%|          | 0.00/59.4M [00:00<?, ?B/s]"
      ]
     },
     "metadata": {},
     "output_type": "display_data"
    },
    {
     "data": {
      "application/vnd.jupyter.widget-view+json": {
       "model_id": "98bfcda579db4297906e56d07a079a46",
       "version_major": 2,
       "version_minor": 0
      },
      "text/plain": [
       "train-00615-of-00625.parquet:   0%|          | 0.00/58.5M [00:00<?, ?B/s]"
      ]
     },
     "metadata": {},
     "output_type": "display_data"
    },
    {
     "data": {
      "application/vnd.jupyter.widget-view+json": {
       "model_id": "bf72a2c0503742b7bf8a0c6d658343ca",
       "version_major": 2,
       "version_minor": 0
      },
      "text/plain": [
       "train-00616-of-00625.parquet:   0%|          | 0.00/58.2M [00:00<?, ?B/s]"
      ]
     },
     "metadata": {},
     "output_type": "display_data"
    },
    {
     "data": {
      "application/vnd.jupyter.widget-view+json": {
       "model_id": "46196fca45d24f5daf9e7d9ce8513c38",
       "version_major": 2,
       "version_minor": 0
      },
      "text/plain": [
       "train-00617-of-00625.parquet:   0%|          | 0.00/59.2M [00:00<?, ?B/s]"
      ]
     },
     "metadata": {},
     "output_type": "display_data"
    },
    {
     "data": {
      "application/vnd.jupyter.widget-view+json": {
       "model_id": "9da76511c4db4e4ba0cd89c1e656d778",
       "version_major": 2,
       "version_minor": 0
      },
      "text/plain": [
       "train-00618-of-00625.parquet:   0%|          | 0.00/59.2M [00:00<?, ?B/s]"
      ]
     },
     "metadata": {},
     "output_type": "display_data"
    },
    {
     "data": {
      "application/vnd.jupyter.widget-view+json": {
       "model_id": "3bdd7a241a60421e9af77207ae191b02",
       "version_major": 2,
       "version_minor": 0
      },
      "text/plain": [
       "train-00619-of-00625.parquet:   0%|          | 0.00/58.9M [00:00<?, ?B/s]"
      ]
     },
     "metadata": {},
     "output_type": "display_data"
    },
    {
     "data": {
      "application/vnd.jupyter.widget-view+json": {
       "model_id": "122a4b9d0274406a8594102f19d3c2a3",
       "version_major": 2,
       "version_minor": 0
      },
      "text/plain": [
       "train-00620-of-00625.parquet:   0%|          | 0.00/59.0M [00:00<?, ?B/s]"
      ]
     },
     "metadata": {},
     "output_type": "display_data"
    },
    {
     "data": {
      "application/vnd.jupyter.widget-view+json": {
       "model_id": "90074553d98a4780a5270fc3067eaed4",
       "version_major": 2,
       "version_minor": 0
      },
      "text/plain": [
       "train-00621-of-00625.parquet:   0%|          | 0.00/371M [00:00<?, ?B/s]"
      ]
     },
     "metadata": {},
     "output_type": "display_data"
    },
    {
     "data": {
      "application/vnd.jupyter.widget-view+json": {
       "model_id": "b94545b49fb74715a8400e054ed66b34",
       "version_major": 2,
       "version_minor": 0
      },
      "text/plain": [
       "train-00622-of-00625.parquet:   0%|          | 0.00/217M [00:00<?, ?B/s]"
      ]
     },
     "metadata": {},
     "output_type": "display_data"
    },
    {
     "data": {
      "application/vnd.jupyter.widget-view+json": {
       "model_id": "d9fd3b23d95847fbbe0ef5f68e670959",
       "version_major": 2,
       "version_minor": 0
      },
      "text/plain": [
       "train-00623-of-00625.parquet:   0%|          | 0.00/59.7M [00:00<?, ?B/s]"
      ]
     },
     "metadata": {},
     "output_type": "display_data"
    },
    {
     "data": {
      "application/vnd.jupyter.widget-view+json": {
       "model_id": "a5a967bb6c294896b933ed7fa83b3771",
       "version_major": 2,
       "version_minor": 0
      },
      "text/plain": [
       "train-00624-of-00625.parquet:   0%|          | 0.00/59.5M [00:00<?, ?B/s]"
      ]
     },
     "metadata": {},
     "output_type": "display_data"
    },
    {
     "data": {
      "application/vnd.jupyter.widget-view+json": {
       "model_id": "be24dba80a9f4afca2cfdb5df33499d0",
       "version_major": 2,
       "version_minor": 0
      },
      "text/plain": [
       "Generating train split:   0%|          | 0/225316 [00:00<?, ? examples/s]"
      ]
     },
     "metadata": {},
     "output_type": "display_data"
    },
    {
     "data": {
      "application/vnd.jupyter.widget-view+json": {
       "model_id": "d59d537691874244bccf86cc69b3d1a7",
       "version_major": 2,
       "version_minor": 0
      },
      "text/plain": [
       "Loading dataset shards:   0%|          | 0/75 [00:00<?, ?it/s]"
      ]
     },
     "metadata": {},
     "output_type": "display_data"
    },
    {
     "name": "stdout",
     "output_type": "stream",
     "text": [
      "Saved 0 images from split train\n",
      "Saved 1000 images from split train\n",
      "Saved 2000 images from split train\n",
      "Saved 3000 images from split train\n",
      "Saved 4000 images from split train\n",
      "Saved 5000 images from split train\n",
      "Saved 6000 images from split train\n",
      "Saved 7000 images from split train\n",
      "Saved 8000 images from split train\n",
      "Saved 9000 images from split train\n",
      "Saved 10000 images from split train\n",
      "Saved 11000 images from split train\n",
      "Saved 12000 images from split train\n",
      "Saved 13000 images from split train\n",
      "Saved 14000 images from split train\n",
      "Saved 15000 images from split train\n",
      "Saved 16000 images from split train\n",
      "Saved 17000 images from split train\n",
      "Saved 18000 images from split train\n",
      "Saved 19000 images from split train\n",
      "Saved 20000 images from split train\n",
      "Saved 21000 images from split train\n",
      "Saved 22000 images from split train\n",
      "Saved 23000 images from split train\n",
      "Saved 24000 images from split train\n",
      "Saved 25000 images from split train\n",
      "Saved 26000 images from split train\n",
      "Saved 27000 images from split train\n",
      "Saved 28000 images from split train\n",
      "Saved 29000 images from split train\n",
      "Saved 30000 images from split train\n",
      "Saved 31000 images from split train\n",
      "Saved 32000 images from split train\n",
      "Saved 33000 images from split train\n",
      "Saved 34000 images from split train\n",
      "Saved 35000 images from split train\n",
      "Saved 36000 images from split train\n",
      "Saved 37000 images from split train\n",
      "Saved 38000 images from split train\n",
      "Saved 39000 images from split train\n",
      "Saved 40000 images from split train\n",
      "Saved 41000 images from split train\n",
      "Saved 42000 images from split train\n",
      "Saved 43000 images from split train\n",
      "Saved 44000 images from split train\n",
      "Saved 45000 images from split train\n",
      "Saved 46000 images from split train\n",
      "Saved 47000 images from split train\n",
      "Saved 48000 images from split train\n",
      "Saved 49000 images from split train\n",
      "Saved 50000 images from split train\n",
      "Saved 51000 images from split train\n",
      "Saved 52000 images from split train\n",
      "Saved 53000 images from split train\n",
      "Saved 54000 images from split train\n",
      "Saved 55000 images from split train\n",
      "Saved 56000 images from split train\n",
      "Saved 57000 images from split train\n",
      "Saved 58000 images from split train\n",
      "Saved 59000 images from split train\n",
      "Saved 60000 images from split train\n",
      "Saved 61000 images from split train\n",
      "Saved 62000 images from split train\n",
      "Saved 63000 images from split train\n",
      "Saved 64000 images from split train\n",
      "Saved 65000 images from split train\n",
      "Saved 66000 images from split train\n",
      "Saved 67000 images from split train\n",
      "Saved 68000 images from split train\n",
      "Saved 69000 images from split train\n",
      "Saved 70000 images from split train\n",
      "Saved 71000 images from split train\n",
      "Saved 72000 images from split train\n",
      "Saved 73000 images from split train\n",
      "Saved 74000 images from split train\n",
      "Saved 75000 images from split train\n",
      "Saved 76000 images from split train\n",
      "Saved 77000 images from split train\n",
      "Saved 78000 images from split train\n",
      "Saved 79000 images from split train\n",
      "Saved 80000 images from split train\n",
      "Saved 81000 images from split train\n",
      "Saved 82000 images from split train\n",
      "Saved 83000 images from split train\n",
      "Saved 84000 images from split train\n",
      "Saved 85000 images from split train\n",
      "Saved 86000 images from split train\n",
      "Saved 87000 images from split train\n",
      "Saved 88000 images from split train\n",
      "Saved 89000 images from split train\n",
      "Saved 90000 images from split train\n",
      "Saved 91000 images from split train\n",
      "Saved 92000 images from split train\n",
      "Saved 93000 images from split train\n",
      "Saved 94000 images from split train\n",
      "Saved 95000 images from split train\n",
      "Saved 96000 images from split train\n",
      "Saved 97000 images from split train\n",
      "Saved 98000 images from split train\n",
      "Saved 99000 images from split train\n",
      "Saved 100000 images from split train\n",
      "Saved 101000 images from split train\n",
      "Saved 102000 images from split train\n",
      "Saved 103000 images from split train\n",
      "Saved 104000 images from split train\n",
      "Saved 105000 images from split train\n",
      "Saved 106000 images from split train\n",
      "Saved 107000 images from split train\n",
      "Saved 108000 images from split train\n",
      "Saved 109000 images from split train\n",
      "Saved 110000 images from split train\n",
      "Saved 111000 images from split train\n",
      "Saved 112000 images from split train\n",
      "Saved 113000 images from split train\n",
      "Saved 114000 images from split train\n",
      "Saved 115000 images from split train\n",
      "Saved 116000 images from split train\n",
      "Saved 117000 images from split train\n",
      "Saved 118000 images from split train\n",
      "Saved 119000 images from split train\n",
      "Saved 120000 images from split train\n",
      "Saved 121000 images from split train\n",
      "Saved 122000 images from split train\n",
      "Saved 123000 images from split train\n",
      "Saved 124000 images from split train\n",
      "Saved 125000 images from split train\n",
      "Saved 126000 images from split train\n",
      "Saved 127000 images from split train\n",
      "Saved 128000 images from split train\n",
      "Saved 129000 images from split train\n",
      "Saved 130000 images from split train\n",
      "Saved 131000 images from split train\n",
      "Saved 132000 images from split train\n",
      "Saved 133000 images from split train\n",
      "Saved 134000 images from split train\n",
      "Saved 135000 images from split train\n",
      "Saved 136000 images from split train\n",
      "Saved 137000 images from split train\n",
      "Saved 138000 images from split train\n",
      "Saved 139000 images from split train\n",
      "Saved 140000 images from split train\n",
      "Saved 141000 images from split train\n",
      "Saved 142000 images from split train\n",
      "Saved 143000 images from split train\n",
      "Saved 144000 images from split train\n",
      "Saved 145000 images from split train\n",
      "Saved 146000 images from split train\n",
      "Saved 147000 images from split train\n",
      "Saved 148000 images from split train\n",
      "Saved 149000 images from split train\n",
      "Saved 150000 images from split train\n",
      "Saved 151000 images from split train\n",
      "Saved 152000 images from split train\n",
      "Saved 153000 images from split train\n",
      "Saved 154000 images from split train\n",
      "Saved 155000 images from split train\n",
      "Saved 156000 images from split train\n",
      "Saved 157000 images from split train\n",
      "Saved 158000 images from split train\n",
      "Saved 159000 images from split train\n",
      "Saved 160000 images from split train\n",
      "Saved 161000 images from split train\n",
      "Saved 162000 images from split train\n",
      "Saved 163000 images from split train\n",
      "Saved 164000 images from split train\n",
      "Saved 165000 images from split train\n",
      "Saved 166000 images from split train\n",
      "Saved 167000 images from split train\n",
      "Saved 168000 images from split train\n",
      "Saved 169000 images from split train\n",
      "Saved 170000 images from split train\n",
      "Saved 171000 images from split train\n",
      "Saved 172000 images from split train\n",
      "Saved 173000 images from split train\n",
      "Saved 174000 images from split train\n",
      "Saved 175000 images from split train\n",
      "Saved 176000 images from split train\n",
      "Saved 177000 images from split train\n",
      "Saved 178000 images from split train\n",
      "Saved 179000 images from split train\n",
      "Saved 180000 images from split train\n",
      "Saved 181000 images from split train\n",
      "Saved 182000 images from split train\n",
      "Saved 183000 images from split train\n",
      "Saved 184000 images from split train\n",
      "Saved 185000 images from split train\n",
      "Saved 186000 images from split train\n",
      "Saved 187000 images from split train\n",
      "Saved 188000 images from split train\n",
      "Saved 189000 images from split train\n",
      "Saved 190000 images from split train\n",
      "Saved 191000 images from split train\n",
      "Saved 192000 images from split train\n",
      "Saved 193000 images from split train\n",
      "Saved 194000 images from split train\n",
      "Saved 195000 images from split train\n",
      "Saved 196000 images from split train\n",
      "Saved 197000 images from split train\n",
      "Saved 198000 images from split train\n",
      "Saved 199000 images from split train\n",
      "Saved 200000 images from split train\n",
      "Saved 201000 images from split train\n",
      "Saved 202000 images from split train\n",
      "Saved 203000 images from split train\n",
      "Saved 204000 images from split train\n",
      "Saved 205000 images from split train\n",
      "Saved 206000 images from split train\n",
      "Saved 207000 images from split train\n",
      "Saved 208000 images from split train\n",
      "Saved 209000 images from split train\n",
      "Saved 210000 images from split train\n",
      "Saved 211000 images from split train\n",
      "Saved 212000 images from split train\n",
      "Saved 213000 images from split train\n",
      "Saved 214000 images from split train\n",
      "Saved 215000 images from split train\n",
      "Saved 216000 images from split train\n",
      "Saved 217000 images from split train\n",
      "Saved 218000 images from split train\n",
      "Saved 219000 images from split train\n",
      "Saved 220000 images from split train\n",
      "Saved 221000 images from split train\n",
      "Saved 222000 images from split train\n",
      "Saved 223000 images from split train\n",
      "Saved 224000 images from split train\n",
      "Saved 225000 images from split train\n"
     ]
    }
   ],
   "source": [
    "\n",
    "\n",
    "# Define the dataset name and the splits you want to download\n",
    "dataset_name = 'StanfordAIMI/CheXpert-v1.0-512'\n",
    "splits = ['train']  # You can add more splits if available\n",
    "\n",
    "# Define the output directory\n",
    "output_dir = 'CheXpert-v1.0-512'\n",
    "\n",
    "# Iterate over each split\n",
    "for split in splits:\n",
    "    print(f\"Processing split: {split}\")\n",
    "    # Load the dataset split\n",
    "    \n",
    "    dataset = load_dataset(dataset_name, split=split)\n",
    "\n",
    "    # Iterate over each item in the dataset\n",
    "    for idx, item in enumerate(dataset):\n",
    "        # Extract the path and image\n",
    "        path = item['path']  # e.g., 'train/patient00001/study1/view1_frontal.jpg'\n",
    "        image = item['image']  # PIL Image\n",
    "\n",
    "        # Create the full output path\n",
    "        full_path = os.path.join(output_dir, path)\n",
    "\n",
    "        # Ensure the directory exists\n",
    "        os.makedirs(os.path.dirname(full_path), exist_ok=True)\n",
    "\n",
    "        # Save the image as JPEG\n",
    "        image.save(full_path, format='JPEG')\n",
    "\n",
    "        # Optional: Print progress every 1000 images\n",
    "        if idx % 1000 == 0:\n",
    "            print(f\"Saved {idx} images from split {split}\")\n"
   ]
  }
 ],
 "metadata": {
  "kernelspec": {
   "display_name": "base",
   "language": "python",
   "name": "python3"
  },
  "language_info": {
   "codemirror_mode": {
    "name": "ipython",
    "version": 3
   },
   "file_extension": ".py",
   "mimetype": "text/x-python",
   "name": "python",
   "nbconvert_exporter": "python",
   "pygments_lexer": "ipython3",
   "version": "3.12.3"
  }
 },
 "nbformat": 4,
 "nbformat_minor": 2
}
