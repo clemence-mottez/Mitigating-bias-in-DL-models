{
 "cells": [
  {
   "cell_type": "markdown",
   "metadata": {},
   "source": [
    "# Imports"
   ]
  },
  {
   "cell_type": "code",
   "execution_count": 8,
   "metadata": {},
   "outputs": [],
   "source": [
    "import pandas as pd"
   ]
  },
  {
   "cell_type": "markdown",
   "metadata": {},
   "source": [
    "# Load cleaned data frame"
   ]
  },
  {
   "cell_type": "code",
   "execution_count": 9,
   "metadata": {},
   "outputs": [],
   "source": [
    "df = pd.read_csv('processed_data/chexpert_plus_240401_cleaned.csv')"
   ]
  },
  {
   "cell_type": "markdown",
   "metadata": {},
   "source": [
    "# Create labels of sex, race, health insurances as category values (0,1,...)"
   ]
  },
  {
   "cell_type": "code",
   "execution_count": 10,
   "metadata": {},
   "outputs": [],
   "source": [
    "# Define the mapping dictionary\n",
    "bias_var = {\n",
    "    \"sex\": {\"Male\": 0, \"Female\": 1},\n",
    "    \"race\": {\"White\": 0, \"Asian\": 1, \"Black\": 2},\n",
    "    \"insurance_type\": {\"Medicaid\": 0, \"Medicare\": 1, \"Private Insurance\": 2}\n",
    "}\n",
    "\n",
    "# Create new columns based on the mappings\n",
    "df['sex_label'] = df['sex'].map(bias_var['sex'])\n",
    "df['race_label'] = df['race'].map(bias_var['race'])\n",
    "df['insurance_label'] = df['insurance_type'].map(bias_var['insurance_type'])"
   ]
  },
  {
   "cell_type": "markdown",
   "metadata": {},
   "source": [
    "# Generate prompts"
   ]
  },
  {
   "cell_type": "markdown",
   "metadata": {},
   "source": [
    "1. Prompt as a sentence including age, sex, race, insurance_type"
   ]
  },
  {
   "cell_type": "code",
   "execution_count": 11,
   "metadata": {},
   "outputs": [],
   "source": [
    "# Create prompt for each row\n",
    "df['prompt_sentence'] = df.apply(\n",
    "    lambda row: f\"The subject is a {row['age']}-year-old {row['sex']} identifying as {row['race']} with {row['insurance_type']} insurance coverage.\",\n",
    "    axis=1\n",
    ")\n"
   ]
  },
  {
   "cell_type": "markdown",
   "metadata": {},
   "source": [
    "2. Prompt as string of \"column name: value\""
   ]
  },
  {
   "cell_type": "code",
   "execution_count": 12,
   "metadata": {},
   "outputs": [],
   "source": [
    "df['prompt_list'] = df.apply(\n",
    "    lambda row: f\"age: {row['age']}, sex: {row['sex']}, race: {row['race']}, health insurance: {row['insurance_type']}\",\n",
    "    axis=1\n",
    ")"
   ]
  },
  {
   "cell_type": "markdown",
   "metadata": {},
   "source": [
    "3. Prompt as tabular data"
   ]
  },
  {
   "cell_type": "code",
   "execution_count": 13,
   "metadata": {},
   "outputs": [],
   "source": [
    "# Should be performed during loading the data in dataset\n",
    "# torch.one_hot_encoding"
   ]
  },
  {
   "cell_type": "markdown",
   "metadata": {},
   "source": [
    "# Save dataframe"
   ]
  },
  {
   "cell_type": "code",
   "execution_count": 14,
   "metadata": {},
   "outputs": [],
   "source": [
    "df.to_csv('processed_data/chexpert_plus_240401_cleaned.csv')"
   ]
  }
 ],
 "metadata": {
  "kernelspec": {
   "display_name": "base",
   "language": "python",
   "name": "python3"
  },
  "language_info": {
   "codemirror_mode": {
    "name": "ipython",
    "version": 3
   },
   "file_extension": ".py",
   "mimetype": "text/x-python",
   "name": "python",
   "nbconvert_exporter": "python",
   "pygments_lexer": "ipython3",
   "version": "3.12.4"
  }
 },
 "nbformat": 4,
 "nbformat_minor": 2
}
