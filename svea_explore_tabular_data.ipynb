{
 "cells": [
  {
   "cell_type": "markdown",
   "metadata": {},
   "source": [
    "# Imports"
   ]
  },
  {
   "cell_type": "code",
   "execution_count": null,
   "metadata": {},
   "outputs": [],
   "source": [
    "import pandas as pd\n",
    "import sys\n",
    "import numpy as np\n",
    "import matplotlib.pyplot as plt\n",
    "from skimage.io import imread\n",
    "from skimage.io import imsave\n",
    "from skimage.transform import resize\n",
    "import seaborn as sns\n",
    "from utils import *\n",
    "from statsmodels.formula.api import logit\n",
    "\n",
    "import warnings\n",
    "warnings.filterwarnings(\"ignore\", category=UserWarning)\n"
   ]
  },
  {
   "cell_type": "markdown",
   "metadata": {},
   "source": [
    "## Dataframe\n"
   ]
  },
  {
   "cell_type": "code",
   "execution_count": null,
   "metadata": {},
   "outputs": [],
   "source": [
    "df = pd.read_csv(\"processed_data/chexpert_plus_240401_cleaned.csv\")\n",
    "\n",
    "\n",
    "df_labeled = pd.read_csv(\"final_data/chexpert_plus_240401_cleaned_label.csv\")\n",
    "df_bis = pd.read_csv(\"processed_data/chexpert_plus_240401_cleaned_sex.csv\")\n",
    "df_cleaned_health_insurance = pd.read_csv(\"processed_data/chexpert_plus_240401_cleaned_health_insurance.csv\")\n",
    "df_cleaned_race = pd.read_csv(\"processed_data/chexpert_plus_240401_cleaned_race.csv\")\n",
    "df_cleaned_sex_label = pd.read_csv(\"final_data/chexpert_plus_240401_cleaned_label_sex.csv\")\n",
    "df_cleaned_health_insurance_label = pd.read_csv(\"final_data/chexpert_plus_240401_cleaned_label_health.csv\")\n",
    "df_cleaned_race_label = pd.read_csv(\"final_data/chexpert_plus_240401_cleaned_label_race.csv\")"
   ]
  },
  {
   "cell_type": "code",
   "execution_count": null,
   "metadata": {},
   "outputs": [],
   "source": [
    "print('Total number of acquisitions:', len(df))\n",
    "print('Total number of patients:', len(df['deid_patient_id'].unique()))\n",
    "print('Train/Valid:', df.split.value_counts())"
   ]
  },
  {
   "cell_type": "code",
   "execution_count": null,
   "metadata": {},
   "outputs": [],
   "source": [
    "print('Total number of acquisitions:', len(df_bis))\n",
    "print('Total number of patients:', len(df_bis['deid_patient_id'].unique()))\n",
    "print('Train/Valid:', df_bis.split.value_counts())\n"
   ]
  },
  {
   "cell_type": "code",
   "execution_count": null,
   "metadata": {},
   "outputs": [],
   "source": [
    "print('Total number of acquisitions:', len(df_cleaned_health_insurance))\n",
    "print('Total number of patients:', len(df_cleaned_health_insurance['deid_patient_id'].unique()))\n",
    "print('Train/Valid:', df_cleaned_health_insurance.split.value_counts())"
   ]
  },
  {
   "cell_type": "code",
   "execution_count": null,
   "metadata": {},
   "outputs": [],
   "source": [
    "print('Total number of acquisitions:', len(df_cleaned_race))\n",
    "print('Total number of patients:', len(df_cleaned_race['deid_patient_id'].unique()))\n",
    "print('Train/Valid:', df_cleaned_race.split.value_counts())"
   ]
  },
  {
   "cell_type": "markdown",
   "metadata": {},
   "source": [
    "## Image examples"
   ]
  },
  {
   "cell_type": "code",
   "execution_count": null,
   "metadata": {},
   "outputs": [],
   "source": [
    "# img_f = imread(\"/data4/CheXpert/CheXpert-v1.0/train/patient04528/study1/view1_frontal.jpg\")\n",
    "# img_l = imread(\"/data4/CheXpert/CheXpert-v1.0/train/patient04528/study1/view2_lateral.jpg\")\n",
    "\n",
    "# fig, ax = plt.subplots(1, 2, figsize=(10, 5))\n",
    "# ax[0].imshow(img_f, cmap='gray')\n",
    "# ax[0].axis('off')\n",
    "# ax[0].set_title(f'Frontal \\n {img_f.shape[0]}x{img_f.shape[1]}')\n",
    "# ax[1].imshow(img_l, cmap='gray')\n",
    "# ax[1].axis('off')\n",
    "# ax[1].set_title(f'Lateral \\n {img_l.shape[0]}x{img_l.shape[1]}')"
   ]
  },
  {
   "cell_type": "code",
   "execution_count": null,
   "metadata": {},
   "outputs": [],
   "source": [
    "# # Resized\n",
    "# img_f_resized = resize(img_f, (224, 224), preserve_range=True)\n",
    "# img_l_resized = resize(img_l, (224, 224), preserve_range=True)\n",
    "\n",
    "# fig, ax = plt.subplots(1, 2, figsize=(10, 5))\n",
    "# ax[0].imshow(img_f_resized, cmap='gray')\n",
    "# ax[0].axis('off')\n",
    "# ax[0].set_title(f'Frontal \\n {img_f_resized.shape[0]}x{img_f_resized.shape[1]}')\n",
    "# ax[1].imshow(img_l_resized, cmap='gray')\n",
    "# ax[1].axis('off')\n",
    "# ax[1].set_title(f'Lateral \\n {img_l_resized.shape[0]}x{img_l_resized.shape[1]}')\n"
   ]
  },
  {
   "cell_type": "markdown",
   "metadata": {},
   "source": [
    "## Tabular Exploration"
   ]
  },
  {
   "cell_type": "code",
   "execution_count": null,
   "metadata": {},
   "outputs": [],
   "source": [
    "def plot_data_distribution(df, title='Data Distribution'):\n",
    "    colors = get_colors(3)\n",
    "    color_maps = {\n",
    "        'sex': {'Male': colors[0], 'Female': colors[1]},\n",
    "        'race': {'White': colors[0], 'Black': colors[1], 'Asian': colors[2]},\n",
    "        'insurance_type': {'Private Insurance': colors[0], 'Medicare': colors[1], 'Medicaid': colors[2]}\n",
    "    }\n",
    "\n",
    "    fig, axes = plt.subplots(4, 4, figsize=(15, 15))\n",
    "    fig.suptitle(title)\n",
    "\n",
    "    # Categorical plots\n",
    "    plot_categorical(df, 'sex', axes[0, 0], color_maps['sex'], df['sex'].value_counts().sum())\n",
    "    plot_categorical(df, 'race', axes[0, 1], color_maps['race'], df['race'].value_counts().sum(), rotation=45)\n",
    "    plot_categorical(df, 'insurance_type', axes[0, 2], color_maps['insurance_type'], df['insurance_type'].value_counts().sum(), rotation=45)\n",
    "    axes[0, 3].axis('off')\n",
    "\n",
    "    # Age distribution plots\n",
    "    plot_age_distribution(df, axes[1, 3])\n",
    "    plot_age_distribution(df, axes[1, 0], hue='sex', palette=color_maps['sex'])\n",
    "    plot_age_distribution(df, axes[1, 1], hue='race', palette=color_maps['race'])\n",
    "    plot_age_distribution(df, axes[1, 2], hue='insurance_type', palette=color_maps['insurance_type'])\n",
    "\n",
    "    # Age boxplots\n",
    "    plot_age_boxplot(df, axes[2, 3])\n",
    "    plot_age_boxplot(df, axes[2, 0], x='sex', hue='sex', palette=color_maps['sex'], order=['Male', 'Female'])\n",
    "    plot_age_boxplot(df, axes[2, 1], x='race', hue='race', palette=color_maps['race'], order=['White', 'Black', 'Asian'])\n",
    "    plot_age_boxplot(df, axes[2, 2], x='insurance_type', hue='insurance_type', palette=color_maps['insurance_type'])\n",
    "\n",
    "    # Insurance percentage plots\n",
    "    plot_insurance_percentage(df, axes[3, 0], 'sex', hue_order=['Male', 'Female'], palette=color_maps['sex'])\n",
    "    plot_insurance_percentage(df, axes[3, 1], 'race', hue_order=['White', 'Black', 'Asian'], palette=color_maps['race'])\n",
    "\n",
    "    axes[3, 2].axis('off')\n",
    "    axes[3, 3].axis('off')\n",
    "\n",
    "    plt.tight_layout()\n",
    "    plt.show()\n",
    "\n",
    "plot_data_distribution(df, title='All samples: Distribution of Sex, Race, Ethnicity, and Age')\n"
   ]
  },
  {
   "cell_type": "code",
   "execution_count": null,
   "metadata": {},
   "outputs": [],
   "source": [
    "df.describe(include='all')"
   ]
  },
  {
   "cell_type": "code",
   "execution_count": null,
   "metadata": {},
   "outputs": [],
   "source": [
    "# Wähle nur numerische Spalten aus (ohne Strings wie Pfade oder Kategorische Daten)\n",
    "numeric_cols = df.select_dtypes(include=[np.number])\n",
    "\n",
    "# Berechne die Korrelationsmatrix\n",
    "corr_matrix = numeric_cols.corr()\n",
    "\n",
    "# Heatmap der Korrelationsmatrix\n",
    "plt.figure(figsize=(15, 12))  # Größere Abbildungsgröße\n",
    "sns.heatmap(corr_matrix, annot=True, cmap='coolwarm', annot_kws={\"size\": 12}, fmt=\".2f\")  # Größere Schrift für die Zahlen\n",
    "plt.xticks(fontsize=12)  # Größere Schrift für X-Achsen-Beschriftung\n",
    "plt.yticks(fontsize=12)  # Größere Schrift für Y-Achsen-Beschriftung\n",
    "plt.title('Correlation Matrix of Numeric Features', fontsize=16)  # Größere Schrift für den Titel\n",
    "plt.show()"
   ]
  },
  {
   "cell_type": "markdown",
   "metadata": {},
   "source": []
  },
  {
   "cell_type": "code",
   "execution_count": null,
   "metadata": {},
   "outputs": [],
   "source": [
    "# split in man and woman\n",
    "df_cleaned_sex_label_male = df_cleaned_sex_label[df_cleaned_sex_label['sex']==0]\n",
    "df_cleaned_sex_label_female = df_cleaned_sex_label[df_cleaned_sex_label['sex']==1]"
   ]
  },
  {
   "cell_type": "code",
   "execution_count": null,
   "metadata": {},
   "outputs": [],
   "source": [
    "print(f'Anzahl der Männer: {df_cleaned_sex_label_male.shape[0]}')\n",
    "print(f'Anzahl der Frauen: {df_cleaned_sex_label_female.shape[0]}')"
   ]
  },
  {
   "cell_type": "code",
   "execution_count": null,
   "metadata": {},
   "outputs": [],
   "source": [
    "disease_columns = ['No Finding', 'Cardiomegaly', 'Lung Opacity', 'Lung Lesion',\n",
    "                   'Edema', 'Consolidation', 'Pneumonia', 'Atelectasis',\n",
    "                   'Pneumothorax', 'Pleural Effusion', 'Pleural Other',\n",
    "                   'Fracture', 'Support Devices']\n",
    "\n",
    "\n"
   ]
  },
  {
   "cell_type": "code",
   "execution_count": null,
   "metadata": {},
   "outputs": [],
   "source": [
    "# cross table betwwen sex and insurance type\n",
    "health_by_sex = pd.crosstab(df['sex'], df['insurance_type'])\n",
    "print(health_by_sex)\n",
    "\n",
    "# Heatmap ot the results\n",
    "sns.heatmap(health_by_sex, annot=True, fmt='d')\n",
    "plt.title('Health Condition by Sex')\n",
    "plt.show()"
   ]
  },
  {
   "cell_type": "code",
   "execution_count": null,
   "metadata": {},
   "outputs": [],
   "source": [
    "# list of diseases\n",
    "disease_columns = ['No Finding', 'Cardiomegaly', 'Lung Opacity', 'Lung Lesion',\n",
    "                   'Edema', 'Consolidation', 'Pneumonia', 'Atelectasis',\n",
    "                   'Pneumothorax', 'Pleural Effusion', 'Pleural Other',\n",
    "                   'Fracture', 'Support Devices']\n",
    "\n",
    "filtered_df = df[df[disease_columns].any(axis=1)]\n",
    "\n",
    "#cross table for sex\n",
    "disease_by_sex = pd.DataFrame()\n",
    "\n",
    "for disease in disease_columns:\n",
    "    # look if the patient has the disease\n",
    "    disease_count = filtered_df[filtered_df[disease] == 1].groupby('sex').size()\n",
    "    disease_by_sex[disease] = disease_count\n",
    "\n",
    "# Nan = 0\n",
    "disease_by_sex = disease_by_sex.fillna(0).astype(int)\n",
    "\n",
    "print(disease_by_sex)"
   ]
  },
  {
   "cell_type": "code",
   "execution_count": null,
   "metadata": {},
   "outputs": [],
   "source": [
    "plt.figure(figsize=(12, 8))  \n",
    "sns.heatmap(disease_by_sex, annot=True, fmt='d', cmap='YlGnBu', cbar=True,\n",
    "            annot_kws={\"size\": 12})  \n",
    "plt.title('Disease Frequency by Sex', fontsize=16)  \n",
    "plt.ylabel('Sex', fontsize=14)  \n",
    "plt.xlabel('Disease', fontsize=14)  \n",
    "plt.xticks(fontsize=12) \n",
    "plt.yticks(fontsize=12) \n",
    "plt.show()"
   ]
  },
  {
   "cell_type": "code",
   "execution_count": null,
   "metadata": {},
   "outputs": [],
   "source": [
    "print(df_cleaned_sex_label.info())"
   ]
  },
  {
   "cell_type": "code",
   "execution_count": null,
   "metadata": {},
   "outputs": [],
   "source": [
    "# Laden der Daten\n",
    "df_cleaned_sex_label = pd.read_csv(\"final_data/chexpert_plus_240401_cleaned_label_sex.csv\")\n",
    "\n",
    "# Umwandeln der Geschlechtsspalte in den String-Datentyp\n",
    "df_cleaned_sex_label['sex'] = df_cleaned_sex_label['sex'].astype(str).str.lower()\n",
    "\n",
    "# Auswahl der relevanten Spalten von 'Enlarged Cardiomediastinum' bis 'Support Devices'\n",
    "relevant_columns = df_cleaned_sex_label.loc[:, 'Enlarged Cardiomediastinum':'Support Devices']\n",
    "\n",
    "# Gruppieren nach Geschlecht und Summieren der Krankheitslabels\n",
    "disease_counts = df_cleaned_sex_label.groupby('sex')[relevant_columns.columns].sum()\n",
    "\n",
    "# Anzeigen der Ergebnisse\n",
    "print(disease_counts)"
   ]
  },
  {
   "cell_type": "code",
   "execution_count": null,
   "metadata": {},
   "outputs": [],
   "source": [
    "\n",
    "\n",
    "# change in string data\n",
    "df_cleaned_sex_label['sex'] = df_cleaned_sex_label['sex'].astype(str).str.lower()\n",
    "\n",
    "# relevant columns 'Enlarged Cardiomediastinum' to 'Support Devices'\n",
    "relevant_columns = df_cleaned_sex_label.loc[:, 'Enlarged Cardiomediastinum':'Support Devices']\n",
    "\n",
    "#group by sex and sum by disease\n",
    "disease_counts = df_cleaned_sex_label.groupby('sex')[relevant_columns.columns].sum()\n",
    "\n",
    "# Plot\n",
    "ax = disease_counts.T.plot(kind='bar', figsize=(14, 7), width=0.8)\n",
    "\n",
    "# Add values on top of the bars\n",
    "for p in ax.patches:\n",
    "    ax.annotate(f'{p.get_height():.0f}', (p.get_x() + p.get_width() / 2., p.get_height()), \n",
    "                ha='center', va='center', xytext=(0, 5), textcoords='offset points',fontsize=8)\n",
    "\n",
    "\n",
    "plt.title('Absolute values from the disease')\n",
    "plt.xlabel('diseases')\n",
    "plt.ylabel('Absolute values from diseases')\n",
    "plt.xticks(rotation=45, ha='right')\n",
    "plt.legend(title='sex', loc='upper right')\n",
    "plt.tight_layout()\n",
    "plt.show()\n"
   ]
  },
  {
   "cell_type": "code",
   "execution_count": null,
   "metadata": {},
   "outputs": [],
   "source": [
    "df.columns"
   ]
  },
  {
   "cell_type": "code",
   "execution_count": null,
   "metadata": {},
   "outputs": [],
   "source": [
    "# change in string data\n",
    "df['sex'] = df['sex'].astype(str).str.lower()\n",
    "\n",
    "# relevant columns 'Enlarged Cardiomediastinum' to 'Support Devices'\n",
    "relevant_columns = df.loc[:, 'Enlarged Cardiomediastinum':'Support Devices']\n",
    "\n",
    "#group by sex and sum by disease\n",
    "disease_counts = df.groupby('sex')[relevant_columns.columns].sum()\n",
    "\n",
    "sex_counts = df['sex'].value_counts()\n",
    "# Normalize disease counts by the total number of males and females\n",
    "normalized_disease_counts = disease_counts.div(sex_counts, axis=0)\n",
    "\n",
    "\n",
    "ax = normalized_disease_counts.T.plot(kind='bar', figsize=(14, 7), width=0.8)\n",
    "\n",
    "# Add values on top of the bars\n",
    "for p in ax.patches:\n",
    "    ax.annotate(f'{p.get_height():.2f}', (p.get_x() + p.get_width() / 2., p.get_height()), \n",
    "                ha='center', va='center', xytext=(0, 5), textcoords='offset points', fontsize=8)\n",
    "\n",
    "# Labels and title\n",
    "plt.title('Relative values of diseases by sex (normalized by total number of males and females)')\n",
    "plt.xlabel('Diseases')\n",
    "plt.ylabel('Relative values (normalized by sex)')\n",
    "plt.xticks(rotation=45, ha='right')\n",
    "plt.legend(title='Sex', loc='upper right')\n",
    "plt.tight_layout()\n",
    "\n",
    "plt.show()"
   ]
  },
  {
   "cell_type": "code",
   "execution_count": null,
   "metadata": {},
   "outputs": [],
   "source": [
    "print(df_labeled.info())"
   ]
  },
  {
   "cell_type": "code",
   "execution_count": null,
   "metadata": {},
   "outputs": [],
   "source": [
    "# Laden der Daten\n",
    "\n",
    "\n",
    "# Filter the Data for Patients with 'Enlarged Cardiomediastinum'\n",
    "filtered_data = df_labeled[df_labeled ['Enlarged Cardiomediastinum'] == 1]\n",
    "\n",
    "# Histogramm der Altersverteilung erstellen\n",
    "plt.figure(figsize=(10, 6))\n",
    "plt.hist(filtered_data['age'].dropna(), bins=30, color='skyblue', edgecolor='black')\n",
    "\n",
    "plt.title('Age distribution for Enlarged Cardiomediastinum')\n",
    "plt.xlabel('age')\n",
    "plt.ylabel('frequency')\n",
    "plt.grid(axis='y', alpha=0.75)\n",
    "\n",
    "plt.tight_layout()\n",
    "\n",
    "# Anzeigen des Plots\n",
    "plt.show()"
   ]
  },
  {
   "cell_type": "code",
   "execution_count": null,
   "metadata": {},
   "outputs": [],
   "source": [
    "df.columns"
   ]
  },
  {
   "cell_type": "code",
   "execution_count": null,
   "metadata": {},
   "outputs": [],
   "source": [
    "# Laden der Daten\n",
    "\n",
    "# Filter the Data for Patients with 'Enlarged Cardiomediastinum'\n",
    "filtered_data = df[df['Enlarged Cardiomediastinum'] == 1]\n",
    "\n",
    "# Histogramm der Altersverteilung erstellen\n",
    "plt.figure(figsize=(10, 6))\n",
    "n, bins, patches = plt.hist(filtered_data['age'].dropna(), bins=30, color='skyblue', edgecolor='black')\n",
    "\n",
    "# Add age values (frequencies) on top of the bars\n",
    "for i in range(len(patches)):\n",
    "    plt.text(patches[i].get_x() + patches[i].get_width() / 2, n[i], f'{int(n[i])}', \n",
    "             ha='center', va='bottom', fontsize=10)\n",
    "\n",
    "plt.title('Age distribution for Enlarged Cardiomediastinum')\n",
    "plt.xlabel('age')\n",
    "plt.ylabel('frequency')\n",
    "plt.grid(axis='y', alpha=0.75)\n",
    "\n",
    "plt.tight_layout()\n",
    "\n",
    "# Anzeigen des Plots\n",
    "plt.show()\n"
   ]
  },
  {
   "cell_type": "code",
   "execution_count": null,
   "metadata": {},
   "outputs": [],
   "source": [
    "import plotly.express as px"
   ]
  },
  {
   "cell_type": "code",
   "execution_count": null,
   "metadata": {},
   "outputs": [],
   "source": [
    "df.columns = df.columns.str.replace(\" \", \"_\")\n",
    "diseases = ['Enlarged_Cardiomediastinum','Cardiomegaly', 'Lung_Opacity', 'Lung_Lesion', 'Edema', 'Consolidation','Pneumonia', 'Atelectasis', 'Pneumothorax', 'Pleural_Effusion','Pleural_Other', 'Fracture']\n",
    "avg_by_insurance = df.groupby(\"insurance_type\", as_index=False)[diseases].mean()\n",
    "avg_by_insurance = avg_by_insurance.melt(id_vars = [\"insurance_type\"], var_name = \"disease_type\", value_name=\"average_sickness_rate\")\n",
    "fig = px.bar(avg_by_insurance, color=\"insurance_type\", x=\"disease_type\", y=\"average_sickness_rate\", barmode=\"group\", text=\"average_sickness_rate\")\n",
    "\n",
    "fig.update_traces(texttemplate='%{text:.2f}', textposition='outside') \n",
    "\n",
    "fig.show()"
   ]
  },
  {
   "cell_type": "code",
   "execution_count": null,
   "metadata": {},
   "outputs": [],
   "source": [
    "avg_by_sex = df.groupby(\"sex\", as_index=False)[diseases].mean()\n",
    "avg_by_sex = avg_by_sex.melt(id_vars = [\"sex\"], var_name = \"disease_type\", value_name=\"average_sickness_rate\")\n",
    "px.bar(avg_by_sex, color=\"sex\", x=\"disease_type\", y=\"average_sickness_rate\", barmode=\"group\")\n"
   ]
  },
  {
   "cell_type": "code",
   "execution_count": null,
   "metadata": {},
   "outputs": [],
   "source": [
    "import pandas as pd\n",
    "import plotly.express as px\n",
    "\n",
    "# Replace spaces in column names with underscores\n",
    "df.columns = df.columns.str.replace(\" \", \"_\")\n",
    "\n",
    "# List of diseases\n",
    "diseases = [\n",
    "    'Enlarged_Cardiomediastinum', 'Cardiomegaly', 'Lung_Opacity', \n",
    "    'Lung_Lesion', 'Edema', 'Consolidation', 'Pneumonia', \n",
    "    'Atelectasis', 'Pneumothorax', 'Pleural_Effusion', 'Pleural_Other', \n",
    "    'Fracture'\n",
    "]\n",
    "\n",
    "# Calculate average sickness rates by insurance type\n",
    "avg_by_insurance = df.groupby(\"insurance_type\", as_index=False)[diseases].mean()\n",
    "\n",
    "# Melt the DataFrame for easier plotting\n",
    "avg_by_insurance = avg_by_insurance.melt(id_vars=[\"insurance_type\"], var_name=\"disease_type\", value_name=\"average_sickness_rate\")\n",
    "\n",
    "# Create a bar plot with values on top of the bars\n",
    "fig = px.bar(\n",
    "    avg_by_insurance, \n",
    "    color=\"insurance_type\", \n",
    "    x=\"disease_type\", \n",
    "    y=\"average_sickness_rate\", \n",
    "    barmode=\"group\",\n",
    "    text=\"average_sickness_rate\"  # Show values on the bars\n",
    ")\n",
    "\n",
    "# Update the layout and text positioning\n",
    "fig.update_traces(texttemplate='%{text:.2f}', textposition='outside')  # Display values with two decimal places\n",
    "\n",
    "# Update layout for better display\n",
    "fig.update_layout(\n",
    "    title='Average Sickness Rate by Insurance Type and Disease',\n",
    "    xaxis_title='Disease Type',\n",
    "    yaxis_title='Average Sickness Rate',\n",
    "    legend_title='Insurance Type'\n",
    ")\n",
    "\n",
    "# Show the plot\n",
    "fig.show()"
   ]
  },
  {
   "cell_type": "code",
   "execution_count": null,
   "metadata": {},
   "outputs": [],
   "source": [
    "avg_by_race = df.groupby(\"race\", as_index=False)[diseases].mean()\n",
    "avg_by_race = avg_by_race.melt(id_vars = [\"race\"], var_name = \"disease_type\", value_name=\"average_sickness_rate\")\n",
    "px.bar(avg_by_race, color=\"race\", x=\"disease_type\", y=\"average_sickness_rate\", barmode=\"group\")\n"
   ]
  },
  {
   "cell_type": "code",
   "execution_count": null,
   "metadata": {},
   "outputs": [],
   "source": [
    "px.violin(df, y=\"age\", color=\"race\", box=True, x=\"insurance_type\", facet_row=\"sex\")"
   ]
  },
  {
   "cell_type": "code",
   "execution_count": null,
   "metadata": {},
   "outputs": [],
   "source": [
    "px.violin(df, y=\"age\", color=\"race\", box=True, x=\"sex\")"
   ]
  },
  {
   "cell_type": "code",
   "execution_count": null,
   "metadata": {},
   "outputs": [],
   "source": [
    "from statsmodels.formula.api import logit"
   ]
  },
  {
   "cell_type": "code",
   "execution_count": null,
   "metadata": {},
   "outputs": [],
   "source": [
    "diseases"
   ]
  },
  {
   "cell_type": "code",
   "execution_count": null,
   "metadata": {},
   "outputs": [],
   "source": [
    "models = {}\n",
    "df[diseases]\n",
    "\n",
    "for disease in diseases: \n",
    "    models[disease] = logit(data=df, formula=f\"{disease} ~ C(sex) + C(insurance_type) + age\").fit()\n",
    "    "
   ]
  },
  {
   "cell_type": "code",
   "execution_count": null,
   "metadata": {},
   "outputs": [],
   "source": [
    "models[\"Edema\"].summary()"
   ]
  },
  {
   "cell_type": "code",
   "execution_count": null,
   "metadata": {},
   "outputs": [],
   "source": [
    "logit(data=df, formula=f\"Edema ~ C(sex) + C(insurance_type) + age\")"
   ]
  },
  {
   "cell_type": "code",
   "execution_count": null,
   "metadata": {},
   "outputs": [],
   "source": []
  }
 ],
 "metadata": {
  "kernelspec": {
   "display_name": "base",
   "language": "python",
   "name": "python3"
  },
  "language_info": {
   "codemirror_mode": {
    "name": "ipython",
    "version": 3
   },
   "file_extension": ".py",
   "mimetype": "text/x-python",
   "name": "python",
   "nbconvert_exporter": "python",
   "pygments_lexer": "ipython3",
   "version": "3.8.19"
  }
 },
 "nbformat": 4,
 "nbformat_minor": 2
}
