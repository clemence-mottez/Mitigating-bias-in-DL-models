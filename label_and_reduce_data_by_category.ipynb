{
 "cells": [
  {
   "cell_type": "markdown",
   "metadata": {},
   "source": [
    "# Imports"
   ]
  },
  {
   "cell_type": "code",
   "execution_count": 1,
   "metadata": {},
   "outputs": [],
   "source": [
    "import pandas as pd"
   ]
  },
  {
   "cell_type": "markdown",
   "metadata": {},
   "source": [
    "# Load cleaned data frame"
   ]
  },
  {
   "cell_type": "code",
   "execution_count": 2,
   "metadata": {},
   "outputs": [],
   "source": [
    "df_age = pd.read_csv('processed_data/chexpert_plus_240401_cleaned_age.csv')\n",
    "df_race = pd.read_csv('processed_data/chexpert_plus_240401_cleaned_race.csv')\n",
    "df_sex = pd.read_csv('processed_data/chexpert_plus_240401_cleaned_sex.csv')\n",
    "df_health = pd.read_csv('processed_data/chexpert_plus_240401_cleaned_health_insurance.csv')"
   ]
  },
  {
   "cell_type": "markdown",
   "metadata": {},
   "source": [
    "# Create labels of sex, race, health insurances as category values (0,1,...)"
   ]
  },
  {
   "cell_type": "code",
   "execution_count": 3,
   "metadata": {},
   "outputs": [],
   "source": [
    "for df in [df_age, df_race, df_health, df_sex]:\n",
    "    # Define the mapping dictionary\n",
    "    bias_var = {\n",
    "        \"sex\": {\"Male\": 0, \"Female\": 1},\n",
    "        \"race\": {\"White\": 0, \"Asian\": 1, \"Black\": 2},\n",
    "        \"insurance_type\": {\"Medicaid\": 0, \"Medicare\": 1, \"Private Insurance\": 2}\n",
    "    }\n",
    "\n",
    "    # Create new columns based on the mappings\n",
    "    df['sex'] = df['sex'].map(bias_var['sex'])\n",
    "    df['race'] = df['race'].map(bias_var['race'])\n",
    "    df['insurance_type'] = df['insurance_type'].map(bias_var['insurance_type'])"
   ]
  },
  {
   "cell_type": "code",
   "execution_count": 4,
   "metadata": {},
   "outputs": [
    {
     "data": {
      "text/plain": [
       "Index(['path_to_image', 'path_to_dcm', 'frontal_lateral', 'ap_pa',\n",
       "       'deid_patient_id', 'patient_report_date_order', 'report',\n",
       "       'section_narrative', 'section_clinical_history', 'section_history',\n",
       "       'section_comparison', 'section_technique', 'section_procedure_comments',\n",
       "       'section_findings', 'section_impression', 'section_end_of_impression',\n",
       "       'section_summary', 'section_accession_number', 'age', 'sex', 'race',\n",
       "       'ethnicity', 'interpreter_needed', 'insurance_type', 'recent_bmi',\n",
       "       'deceased', 'split', 'No Finding', 'Enlarged Cardiomediastinum',\n",
       "       'Cardiomegaly', 'Lung Opacity', 'Lung Lesion', 'Edema', 'Consolidation',\n",
       "       'Pneumonia', 'Atelectasis', 'Pneumothorax', 'Pleural Effusion',\n",
       "       'Pleural Other', 'Fracture', 'Support Devices'],\n",
       "      dtype='object')"
      ]
     },
     "execution_count": 4,
     "metadata": {},
     "output_type": "execute_result"
    }
   ],
   "source": [
    "df.columns"
   ]
  },
  {
   "cell_type": "code",
   "execution_count": 4,
   "metadata": {},
   "outputs": [],
   "source": [
    "df_age = df_age[['path_to_image', 'path_to_dcm', 'age', 'No Finding', 'Enlarged Cardiomediastinum',\n",
    "       'Cardiomegaly', 'Lung Opacity', 'Lung Lesion', 'Edema', 'Consolidation',\n",
    "       'Pneumonia', 'Atelectasis', 'Pneumothorax', 'Pleural Effusion',\n",
    "       'Pleural Other', 'Fracture', 'Support Devices']]\n",
    "\n",
    "df_sex = df_sex[['path_to_image', 'path_to_dcm', 'sex', 'No Finding', 'Enlarged Cardiomediastinum',\n",
    "       'Cardiomegaly', 'Lung Opacity', 'Lung Lesion', 'Edema', 'Consolidation',\n",
    "       'Pneumonia', 'Atelectasis', 'Pneumothorax', 'Pleural Effusion',\n",
    "       'Pleural Other', 'Fracture', 'Support Devices']]\n",
    "\n",
    "df_race = df_race[['path_to_image', 'path_to_dcm', 'race', 'No Finding', 'Enlarged Cardiomediastinum',\n",
    "       'Cardiomegaly', 'Lung Opacity', 'Lung Lesion', 'Edema', 'Consolidation',\n",
    "       'Pneumonia', 'Atelectasis', 'Pneumothorax', 'Pleural Effusion',\n",
    "       'Pleural Other', 'Fracture', 'Support Devices']]\n",
    "\n",
    "df_health = df_health[['path_to_image', 'path_to_dcm','insurance_type', 'No Finding', 'Enlarged Cardiomediastinum',\n",
    "       'Cardiomegaly', 'Lung Opacity', 'Lung Lesion', 'Edema', 'Consolidation',\n",
    "       'Pneumonia', 'Atelectasis', 'Pneumothorax', 'Pleural Effusion',\n",
    "       'Pleural Other', 'Fracture', 'Support Devices']]"
   ]
  },
  {
   "cell_type": "markdown",
   "metadata": {},
   "source": [
    "# Save dataframe"
   ]
  },
  {
   "cell_type": "code",
   "execution_count": 8,
   "metadata": {},
   "outputs": [],
   "source": [
    "df_sex.to_csv('final_data/chexpert_plus_240401_cleaned_label_sex.csv')\n",
    "df_race.to_csv('final_data/chexpert_plus_240401_cleaned_label_race.csv')\n",
    "df_age.to_csv('final_data/chexpert_plus_240401_cleaned_label_age.csv')\n",
    "df_health.to_csv('final_data/chexpert_plus_240401_cleaned_label_health.csv')"
   ]
  }
 ],
 "metadata": {
  "kernelspec": {
   "display_name": "base",
   "language": "python",
   "name": "python3"
  },
  "language_info": {
   "codemirror_mode": {
    "name": "ipython",
    "version": 3
   },
   "file_extension": ".py",
   "mimetype": "text/x-python",
   "name": "python",
   "nbconvert_exporter": "python",
   "pygments_lexer": "ipython3",
   "version": "3.12.4"
  }
 },
 "nbformat": 4,
 "nbformat_minor": 2
}
